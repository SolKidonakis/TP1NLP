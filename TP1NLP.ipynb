{
  "nbformat": 4,
  "nbformat_minor": 0,
  "metadata": {
    "colab": {
      "provenance": [],
      "include_colab_link": true
    },
    "kernelspec": {
      "name": "python3",
      "display_name": "Python 3"
    },
    "language_info": {
      "name": "python"
    },
    "widgets": {
      "application/vnd.jupyter.widget-state+json": {
        "6076dbd88bc8450ca2de6d4611e0ee19": {
          "model_module": "@jupyter-widgets/controls",
          "model_name": "TextModel",
          "model_module_version": "1.5.0",
          "state": {
            "_dom_classes": [],
            "_model_module": "@jupyter-widgets/controls",
            "_model_module_version": "1.5.0",
            "_model_name": "TextModel",
            "_view_count": null,
            "_view_module": "@jupyter-widgets/controls",
            "_view_module_version": "1.5.0",
            "_view_name": "TextView",
            "continuous_update": true,
            "description": "Estado de Ánimo:",
            "description_tooltip": null,
            "disabled": false,
            "layout": "IPY_MODEL_bea32205d5a4414ebbd6954465f975ea",
            "placeholder": "¿Cómo te sientes hoy?",
            "style": "IPY_MODEL_73a545273f7842c6bcaaf9a3a8000bc0",
            "value": "euforica"
          }
        },
        "bea32205d5a4414ebbd6954465f975ea": {
          "model_module": "@jupyter-widgets/base",
          "model_name": "LayoutModel",
          "model_module_version": "1.2.0",
          "state": {
            "_model_module": "@jupyter-widgets/base",
            "_model_module_version": "1.2.0",
            "_model_name": "LayoutModel",
            "_view_count": null,
            "_view_module": "@jupyter-widgets/base",
            "_view_module_version": "1.2.0",
            "_view_name": "LayoutView",
            "align_content": null,
            "align_items": null,
            "align_self": null,
            "border": null,
            "bottom": null,
            "display": null,
            "flex": null,
            "flex_flow": null,
            "grid_area": null,
            "grid_auto_columns": null,
            "grid_auto_flow": null,
            "grid_auto_rows": null,
            "grid_column": null,
            "grid_gap": null,
            "grid_row": null,
            "grid_template_areas": null,
            "grid_template_columns": null,
            "grid_template_rows": null,
            "height": null,
            "justify_content": null,
            "justify_items": null,
            "left": null,
            "margin": null,
            "max_height": null,
            "max_width": null,
            "min_height": null,
            "min_width": null,
            "object_fit": null,
            "object_position": null,
            "order": null,
            "overflow": null,
            "overflow_x": null,
            "overflow_y": null,
            "padding": null,
            "right": null,
            "top": null,
            "visibility": null,
            "width": null
          }
        },
        "73a545273f7842c6bcaaf9a3a8000bc0": {
          "model_module": "@jupyter-widgets/controls",
          "model_name": "DescriptionStyleModel",
          "model_module_version": "1.5.0",
          "state": {
            "_model_module": "@jupyter-widgets/controls",
            "_model_module_version": "1.5.0",
            "_model_name": "DescriptionStyleModel",
            "_view_count": null,
            "_view_module": "@jupyter-widgets/base",
            "_view_module_version": "1.2.0",
            "_view_name": "StyleView",
            "description_width": ""
          }
        },
        "52d16be72ddb4a03a8fb8c250575c9ec": {
          "model_module": "@jupyter-widgets/controls",
          "model_name": "TextModel",
          "model_module_version": "1.5.0",
          "state": {
            "_dom_classes": [],
            "_model_module": "@jupyter-widgets/controls",
            "_model_module_version": "1.5.0",
            "_model_name": "TextModel",
            "_view_count": null,
            "_view_module": "@jupyter-widgets/controls",
            "_view_module_version": "1.5.0",
            "_view_name": "TextView",
            "continuous_update": true,
            "description": "Preferencia:",
            "description_tooltip": null,
            "disabled": false,
            "layout": "IPY_MODEL_6e2c6c5c339442beb401a5da59014862",
            "placeholder": "Describe la temática que te gustaría explorar",
            "style": "IPY_MODEL_5d75ea4ac0c34dc4a84fed71764ef6a3",
            "value": "romance"
          }
        },
        "6e2c6c5c339442beb401a5da59014862": {
          "model_module": "@jupyter-widgets/base",
          "model_name": "LayoutModel",
          "model_module_version": "1.2.0",
          "state": {
            "_model_module": "@jupyter-widgets/base",
            "_model_module_version": "1.2.0",
            "_model_name": "LayoutModel",
            "_view_count": null,
            "_view_module": "@jupyter-widgets/base",
            "_view_module_version": "1.2.0",
            "_view_name": "LayoutView",
            "align_content": null,
            "align_items": null,
            "align_self": null,
            "border": null,
            "bottom": null,
            "display": null,
            "flex": null,
            "flex_flow": null,
            "grid_area": null,
            "grid_auto_columns": null,
            "grid_auto_flow": null,
            "grid_auto_rows": null,
            "grid_column": null,
            "grid_gap": null,
            "grid_row": null,
            "grid_template_areas": null,
            "grid_template_columns": null,
            "grid_template_rows": null,
            "height": null,
            "justify_content": null,
            "justify_items": null,
            "left": null,
            "margin": null,
            "max_height": null,
            "max_width": null,
            "min_height": null,
            "min_width": null,
            "object_fit": null,
            "object_position": null,
            "order": null,
            "overflow": null,
            "overflow_x": null,
            "overflow_y": null,
            "padding": null,
            "right": null,
            "top": null,
            "visibility": null,
            "width": null
          }
        },
        "5d75ea4ac0c34dc4a84fed71764ef6a3": {
          "model_module": "@jupyter-widgets/controls",
          "model_name": "DescriptionStyleModel",
          "model_module_version": "1.5.0",
          "state": {
            "_model_module": "@jupyter-widgets/controls",
            "_model_module_version": "1.5.0",
            "_model_name": "DescriptionStyleModel",
            "_view_count": null,
            "_view_module": "@jupyter-widgets/base",
            "_view_module_version": "1.2.0",
            "_view_name": "StyleView",
            "description_width": ""
          }
        },
        "cb997db7fed543658420e717f250cdbe": {
          "model_module": "@jupyter-widgets/controls",
          "model_name": "ButtonModel",
          "model_module_version": "1.5.0",
          "state": {
            "_dom_classes": [],
            "_model_module": "@jupyter-widgets/controls",
            "_model_module_version": "1.5.0",
            "_model_name": "ButtonModel",
            "_view_count": null,
            "_view_module": "@jupyter-widgets/controls",
            "_view_module_version": "1.5.0",
            "_view_name": "ButtonView",
            "button_style": "",
            "description": "Obtener Recomendaciones",
            "disabled": false,
            "icon": "",
            "layout": "IPY_MODEL_dc19607e2780455aa28a11588745e282",
            "style": "IPY_MODEL_f2e953cc5a8e4c56a3f7d24ad715e3a4",
            "tooltip": ""
          }
        },
        "dc19607e2780455aa28a11588745e282": {
          "model_module": "@jupyter-widgets/base",
          "model_name": "LayoutModel",
          "model_module_version": "1.2.0",
          "state": {
            "_model_module": "@jupyter-widgets/base",
            "_model_module_version": "1.2.0",
            "_model_name": "LayoutModel",
            "_view_count": null,
            "_view_module": "@jupyter-widgets/base",
            "_view_module_version": "1.2.0",
            "_view_name": "LayoutView",
            "align_content": null,
            "align_items": null,
            "align_self": null,
            "border": null,
            "bottom": null,
            "display": null,
            "flex": null,
            "flex_flow": null,
            "grid_area": null,
            "grid_auto_columns": null,
            "grid_auto_flow": null,
            "grid_auto_rows": null,
            "grid_column": null,
            "grid_gap": null,
            "grid_row": null,
            "grid_template_areas": null,
            "grid_template_columns": null,
            "grid_template_rows": null,
            "height": null,
            "justify_content": null,
            "justify_items": null,
            "left": null,
            "margin": null,
            "max_height": null,
            "max_width": null,
            "min_height": null,
            "min_width": null,
            "object_fit": null,
            "object_position": null,
            "order": null,
            "overflow": null,
            "overflow_x": null,
            "overflow_y": null,
            "padding": null,
            "right": null,
            "top": null,
            "visibility": null,
            "width": null
          }
        },
        "f2e953cc5a8e4c56a3f7d24ad715e3a4": {
          "model_module": "@jupyter-widgets/controls",
          "model_name": "ButtonStyleModel",
          "model_module_version": "1.5.0",
          "state": {
            "_model_module": "@jupyter-widgets/controls",
            "_model_module_version": "1.5.0",
            "_model_name": "ButtonStyleModel",
            "_view_count": null,
            "_view_module": "@jupyter-widgets/base",
            "_view_module_version": "1.2.0",
            "_view_name": "StyleView",
            "button_color": null,
            "font_weight": ""
          }
        },
        "b710ffe3df724ed09200dbcb13f16bae": {
          "model_module": "@jupyter-widgets/output",
          "model_name": "OutputModel",
          "model_module_version": "1.0.0",
          "state": {
            "_dom_classes": [],
            "_model_module": "@jupyter-widgets/output",
            "_model_module_version": "1.0.0",
            "_model_name": "OutputModel",
            "_view_count": null,
            "_view_module": "@jupyter-widgets/output",
            "_view_module_version": "1.0.0",
            "_view_name": "OutputView",
            "layout": "IPY_MODEL_3854b196f35f4217854bb12e4a58aca2",
            "msg_id": "",
            "outputs": [
              {
                "output_type": "stream",
                "name": "stdout",
                "text": [
                  "Estado de ánimo detectado: Alegre\n",
                  "Buscando recomendaciones para: romance con contexto adicional de entidades\n",
                  "\n",
                  "Recomendaciones de juegos:\n",
                  "- Love Letter: All of the eligible young men (and many of the not-so-young) seek to woo the princess of Tempest. Unfortunately, she has locked herself in the palace, and you must rely on others to take your romantic letters to her. Will yours reach her first? Love Letter is a game of risk, deduction, and luck for 2-4 players. Your goal is to get your love letter into Princess Annette's hands while deflecting the letters from competing suitors. From a deck with only sixteen cards, each player starts with only one card in hand; one card is removed from play. On a turn, you draw one card, and play one card, trying to expose others and knock them from the game. Powerful cards lead to early gains, but make you a target. Rely on weaker cards for too long, however, and your letter may be tossed in the fire! Number 4 in the Setting: Tempest Shared World Game Series\n",
                  "- Grand Austria Hotel: In the thick of the Viennese modern age, exquisite caf&eacute;s are competing for customers. Inspiring artists, important politicians, and tourists from all over the world are populating Vienna and in need of a hotel room. This is your opportunity to turn your little caf&eacute; into a world famous hotel. Hire staff, fulfill the wishes of your guests, and gain the emperor's favor. Only then will your caf&eacute; become the Grand Austria Hotel. The start player rolls the dice, sorting them by the rolled number and placing them on the corresponding action spaces. On a turn, a player chooses one of the six actions and carries it out. The number of the available dice in the corresponding action spaces determines how much the player gets from the action. They then remove one of the dice and can carry out additional actions. With the different actions, a player can get the necessary drinks and dishes, prepare the rooms, or hire staff. But no hotel can grow without guests. To choose wisely which guests to attract and to complete their orders brings some important bonus actions. The staff cards also have different advantages, but the game ends after seven rounds and no player can do everything they want, so whoever makes the right decisions and finds the best way to create bonus actions will win. With 116 different cards and a new set-up in each game, Grand Austria Hotel provides a huge replay value. Each game stands on its own and demands new tactics and strategies.\n",
                  "- Azul: Introduced by the Moors, azulejos (originally white and blue ceramic tiles) were fully embraced by the Portuguese when their king Manuel I, on a visit to the Alhambra palace in Southern Spain, was mesmerized by the stunning beauty of the Moorish decorative tiles. The king, awestruck by the interior beauty of the Alhambra, immediately ordered that his own palace in Portugal be decorated with similar wall tiles. As a tile-laying artist, you have been challenged to embellish the walls of the Royal Palace of Evora. In the game Azul, players take turns drafting colored tiles from suppliers to their player board. Later in the round, players score points based on how they've placed their tiles to decorate the palace. Extra points are scored for specific patterns and completing sets; wasted supplies harm the player's score. The player with the most points at the end of the game wins.\n",
                  "\n",
                  "Recomendaciones de películas:\n",
                  "- Step Up 2: The Streets: Romantic sparks occur between two dance students from different backgrounds at the Maryland School of the Arts.\n",
                  "- Tramps: A young man and woman find love in an unlikely place while carrying out a shady deal.\n",
                  "- Remember Me: A romantic drama centered on two new lovers: Tyler, whose parents have split in the wake of his brother's suicide, and Ally, who lives each day to the fullest since witnessing her mother's murder.\n",
                  "\n",
                  "Recomendaciones de libros:\n",
                  "- El arte de amar: El arte de amar\" by Ovid is a didactic poem written in the early 1st century AD. This work serves as a guide to romantic relationships, giving advice on how to attract, win, and maintain love, while exploring the dynamics between men and women. The text addresses a contemporary audience familiar with Roman society, specifically regarding courtship practices.  At the start of the poem, the translator introduces Ovid and his background, emphasizing the significance of his work amidst the cultural decay in Rome. He describes the three-part structure of the poem, where the first part provides strategies for finding and winning a partner, emphasizing the importance of location and approach. The opening instills a sense of urgency in the pursuit of love, outlining various settings such as theaters and public places where love can be sought, and recommending clever tactics to capture a woman's heart while navigating the societal norms of Ovid's time. The tone sets the stage for a blend of practical advice with a poetic flair, promising an engaging exploration of love's complexities. \n",
                  "- Ars Amatoria; or, The Art Of LoveLiterally Translated into English Prose, with Copious Notes: Ars Amatoria; or, The Art of Love\" by Ovid is a romantic didactic poem written in the early 1st century AD. This work serves as a guide to love and seduction, offering practical advice to men on how to win the affection of women. It blends humor, elegance, and insight into human relationships, making it a classic of Latin literature.  At the start of the text, Ovid invites readers to learn the \"art of loving,\" likening the skill of love to that of a sailor navigating a ship or a charioteer controlling a team of horses. He emphasizes the importance of finding the right partner and lays out strategies for pursuing romance, from observing potential loves in public places to utilizing the influence of handmaidens. The emphasis on both the methods and the atmosphere of courtship reflects the playful and complex nature of human attraction, presenting love as a strategic undertaking requiring both artistry and patience. \n",
                  "- Os Maias: episodios da vida romantica: Os Maias: episódios da vida romântica\" by Eça de Queirós is a novel written in the late 19th century. The story revolves around the Maia family, particularly focusing on two male heirs: the elderly patriarch Affonso da Maia and his ambitious grandson Carlos. The book delves into their lives, exploring themes of family ties, societal expectations, and the romantic entanglements that complicate their existence.  The opening portion of the novel introduces the reader to the house known as the Ramalhete, which the Maias decided to inhabit in Lisbon during the autumn of 1875. The narrative paints a vivid picture of the family's history, their previous property in Bemfica, and the heir's contrasting lifestyles as Carlos returns from medical studies in Coimbra. Affonso expresses a desire to return to the Ramalhete, a decision met with mixed reactions from his associates. As the story unfolds, we are presented with their familial dynamics, the legacy of the Maia name, and the various characters that will interact with this complicated family, setting the stage for the events that will follow. \n"
                ]
              }
            ]
          }
        },
        "3854b196f35f4217854bb12e4a58aca2": {
          "model_module": "@jupyter-widgets/base",
          "model_name": "LayoutModel",
          "model_module_version": "1.2.0",
          "state": {
            "_model_module": "@jupyter-widgets/base",
            "_model_module_version": "1.2.0",
            "_model_name": "LayoutModel",
            "_view_count": null,
            "_view_module": "@jupyter-widgets/base",
            "_view_module_version": "1.2.0",
            "_view_name": "LayoutView",
            "align_content": null,
            "align_items": null,
            "align_self": null,
            "border": null,
            "bottom": null,
            "display": null,
            "flex": null,
            "flex_flow": null,
            "grid_area": null,
            "grid_auto_columns": null,
            "grid_auto_flow": null,
            "grid_auto_rows": null,
            "grid_column": null,
            "grid_gap": null,
            "grid_row": null,
            "grid_template_areas": null,
            "grid_template_columns": null,
            "grid_template_rows": null,
            "height": null,
            "justify_content": null,
            "justify_items": null,
            "left": null,
            "margin": null,
            "max_height": null,
            "max_width": null,
            "min_height": null,
            "min_width": null,
            "object_fit": null,
            "object_position": null,
            "order": null,
            "overflow": null,
            "overflow_x": null,
            "overflow_y": null,
            "padding": null,
            "right": null,
            "top": null,
            "visibility": null,
            "width": null
          }
        }
      }
    }
  },
  "cells": [
    {
      "cell_type": "markdown",
      "metadata": {
        "id": "view-in-github",
        "colab_type": "text"
      },
      "source": [
        "<a href=\"https://colab.research.google.com/github/SolKidonakis/TP1NLP/blob/main/TP1NLP.ipynb\" target=\"_parent\"><img src=\"https://colab.research.google.com/assets/colab-badge.svg\" alt=\"Open In Colab\"/></a>"
      ]
    },
    {
      "cell_type": "markdown",
      "source": [
        "**TRABAJO PRACTICO N°1: PROCESAMIENTO DEL LENGUAJE NATURAL**"
      ],
      "metadata": {
        "id": "flZE_1j5IAfe"
      }
    },
    {
      "cell_type": "markdown",
      "source": [
        "**LIBRERIAS**"
      ],
      "metadata": {
        "id": "bRbcP5RSKimy"
      }
    },
    {
      "cell_type": "code",
      "source": [
        "!pip install sentence-transformers\n",
        "!python -m spacy download es_core_news_md\n",
        "!pip install nltk\n",
        "!pip install ipywidgets\n",
        "!pip install --upgrade tensorflow tensorflow-hub"
      ],
      "metadata": {
        "id": "S9vp3ZL1R62o"
      },
      "execution_count": null,
      "outputs": []
    },
    {
      "cell_type": "code",
      "source": [
        "import requests\n",
        "from bs4 import BeautifulSoup\n",
        "import pandas as pd\n",
        "from sklearn.model_selection import train_test_split\n",
        "from sklearn.feature_extraction.text import TfidfVectorizer\n",
        "from sklearn.linear_model import LogisticRegression\n",
        "from sklearn.metrics import accuracy_score, classification_report\n",
        "from sentence_transformers import SentenceTransformer\n",
        "from sklearn.metrics.pairwise import cosine_similarity\n",
        "import ipywidgets as widgets\n",
        "from nltk.corpus import stopwords\n",
        "import nltk\n",
        "import spacy\n",
        "from concurrent.futures import ThreadPoolExecutor, as_completed\n",
        "import time\n",
        "import numpy as np\n"
      ],
      "metadata": {
        "id": "WmHQwjIMKj-y",
        "colab": {
          "base_uri": "https://localhost:8080/"
        },
        "outputId": "ca9f969e-cc5c-44f3-973b-79ae59cf5a4d"
      },
      "execution_count": 3,
      "outputs": [
        {
          "output_type": "stream",
          "name": "stderr",
          "text": [
            "/usr/local/lib/python3.10/dist-packages/sentence_transformers/cross_encoder/CrossEncoder.py:13: TqdmExperimentalWarning: Using `tqdm.autonotebook.tqdm` in notebook mode. Use `tqdm.tqdm` instead to force console mode (e.g. in jupyter console)\n",
            "  from tqdm.autonotebook import tqdm, trange\n"
          ]
        }
      ]
    },
    {
      "cell_type": "markdown",
      "source": [
        "En primer lugar,haremos web scraping para extraer información sobre los libros de Project Gutenberg, incluyendo su título, autor, descripción,categoria y enlace, y guardamos todos esos datos en un archivo CSV para su posterior uso."
      ],
      "metadata": {
        "id": "7ZaqnhsohSjD"
      }
    },
    {
      "cell_type": "code",
      "execution_count": 5,
      "metadata": {
        "colab": {
          "base_uri": "https://localhost:8080/"
        },
        "id": "BIzBKWjjF-E2",
        "outputId": "2b580f25-a703-4458-898a-20cd3a10377e"
      },
      "outputs": [
        {
          "output_type": "stream",
          "name": "stdout",
          "text": [
            "                                     Title  \\\n",
            "0                              Shen Yin Yu   \n",
            "1                      Pride and Prejudice   \n",
            "2                 Moby Dick; Or, The Whale   \n",
            "3  Frankenstein; Or, The Modern Prometheus   \n",
            "4                         Romeo and Juliet   \n",
            "\n",
            "                                    Author  \\\n",
            "0                       Lü, Kun, 1536-1618   \n",
            "1                  Austen, Jane, 1775-1817   \n",
            "2              Melville, Herman, 1819-1891   \n",
            "3  Shelley, Mary Wollstonecraft, 1797-1851   \n",
            "4          Shakespeare, William, 1564-1616   \n",
            "\n",
            "                                             Summary  \\\n",
            "0  呻吟語\" by Kun Lü is a philosophical treatise wri...   \n",
            "1  Pride and Prejudice\" by Jane Austen is a class...   \n",
            "2  Moby Dick; Or, The Whale\" by Herman Melville i...   \n",
            "3  Frankenstein; Or, The Modern Prometheus\" by Ma...   \n",
            "4  Romeo and Juliet\" by William Shakespeare is a ...   \n",
            "\n",
            "                                            Subjects  \\\n",
            "0                                    Conduct of life   \n",
            "1  England -- Fiction, Young women -- Fiction, Lo...   \n",
            "2  Whaling -- Fiction, Sea stories, Psychological...   \n",
            "3  Science fiction, Horror tales, Gothic fiction,...   \n",
            "4  Vendetta -- Drama, Youth -- Drama, Verona (Ita...   \n",
            "\n",
            "                                      URL  \n",
            "0  https://www.gutenberg.org/ebooks/25558  \n",
            "1   https://www.gutenberg.org/ebooks/1342  \n",
            "2   https://www.gutenberg.org/ebooks/2701  \n",
            "3     https://www.gutenberg.org/ebooks/84  \n",
            "4   https://www.gutenberg.org/ebooks/1513  \n"
          ]
        }
      ],
      "source": [
        "# Función para obtener el objeto Soup de una URL\n",
        "def get_soup(url):\n",
        "    response = requests.get(url)\n",
        "    return BeautifulSoup(response.content, 'html.parser')\n",
        "\n",
        "def extraer_info(book_soup, url):\n",
        "    table = book_soup.find('table', class_='bibrec')\n",
        "    rows = table.find_all('tr') if table else []\n",
        "\n",
        "\n",
        "    title = author  = summary = None\n",
        "    subjects = []\n",
        "\n",
        "    for row in rows:\n",
        "        th = row.find('th')\n",
        "        td = row.find('td')\n",
        "\n",
        "        if th and td:\n",
        "            if 'Author' in th.text:\n",
        "                author = td.text.strip()\n",
        "            elif 'Title' in th.text:\n",
        "                title = td.text.strip()\n",
        "            elif 'Summary' in th.text:\n",
        "                summary = td.text.strip().replace(\"(This is an automatically generated summary.)\", \"\").strip('\"')\n",
        "            elif 'Subject' in th.text:\n",
        "                subject_links = td.find_all('a')\n",
        "                for link in subject_links:\n",
        "                    subjects.append(link.text.strip())\n",
        "\n",
        "    subjects_string = \", \".join(subjects)\n",
        "\n",
        "    return {\n",
        "        'Title': title,\n",
        "        'Author': author,\n",
        "        'Summary': summary,\n",
        "        'Subjects': subjects_string,\n",
        "        'URL': url\n",
        "    }\n",
        "\n",
        "# Obtener la lista de URLs de libros desde la página principal de Project Gutenberg\n",
        "def libros_urls(base_url=\"https://www.gutenberg.org\"):\n",
        "    url = f\"{base_url}/browse/scores/top1000.php#books-last1\"\n",
        "    soup = get_soup(url)\n",
        "    book_elements = soup.select('ol li')\n",
        "    urls = []\n",
        "\n",
        "    for element in book_elements:\n",
        "        a_tag = element.find('a')\n",
        "        if a_tag and 'href' in a_tag.attrs:\n",
        "            full_url = f\"{base_url}{a_tag['href']}\"\n",
        "            urls.append(full_url)\n",
        "\n",
        "    return urls\n",
        "\n",
        "# Procesar cada libro con ThreadPoolExecutor\n",
        "def procesar_libros(urls):\n",
        "    books = []\n",
        "    with ThreadPoolExecutor(max_workers=5) as executor:\n",
        "        futures = [executor.submit(procesar_libro_individual, url) for url in urls]\n",
        "        for future in as_completed(futures):\n",
        "            result = future.result()\n",
        "            if result:\n",
        "                books.append(result)\n",
        "            time.sleep(0.1)  # Mantener un delay entre requests\n",
        "    return books\n",
        "\n",
        "\n",
        "def procesar_libro_individual(url):\n",
        "    try:\n",
        "        book_soup = get_soup(url)\n",
        "        return extraer_info(book_soup, url)\n",
        "    except Exception as e:\n",
        "        print(f\"Error al procesar {url}: {e}\")\n",
        "        return None\n",
        "\n",
        "# Ejecutar el proceso completo y guardar en un DataFrame\n",
        "def main():\n",
        "    urls = libros_urls()\n",
        "    books = procesar_libros(urls)\n",
        "    books_df = pd.DataFrame(books)\n",
        "    books_df.to_csv('gutenberg_books.csv', index=False, encoding='utf-8')\n",
        "    print(books_df.head())\n",
        "\n",
        "\n",
        "main()\n"
      ]
    },
    {
      "cell_type": "markdown",
      "source": [
        "Abrimos tres archivos CSV que tienen información sobre juegos de mesa, películas y libros."
      ],
      "metadata": {
        "id": "O-5jzOboixn5"
      }
    },
    {
      "cell_type": "code",
      "source": [
        "board_games_df = pd.read_csv('bgg_database.csv')\n",
        "\n",
        "movies_df = pd.read_csv('IMDB-Movie-Data.csv')\n",
        "\n",
        "books_df = pd.read_csv('gutenberg_books.csv')\n",
        "\n",
        "#Imprimimos las primeras filas de cada CSV\n",
        "print(board_games_df.head())\n",
        "print(movies_df.head())\n",
        "print(books_df.head())\n"
      ],
      "metadata": {
        "colab": {
          "base_uri": "https://localhost:8080/"
        },
        "id": "-FPNEGutL6ig",
        "outputId": "cd5f1c99-2038-4f48-b24e-7c01edf3975f"
      },
      "execution_count": 6,
      "outputs": [
        {
          "output_type": "stream",
          "name": "stdout",
          "text": [
            "   rank                          game_name  \\\n",
            "0     1                  Brass: Birmingham   \n",
            "1     2          Pandemic Legacy: Season 1   \n",
            "2     3                         Gloomhaven   \n",
            "3     4                           Ark Nova   \n",
            "4     5  Twilight Imperium: Fourth Edition   \n",
            "\n",
            "                                           game_href  geek_rating  avg_rating  \\\n",
            "0  https://boardgamegeek.com/boardgame/224517/bra...        8.415        8.60   \n",
            "1  https://boardgamegeek.com/boardgame/161936/pan...        8.377        8.53   \n",
            "2  https://boardgamegeek.com/boardgame/174430/glo...        8.349        8.59   \n",
            "3  https://boardgamegeek.com/boardgame/342942/ark...        8.335        8.54   \n",
            "4  https://boardgamegeek.com/boardgame/233078/twi...        8.240        8.60   \n",
            "\n",
            "   num_voters                                        description  \\\n",
            "0     46836.0  Brass: Birmingham is an economic strategy game...   \n",
            "1     53807.0  Pandemic Legacy is a co-operative campaign gam...   \n",
            "2     62592.0  Gloomhaven  is a game of Euro-inspired tactica...   \n",
            "3     44728.0  In Ark Nova, you will plan and design a modern...   \n",
            "4     24148.0  Twilight Imperium (Fourth Edition) is a game o...   \n",
            "\n",
            "   yearpublished  minplayers  maxplayers  minplaytime  maxplaytime  minage  \\\n",
            "0           2018           2           4           60          120      14   \n",
            "1           2015           2           4           60           60      13   \n",
            "2           2017           1           4           60          120      14   \n",
            "3           2021           1           4           90          150      14   \n",
            "4           2017           3           6          240          480      14   \n",
            "\n",
            "   avgweight        best_num_players  \\\n",
            "0     3.8776  [{'min': 3, 'max': 4}]   \n",
            "1     2.8308  [{'min': 4, 'max': 4}]   \n",
            "2     3.9132  [{'min': 3, 'max': 3}]   \n",
            "3     3.7653  [{'min': 2, 'max': 2}]   \n",
            "4     4.3173  [{'min': 6, 'max': 6}]   \n",
            "\n",
            "                                           designers  \\\n",
            "0   ['Gavan Brown', 'Matt Tolman', 'Martin Wallace']   \n",
            "1                     ['Rob Daviau', 'Matt Leacock']   \n",
            "2                                 ['Isaac Childres']   \n",
            "3                                  ['Mathias Wigge']   \n",
            "4  ['Dane Beltrami', 'Corey Konieczka', 'Christia...   \n",
            "\n",
            "                                           mechanics  \\\n",
            "0  ['Hand Management', 'Income', 'Loans', 'Market...   \n",
            "1  ['Action Points', 'Cooperative Game', 'Hand Ma...   \n",
            "2  ['Action Queue', 'Action Retrieval', 'Campaign...   \n",
            "3  ['Action Queue', 'End Game Bonuses', 'Grid Cov...   \n",
            "4  ['Action Drafting', 'Area-Impulse', 'Dice Roll...   \n",
            "\n",
            "                                          categories  \n",
            "0  ['Age of Reason', 'Economic', 'Industry / Manu...  \n",
            "1                       ['Environmental', 'Medical']  \n",
            "2  ['Adventure', 'Exploration', 'Fantasy', 'Fight...  \n",
            "3           ['Animals', 'Economic', 'Environmental']  \n",
            "4  ['Civilization', 'Economic', 'Exploration', 'N...  \n",
            "   Rank                    Title                     Genre  \\\n",
            "0     1  Guardians of the Galaxy   Action,Adventure,Sci-Fi   \n",
            "1     2               Prometheus  Adventure,Mystery,Sci-Fi   \n",
            "2     3                    Split           Horror,Thriller   \n",
            "3     4                     Sing   Animation,Comedy,Family   \n",
            "4     5            Suicide Squad  Action,Adventure,Fantasy   \n",
            "\n",
            "                                         Description              Director  \\\n",
            "0  A group of intergalactic criminals are forced ...            James Gunn   \n",
            "1  Following clues to the origin of mankind, a te...          Ridley Scott   \n",
            "2  Three girls are kidnapped by a man with a diag...    M. Night Shyamalan   \n",
            "3  In a city of humanoid animals, a hustling thea...  Christophe Lourdelet   \n",
            "4  A secret government agency recruits some of th...            David Ayer   \n",
            "\n",
            "                                              Actors  Year  Runtime (Minutes)  \\\n",
            "0  Chris Pratt, Vin Diesel, Bradley Cooper, Zoe S...  2014                121   \n",
            "1  Noomi Rapace, Logan Marshall-Green, Michael Fa...  2012                124   \n",
            "2  James McAvoy, Anya Taylor-Joy, Haley Lu Richar...  2016                117   \n",
            "3  Matthew McConaughey,Reese Witherspoon, Seth Ma...  2016                108   \n",
            "4  Will Smith, Jared Leto, Margot Robbie, Viola D...  2016                123   \n",
            "\n",
            "   Rating   Votes  Revenue (Millions)  Metascore  \n",
            "0     8.1  757074              333.13         76  \n",
            "1     7.0  485820              126.46         65  \n",
            "2     7.3  157606              138.12         62  \n",
            "3     7.2   60545              270.32         59  \n",
            "4     6.2  393727              325.02         40  \n",
            "                                     Title  \\\n",
            "0                              Shen Yin Yu   \n",
            "1                      Pride and Prejudice   \n",
            "2                 Moby Dick; Or, The Whale   \n",
            "3  Frankenstein; Or, The Modern Prometheus   \n",
            "4                         Romeo and Juliet   \n",
            "\n",
            "                                    Author  \\\n",
            "0                       Lü, Kun, 1536-1618   \n",
            "1                  Austen, Jane, 1775-1817   \n",
            "2              Melville, Herman, 1819-1891   \n",
            "3  Shelley, Mary Wollstonecraft, 1797-1851   \n",
            "4          Shakespeare, William, 1564-1616   \n",
            "\n",
            "                                             Summary  \\\n",
            "0  呻吟語\" by Kun Lü is a philosophical treatise wri...   \n",
            "1  Pride and Prejudice\" by Jane Austen is a class...   \n",
            "2  Moby Dick; Or, The Whale\" by Herman Melville i...   \n",
            "3  Frankenstein; Or, The Modern Prometheus\" by Ma...   \n",
            "4  Romeo and Juliet\" by William Shakespeare is a ...   \n",
            "\n",
            "                                            Subjects  \\\n",
            "0                                    Conduct of life   \n",
            "1  England -- Fiction, Young women -- Fiction, Lo...   \n",
            "2  Whaling -- Fiction, Sea stories, Psychological...   \n",
            "3  Science fiction, Horror tales, Gothic fiction,...   \n",
            "4  Vendetta -- Drama, Youth -- Drama, Verona (Ita...   \n",
            "\n",
            "                                      URL  \n",
            "0  https://www.gutenberg.org/ebooks/25558  \n",
            "1   https://www.gutenberg.org/ebooks/1342  \n",
            "2   https://www.gutenberg.org/ebooks/2701  \n",
            "3     https://www.gutenberg.org/ebooks/84  \n",
            "4   https://www.gutenberg.org/ebooks/1513  \n"
          ]
        }
      ]
    },
    {
      "cell_type": "markdown",
      "source": [
        "Notamos que habia titulos duplicados en el dataset de Libros,por lo que decidimos quedaron con los valores unicos"
      ],
      "metadata": {
        "id": "f7vJSfQn5_aJ"
      }
    },
    {
      "cell_type": "code",
      "source": [
        "# Eliminar duplicados en base a las columnas Title y Author\n",
        "books_df = books_df.drop_duplicates(subset=['Title', 'Author'])\n",
        "\n",
        "# Verificar la cantidad de registros únicos después de eliminar duplicados\n",
        "print(\"Cantidad de títulos únicos después de eliminar duplicados:\", books_df.shape[0])\n"
      ],
      "metadata": {
        "colab": {
          "base_uri": "https://localhost:8080/"
        },
        "id": "BxwrZ5lj3zR7",
        "outputId": "fbb01e90-7dd0-4470-9564-cd947eb1bdbe"
      },
      "execution_count": 52,
      "outputs": [
        {
          "output_type": "stream",
          "name": "stdout",
          "text": [
            "Cantidad de títulos únicos después de eliminar duplicados: 1176\n"
          ]
        }
      ]
    },
    {
      "cell_type": "code",
      "source": [
        "def limpiar_descripcion(descripcion):\n",
        "    \"\"\"Función para limpiar y mejorar la descripción del juego.\"\"\"\n",
        "    # Reemplazar caracteres HTML y eliminar etiquetas o frases irrelevantes\n",
        "    descripcion = descripcion.replace('&quot;', '\"').replace('&rsquo;', \"'\").replace('&ldquo;', '\"').replace('&rdquo;', '\"')\n",
        "    descripcion = descripcion.replace('&mdash;', '-').replace('&ndash;', '-').replace('&lsquo;', \"'\").replace('&rsquo;', \"'\")\n",
        "    descripcion = descripcion.replace('description from the publisher', '')\n",
        "\n",
        "    # Si hay etiquetas de autor o editor en la descripción, eliminarlas\n",
        "    frases_irrelevantes = [\"description from the publisher\", \"description from\", \"published by\", \"published as\"]\n",
        "    for frase in frases_irrelevantes:\n",
        "        descripcion = descripcion.replace(frase, '')\n",
        "\n",
        "    # Eliminar exceso de espacios y símbolos\n",
        "    descripcion = ' '.join(descripcion.split())  # Quitar espacios extra\n",
        "\n",
        "    return descripcion\n"
      ],
      "metadata": {
        "id": "kuJvsRukyMDj"
      },
      "execution_count": 53,
      "outputs": []
    },
    {
      "cell_type": "markdown",
      "source": [
        "**CLASIFICADOR CON REGRESION LOGISTICA**"
      ],
      "metadata": {
        "id": "obniaZwPSxg_"
      }
    },
    {
      "cell_type": "markdown",
      "source": [
        "En este caso, utilizamos TF-IDF Vectorizer.\n",
        "Usando dicho modelo de regresión logística para clasificar frases en Alegre, Melancólico o ni fu ni fa.\n",
        "\n"
      ],
      "metadata": {
        "id": "4GSATZZKS2-W"
      }
    },
    {
      "cell_type": "code",
      "source": [
        "nltk.download('stopwords')\n",
        "\n",
        "spanish_stop_words = stopwords.words('spanish')\n",
        "\n",
        "# Etiquetas de estados de ánimo\n",
        "labels = [(0, \"Alegre\"), (1, \"Melancólico\"), (2, \"Ni fu ni fa\")]\n",
        "\n",
        "dataset = [\n",
        "    # Frases de estado de ánimo \"Alegre\"\n",
        "    (0, \"Estoy muy feliz\"),\n",
        "    (0, \"Hoy es un gran día\"),\n",
        "    (0, \"Me siento alegre\"),\n",
        "    (0, \"Es un día increíble\"),\n",
        "    (0, \"Estoy lleno de energía\"),\n",
        "    (0, \"Estoy muy contento hoy\"),\n",
        "    (0, \"Este es un día perfecto\"),\n",
        "    (0, \"Me siento lleno de vida\"),\n",
        "    (0, \"Estoy eufórico\"),\n",
        "    (0, \"Hoy es un día para celebrar\"),\n",
        "    (0, \"Siento mucha alegría en este día\"),\n",
        "    (0, \"Todo es perfecto hoy\"),\n",
        "    (0, \"Me encanta la vida\"),\n",
        "    (0, \"Es un día espectacular para disfrutar\"),\n",
        "    (0, \"Hoy estoy muy entusiasmado\"),\n",
        "    (0, \"Me siento agradecido y optimista\"),\n",
        "    (0, \"Qué día tan brillante y hermoso\"),\n",
        "    (0, \"Estoy exultante de felicidad\"),\n",
        "    (0, \"Todo está saliendo a la perfección\"),\n",
        "    (0, \"Estoy lleno de emociones positivas\"),\n",
        "    (0, \"Siento una gran paz y alegría\"),\n",
        "    (0, \"Hoy es un día lleno de posibilidades\"),\n",
        "    (0, \"Nada puede arruinar mi buen humor\"),\n",
        "    (0, \"Todo se siente más fácil y agradable\"),\n",
        "    (0, \"Es un día maravilloso para vivir\"),\n",
        "    (0, \"Estoy encantado con este día\"),\n",
        "    (0, \"Me siento radiante\"),\n",
        "    (0, \"Este día está lleno de sorpresas agradables\"),\n",
        "    (0, \"Siento que puedo lograr cualquier cosa\"),\n",
        "    (0, \"Hoy es un día para sonreír\"),\n",
        "    (0, \"Estoy disfrutando cada momento\"),\n",
        "    (0, \"Tengo una gran paz interior hoy\"),\n",
        "    (0, \"Este día está lleno de luz\"),\n",
        "    (0, \"Hoy estoy lleno de esperanza\"),\n",
        "    (0, \"Todo parece más hermoso hoy\"),\n",
        "    (0, \"Este es un día para recordar\"),\n",
        "    (0, \"Siento que la vida es un regalo\"),\n",
        "    (0, \"Estoy lleno de motivación y alegría\"),\n",
        "    (0, \"Hoy es un día especial\"),\n",
        "    (0, \"Estoy rodeado de amor y felicidad\"),\n",
        "\n",
        "    # Frases de estado de ánimo \"Melancólico\"\n",
        "    (1, \"Me siento triste\"),\n",
        "    (1, \"Estoy melancólico\"),\n",
        "    (1, \"Hoy estoy nostálgico\"),\n",
        "    (1, \"Me siento deprimido\"),\n",
        "    (1, \"No puedo dejar de pensar en cosas tristes\"),\n",
        "    (1, \"Es un día gris\"),\n",
        "    (1, \"Me siento vacío\"),\n",
        "    (1, \"No tengo ánimos para nada\"),\n",
        "    (1, \"Estoy abatido\"),\n",
        "    (1, \"Todo me parece sombrío\"),\n",
        "    (1, \"Siento una gran tristeza\"),\n",
        "    (1, \"No me gusta este día\"),\n",
        "    (1, \"Es un día muy malo\"),\n",
        "    (1, \"Todo parece estar mal hoy\"),\n",
        "    (1, \"Nada me da consuelo hoy\"),\n",
        "    (1, \"Siento que todo es una carga\"),\n",
        "    (1, \"Estoy atrapado en mis pensamientos\"),\n",
        "    (1, \"No tengo energías para nada\"),\n",
        "    (1, \"Es un día sin color ni esperanza\"),\n",
        "    (1, \"Nada me hace sonreír hoy\"),\n",
        "    (1, \"No encuentro alegría en nada\"),\n",
        "    (1, \"Es un día de pura tristeza y soledad\"),\n",
        "    (1, \"Siento un vacío muy profundo\"),\n",
        "    (1, \"Nada tiene sentido hoy\"),\n",
        "    (1, \"Me siento como una sombra\"),\n",
        "    (1, \"Todo está en mi contra hoy\"),\n",
        "    (1, \"Siento que estoy solo\"),\n",
        "    (1, \"Es un día sin propósito\"),\n",
        "    (1, \"Estoy agobiado por la tristeza\"),\n",
        "    (1, \"Siento que me falta algo\"),\n",
        "    (1, \"Hoy no encuentro paz\"),\n",
        "    (1, \"Es un día para olvidar\"),\n",
        "    (1, \"Me siento desconectado del mundo\"),\n",
        "    (1, \"Es como si todo pesara más hoy\"),\n",
        "    (1, \"No puedo escapar de esta sensación\"),\n",
        "    (1, \"Este día solo trae recuerdos amargos\"),\n",
        "    (1, \"Me siento incompleto y perdido\"),\n",
        "    (1, \"No tengo fuerzas para continuar\"),\n",
        "    (1, \"Es un día lleno de desesperanza\"),\n",
        "    (1, \"Mi corazón está apesadumbrado\"),\n",
        "    (1, \"Este día solo trae desilusión\"),\n",
        "\n",
        "    # Frases de estado de ánimo \"Ni fu ni fa\"\n",
        "    (2, \"No tengo ganas de hacer nada\"),\n",
        "    (2, \"Me siento neutral\"),\n",
        "    (2, \"Estoy cansado\"),\n",
        "    (2, \"Me da igual lo que pase\"),\n",
        "    (2, \"No me importa nada hoy\"),\n",
        "    (2, \"Estoy indiferente\"),\n",
        "    (2, \"No siento ni alegría ni tristeza\"),\n",
        "    (2, \"Hoy es un día normal\"),\n",
        "    (2, \"Estoy aburrido\"),\n",
        "    (2, \"Nada me parece interesante\"),\n",
        "    (2, \"No sé cómo me siento\"),\n",
        "    (2, \"Todo está igual que siempre\"),\n",
        "    (2, \"Nada especial sucede hoy\"),\n",
        "    (2, \"Es un día cualquiera\"),\n",
        "    (2, \"Hoy me siento indiferente a todo\"),\n",
        "    (2, \"Simplemente no siento nada\"),\n",
        "    (2, \"Es uno de esos días sin nada nuevo\"),\n",
        "    (2, \"Ni me siento bien ni mal\"),\n",
        "    (2, \"Nada me motiva particularmente\"),\n",
        "    (2, \"Es un día más, sin nada que contar\"),\n",
        "    (2, \"No tengo emociones intensas hoy\"),\n",
        "    (2, \"Hoy no pasa nada fuera de lo común\"),\n",
        "    (2, \"Es un día bastante monótono\"),\n",
        "    (2, \"Todo está en el mismo estado de siempre\"),\n",
        "    (2, \"Ni estoy triste ni contento, simplemente estoy\"),\n",
        "    (2, \"Hoy no tengo ni energía ni ánimos\"),\n",
        "    (2, \"Nada sobresaliente en este día\"),\n",
        "    (2, \"Estoy en piloto automático hoy\"),\n",
        "    (2, \"Hoy no hay nada que me anime\"),\n",
        "    (2, \"Es un día ordinario y sin sorpresas\"),\n",
        "    (2, \"Estoy en mi estado habitual\"),\n",
        "    (2, \"Hoy no tengo ninguna expectativa\"),\n",
        "    (2, \"No espero nada especial hoy\"),\n",
        "    (2, \"Es un día como cualquier otro\"),\n",
        "    (2, \"Nada parece fuera de lo común\"),\n",
        "    (2, \"Hoy solo estoy existiendo\"),\n",
        "    (2, \"No hay nada excitante en este día\"),\n",
        "    (2, \"Me siento completamente neutral\"),\n",
        "    (2, \"Hoy es simplemente un día más\"),\n",
        "    (2, \"Nada parece cambiar hoy\"),\n",
        "]\n",
        "\n",
        "# Preparar X (frases) e y (etiquetas de estados de ánimo)\n",
        "X = [text.lower() for label, text in dataset]\n",
        "y = [label for label, text in dataset]\n",
        "\n",
        "# Dividir el dataset en entrenamiento y prueba\n",
        "X_train, X_test, y_train, y_test = train_test_split(X, y, test_size=0.2, random_state=42)\n",
        "\n",
        "# Vectorización del texto con TF-IDF, eliminando palabras vacías y usando bigramas\n",
        "vectorizer = TfidfVectorizer(stop_words=spanish_stop_words, ngram_range=(1, 2))\n",
        "X_train_vectorized = vectorizer.fit_transform(X_train)\n",
        "X_test_vectorized = vectorizer.transform(X_test)\n",
        "\n",
        "# Crear y entrenar el modelo de Regresión Logística con balance de clases\n",
        "modelo_LR = LogisticRegression(max_iter=1000, multi_class='multinomial', solver='lbfgs', class_weight='balanced')\n",
        "modelo_LR.fit(X_train_vectorized, y_train)\n",
        "\n",
        "# Evaluar el modelo con el conjunto de prueba\n",
        "y_pred_LR = modelo_LR.predict(X_test_vectorized)\n",
        "acc_LR = accuracy_score(y_test, y_pred_LR)\n",
        "report_LR = classification_report(y_test, y_pred_LR, zero_division=1)\n",
        "\n",
        "print(\"Precisión Regresión Logística:\", acc_LR)\n",
        "print(\"Reporte de clasificación Regresión Logística:\\n\", report_LR)\n"
      ],
      "metadata": {
        "colab": {
          "base_uri": "https://localhost:8080/"
        },
        "id": "rf5CfiPcPDXS",
        "outputId": "28589063-6435-4166-8bb3-116d3941376c"
      },
      "execution_count": 7,
      "outputs": [
        {
          "output_type": "stream",
          "name": "stdout",
          "text": [
            "Precisión Regresión Logística: 0.56\n",
            "Reporte de clasificación Regresión Logística:\n",
            "               precision    recall  f1-score   support\n",
            "\n",
            "           0       0.71      0.62      0.67         8\n",
            "           1       0.71      0.45      0.56        11\n",
            "           2       0.36      0.67      0.47         6\n",
            "\n",
            "    accuracy                           0.56        25\n",
            "   macro avg       0.60      0.58      0.56        25\n",
            "weighted avg       0.63      0.56      0.57        25\n",
            "\n"
          ]
        },
        {
          "output_type": "stream",
          "name": "stderr",
          "text": [
            "[nltk_data] Downloading package stopwords to /root/nltk_data...\n",
            "[nltk_data]   Package stopwords is already up-to-date!\n",
            "/usr/local/lib/python3.10/dist-packages/sklearn/linear_model/_logistic.py:1247: FutureWarning: 'multi_class' was deprecated in version 1.5 and will be removed in 1.7. From then on, it will always use 'multinomial'. Leave it to its default value to avoid this warning.\n",
            "  warnings.warn(\n"
          ]
        }
      ]
    },
    {
      "cell_type": "markdown",
      "source": [
        "Contamos con un accuracy del 56% ,como podemos ver el modelo no tiene muy buenas metricas."
      ],
      "metadata": {
        "id": "k-9QMeVzlBZU"
      }
    },
    {
      "cell_type": "markdown",
      "source": [
        "Probamos el modelo de clasificación:"
      ],
      "metadata": {
        "id": "u47EjmnWlYCG"
      }
    },
    {
      "cell_type": "code",
      "source": [
        "def predict_mood(user_input):\n",
        "    user_input_vectorized = vectorizer.transform([user_input.lower()])\n",
        "    mood_label = modelo_LR.predict(user_input_vectorized)[0]\n",
        "    return labels[mood_label][1]\n",
        "\n",
        "\n",
        "# Nuevas frases más distintas para probar el modelo\n",
        "nuevas_frases = [\n",
        "    \"No puedo evitar sentir una gran tristeza hoy\",  # Debería ser \"Melancólico\"\n",
        "    \"Siento que este es uno de los mejores días de mi vida\",  # Debería ser \"Alegre\"\n",
        "    \"Hoy todo me da lo mismo, nada me interesa realmente\",  # Debería ser \"Ni fu ni fa\"\n",
        "    \"No sé qué hacer, pero no estoy ni triste ni feliz\",  # Debería ser \"Ni fu ni fa\"\n",
        "    \"Me siento increíblemente emocionado y lleno de energía\",  # Debería ser \"Alegre\"\n",
        "    \"Todo parece gris y no veo nada que me anime\",  # Debería ser \"Melancólico\"\n",
        "    \"Este día está siendo tan normal como cualquier otro\",  # Debería ser \"Ni fu ni fa\"\n",
        "    \"No hay nada que me entusiasme, es como si estuviera vacío\",  # Debería ser \"Melancólico\"\n",
        "    \"Estoy muy agradecido por todo, este día es fantástico\",  # Debería ser \"Alegre\"\n",
        "    \"Hoy no me pasa nada en particular, no siento ni tristeza ni alegría\"  # Debería ser \"Ni fu ni fa\"\n",
        "]\n",
        "\n",
        "# Predecir los estados de ánimo para las nuevas frases\n",
        "for frase in nuevas_frases:\n",
        "    print(f\"La frase '{frase}' tiene el estado de ánimo: {predict_mood(frase)}\")\n"
      ],
      "metadata": {
        "colab": {
          "base_uri": "https://localhost:8080/"
        },
        "id": "QrCU_Iq8P63A",
        "outputId": "0cfd63b5-1a6b-4eb9-9a14-cef193233d41"
      },
      "execution_count": 9,
      "outputs": [
        {
          "output_type": "stream",
          "name": "stdout",
          "text": [
            "La frase 'No puedo evitar sentir una gran tristeza hoy' tiene el estado de ánimo: Melancólico\n",
            "La frase 'Siento que este es uno de los mejores días de mi vida' tiene el estado de ánimo: Alegre\n",
            "La frase 'Hoy todo me da lo mismo, nada me interesa realmente' tiene el estado de ánimo: Ni fu ni fa\n",
            "La frase 'No sé qué hacer, pero no estoy ni triste ni feliz' tiene el estado de ánimo: Ni fu ni fa\n",
            "La frase 'Me siento increíblemente emocionado y lleno de energía' tiene el estado de ánimo: Alegre\n",
            "La frase 'Todo parece gris y no veo nada que me anime' tiene el estado de ánimo: Ni fu ni fa\n",
            "La frase 'Este día está siendo tan normal como cualquier otro' tiene el estado de ánimo: Ni fu ni fa\n",
            "La frase 'No hay nada que me entusiasme, es como si estuviera vacío' tiene el estado de ánimo: Melancólico\n",
            "La frase 'Estoy muy agradecido por todo, este día es fantástico' tiene el estado de ánimo: Alegre\n",
            "La frase 'Hoy no me pasa nada en particular, no siento ni tristeza ni alegría' tiene el estado de ánimo: Ni fu ni fa\n"
          ]
        }
      ]
    },
    {
      "cell_type": "markdown",
      "source": [
        "**EN ESTE CASO, UTILIZAMOS SENTENCE TRANSFORMER**"
      ],
      "metadata": {
        "id": "nl9dIO0uT9pm"
      }
    },
    {
      "cell_type": "markdown",
      "source": [
        "Entrenamos un modelo de clasificación (de estado de ánimo) pero en este caso, utilizando embeddings generados por el modelo de SentenceTransformer."
      ],
      "metadata": {
        "id": "DwW21sx1lovf"
      }
    },
    {
      "cell_type": "code",
      "source": [
        "\n",
        "model = SentenceTransformer('sentence-transformers/paraphrase-multilingual-MiniLM-L12-v2')\n",
        "\n",
        "labels = [(0, \"Alegre\"), (1, \"Melancólico\"), (2, \"Ni fu ni fa\")]\n",
        "\n",
        "\n",
        "dataset = [\n",
        "    # Frases de estado de ánimo \"Alegre\"\n",
        "    (0, \"Estoy muy feliz\"),\n",
        "    (0, \"Hoy es un gran día\"),\n",
        "    (0, \"Me siento alegre\"),\n",
        "    (0, \"Es un día increíble\"),\n",
        "    (0, \"Estoy lleno de energía\"),\n",
        "    (0, \"Estoy muy contento hoy\"),\n",
        "    (0, \"Este es un día perfecto\"),\n",
        "    (0, \"Me siento lleno de vida\"),\n",
        "    (0, \"Estoy eufórico\"),\n",
        "    (0, \"Hoy es un día para celebrar\"),\n",
        "    (0, \"Siento mucha alegría en este día\"),\n",
        "    (0, \"Todo es perfecto hoy\"),\n",
        "    (0, \"Me encanta la vida\"),\n",
        "    (0, \"Es un día espectacular para disfrutar\"),\n",
        "    (0, \"Hoy estoy muy entusiasmado\"),\n",
        "    (0, \"Me siento agradecido y optimista\"),\n",
        "    (0, \"Qué día tan brillante y hermoso\"),\n",
        "    (0, \"Estoy exultante de felicidad\"),\n",
        "    (0, \"Todo está saliendo a la perfección\"),\n",
        "    (0, \"Estoy lleno de emociones positivas\"),\n",
        "    (0, \"Siento una gran paz y alegría\"),\n",
        "    (0, \"Hoy es un día lleno de posibilidades\"),\n",
        "    (0, \"Nada puede arruinar mi buen humor\"),\n",
        "    (0, \"Todo se siente más fácil y agradable\"),\n",
        "    (0, \"Es un día maravilloso para vivir\"),\n",
        "    (0, \"Estoy encantado con este día\"),\n",
        "    (0, \"Me siento radiante\"),\n",
        "    (0, \"Este día está lleno de sorpresas agradables\"),\n",
        "    (0, \"Siento que puedo lograr cualquier cosa\"),\n",
        "    (0, \"Hoy es un día para sonreír\"),\n",
        "    (0, \"Estoy disfrutando cada momento\"),\n",
        "    (0, \"Tengo una gran paz interior hoy\"),\n",
        "    (0, \"Este día está lleno de luz\"),\n",
        "    (0, \"Hoy estoy lleno de esperanza\"),\n",
        "    (0, \"Todo parece más hermoso hoy\"),\n",
        "    (0, \"Este es un día para recordar\"),\n",
        "    (0, \"Siento que la vida es un regalo\"),\n",
        "    (0, \"Estoy lleno de motivación y alegría\"),\n",
        "    (0, \"Hoy es un día especial\"),\n",
        "    (0, \"Estoy rodeado de amor y felicidad\"),\n",
        "\n",
        "    # Frases de estado de ánimo \"Melancólico\"\n",
        "    (1, \"Me siento triste\"),\n",
        "    (1, \"Estoy melancólico\"),\n",
        "    (1, \"Hoy estoy nostálgico\"),\n",
        "    (1, \"Me siento deprimido\"),\n",
        "    (1, \"No puedo dejar de pensar en cosas tristes\"),\n",
        "    (1, \"Es un día gris\"),\n",
        "    (1, \"Me siento vacío\"),\n",
        "    (1, \"No tengo ánimos para nada\"),\n",
        "    (1, \"Estoy abatido\"),\n",
        "    (1, \"Todo me parece sombrío\"),\n",
        "    (1, \"Siento una gran tristeza\"),\n",
        "    (1, \"No me gusta este día\"),\n",
        "    (1, \"Es un día muy malo\"),\n",
        "    (1, \"Todo parece estar mal hoy\"),\n",
        "    (1, \"Nada me da consuelo hoy\"),\n",
        "    (1, \"Siento que todo es una carga\"),\n",
        "    (1, \"Estoy atrapado en mis pensamientos\"),\n",
        "    (1, \"No tengo energías para nada\"),\n",
        "    (1, \"Es un día sin color ni esperanza\"),\n",
        "    (1, \"Nada me hace sonreír hoy\"),\n",
        "    (1, \"No encuentro alegría en nada\"),\n",
        "    (1, \"Es un día de pura tristeza y soledad\"),\n",
        "    (1, \"Siento un vacío muy profundo\"),\n",
        "    (1, \"Nada tiene sentido hoy\"),\n",
        "    (1, \"Me siento como una sombra\"),\n",
        "    (1, \"Todo está en mi contra hoy\"),\n",
        "    (1, \"Siento que estoy solo\"),\n",
        "    (1, \"Es un día sin propósito\"),\n",
        "    (1, \"Estoy agobiado por la tristeza\"),\n",
        "    (1, \"Siento que me falta algo\"),\n",
        "    (1, \"Hoy no encuentro paz\"),\n",
        "    (1, \"Es un día para olvidar\"),\n",
        "    (1, \"Me siento desconectado del mundo\"),\n",
        "    (1, \"Es como si todo pesara más hoy\"),\n",
        "    (1, \"No puedo escapar de esta sensación\"),\n",
        "    (1, \"Este día solo trae recuerdos amargos\"),\n",
        "    (1, \"Me siento incompleto y perdido\"),\n",
        "    (1, \"No tengo fuerzas para continuar\"),\n",
        "    (1, \"Es un día lleno de desesperanza\"),\n",
        "    (1, \"Mi corazón está apesadumbrado\"),\n",
        "    (1, \"Este día solo trae desilusión\"),\n",
        "\n",
        "    # Frases de estado de ánimo \"Ni fu ni fa\"\n",
        "    (2, \"No tengo ganas de hacer nada\"),\n",
        "    (2, \"Me siento neutral\"),\n",
        "    (2, \"Estoy cansado\"),\n",
        "    (2, \"Me da igual lo que pase\"),\n",
        "    (2, \"No me importa nada hoy\"),\n",
        "    (2, \"Estoy indiferente\"),\n",
        "    (2, \"No siento ni alegría ni tristeza\"),\n",
        "    (2, \"Hoy es un día normal\"),\n",
        "    (2, \"Estoy aburrido\"),\n",
        "    (2, \"Nada me parece interesante\"),\n",
        "    (2, \"No sé cómo me siento\"),\n",
        "    (2, \"Todo está igual que siempre\"),\n",
        "    (2, \"Nada especial sucede hoy\"),\n",
        "    (2, \"Es un día cualquiera\"),\n",
        "    (2, \"Hoy me siento indiferente a todo\"),\n",
        "    (2, \"Simplemente no siento nada\"),\n",
        "    (2, \"Es uno de esos días sin nada nuevo\"),\n",
        "    (2, \"Ni me siento bien ni mal\"),\n",
        "    (2, \"Nada me motiva particularmente\"),\n",
        "    (2, \"Es un día más, sin nada que contar\"),\n",
        "    (2, \"No tengo emociones intensas hoy\"),\n",
        "    (2, \"Hoy no pasa nada fuera de lo común\"),\n",
        "    (2, \"Es un día bastante monótono\"),\n",
        "    (2, \"Todo está en el mismo estado de siempre\"),\n",
        "    (2, \"Ni estoy triste ni contento, simplemente estoy\"),\n",
        "    (2, \"Hoy no tengo ni energía ni ánimos\"),\n",
        "    (2, \"Nada sobresaliente en este día\"),\n",
        "    (2, \"Estoy en piloto automático hoy\"),\n",
        "    (2, \"Hoy no hay nada que me anime\"),\n",
        "    (2, \"Es un día ordinario y sin sorpresas\"),\n",
        "    (2, \"Estoy en mi estado habitual\"),\n",
        "    (2, \"Hoy no tengo ninguna expectativa\"),\n",
        "    (2, \"No espero nada especial hoy\"),\n",
        "    (2, \"Es un día como cualquier otro\"),\n",
        "    (2, \"Nada parece fuera de lo común\"),\n",
        "    (2, \"Hoy solo estoy existiendo\"),\n",
        "    (2, \"No hay nada excitante en este día\"),\n",
        "    (2, \"Me siento completamente neutral\"),\n",
        "    (2, \"Hoy es simplemente un día más\"),\n",
        "    (2, \"Nada parece cambiar hoy\"),\n",
        "]\n",
        "\n",
        "# Preparar X (frases) e y (etiquetas de estados de ánimo)\n",
        "X = [text.lower() for label, text in dataset]\n",
        "y = [label for label, text in dataset]\n",
        "\n",
        "# Generar los embeddings para las frases usando el modelo preentrenado\n",
        "X_embeddings = model.encode(X)\n",
        "\n",
        "# Dividir el dataset en entrenamiento y prueba\n",
        "X_train, X_test, y_train, y_test = train_test_split(X_embeddings, y, test_size=0.2, random_state=42)\n",
        "\n",
        "# Crear y entrenar el modelo de Regresión Logística\n",
        "modelo_LR = LogisticRegression(max_iter=1000, multi_class='multinomial', solver='lbfgs', class_weight='balanced')\n",
        "modelo_LR.fit(X_train, y_train)\n",
        "\n",
        "# Evaluación del modelo\n",
        "y_pred_LR = modelo_LR.predict(X_test)\n",
        "acc_LR = accuracy_score(y_test, y_pred_LR)\n",
        "report_LR = classification_report(y_test, y_pred_LR, zero_division=1)\n",
        "print(\"Precisión Regresión Logística:\", acc_LR)\n",
        "print(\"Reporte de clasificación Regresión Logística:\\n\", report_LR)"
      ],
      "metadata": {
        "colab": {
          "base_uri": "https://localhost:8080/"
        },
        "id": "C-H8A1w4SJRD",
        "outputId": "521434be-4ed1-4d65-d817-dd387e2e1208"
      },
      "execution_count": 10,
      "outputs": [
        {
          "output_type": "stream",
          "name": "stderr",
          "text": [
            "/usr/local/lib/python3.10/dist-packages/huggingface_hub/utils/_token.py:89: UserWarning: \n",
            "The secret `HF_TOKEN` does not exist in your Colab secrets.\n",
            "To authenticate with the Hugging Face Hub, create a token in your settings tab (https://huggingface.co/settings/tokens), set it as secret in your Google Colab and restart your session.\n",
            "You will be able to reuse this secret in all of your notebooks.\n",
            "Please note that authentication is recommended but still optional to access public models or datasets.\n",
            "  warnings.warn(\n",
            "/usr/local/lib/python3.10/dist-packages/transformers/tokenization_utils_base.py:1601: FutureWarning: `clean_up_tokenization_spaces` was not set. It will be set to `True` by default. This behavior will be depracted in transformers v4.45, and will be then set to `False` by default. For more details check this issue: https://github.com/huggingface/transformers/issues/31884\n",
            "  warnings.warn(\n"
          ]
        },
        {
          "output_type": "stream",
          "name": "stdout",
          "text": [
            "Precisión Regresión Logística: 0.88\n",
            "Reporte de clasificación Regresión Logística:\n",
            "               precision    recall  f1-score   support\n",
            "\n",
            "           0       1.00      1.00      1.00         8\n",
            "           1       1.00      0.73      0.84        11\n",
            "           2       0.67      1.00      0.80         6\n",
            "\n",
            "    accuracy                           0.88        25\n",
            "   macro avg       0.89      0.91      0.88        25\n",
            "weighted avg       0.92      0.88      0.88        25\n",
            "\n"
          ]
        },
        {
          "output_type": "stream",
          "name": "stderr",
          "text": [
            "/usr/local/lib/python3.10/dist-packages/sklearn/linear_model/_logistic.py:1247: FutureWarning: 'multi_class' was deprecated in version 1.5 and will be removed in 1.7. From then on, it will always use 'multinomial'. Leave it to its default value to avoid this warning.\n",
            "  warnings.warn(\n"
          ]
        }
      ]
    },
    {
      "cell_type": "markdown",
      "source": [
        "La precisión obtenida en dicho modelo es del 88%, siendo ese porcentaje de las prediciones realizadas de forma correcta."
      ],
      "metadata": {
        "id": "T9QglYXznc9I"
      }
    },
    {
      "cell_type": "markdown",
      "source": [
        "Prueba del modelo:"
      ],
      "metadata": {
        "id": "bV6T4t44mMkC"
      }
    },
    {
      "cell_type": "code",
      "source": [
        "def predict_mood_st(user_input):\n",
        "    user_input_embedding = model.encode([user_input.lower()])\n",
        "    mood_label = modelo_LR.predict(user_input_embedding)[0]\n",
        "    return labels[mood_label][1]\n",
        "\n",
        "\n",
        "nuevas_frases = [\n",
        "    \"No puedo evitar sentir una gran tristeza hoy\",  # Debería ser \"Melancólico\"\n",
        "    \"Siento que este es uno de los mejores días de mi vida\",  # Debería ser \"Alegre\"\n",
        "    \"Hoy todo me da lo mismo, nada me interesa realmente\",  # Debería ser \"Ni fu ni fa\"\n",
        "    \"No sé qué hacer, pero no estoy ni triste ni feliz\",  # Debería ser \"Ni fu ni fa\"\n",
        "    \"Me siento increíblemente emocionado y lleno de energía\",  # Debería ser \"Alegre\"\n",
        "    \"Todo parece gris y no veo nada que me anime\",  # Debería ser \"Melancólico\"\n",
        "    \"Este día está siendo tan normal como cualquier otro\",  # Debería ser \"Ni fu ni fa\"\n",
        "    \"No hay nada que me entusiasme, es como si estuviera vacío\",  # Debería ser \"Melancólico\"\n",
        "    \"Estoy muy agradecido por todo, este día es fantástico\",  # Debería ser \"Alegre\"\n",
        "    \"Hoy no me pasa nada en particular, no siento ni tristeza ni alegría\"  # Debería ser \"Ni fu ni fa\"\n",
        "]\n",
        "\n",
        "\n",
        "for frase in nuevas_frases:\n",
        "    print(f\"La frase '{frase}' tiene el estado de ánimo: {predict_mood_st(frase)}\")"
      ],
      "metadata": {
        "colab": {
          "base_uri": "https://localhost:8080/"
        },
        "id": "pG2Qj4TASpum",
        "outputId": "937e9a9d-f668-429e-ea17-9118d3ab7498"
      },
      "execution_count": 11,
      "outputs": [
        {
          "output_type": "stream",
          "name": "stdout",
          "text": [
            "La frase 'No puedo evitar sentir una gran tristeza hoy' tiene el estado de ánimo: Melancólico\n",
            "La frase 'Siento que este es uno de los mejores días de mi vida' tiene el estado de ánimo: Alegre\n",
            "La frase 'Hoy todo me da lo mismo, nada me interesa realmente' tiene el estado de ánimo: Ni fu ni fa\n",
            "La frase 'No sé qué hacer, pero no estoy ni triste ni feliz' tiene el estado de ánimo: Ni fu ni fa\n",
            "La frase 'Me siento increíblemente emocionado y lleno de energía' tiene el estado de ánimo: Alegre\n",
            "La frase 'Todo parece gris y no veo nada que me anime' tiene el estado de ánimo: Ni fu ni fa\n",
            "La frase 'Este día está siendo tan normal como cualquier otro' tiene el estado de ánimo: Ni fu ni fa\n",
            "La frase 'No hay nada que me entusiasme, es como si estuviera vacío' tiene el estado de ánimo: Ni fu ni fa\n",
            "La frase 'Estoy muy agradecido por todo, este día es fantástico' tiene el estado de ánimo: Alegre\n",
            "La frase 'Hoy no me pasa nada en particular, no siento ni tristeza ni alegría' tiene el estado de ánimo: Ni fu ni fa\n"
          ]
        }
      ]
    },
    {
      "cell_type": "markdown",
      "source": [
        "Como podemos ver, con SentenceTransformer, el modelo tiene mejores métricas.\n",
        "\n"
      ],
      "metadata": {
        "id": "XwrfdF6VSdoO"
      }
    },
    {
      "cell_type": "markdown",
      "source": [
        "Vamos a buscar extraer entidades nombradas de textos en español para que las recomendaciones sean mas precisas."
      ],
      "metadata": {
        "id": "9HF6Nhoio5Mc"
      }
    },
    {
      "cell_type": "code",
      "source": [
        "# Descargar stopwords en español\n",
        "nltk.download('stopwords')\n",
        "\n",
        "# Obtener las stopwords en español\n",
        "spanish_stop_words = stopwords.words('spanish')\n"
      ],
      "metadata": {
        "colab": {
          "base_uri": "https://localhost:8080/"
        },
        "id": "uxl1nZVtXbbo",
        "outputId": "9980251c-cad8-48c5-9349-1dee514e9a5b"
      },
      "execution_count": 12,
      "outputs": [
        {
          "output_type": "stream",
          "name": "stderr",
          "text": [
            "[nltk_data] Downloading package stopwords to /root/nltk_data...\n",
            "[nltk_data]   Package stopwords is already up-to-date!\n"
          ]
        }
      ]
    },
    {
      "cell_type": "code",
      "source": [
        "nlp = spacy.load('es_core_news_md')\n",
        "\n",
        "def extraer_entidades(texto):\n",
        "    doc = nlp(texto)\n",
        "    entidades = [(ent.text, ent.label_) for ent in doc.ents]\n",
        "    return entidades\n",
        "\n",
        "# Ejemplo de uso de la función de extracción de entidades\n",
        "frase_usuario = \"Quiero ver una historia de amor en París con personajes como Napoleón\"\n",
        "entidades = extraer_entidades(frase_usuario)\n",
        "print(\"Entidades nombradas extraídas:\", entidades)\n"
      ],
      "metadata": {
        "colab": {
          "base_uri": "https://localhost:8080/"
        },
        "id": "KWbYnT3lVRxv",
        "outputId": "239f7971-f144-4023-d77e-344c6aa4dd1a"
      },
      "execution_count": 13,
      "outputs": [
        {
          "output_type": "stream",
          "name": "stdout",
          "text": [
            "Entidades nombradas extraídas: [('París', 'LOC'), ('Napoleón', 'PER')]\n"
          ]
        }
      ]
    },
    {
      "cell_type": "markdown",
      "source": [
        "Definimos una función para que cuando los usuarios ingresen sus preferencias o intereses sobre un tema específico se extraigan las entidades."
      ],
      "metadata": {
        "id": "JkETbVi4phjJ"
      }
    },
    {
      "cell_type": "code",
      "source": [
        "# Ajustar la función para extraer preferencias y entidades\n",
        "def ingresar_preferencias(preferencia_usuario):\n",
        "    entidades = extraer_entidades(preferencia_usuario)\n",
        "    if entidades:\n",
        "        print(f\"Entidades nombradas detectadas: {entidades}\")\n",
        "    return preferencia_usuario, entidades"
      ],
      "metadata": {
        "id": "zr1rmYpnWu40"
      },
      "execution_count": 23,
      "outputs": []
    },
    {
      "cell_type": "markdown",
      "source": [
        "**APLICACION**"
      ],
      "metadata": {
        "id": "CYLkoQ-SoKqy"
      }
    },
    {
      "cell_type": "markdown",
      "source": [
        "Para la clasificacion del estado de animo utilizaremos el modelo realizado con SentenceTransformer ya que fue el que mejor metricas nos dio. A su vez,para realizar los embeddings de los datos utilizaremos tambien SentenceTransformers."
      ],
      "metadata": {
        "id": "rosv_94ooo-x"
      }
    },
    {
      "cell_type": "code",
      "source": [
        "\n",
        "model = SentenceTransformer('sentence-transformers/paraphrase-multilingual-MiniLM-L12-v2')\n",
        "\n",
        "\n",
        "# Procesar los datos y generar embeddings para cada categoría\n",
        "board_games_df['combined_text'] = (board_games_df['description'] + ' ' + board_games_df['categories']).fillna('')\n",
        "movies_df['combined_text'] = (movies_df['Description'] + ' ' + movies_df['Genre'] + ' ' + movies_df['Actors']).fillna('')\n",
        "books_df['combined_text'] = (books_df['Summary'] + ' ' + books_df['Author'] + '' + books_df['Subjects']).fillna('')\n",
        "\n",
        "board_games_df['embeddings'] = list(model.encode(board_games_df['combined_text'].tolist()))\n",
        "movies_df['embeddings'] = list(model.encode(movies_df['combined_text'].tolist()))\n",
        "books_df['embeddings'] = list(model.encode(books_df['combined_text'].tolist()))\n",
        "\n",
        "\n",
        "\n",
        "def recomendar(input_estado_animo, estado_de_animo, input_tematica):\n",
        "    # Extraer entidades de la temática ingresada por el usuario\n",
        "    input_tematica, entidades = ingresar_preferencias(input_tematica)\n",
        "\n",
        "    # Crear una frase de entrada más completa con las entidades detectadas\n",
        "    total_input = input_estado_animo + ' ' + estado_de_animo + ' ' + input_tematica\n",
        "    if entidades:\n",
        "        total_input += ' ' + ' '.join([ent[0] for ent in entidades])\n",
        "\n",
        "    print(f\"Buscando recomendaciones para: {input_tematica} con contexto adicional de entidades\")\n",
        "\n",
        "    # Generar el embedding de la frase de entrada\n",
        "    vector_comparar = model.encode(total_input)\n",
        "\n",
        "    # Calcular similitudes para cada dataset\n",
        "    similitudes_juegos = cosine_similarity([vector_comparar], board_games_df['embeddings'].tolist())\n",
        "    similitudes_peliculas = cosine_similarity([vector_comparar], movies_df['embeddings'].tolist())\n",
        "    similitudes_libros = cosine_similarity([vector_comparar], books_df['embeddings'].tolist())\n",
        "\n",
        "    # Obtener los índices de las tres recomendaciones más similares para cada categoría\n",
        "    top_indices_juegos = similitudes_juegos[0].argsort()[-3:][::-1]\n",
        "    top_indices_peliculas = similitudes_peliculas[0].argsort()[-3:][::-1]\n",
        "    top_indices_libros = similitudes_libros[0].argsort()[-3:][::-1]\n",
        "\n",
        "    # Crear diccionarios con las recomendaciones\n",
        "    recomendaciones_juegos = [\n",
        "        {'Titulo': board_games_df.iloc[index]['game_name'], 'Summary': limpiar_descripcion(board_games_df.iloc[index]['description'])}\n",
        "        for index in top_indices_juegos\n",
        "    ]\n",
        "    recomendaciones_peliculas = [\n",
        "        {'Titulo': movies_df.iloc[index]['Title'], 'Summary': movies_df.iloc[index]['Description']}\n",
        "        for index in top_indices_peliculas\n",
        "    ]\n",
        "    recomendaciones_libros = [\n",
        "        {'Titulo': books_df.iloc[index]['Title'], 'Summary': books_df.iloc[index]['Summary']}\n",
        "        for index in top_indices_libros\n",
        "    ]\n",
        "\n",
        "    # Consolidar y devolver las recomendaciones\n",
        "    return {\n",
        "        'juegos': recomendaciones_juegos,\n",
        "        'peliculas': recomendaciones_peliculas,\n",
        "        'libros': recomendaciones_libros\n",
        "    }"
      ],
      "metadata": {
        "id": "DLaOKScMV9d_",
        "colab": {
          "base_uri": "https://localhost:8080/"
        },
        "outputId": "09f5d7f2-4414-4056-d6c9-c27147b95c56"
      },
      "execution_count": 54,
      "outputs": [
        {
          "output_type": "stream",
          "name": "stderr",
          "text": [
            "/usr/local/lib/python3.10/dist-packages/transformers/tokenization_utils_base.py:1601: FutureWarning: `clean_up_tokenization_spaces` was not set. It will be set to `True` by default. This behavior will be depracted in transformers v4.45, and will be then set to `False` by default. For more details check this issue: https://github.com/huggingface/transformers/issues/31884\n",
            "  warnings.warn(\n"
          ]
        }
      ]
    },
    {
      "cell_type": "code",
      "source": [
        "def mostrar_interfaz():\n",
        "    # Crear entradas de usuario para el estado de ánimo y preferencia temática\n",
        "    estado_animo_input = widgets.Text(\n",
        "        value='',\n",
        "        placeholder='¿Cómo te sientes hoy?',\n",
        "        description='Estado de Ánimo:',\n",
        "        disabled=False\n",
        "    )\n",
        "\n",
        "    preferencia_input = widgets.Text(\n",
        "        value='',\n",
        "        placeholder='Describe la temática que te gustaría explorar',\n",
        "        description='Preferencia:',\n",
        "        disabled=False\n",
        "    )\n",
        "\n",
        "    boton_enviar = widgets.Button(description=\"Obtener Recomendaciones\")\n",
        "    output = widgets.Output()\n",
        "\n",
        "    # Función que maneja el clic en el botón de recomendación\n",
        "    def on_button_clicked(b):\n",
        "        with output:\n",
        "            output.clear_output()  # Limpiar el área de salida antes de mostrar nuevos resultados\n",
        "\n",
        "            # Obtener valores de estado de ánimo y preferencia del usuario desde los widgets\n",
        "            estado_animo = estado_animo_input.value\n",
        "            preferencia = preferencia_input.value\n",
        "\n",
        "            # Verificar si hay valores en los campos\n",
        "            if not estado_animo or not preferencia:\n",
        "                print(\"Por favor ingresa tanto el estado de ánimo como la preferencia.\")\n",
        "                return\n",
        "\n",
        "            # Detectar el estado de ánimo usando predict_mood_st\n",
        "            estado_detectado = predict_mood_st(estado_animo)\n",
        "            print(f\"Estado de ánimo detectado: {estado_detectado}\")\n",
        "\n",
        "            # Generar recomendaciones combinando estado de ánimo detectado y preferencia\n",
        "            recomendaciones = recomendar(estado_animo, estado_detectado, preferencia)\n",
        "\n",
        "            # Mostrar las recomendaciones en la interfaz\n",
        "            print(\"\\nRecomendaciones de juegos:\")\n",
        "            for rec in recomendaciones['juegos']:\n",
        "                print(f\"- {rec['Titulo']}: {rec['Summary']}\")\n",
        "\n",
        "            print(\"\\nRecomendaciones de películas:\")\n",
        "            for rec in recomendaciones['peliculas']:\n",
        "                print(f\"- {rec['Titulo']}: {rec['Summary']}\")\n",
        "\n",
        "            print(\"\\nRecomendaciones de libros:\")\n",
        "            for rec in recomendaciones['libros']:\n",
        "                print(f\"- {rec['Titulo']}: {rec['Summary']}\")\n",
        "\n",
        "    # Conectar el evento de clic del botón con la función on_button_clicked\n",
        "    boton_enviar.on_click(on_button_clicked)\n",
        "\n",
        "    # Mostrar los widgets en la interfaz\n",
        "    display(estado_animo_input, preferencia_input, boton_enviar, output)\n",
        "\n",
        "# Ejecutar la interfaz\n",
        "mostrar_interfaz()"
      ],
      "metadata": {
        "colab": {
          "base_uri": "https://localhost:8080/",
          "height": 1000,
          "referenced_widgets": [
            "6076dbd88bc8450ca2de6d4611e0ee19",
            "bea32205d5a4414ebbd6954465f975ea",
            "73a545273f7842c6bcaaf9a3a8000bc0",
            "52d16be72ddb4a03a8fb8c250575c9ec",
            "6e2c6c5c339442beb401a5da59014862",
            "5d75ea4ac0c34dc4a84fed71764ef6a3",
            "cb997db7fed543658420e717f250cdbe",
            "dc19607e2780455aa28a11588745e282",
            "f2e953cc5a8e4c56a3f7d24ad715e3a4",
            "b710ffe3df724ed09200dbcb13f16bae",
            "3854b196f35f4217854bb12e4a58aca2"
          ]
        },
        "id": "SPtT66I9YUbC",
        "outputId": "b9e547d8-f1e3-4b26-84f2-07defbbea0a6"
      },
      "execution_count": 55,
      "outputs": [
        {
          "output_type": "display_data",
          "data": {
            "text/plain": [
              "Text(value='', description='Estado de Ánimo:', placeholder='¿Cómo te sientes hoy?')"
            ],
            "application/vnd.jupyter.widget-view+json": {
              "version_major": 2,
              "version_minor": 0,
              "model_id": "6076dbd88bc8450ca2de6d4611e0ee19"
            }
          },
          "metadata": {}
        },
        {
          "output_type": "display_data",
          "data": {
            "text/plain": [
              "Text(value='', description='Preferencia:', placeholder='Describe la temática que te gustaría explorar')"
            ],
            "application/vnd.jupyter.widget-view+json": {
              "version_major": 2,
              "version_minor": 0,
              "model_id": "52d16be72ddb4a03a8fb8c250575c9ec"
            }
          },
          "metadata": {}
        },
        {
          "output_type": "display_data",
          "data": {
            "text/plain": [
              "Button(description='Obtener Recomendaciones', style=ButtonStyle())"
            ],
            "application/vnd.jupyter.widget-view+json": {
              "version_major": 2,
              "version_minor": 0,
              "model_id": "cb997db7fed543658420e717f250cdbe"
            }
          },
          "metadata": {}
        },
        {
          "output_type": "display_data",
          "data": {
            "text/plain": [
              "Output()"
            ],
            "application/vnd.jupyter.widget-view+json": {
              "version_major": 2,
              "version_minor": 0,
              "model_id": "b710ffe3df724ed09200dbcb13f16bae"
            }
          },
          "metadata": {}
        }
      ]
    }
  ]
}