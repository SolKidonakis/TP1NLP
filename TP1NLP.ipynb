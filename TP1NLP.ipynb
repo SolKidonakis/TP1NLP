{
  "nbformat": 4,
  "nbformat_minor": 0,
  "metadata": {
    "colab": {
      "provenance": [],
      "include_colab_link": true
    },
    "kernelspec": {
      "name": "python3",
      "display_name": "Python 3"
    },
    "language_info": {
      "name": "python"
    },
    "widgets": {
      "application/vnd.jupyter.widget-state+json": {
        "dcb08f1b81b84c449a5c70ab377e890e": {
          "model_module": "@jupyter-widgets/controls",
          "model_name": "TextModel",
          "model_module_version": "1.5.0",
          "state": {
            "_dom_classes": [],
            "_model_module": "@jupyter-widgets/controls",
            "_model_module_version": "1.5.0",
            "_model_name": "TextModel",
            "_view_count": null,
            "_view_module": "@jupyter-widgets/controls",
            "_view_module_version": "1.5.0",
            "_view_name": "TextView",
            "continuous_update": true,
            "description": "Estado de Ánimo:",
            "description_tooltip": null,
            "disabled": false,
            "layout": "IPY_MODEL_8d3e5112e85e41a5934a5b0d0d66502b",
            "placeholder": "¿Cómo te sientes hoy?",
            "style": "IPY_MODEL_40fe53f3f4d54abdb37a9c7fdbe1f8a9",
            "value": "me da todo igual,normal"
          }
        },
        "8d3e5112e85e41a5934a5b0d0d66502b": {
          "model_module": "@jupyter-widgets/base",
          "model_name": "LayoutModel",
          "model_module_version": "1.2.0",
          "state": {
            "_model_module": "@jupyter-widgets/base",
            "_model_module_version": "1.2.0",
            "_model_name": "LayoutModel",
            "_view_count": null,
            "_view_module": "@jupyter-widgets/base",
            "_view_module_version": "1.2.0",
            "_view_name": "LayoutView",
            "align_content": null,
            "align_items": null,
            "align_self": null,
            "border": null,
            "bottom": null,
            "display": null,
            "flex": null,
            "flex_flow": null,
            "grid_area": null,
            "grid_auto_columns": null,
            "grid_auto_flow": null,
            "grid_auto_rows": null,
            "grid_column": null,
            "grid_gap": null,
            "grid_row": null,
            "grid_template_areas": null,
            "grid_template_columns": null,
            "grid_template_rows": null,
            "height": null,
            "justify_content": null,
            "justify_items": null,
            "left": null,
            "margin": null,
            "max_height": null,
            "max_width": null,
            "min_height": null,
            "min_width": null,
            "object_fit": null,
            "object_position": null,
            "order": null,
            "overflow": null,
            "overflow_x": null,
            "overflow_y": null,
            "padding": null,
            "right": null,
            "top": null,
            "visibility": null,
            "width": null
          }
        },
        "40fe53f3f4d54abdb37a9c7fdbe1f8a9": {
          "model_module": "@jupyter-widgets/controls",
          "model_name": "DescriptionStyleModel",
          "model_module_version": "1.5.0",
          "state": {
            "_model_module": "@jupyter-widgets/controls",
            "_model_module_version": "1.5.0",
            "_model_name": "DescriptionStyleModel",
            "_view_count": null,
            "_view_module": "@jupyter-widgets/base",
            "_view_module_version": "1.2.0",
            "_view_name": "StyleView",
            "description_width": ""
          }
        },
        "f3faaa0227bc440787d9886fecc7607a": {
          "model_module": "@jupyter-widgets/controls",
          "model_name": "TextModel",
          "model_module_version": "1.5.0",
          "state": {
            "_dom_classes": [],
            "_model_module": "@jupyter-widgets/controls",
            "_model_module_version": "1.5.0",
            "_model_name": "TextModel",
            "_view_count": null,
            "_view_module": "@jupyter-widgets/controls",
            "_view_module_version": "1.5.0",
            "_view_name": "TextView",
            "continuous_update": true,
            "description": "Preferencia:",
            "description_tooltip": null,
            "disabled": false,
            "layout": "IPY_MODEL_7c883e0e49b84afaab2a4a845a3d4e3f",
            "placeholder": "Describe la temática que te gustaría explorar",
            "style": "IPY_MODEL_a67c9a53ddd14342b1cf693850af1871",
            "value": "me gustaria leer algo sobre guerras"
          }
        },
        "7c883e0e49b84afaab2a4a845a3d4e3f": {
          "model_module": "@jupyter-widgets/base",
          "model_name": "LayoutModel",
          "model_module_version": "1.2.0",
          "state": {
            "_model_module": "@jupyter-widgets/base",
            "_model_module_version": "1.2.0",
            "_model_name": "LayoutModel",
            "_view_count": null,
            "_view_module": "@jupyter-widgets/base",
            "_view_module_version": "1.2.0",
            "_view_name": "LayoutView",
            "align_content": null,
            "align_items": null,
            "align_self": null,
            "border": null,
            "bottom": null,
            "display": null,
            "flex": null,
            "flex_flow": null,
            "grid_area": null,
            "grid_auto_columns": null,
            "grid_auto_flow": null,
            "grid_auto_rows": null,
            "grid_column": null,
            "grid_gap": null,
            "grid_row": null,
            "grid_template_areas": null,
            "grid_template_columns": null,
            "grid_template_rows": null,
            "height": null,
            "justify_content": null,
            "justify_items": null,
            "left": null,
            "margin": null,
            "max_height": null,
            "max_width": null,
            "min_height": null,
            "min_width": null,
            "object_fit": null,
            "object_position": null,
            "order": null,
            "overflow": null,
            "overflow_x": null,
            "overflow_y": null,
            "padding": null,
            "right": null,
            "top": null,
            "visibility": null,
            "width": null
          }
        },
        "a67c9a53ddd14342b1cf693850af1871": {
          "model_module": "@jupyter-widgets/controls",
          "model_name": "DescriptionStyleModel",
          "model_module_version": "1.5.0",
          "state": {
            "_model_module": "@jupyter-widgets/controls",
            "_model_module_version": "1.5.0",
            "_model_name": "DescriptionStyleModel",
            "_view_count": null,
            "_view_module": "@jupyter-widgets/base",
            "_view_module_version": "1.2.0",
            "_view_name": "StyleView",
            "description_width": ""
          }
        },
        "efb24865c82d4d2b9093e16d9d54b3c0": {
          "model_module": "@jupyter-widgets/controls",
          "model_name": "ButtonModel",
          "model_module_version": "1.5.0",
          "state": {
            "_dom_classes": [],
            "_model_module": "@jupyter-widgets/controls",
            "_model_module_version": "1.5.0",
            "_model_name": "ButtonModel",
            "_view_count": null,
            "_view_module": "@jupyter-widgets/controls",
            "_view_module_version": "1.5.0",
            "_view_name": "ButtonView",
            "button_style": "",
            "description": "Obtener Recomendaciones",
            "disabled": false,
            "icon": "",
            "layout": "IPY_MODEL_fdf93288819f43bc826048b4955569e5",
            "style": "IPY_MODEL_855ff68098ef4265b62ce148ef7f0b05",
            "tooltip": ""
          }
        },
        "fdf93288819f43bc826048b4955569e5": {
          "model_module": "@jupyter-widgets/base",
          "model_name": "LayoutModel",
          "model_module_version": "1.2.0",
          "state": {
            "_model_module": "@jupyter-widgets/base",
            "_model_module_version": "1.2.0",
            "_model_name": "LayoutModel",
            "_view_count": null,
            "_view_module": "@jupyter-widgets/base",
            "_view_module_version": "1.2.0",
            "_view_name": "LayoutView",
            "align_content": null,
            "align_items": null,
            "align_self": null,
            "border": null,
            "bottom": null,
            "display": null,
            "flex": null,
            "flex_flow": null,
            "grid_area": null,
            "grid_auto_columns": null,
            "grid_auto_flow": null,
            "grid_auto_rows": null,
            "grid_column": null,
            "grid_gap": null,
            "grid_row": null,
            "grid_template_areas": null,
            "grid_template_columns": null,
            "grid_template_rows": null,
            "height": null,
            "justify_content": null,
            "justify_items": null,
            "left": null,
            "margin": null,
            "max_height": null,
            "max_width": null,
            "min_height": null,
            "min_width": null,
            "object_fit": null,
            "object_position": null,
            "order": null,
            "overflow": null,
            "overflow_x": null,
            "overflow_y": null,
            "padding": null,
            "right": null,
            "top": null,
            "visibility": null,
            "width": null
          }
        },
        "855ff68098ef4265b62ce148ef7f0b05": {
          "model_module": "@jupyter-widgets/controls",
          "model_name": "ButtonStyleModel",
          "model_module_version": "1.5.0",
          "state": {
            "_model_module": "@jupyter-widgets/controls",
            "_model_module_version": "1.5.0",
            "_model_name": "ButtonStyleModel",
            "_view_count": null,
            "_view_module": "@jupyter-widgets/base",
            "_view_module_version": "1.2.0",
            "_view_name": "StyleView",
            "button_color": null,
            "font_weight": ""
          }
        },
        "0ffffb3725bc4fabbabb11b1a700d2ce": {
          "model_module": "@jupyter-widgets/output",
          "model_name": "OutputModel",
          "model_module_version": "1.0.0",
          "state": {
            "_dom_classes": [],
            "_model_module": "@jupyter-widgets/output",
            "_model_module_version": "1.0.0",
            "_model_name": "OutputModel",
            "_view_count": null,
            "_view_module": "@jupyter-widgets/output",
            "_view_module_version": "1.0.0",
            "_view_name": "OutputView",
            "layout": "IPY_MODEL_ab26e93e89e946bea210e43d7e8afad1",
            "msg_id": "",
            "outputs": [
              {
                "output_type": "stream",
                "name": "stdout",
                "text": [
                  "Estado de ánimo detectado: Ni fu ni fa\n",
                  "Buscando recomendaciones para: me gustaria leer algo sobre guerras con contexto adicional de entidades\n",
                  "\n",
                  "Recomendaciones de juegos:\n",
                  "- Paths of Glory: (from GMT Games' website:) They called it the Great War. In over four years of titanic struggle, the ancient Europe of Kings and Emperors tore itself to pieces, giving birth to our own violent modern age. The bloody battles fought in the trenches of the Western Front, the icy plains of Poland, the mountains of the Balkans, and the deserts of Arabia, shaped the world we know today. We are all orphans of the Great War. Paths of Glory: The First World War, designed by six-time Charles S. Roberts awards winner, Ted Raicer, allows players to step into the shoes of the monarchs and marshals who triumphed and bungled from 1914 to 1918. As the Central Powers you must use the advantage of interior lines and the fighting skill of the Imperial German Army to win your rightful 'place in the sun.' As the Entente Powers (Allies) you must bring your greater numbers to bear to put an end to German militarism and ensure this is the war 'to end all wars.' Both players will find their generalship and strategic abilities put to the test as Paths of Glory's innovative game systems let you recreate all the dramatic events of World War I. Components: 316 full-color die-cut counters: 176 5/8\" die cut counters 140 1/2\" die cut counters One 22x34\" full-color mapsheet showing most of Europe and the Near East 110 Strategy Cards 32-page Rule Book including sample game replay (21 pages of actual rules) Two Player Reference Cards DESIGNER: Ted Raicer DEVELOPER: Andy Lewis ART DIRECTOR: Rodger B. MacGowan MAP ART: Mark Simonitch CARDS &amp; COUNTER ART: Mark Simonitch (BGG description:) Following in the footsteps of We the People, Hannibal: Rome vs. Carthage, Successors (First/Second Edition), and For the People, Paths of Glory utilizes a similar card-driven system. The game covers WWI from its outbreak to American intervention and spans all of Europe and the Middle East. Not only is the game innovative, but it also plays fast, usually within just an evening. While the game itself has all of the normal expectations of a wargame, with various units, CRT charts and period chrome, at heart the game rests within the card play. Players are given a hand of cards to play out six sub-phases of a turn. Each sub-phase allows for the use of a card or a pass with a minimal movement of units. Each card has four possible uses: operational movement, strategic movement, special events, and replacement points. The cardplay forces players to constantly make tough decsions as they feel that they need to do a little bit of everything but they can only do one thing at a time. How you play your cards will decide to a large degree the outcome of the war.\n",
                  "- Conflict of Heroes: Awakening the Bear! – Russia 1941-42: Conflict of Heroes is a fast-paced tactical board game series that follows the development of modern day squad and platoon level tactics, starting with World War II and continuing all the way through modern day Bosnia, Iraq, and Afghanistan. The first game in the series, Awakening the Bear! - Russia 1941-1942, takes you to the eastern front during Operation Barbarossa, the German invasion of Russia. Many consider this time period to be the birth of modern warfare tactics that continue to be used and perfected by today's modern armies. Conflict of Heroes merges the elegance of streamlined Eurogame rules with deep strategic wargames. The series was designed to create a tense and highly interactive game play experience. You must manage multiple command resources to move, attack, and take other actions with your units. This gives you great flexibility in executing your battle plans, but makes constant caution necessary as unit activations on either side can happen at any time. Much effort went into distinguishing the units in the game by highlighting their historical strengths and weaknesses. For example, each tank defense rating takes into account relative armor thickness, armor slope deflection percentage, speed, size, targeting mechanics, and crew training. All these factors are represented in an easy to learn target number system. The included firefights, most of which you can play in about an hour, are designed to depict the pivotal points in a given battle. You can learn enough of the game to play the first scenario in ten minutes thanks to the programmed instruction approach used in the full-color rulebook. The game also features three- and four-player firefights and optional rules for solitaire play.\n",
                  "- Star Wars: Rebellion: Star Wars: Rebellion is a board game of epic conflict between the Galactic Empire and Rebel Alliance for two to four players. Experience the Galactic Civil War like never before. In Rebellion, you control the entire Galactic Empire or the fledgling Rebel Alliance. You must command starships, account for troop movements, and rally systems to your cause. Given the differences between the Empire and Rebel Alliance, each side has different win conditions, and you'll need to adjust your play style depending on who you represent: As the Imperial player, you can command legions of Stormtroopers, swarms of TIEs, Star Destroyers, and even the Death Star. You rule the galaxy by fear, relying on the power of your massive military to enforce your will. To win the game, you need to snuff out the budding Rebel Alliance by finding its base and obliterating it. Along the way, you can subjugate worlds or even destroy them. As the Rebel player, you can command dozens of troopers, T-47 airspeeders, Corellian corvettes, and fighter squadrons. However, these forces are no match for the Imperial military. In terms of raw strength, you'll find yourself clearly overmatched from the very outset, so you'll need to rally the planets to join your cause and execute targeted military strikes to sabotage Imperial build yards and steal valuable intelligence. To win the Galactic Civil War, you'll need to sway the galaxy's citizens to your cause. If you survive long enough and strengthen your reputation, you inspire the galaxy to a full-scale revolt, and you win. Featuring more than 150 plastic miniatures and two game boards that account for thirty-two of the Star Wars galaxy's most notable systems, Rebellion features a scope that is as large and sweeping as any Star Wars game before it. Yet for all its grandiosity, Rebellion remains intensely personal, cinematic, and heroic. As much as your success depends upon the strength of your starships, vehicles, and troops, it depends upon the individual efforts of such notable characters as Leia Organa, Mon Mothma, Grand Moff Tarkin, and Emperor Palpatine. As civil war spreads throughout the galaxy, these leaders are invaluable to your efforts, and the secret missions they attempt will evoke many of the most inspiring moments from the classic trilogy. You might send Luke Skywalker to receive Jedi training on Dagobah or have Darth Vader spring a trap that freezes Han Solo in carbonite!\n",
                  "\n",
                  "Recomendaciones de películas:\n",
                  "- Whiskey Tango Foxtrot: A journalist recounts her wartime coverage in Afghanistan.\n",
                  "- Hacksaw Ridge: WWII American Army Medic Desmond T. Doss, who served during the Battle of Okinawa, refuses to kill people, and becomes the first man in American history to receive the Medal of Honor without firing a shot.\n",
                  "- Lincoln: As the War continues to rage, America's president struggles with continuing carnage on the battlefield as he fights with many inside his own cabinet on the decision to emancipate the slaves.\n",
                  "\n",
                  "Recomendaciones de libros:\n",
                  "- On War: On War\" by Carl von Clausewitz is a philosophical treatise on military strategy and the nature of warfare written in the early 19th century. The work addresses the concept of war as a means to achieve political objectives, outlining its inherent complexities and the balance between military actions and political aims.  The opening of \"On War\" presents an introduction that contextualizes the significance of warfare in relation to political objectives, particularly within the European landscape of the time. Clausewitz emphasizes that war is an act of violence aimed at compelling the adversary to fulfill one's will and examines the psychological and social underpinnings that lead nations into war. He discusses the necessity of understanding not just the immediate military goals, but also the broader political context, setting the stage for a comprehensive analysis of warfare that blends strategy, morality, and the dynamics of power. \n",
                  "- Psychological Warfare: Psychological Warfare\" by Paul Myron Anthony Linebarger is a scholarly work written in the mid-20th century. The book examines the intricate dynamics of psychological warfare and propaganda, elucidating their roles in military strategy and operations throughout history, particularly during the World Wars. It explores how psychological tactics can be employed to undermine enemy morale, influence civilian populations, and achieve military objectives without direct military engagement.   The opening of the work sets the stage for an in-depth exploration of psychological warfare, highlighting its ongoing presence before, during, and after conventional conflict. Linebarger introduces key concepts, stating that psychological warfare transcends traditional military categorizations and is often defied by a lack of clear boundaries. He provides historical examples, enumerating notable instances—such as Gideon's clever tactics against the Midianites—to illustrate psychological manipulation in warfare. The author emphasizes the need for strategic understanding and tactical execution in psychological operations while asserting its significant impact on the outcomes of conflicts, urging readers to appreciate its complexity and relevance in modern military doctrine. \n",
                  "- Current History, Vol. VIII, No. 3, June 1918A Monthly Magazine of the New York Times: Current History, Vol. VIII, No. 3, June 1918\" by Various is a historical magazine publication written in the early 20th century. It details contemporary events during World War I, focusing on military, political, and social aspects of the time, particularly battles and strategies on the Western Front. The content includes reports from correspondents and analyses of combat situations, reflecting the experiences and sacrifices of soldiers during this tumultuous period.  The opening of this volume provides a snapshot of the wartime situation as of May 1918, highlighting the comparative calm on the Western Front after intense fighting. It outlines crucial military movements and engagements, such as the battles in Picardy and Flanders, the arrival of American troops in France, and the relentless German attempts to breach Allied lines. Additionally, it discusses key political developments, including the renewal of alliances between Germany and Austria and the significant impact of American labor missions in Europe, painting a comprehensive and dynamic picture of life and conflict during World War I. \n"
                ]
              }
            ]
          }
        },
        "ab26e93e89e946bea210e43d7e8afad1": {
          "model_module": "@jupyter-widgets/base",
          "model_name": "LayoutModel",
          "model_module_version": "1.2.0",
          "state": {
            "_model_module": "@jupyter-widgets/base",
            "_model_module_version": "1.2.0",
            "_model_name": "LayoutModel",
            "_view_count": null,
            "_view_module": "@jupyter-widgets/base",
            "_view_module_version": "1.2.0",
            "_view_name": "LayoutView",
            "align_content": null,
            "align_items": null,
            "align_self": null,
            "border": null,
            "bottom": null,
            "display": null,
            "flex": null,
            "flex_flow": null,
            "grid_area": null,
            "grid_auto_columns": null,
            "grid_auto_flow": null,
            "grid_auto_rows": null,
            "grid_column": null,
            "grid_gap": null,
            "grid_row": null,
            "grid_template_areas": null,
            "grid_template_columns": null,
            "grid_template_rows": null,
            "height": null,
            "justify_content": null,
            "justify_items": null,
            "left": null,
            "margin": null,
            "max_height": null,
            "max_width": null,
            "min_height": null,
            "min_width": null,
            "object_fit": null,
            "object_position": null,
            "order": null,
            "overflow": null,
            "overflow_x": null,
            "overflow_y": null,
            "padding": null,
            "right": null,
            "top": null,
            "visibility": null,
            "width": null
          }
        }
      }
    }
  },
  "cells": [
    {
      "cell_type": "markdown",
      "metadata": {
        "id": "view-in-github",
        "colab_type": "text"
      },
      "source": [
        "<a href=\"https://colab.research.google.com/github/SolKidonakis/TP1NLP/blob/main/TP1NLP.ipynb\" target=\"_parent\"><img src=\"https://colab.research.google.com/assets/colab-badge.svg\" alt=\"Open In Colab\"/></a>"
      ]
    },
    {
      "cell_type": "markdown",
      "source": [
        "**TRABAJO PRACTICO N°1: PROCESAMIENTO DEL LENGUAJE NATURAL**\n",
        "\n",
        "\n",
        "MIEMBROS DEL GRUPO: SOL KIDONAKIS Y BRISA MENESCALDI."
      ],
      "metadata": {
        "id": "flZE_1j5IAfe"
      }
    },
    {
      "cell_type": "markdown",
      "source": [
        "**LIBRERIAS**"
      ],
      "metadata": {
        "id": "bRbcP5RSKimy"
      }
    },
    {
      "cell_type": "code",
      "source": [
        "!pip install sentence-transformers\n",
        "!python -m spacy download es_core_news_md\n",
        "!pip install nltk\n",
        "!pip install ipywidgets\n",
        "!pip install --upgrade tensorflow tensorflow-hub"
      ],
      "metadata": {
        "id": "S9vp3ZL1R62o"
      },
      "execution_count": null,
      "outputs": []
    },
    {
      "cell_type": "code",
      "source": [
        "import requests\n",
        "from bs4 import BeautifulSoup\n",
        "import pandas as pd\n",
        "from sklearn.model_selection import train_test_split\n",
        "from sklearn.feature_extraction.text import TfidfVectorizer\n",
        "from sklearn.linear_model import LogisticRegression\n",
        "from sklearn.metrics import accuracy_score, classification_report\n",
        "from sentence_transformers import SentenceTransformer\n",
        "from sklearn.metrics.pairwise import cosine_similarity\n",
        "import ipywidgets as widgets\n",
        "from nltk.corpus import stopwords\n",
        "import nltk\n",
        "import spacy\n",
        "from concurrent.futures import ThreadPoolExecutor, as_completed\n",
        "import time\n",
        "import numpy as np\n"
      ],
      "metadata": {
        "id": "WmHQwjIMKj-y",
        "colab": {
          "base_uri": "https://localhost:8080/"
        },
        "outputId": "8a4cc7c6-59d6-4e75-907c-5eef457e9be0"
      },
      "execution_count": 2,
      "outputs": [
        {
          "output_type": "stream",
          "name": "stderr",
          "text": [
            "/usr/local/lib/python3.10/dist-packages/sentence_transformers/cross_encoder/CrossEncoder.py:13: TqdmExperimentalWarning: Using `tqdm.autonotebook.tqdm` in notebook mode. Use `tqdm.tqdm` instead to force console mode (e.g. in jupyter console)\n",
            "  from tqdm.autonotebook import tqdm, trange\n"
          ]
        }
      ]
    },
    {
      "cell_type": "markdown",
      "source": [
        "En primer lugar,haremos web scraping para extraer información sobre los libros de Project Gutenberg, incluyendo su título, autor, descripción,categoria y enlace, y guardamos todos esos datos en un archivo CSV para su posterior uso."
      ],
      "metadata": {
        "id": "7ZaqnhsohSjD"
      }
    },
    {
      "cell_type": "code",
      "execution_count": null,
      "metadata": {
        "colab": {
          "base_uri": "https://localhost:8080/"
        },
        "id": "BIzBKWjjF-E2",
        "outputId": "2b580f25-a703-4458-898a-20cd3a10377e"
      },
      "outputs": [
        {
          "output_type": "stream",
          "name": "stdout",
          "text": [
            "                                     Title  \\\n",
            "0                              Shen Yin Yu   \n",
            "1                      Pride and Prejudice   \n",
            "2                 Moby Dick; Or, The Whale   \n",
            "3  Frankenstein; Or, The Modern Prometheus   \n",
            "4                         Romeo and Juliet   \n",
            "\n",
            "                                    Author  \\\n",
            "0                       Lü, Kun, 1536-1618   \n",
            "1                  Austen, Jane, 1775-1817   \n",
            "2              Melville, Herman, 1819-1891   \n",
            "3  Shelley, Mary Wollstonecraft, 1797-1851   \n",
            "4          Shakespeare, William, 1564-1616   \n",
            "\n",
            "                                             Summary  \\\n",
            "0  呻吟語\" by Kun Lü is a philosophical treatise wri...   \n",
            "1  Pride and Prejudice\" by Jane Austen is a class...   \n",
            "2  Moby Dick; Or, The Whale\" by Herman Melville i...   \n",
            "3  Frankenstein; Or, The Modern Prometheus\" by Ma...   \n",
            "4  Romeo and Juliet\" by William Shakespeare is a ...   \n",
            "\n",
            "                                            Subjects  \\\n",
            "0                                    Conduct of life   \n",
            "1  England -- Fiction, Young women -- Fiction, Lo...   \n",
            "2  Whaling -- Fiction, Sea stories, Psychological...   \n",
            "3  Science fiction, Horror tales, Gothic fiction,...   \n",
            "4  Vendetta -- Drama, Youth -- Drama, Verona (Ita...   \n",
            "\n",
            "                                      URL  \n",
            "0  https://www.gutenberg.org/ebooks/25558  \n",
            "1   https://www.gutenberg.org/ebooks/1342  \n",
            "2   https://www.gutenberg.org/ebooks/2701  \n",
            "3     https://www.gutenberg.org/ebooks/84  \n",
            "4   https://www.gutenberg.org/ebooks/1513  \n"
          ]
        }
      ],
      "source": [
        "# Función para obtener el objeto Soup de una URL\n",
        "def get_soup(url):\n",
        "    response = requests.get(url)\n",
        "    return BeautifulSoup(response.content, 'html.parser')\n",
        "\n",
        "def extraer_info(book_soup, url):\n",
        "    table = book_soup.find('table', class_='bibrec')\n",
        "    rows = table.find_all('tr') if table else []\n",
        "\n",
        "\n",
        "    title = author  = summary = None\n",
        "    subjects = []\n",
        "\n",
        "    for row in rows:\n",
        "        th = row.find('th')\n",
        "        td = row.find('td')\n",
        "\n",
        "        if th and td:\n",
        "            if 'Author' in th.text:\n",
        "                author = td.text.strip()\n",
        "            elif 'Title' in th.text:\n",
        "                title = td.text.strip()\n",
        "            elif 'Summary' in th.text:\n",
        "                summary = td.text.strip().replace(\"(This is an automatically generated summary.)\", \"\").strip('\"')\n",
        "            elif 'Subject' in th.text:\n",
        "                subject_links = td.find_all('a')\n",
        "                for link in subject_links:\n",
        "                    subjects.append(link.text.strip())\n",
        "\n",
        "    subjects_string = \", \".join(subjects)\n",
        "\n",
        "    return {\n",
        "        'Title': title,\n",
        "        'Author': author,\n",
        "        'Summary': summary,\n",
        "        'Subjects': subjects_string,\n",
        "        'URL': url\n",
        "    }\n",
        "\n",
        "# Obtener la lista de URLs de libros desde la página principal de Project Gutenberg\n",
        "def libros_urls(base_url=\"https://www.gutenberg.org\"):\n",
        "    url = f\"{base_url}/browse/scores/top1000.php#books-last1\"\n",
        "    soup = get_soup(url)\n",
        "    book_elements = soup.select('ol li')\n",
        "    urls = []\n",
        "\n",
        "    for element in book_elements:\n",
        "        a_tag = element.find('a')\n",
        "        if a_tag and 'href' in a_tag.attrs:\n",
        "            full_url = f\"{base_url}{a_tag['href']}\"\n",
        "            urls.append(full_url)\n",
        "\n",
        "    return urls\n",
        "\n",
        "# Procesar cada libro con ThreadPoolExecutor\n",
        "def procesar_libros(urls):\n",
        "    books = []\n",
        "    with ThreadPoolExecutor(max_workers=5) as executor:\n",
        "        futures = [executor.submit(procesar_libro_individual, url) for url in urls]\n",
        "        for future in as_completed(futures):\n",
        "            result = future.result()\n",
        "            if result:\n",
        "                books.append(result)\n",
        "            time.sleep(0.1)  # Mantener un delay entre requests\n",
        "    return books\n",
        "\n",
        "\n",
        "def procesar_libro_individual(url):\n",
        "    try:\n",
        "        book_soup = get_soup(url)\n",
        "        return extraer_info(book_soup, url)\n",
        "    except Exception as e:\n",
        "        print(f\"Error al procesar {url}: {e}\")\n",
        "        return None\n",
        "\n",
        "# Ejecutar el proceso completo y guardar en un DataFrame\n",
        "def main():\n",
        "    urls = libros_urls()\n",
        "    books = procesar_libros(urls)\n",
        "    books_df = pd.DataFrame(books)\n",
        "    books_df.to_csv('gutenberg_books.csv', index=False, encoding='utf-8')\n",
        "    print(books_df.head())\n",
        "\n",
        "\n",
        "main()\n"
      ]
    },
    {
      "cell_type": "markdown",
      "source": [
        "Abrimos tres archivos CSV que tienen información sobre juegos de mesa, películas y libros."
      ],
      "metadata": {
        "id": "O-5jzOboixn5"
      }
    },
    {
      "cell_type": "code",
      "source": [
        "board_games_df = pd.read_csv('bgg_database.csv')\n",
        "\n",
        "movies_df = pd.read_csv('IMDB-Movie-Data.csv')\n",
        "\n",
        "books_df = pd.read_csv('gutenberg_books.csv')\n",
        "\n",
        "#Imprimimos las primeras filas de cada CSV\n",
        "print(board_games_df.head())\n",
        "print(movies_df.head())\n",
        "print(books_df.head())\n"
      ],
      "metadata": {
        "colab": {
          "base_uri": "https://localhost:8080/"
        },
        "id": "-FPNEGutL6ig",
        "outputId": "deada8e3-893d-4984-9c5b-751c31196999"
      },
      "execution_count": 3,
      "outputs": [
        {
          "output_type": "stream",
          "name": "stdout",
          "text": [
            "   rank                          game_name  \\\n",
            "0     1                  Brass: Birmingham   \n",
            "1     2          Pandemic Legacy: Season 1   \n",
            "2     3                         Gloomhaven   \n",
            "3     4                           Ark Nova   \n",
            "4     5  Twilight Imperium: Fourth Edition   \n",
            "\n",
            "                                           game_href  geek_rating  avg_rating  \\\n",
            "0  https://boardgamegeek.com/boardgame/224517/bra...        8.415        8.60   \n",
            "1  https://boardgamegeek.com/boardgame/161936/pan...        8.377        8.53   \n",
            "2  https://boardgamegeek.com/boardgame/174430/glo...        8.349        8.59   \n",
            "3  https://boardgamegeek.com/boardgame/342942/ark...        8.335        8.54   \n",
            "4  https://boardgamegeek.com/boardgame/233078/twi...        8.240        8.60   \n",
            "\n",
            "   num_voters                                        description  \\\n",
            "0     46836.0  Brass: Birmingham is an economic strategy game...   \n",
            "1     53807.0  Pandemic Legacy is a co-operative campaign gam...   \n",
            "2     62592.0  Gloomhaven  is a game of Euro-inspired tactica...   \n",
            "3     44728.0  In Ark Nova, you will plan and design a modern...   \n",
            "4     24148.0  Twilight Imperium (Fourth Edition) is a game o...   \n",
            "\n",
            "   yearpublished  minplayers  maxplayers  minplaytime  maxplaytime  minage  \\\n",
            "0           2018           2           4           60          120      14   \n",
            "1           2015           2           4           60           60      13   \n",
            "2           2017           1           4           60          120      14   \n",
            "3           2021           1           4           90          150      14   \n",
            "4           2017           3           6          240          480      14   \n",
            "\n",
            "   avgweight        best_num_players  \\\n",
            "0     3.8776  [{'min': 3, 'max': 4}]   \n",
            "1     2.8308  [{'min': 4, 'max': 4}]   \n",
            "2     3.9132  [{'min': 3, 'max': 3}]   \n",
            "3     3.7653  [{'min': 2, 'max': 2}]   \n",
            "4     4.3173  [{'min': 6, 'max': 6}]   \n",
            "\n",
            "                                           designers  \\\n",
            "0   ['Gavan Brown', 'Matt Tolman', 'Martin Wallace']   \n",
            "1                     ['Rob Daviau', 'Matt Leacock']   \n",
            "2                                 ['Isaac Childres']   \n",
            "3                                  ['Mathias Wigge']   \n",
            "4  ['Dane Beltrami', 'Corey Konieczka', 'Christia...   \n",
            "\n",
            "                                           mechanics  \\\n",
            "0  ['Hand Management', 'Income', 'Loans', 'Market...   \n",
            "1  ['Action Points', 'Cooperative Game', 'Hand Ma...   \n",
            "2  ['Action Queue', 'Action Retrieval', 'Campaign...   \n",
            "3  ['Action Queue', 'End Game Bonuses', 'Grid Cov...   \n",
            "4  ['Action Drafting', 'Area-Impulse', 'Dice Roll...   \n",
            "\n",
            "                                          categories  \n",
            "0  ['Age of Reason', 'Economic', 'Industry / Manu...  \n",
            "1                       ['Environmental', 'Medical']  \n",
            "2  ['Adventure', 'Exploration', 'Fantasy', 'Fight...  \n",
            "3           ['Animals', 'Economic', 'Environmental']  \n",
            "4  ['Civilization', 'Economic', 'Exploration', 'N...  \n",
            "   Rank                    Title                     Genre  \\\n",
            "0     1  Guardians of the Galaxy   Action,Adventure,Sci-Fi   \n",
            "1     2               Prometheus  Adventure,Mystery,Sci-Fi   \n",
            "2     3                    Split           Horror,Thriller   \n",
            "3     4                     Sing   Animation,Comedy,Family   \n",
            "4     5            Suicide Squad  Action,Adventure,Fantasy   \n",
            "\n",
            "                                         Description              Director  \\\n",
            "0  A group of intergalactic criminals are forced ...            James Gunn   \n",
            "1  Following clues to the origin of mankind, a te...          Ridley Scott   \n",
            "2  Three girls are kidnapped by a man with a diag...    M. Night Shyamalan   \n",
            "3  In a city of humanoid animals, a hustling thea...  Christophe Lourdelet   \n",
            "4  A secret government agency recruits some of th...            David Ayer   \n",
            "\n",
            "                                              Actors  Year  Runtime (Minutes)  \\\n",
            "0  Chris Pratt, Vin Diesel, Bradley Cooper, Zoe S...  2014                121   \n",
            "1  Noomi Rapace, Logan Marshall-Green, Michael Fa...  2012                124   \n",
            "2  James McAvoy, Anya Taylor-Joy, Haley Lu Richar...  2016                117   \n",
            "3  Matthew McConaughey,Reese Witherspoon, Seth Ma...  2016                108   \n",
            "4  Will Smith, Jared Leto, Margot Robbie, Viola D...  2016                123   \n",
            "\n",
            "   Rating   Votes  Revenue (Millions)  Metascore  \n",
            "0     8.1  757074              333.13         76  \n",
            "1     7.0  485820              126.46         65  \n",
            "2     7.3  157606              138.12         62  \n",
            "3     7.2   60545              270.32         59  \n",
            "4     6.2  393727              325.02         40  \n",
            "                                     Title  \\\n",
            "0                              Shen Yin Yu   \n",
            "1                      Pride and Prejudice   \n",
            "2                 Moby Dick; Or, The Whale   \n",
            "3  Frankenstein; Or, The Modern Prometheus   \n",
            "4                         Romeo and Juliet   \n",
            "\n",
            "                                    Author  \\\n",
            "0                       Lü, Kun, 1536-1618   \n",
            "1                  Austen, Jane, 1775-1817   \n",
            "2              Melville, Herman, 1819-1891   \n",
            "3  Shelley, Mary Wollstonecraft, 1797-1851   \n",
            "4          Shakespeare, William, 1564-1616   \n",
            "\n",
            "                                             Summary  \\\n",
            "0  呻吟語\" by Kun Lü is a philosophical treatise wri...   \n",
            "1  Pride and Prejudice\" by Jane Austen is a class...   \n",
            "2  Moby Dick; Or, The Whale\" by Herman Melville i...   \n",
            "3  Frankenstein; Or, The Modern Prometheus\" by Ma...   \n",
            "4  Romeo and Juliet\" by William Shakespeare is a ...   \n",
            "\n",
            "                                            Subjects  \\\n",
            "0                                    Conduct of life   \n",
            "1  England -- Fiction, Young women -- Fiction, Lo...   \n",
            "2  Whaling -- Fiction, Sea stories, Psychological...   \n",
            "3  Science fiction, Horror tales, Gothic fiction,...   \n",
            "4  Vendetta -- Drama, Youth -- Drama, Verona (Ita...   \n",
            "\n",
            "                                      URL  \n",
            "0  https://www.gutenberg.org/ebooks/25558  \n",
            "1   https://www.gutenberg.org/ebooks/1342  \n",
            "2   https://www.gutenberg.org/ebooks/2701  \n",
            "3     https://www.gutenberg.org/ebooks/84  \n",
            "4   https://www.gutenberg.org/ebooks/1513  \n"
          ]
        }
      ]
    },
    {
      "cell_type": "markdown",
      "source": [
        "En esta seccion vamos a realizar una pequeña limpieza del dataset,ya que identificamos datos nulos y duplicados."
      ],
      "metadata": {
        "id": "f7vJSfQn5_aJ"
      }
    },
    {
      "cell_type": "code",
      "source": [
        "books_df.info()"
      ],
      "metadata": {
        "colab": {
          "base_uri": "https://localhost:8080/"
        },
        "id": "5fwrO5oLrI_t",
        "outputId": "c58cc212-49cb-4924-cc6e-4d8a1728b7f7"
      },
      "execution_count": 4,
      "outputs": [
        {
          "output_type": "stream",
          "name": "stdout",
          "text": [
            "<class 'pandas.core.frame.DataFrame'>\n",
            "RangeIndex: 6000 entries, 0 to 5999\n",
            "Data columns (total 5 columns):\n",
            " #   Column    Non-Null Count  Dtype \n",
            "---  ------    --------------  ----- \n",
            " 0   Title     3000 non-null   object\n",
            " 1   Author    2834 non-null   object\n",
            " 2   Summary   2638 non-null   object\n",
            " 3   Subjects  2999 non-null   object\n",
            " 4   URL       6000 non-null   object\n",
            "dtypes: object(5)\n",
            "memory usage: 234.5+ KB\n"
          ]
        }
      ]
    },
    {
      "cell_type": "code",
      "source": [
        "books_df.duplicated().sum()"
      ],
      "metadata": {
        "colab": {
          "base_uri": "https://localhost:8080/"
        },
        "id": "DBbVOpRDrP0m",
        "outputId": "6c416888-fdbe-4347-d3ad-e47e04631863"
      },
      "execution_count": 5,
      "outputs": [
        {
          "output_type": "execute_result",
          "data": {
            "text/plain": [
              "3623"
            ]
          },
          "metadata": {},
          "execution_count": 5
        }
      ]
    },
    {
      "cell_type": "code",
      "source": [
        "books_df.isnull().sum()"
      ],
      "metadata": {
        "colab": {
          "base_uri": "https://localhost:8080/",
          "height": 241
        },
        "id": "cM2UBRmOrTfw",
        "outputId": "e26bb594-ed8f-4d84-c333-6857592bfc30"
      },
      "execution_count": 6,
      "outputs": [
        {
          "output_type": "execute_result",
          "data": {
            "text/plain": [
              "Title       3000\n",
              "Author      3166\n",
              "Summary     3362\n",
              "Subjects    3001\n",
              "URL            0\n",
              "dtype: int64"
            ],
            "text/html": [
              "<div>\n",
              "<style scoped>\n",
              "    .dataframe tbody tr th:only-of-type {\n",
              "        vertical-align: middle;\n",
              "    }\n",
              "\n",
              "    .dataframe tbody tr th {\n",
              "        vertical-align: top;\n",
              "    }\n",
              "\n",
              "    .dataframe thead th {\n",
              "        text-align: right;\n",
              "    }\n",
              "</style>\n",
              "<table border=\"1\" class=\"dataframe\">\n",
              "  <thead>\n",
              "    <tr style=\"text-align: right;\">\n",
              "      <th></th>\n",
              "      <th>0</th>\n",
              "    </tr>\n",
              "  </thead>\n",
              "  <tbody>\n",
              "    <tr>\n",
              "      <th>Title</th>\n",
              "      <td>3000</td>\n",
              "    </tr>\n",
              "    <tr>\n",
              "      <th>Author</th>\n",
              "      <td>3166</td>\n",
              "    </tr>\n",
              "    <tr>\n",
              "      <th>Summary</th>\n",
              "      <td>3362</td>\n",
              "    </tr>\n",
              "    <tr>\n",
              "      <th>Subjects</th>\n",
              "      <td>3001</td>\n",
              "    </tr>\n",
              "    <tr>\n",
              "      <th>URL</th>\n",
              "      <td>0</td>\n",
              "    </tr>\n",
              "  </tbody>\n",
              "</table>\n",
              "</div><br><label><b>dtype:</b> int64</label>"
            ]
          },
          "metadata": {},
          "execution_count": 6
        }
      ]
    },
    {
      "cell_type": "code",
      "source": [
        "books_df.drop_duplicates()"
      ],
      "metadata": {
        "colab": {
          "base_uri": "https://localhost:8080/",
          "height": 562
        },
        "id": "0a7PbQsTrZmI",
        "outputId": "edc82ca7-7aad-4e53-98bb-512a2f6d3974"
      },
      "execution_count": 7,
      "outputs": [
        {
          "output_type": "execute_result",
          "data": {
            "text/plain": [
              "                                        Title  \\\n",
              "0                                 Shen Yin Yu   \n",
              "1                         Pride and Prejudice   \n",
              "2                    Moby Dick; Or, The Whale   \n",
              "3     Frankenstein; Or, The Modern Prometheus   \n",
              "4                            Romeo and Juliet   \n",
              "...                                       ...   \n",
              "5994                                      NaN   \n",
              "5996                                      NaN   \n",
              "5997                                      NaN   \n",
              "5998                                      NaN   \n",
              "5999                                      NaN   \n",
              "\n",
              "                                       Author  \\\n",
              "0                          Lü, Kun, 1536-1618   \n",
              "1                     Austen, Jane, 1775-1817   \n",
              "2                 Melville, Herman, 1819-1891   \n",
              "3     Shelley, Mary Wollstonecraft, 1797-1851   \n",
              "4             Shakespeare, William, 1564-1616   \n",
              "...                                       ...   \n",
              "5994                                      NaN   \n",
              "5996                                      NaN   \n",
              "5997                                      NaN   \n",
              "5998                                      NaN   \n",
              "5999                                      NaN   \n",
              "\n",
              "                                                Summary  \\\n",
              "0     呻吟語\" by Kun Lü is a philosophical treatise wri...   \n",
              "1     Pride and Prejudice\" by Jane Austen is a class...   \n",
              "2     Moby Dick; Or, The Whale\" by Herman Melville i...   \n",
              "3     Frankenstein; Or, The Modern Prometheus\" by Ma...   \n",
              "4     Romeo and Juliet\" by William Shakespeare is a ...   \n",
              "...                                                 ...   \n",
              "5994                                                NaN   \n",
              "5996                                                NaN   \n",
              "5997                                                NaN   \n",
              "5998                                                NaN   \n",
              "5999                                                NaN   \n",
              "\n",
              "                                               Subjects  \\\n",
              "0                                       Conduct of life   \n",
              "1     England -- Fiction, Young women -- Fiction, Lo...   \n",
              "2     Whaling -- Fiction, Sea stories, Psychological...   \n",
              "3     Science fiction, Horror tales, Gothic fiction,...   \n",
              "4     Vendetta -- Drama, Youth -- Drama, Verona (Ita...   \n",
              "...                                                 ...   \n",
              "5994                                                NaN   \n",
              "5996                                                NaN   \n",
              "5997                                                NaN   \n",
              "5998                                                NaN   \n",
              "5999                                                NaN   \n",
              "\n",
              "                                                    URL  \n",
              "0                https://www.gutenberg.org/ebooks/25558  \n",
              "1                 https://www.gutenberg.org/ebooks/1342  \n",
              "2                 https://www.gutenberg.org/ebooks/2701  \n",
              "3                   https://www.gutenberg.org/ebooks/84  \n",
              "4                 https://www.gutenberg.org/ebooks/1513  \n",
              "...                                                 ...  \n",
              "5994  https://www.gutenberg.org/browse/authors/b#a32158  \n",
              "5996    https://www.gutenberg.org/browse/authors/f#a525  \n",
              "5997   https://www.gutenberg.org/browse/authors/p#a7040  \n",
              "5998  https://www.gutenberg.org/browse/authors/d#a43202  \n",
              "5999  https://www.gutenberg.org/browse/authors/m#a35054  \n",
              "\n",
              "[2377 rows x 5 columns]"
            ],
            "text/html": [
              "\n",
              "  <div id=\"df-894d96d1-7de7-4560-ba5c-0011046529f1\" class=\"colab-df-container\">\n",
              "    <div>\n",
              "<style scoped>\n",
              "    .dataframe tbody tr th:only-of-type {\n",
              "        vertical-align: middle;\n",
              "    }\n",
              "\n",
              "    .dataframe tbody tr th {\n",
              "        vertical-align: top;\n",
              "    }\n",
              "\n",
              "    .dataframe thead th {\n",
              "        text-align: right;\n",
              "    }\n",
              "</style>\n",
              "<table border=\"1\" class=\"dataframe\">\n",
              "  <thead>\n",
              "    <tr style=\"text-align: right;\">\n",
              "      <th></th>\n",
              "      <th>Title</th>\n",
              "      <th>Author</th>\n",
              "      <th>Summary</th>\n",
              "      <th>Subjects</th>\n",
              "      <th>URL</th>\n",
              "    </tr>\n",
              "  </thead>\n",
              "  <tbody>\n",
              "    <tr>\n",
              "      <th>0</th>\n",
              "      <td>Shen Yin Yu</td>\n",
              "      <td>Lü, Kun, 1536-1618</td>\n",
              "      <td>呻吟語\" by Kun Lü is a philosophical treatise wri...</td>\n",
              "      <td>Conduct of life</td>\n",
              "      <td>https://www.gutenberg.org/ebooks/25558</td>\n",
              "    </tr>\n",
              "    <tr>\n",
              "      <th>1</th>\n",
              "      <td>Pride and Prejudice</td>\n",
              "      <td>Austen, Jane, 1775-1817</td>\n",
              "      <td>Pride and Prejudice\" by Jane Austen is a class...</td>\n",
              "      <td>England -- Fiction, Young women -- Fiction, Lo...</td>\n",
              "      <td>https://www.gutenberg.org/ebooks/1342</td>\n",
              "    </tr>\n",
              "    <tr>\n",
              "      <th>2</th>\n",
              "      <td>Moby Dick; Or, The Whale</td>\n",
              "      <td>Melville, Herman, 1819-1891</td>\n",
              "      <td>Moby Dick; Or, The Whale\" by Herman Melville i...</td>\n",
              "      <td>Whaling -- Fiction, Sea stories, Psychological...</td>\n",
              "      <td>https://www.gutenberg.org/ebooks/2701</td>\n",
              "    </tr>\n",
              "    <tr>\n",
              "      <th>3</th>\n",
              "      <td>Frankenstein; Or, The Modern Prometheus</td>\n",
              "      <td>Shelley, Mary Wollstonecraft, 1797-1851</td>\n",
              "      <td>Frankenstein; Or, The Modern Prometheus\" by Ma...</td>\n",
              "      <td>Science fiction, Horror tales, Gothic fiction,...</td>\n",
              "      <td>https://www.gutenberg.org/ebooks/84</td>\n",
              "    </tr>\n",
              "    <tr>\n",
              "      <th>4</th>\n",
              "      <td>Romeo and Juliet</td>\n",
              "      <td>Shakespeare, William, 1564-1616</td>\n",
              "      <td>Romeo and Juliet\" by William Shakespeare is a ...</td>\n",
              "      <td>Vendetta -- Drama, Youth -- Drama, Verona (Ita...</td>\n",
              "      <td>https://www.gutenberg.org/ebooks/1513</td>\n",
              "    </tr>\n",
              "    <tr>\n",
              "      <th>...</th>\n",
              "      <td>...</td>\n",
              "      <td>...</td>\n",
              "      <td>...</td>\n",
              "      <td>...</td>\n",
              "      <td>...</td>\n",
              "    </tr>\n",
              "    <tr>\n",
              "      <th>5994</th>\n",
              "      <td>NaN</td>\n",
              "      <td>NaN</td>\n",
              "      <td>NaN</td>\n",
              "      <td>NaN</td>\n",
              "      <td>https://www.gutenberg.org/browse/authors/b#a32158</td>\n",
              "    </tr>\n",
              "    <tr>\n",
              "      <th>5996</th>\n",
              "      <td>NaN</td>\n",
              "      <td>NaN</td>\n",
              "      <td>NaN</td>\n",
              "      <td>NaN</td>\n",
              "      <td>https://www.gutenberg.org/browse/authors/f#a525</td>\n",
              "    </tr>\n",
              "    <tr>\n",
              "      <th>5997</th>\n",
              "      <td>NaN</td>\n",
              "      <td>NaN</td>\n",
              "      <td>NaN</td>\n",
              "      <td>NaN</td>\n",
              "      <td>https://www.gutenberg.org/browse/authors/p#a7040</td>\n",
              "    </tr>\n",
              "    <tr>\n",
              "      <th>5998</th>\n",
              "      <td>NaN</td>\n",
              "      <td>NaN</td>\n",
              "      <td>NaN</td>\n",
              "      <td>NaN</td>\n",
              "      <td>https://www.gutenberg.org/browse/authors/d#a43202</td>\n",
              "    </tr>\n",
              "    <tr>\n",
              "      <th>5999</th>\n",
              "      <td>NaN</td>\n",
              "      <td>NaN</td>\n",
              "      <td>NaN</td>\n",
              "      <td>NaN</td>\n",
              "      <td>https://www.gutenberg.org/browse/authors/m#a35054</td>\n",
              "    </tr>\n",
              "  </tbody>\n",
              "</table>\n",
              "<p>2377 rows × 5 columns</p>\n",
              "</div>\n",
              "    <div class=\"colab-df-buttons\">\n",
              "\n",
              "  <div class=\"colab-df-container\">\n",
              "    <button class=\"colab-df-convert\" onclick=\"convertToInteractive('df-894d96d1-7de7-4560-ba5c-0011046529f1')\"\n",
              "            title=\"Convert this dataframe to an interactive table.\"\n",
              "            style=\"display:none;\">\n",
              "\n",
              "  <svg xmlns=\"http://www.w3.org/2000/svg\" height=\"24px\" viewBox=\"0 -960 960 960\">\n",
              "    <path d=\"M120-120v-720h720v720H120Zm60-500h600v-160H180v160Zm220 220h160v-160H400v160Zm0 220h160v-160H400v160ZM180-400h160v-160H180v160Zm440 0h160v-160H620v160ZM180-180h160v-160H180v160Zm440 0h160v-160H620v160Z\"/>\n",
              "  </svg>\n",
              "    </button>\n",
              "\n",
              "  <style>\n",
              "    .colab-df-container {\n",
              "      display:flex;\n",
              "      gap: 12px;\n",
              "    }\n",
              "\n",
              "    .colab-df-convert {\n",
              "      background-color: #E8F0FE;\n",
              "      border: none;\n",
              "      border-radius: 50%;\n",
              "      cursor: pointer;\n",
              "      display: none;\n",
              "      fill: #1967D2;\n",
              "      height: 32px;\n",
              "      padding: 0 0 0 0;\n",
              "      width: 32px;\n",
              "    }\n",
              "\n",
              "    .colab-df-convert:hover {\n",
              "      background-color: #E2EBFA;\n",
              "      box-shadow: 0px 1px 2px rgba(60, 64, 67, 0.3), 0px 1px 3px 1px rgba(60, 64, 67, 0.15);\n",
              "      fill: #174EA6;\n",
              "    }\n",
              "\n",
              "    .colab-df-buttons div {\n",
              "      margin-bottom: 4px;\n",
              "    }\n",
              "\n",
              "    [theme=dark] .colab-df-convert {\n",
              "      background-color: #3B4455;\n",
              "      fill: #D2E3FC;\n",
              "    }\n",
              "\n",
              "    [theme=dark] .colab-df-convert:hover {\n",
              "      background-color: #434B5C;\n",
              "      box-shadow: 0px 1px 3px 1px rgba(0, 0, 0, 0.15);\n",
              "      filter: drop-shadow(0px 1px 2px rgba(0, 0, 0, 0.3));\n",
              "      fill: #FFFFFF;\n",
              "    }\n",
              "  </style>\n",
              "\n",
              "    <script>\n",
              "      const buttonEl =\n",
              "        document.querySelector('#df-894d96d1-7de7-4560-ba5c-0011046529f1 button.colab-df-convert');\n",
              "      buttonEl.style.display =\n",
              "        google.colab.kernel.accessAllowed ? 'block' : 'none';\n",
              "\n",
              "      async function convertToInteractive(key) {\n",
              "        const element = document.querySelector('#df-894d96d1-7de7-4560-ba5c-0011046529f1');\n",
              "        const dataTable =\n",
              "          await google.colab.kernel.invokeFunction('convertToInteractive',\n",
              "                                                    [key], {});\n",
              "        if (!dataTable) return;\n",
              "\n",
              "        const docLinkHtml = 'Like what you see? Visit the ' +\n",
              "          '<a target=\"_blank\" href=https://colab.research.google.com/notebooks/data_table.ipynb>data table notebook</a>'\n",
              "          + ' to learn more about interactive tables.';\n",
              "        element.innerHTML = '';\n",
              "        dataTable['output_type'] = 'display_data';\n",
              "        await google.colab.output.renderOutput(dataTable, element);\n",
              "        const docLink = document.createElement('div');\n",
              "        docLink.innerHTML = docLinkHtml;\n",
              "        element.appendChild(docLink);\n",
              "      }\n",
              "    </script>\n",
              "  </div>\n",
              "\n",
              "\n",
              "<div id=\"df-c559a608-0cd8-403a-98ae-f3db6bf95af4\">\n",
              "  <button class=\"colab-df-quickchart\" onclick=\"quickchart('df-c559a608-0cd8-403a-98ae-f3db6bf95af4')\"\n",
              "            title=\"Suggest charts\"\n",
              "            style=\"display:none;\">\n",
              "\n",
              "<svg xmlns=\"http://www.w3.org/2000/svg\" height=\"24px\"viewBox=\"0 0 24 24\"\n",
              "     width=\"24px\">\n",
              "    <g>\n",
              "        <path d=\"M19 3H5c-1.1 0-2 .9-2 2v14c0 1.1.9 2 2 2h14c1.1 0 2-.9 2-2V5c0-1.1-.9-2-2-2zM9 17H7v-7h2v7zm4 0h-2V7h2v10zm4 0h-2v-4h2v4z\"/>\n",
              "    </g>\n",
              "</svg>\n",
              "  </button>\n",
              "\n",
              "<style>\n",
              "  .colab-df-quickchart {\n",
              "      --bg-color: #E8F0FE;\n",
              "      --fill-color: #1967D2;\n",
              "      --hover-bg-color: #E2EBFA;\n",
              "      --hover-fill-color: #174EA6;\n",
              "      --disabled-fill-color: #AAA;\n",
              "      --disabled-bg-color: #DDD;\n",
              "  }\n",
              "\n",
              "  [theme=dark] .colab-df-quickchart {\n",
              "      --bg-color: #3B4455;\n",
              "      --fill-color: #D2E3FC;\n",
              "      --hover-bg-color: #434B5C;\n",
              "      --hover-fill-color: #FFFFFF;\n",
              "      --disabled-bg-color: #3B4455;\n",
              "      --disabled-fill-color: #666;\n",
              "  }\n",
              "\n",
              "  .colab-df-quickchart {\n",
              "    background-color: var(--bg-color);\n",
              "    border: none;\n",
              "    border-radius: 50%;\n",
              "    cursor: pointer;\n",
              "    display: none;\n",
              "    fill: var(--fill-color);\n",
              "    height: 32px;\n",
              "    padding: 0;\n",
              "    width: 32px;\n",
              "  }\n",
              "\n",
              "  .colab-df-quickchart:hover {\n",
              "    background-color: var(--hover-bg-color);\n",
              "    box-shadow: 0 1px 2px rgba(60, 64, 67, 0.3), 0 1px 3px 1px rgba(60, 64, 67, 0.15);\n",
              "    fill: var(--button-hover-fill-color);\n",
              "  }\n",
              "\n",
              "  .colab-df-quickchart-complete:disabled,\n",
              "  .colab-df-quickchart-complete:disabled:hover {\n",
              "    background-color: var(--disabled-bg-color);\n",
              "    fill: var(--disabled-fill-color);\n",
              "    box-shadow: none;\n",
              "  }\n",
              "\n",
              "  .colab-df-spinner {\n",
              "    border: 2px solid var(--fill-color);\n",
              "    border-color: transparent;\n",
              "    border-bottom-color: var(--fill-color);\n",
              "    animation:\n",
              "      spin 1s steps(1) infinite;\n",
              "  }\n",
              "\n",
              "  @keyframes spin {\n",
              "    0% {\n",
              "      border-color: transparent;\n",
              "      border-bottom-color: var(--fill-color);\n",
              "      border-left-color: var(--fill-color);\n",
              "    }\n",
              "    20% {\n",
              "      border-color: transparent;\n",
              "      border-left-color: var(--fill-color);\n",
              "      border-top-color: var(--fill-color);\n",
              "    }\n",
              "    30% {\n",
              "      border-color: transparent;\n",
              "      border-left-color: var(--fill-color);\n",
              "      border-top-color: var(--fill-color);\n",
              "      border-right-color: var(--fill-color);\n",
              "    }\n",
              "    40% {\n",
              "      border-color: transparent;\n",
              "      border-right-color: var(--fill-color);\n",
              "      border-top-color: var(--fill-color);\n",
              "    }\n",
              "    60% {\n",
              "      border-color: transparent;\n",
              "      border-right-color: var(--fill-color);\n",
              "    }\n",
              "    80% {\n",
              "      border-color: transparent;\n",
              "      border-right-color: var(--fill-color);\n",
              "      border-bottom-color: var(--fill-color);\n",
              "    }\n",
              "    90% {\n",
              "      border-color: transparent;\n",
              "      border-bottom-color: var(--fill-color);\n",
              "    }\n",
              "  }\n",
              "</style>\n",
              "\n",
              "  <script>\n",
              "    async function quickchart(key) {\n",
              "      const quickchartButtonEl =\n",
              "        document.querySelector('#' + key + ' button');\n",
              "      quickchartButtonEl.disabled = true;  // To prevent multiple clicks.\n",
              "      quickchartButtonEl.classList.add('colab-df-spinner');\n",
              "      try {\n",
              "        const charts = await google.colab.kernel.invokeFunction(\n",
              "            'suggestCharts', [key], {});\n",
              "      } catch (error) {\n",
              "        console.error('Error during call to suggestCharts:', error);\n",
              "      }\n",
              "      quickchartButtonEl.classList.remove('colab-df-spinner');\n",
              "      quickchartButtonEl.classList.add('colab-df-quickchart-complete');\n",
              "    }\n",
              "    (() => {\n",
              "      let quickchartButtonEl =\n",
              "        document.querySelector('#df-c559a608-0cd8-403a-98ae-f3db6bf95af4 button');\n",
              "      quickchartButtonEl.style.display =\n",
              "        google.colab.kernel.accessAllowed ? 'block' : 'none';\n",
              "    })();\n",
              "  </script>\n",
              "</div>\n",
              "\n",
              "    </div>\n",
              "  </div>\n"
            ],
            "application/vnd.google.colaboratory.intrinsic+json": {
              "type": "dataframe",
              "summary": "{\n  \"name\": \"books_df\",\n  \"rows\": 2377,\n  \"fields\": [\n    {\n      \"column\": \"Title\",\n      \"properties\": {\n        \"dtype\": \"category\",\n        \"num_unique_values\": 1172,\n        \"samples\": [\n          \"El arte de amar\",\n          \"Le comte de Monte-Cristo, Tome I\",\n          \"The Man in the Brown Suit\"\n        ],\n        \"semantic_type\": \"\",\n        \"description\": \"\"\n      }\n    },\n    {\n      \"column\": \"Author\",\n      \"properties\": {\n        \"dtype\": \"category\",\n        \"num_unique_values\": 627,\n        \"samples\": [\n          \"Stratemeyer, Edward, 1862-1930\",\n          \"Lane, Rose Wilder, 1886-1968\",\n          \"Sherman, William T. (William Tecumseh), 1820-1891\"\n        ],\n        \"semantic_type\": \"\",\n        \"description\": \"\"\n      }\n    },\n    {\n      \"column\": \"Summary\",\n      \"properties\": {\n        \"dtype\": \"category\",\n        \"num_unique_values\": 1018,\n        \"samples\": [\n          \"Anne of Avonlea\\\" by L. M. Montgomery is a novel written in the early 20th century. The book continues the story of Anne Shirley as she grows from a spirited orphan into a passionate schoolteacher navigating the complexities of adult life in Avonlea. Themes of friendship, community, and the trials of growing up are woven throughout Anne's experiences as she interacts with both familiar faces and new characters in her quaint rural setting.  At the start of the story, we meet Anne, now sixteen, grappling with her aspirations of becoming an inspiring teacher while facing the challenges of her neighborhood, particularly with their irate new neighbor, Mr. Harrison. Anne's idealism often leads her into amusing troubles, like her encounter with a wayward cow that causes chaos in Mr. Harrison's oatfield. Through humorous exchanges and reflections on her teaching plans, Anne's character is further developed alongside budding subplots involving community improvement efforts and the introduction of new students in her classroom, including the boy Paul Irving, whom she immediately bonds with. The opening sets the stage for Anne's adventures as she embarks on this next chapter of her life, brimming with enthusiasm and charm. \",\n          \"Maggie: A Girl of the Streets\\\" by Stephen Crane is a novel written during the late 19th century. The book explores the harsh realities of urban life, focusing on the struggles of the working class and the impact of environment on individual fate. It centers on Maggie Johnson, a young girl growing up in a tenement in New York City, and her encounters with her turbulent family, social hardships, and the challenges of seeking a better life.  The opening of the novel vividly portrays the violent and chaotic world of Rum Alley, where young boys like Jimmie engage in brutish fights amid a backdrop of neglect and poverty. The initial scene establishes a stark contrast between the prideful yet fragile bravado of the children and the bleakness of their upbringing, reflecting the brutal social conditions of their environment. As the narrative unfolds, we are introduced to Maggie, Jimmie's sister, who, despite her brutal surroundings, aspires for something greater. The early chapters set the stage for the exploration of family dysfunction, societal expectations, and the entrapment faced by characters like Maggie as they strive for dignity and love in a harsh world. \",\n          \"English Synonyms and Antonyms\\\" by James Champlin Fernald is a reference work, likely written in the late 19th century. The book serves as a practical guide aimed at improving clear and precise diction for various audiences, including writers, speakers, students, and professionals. It focuses on the nuanced meanings of synonyms and antonyms, emphasizing the importance of word choice in effective communication.  The opening of the text introduces readers to the rich tapestry of the English language, highlighting its wealth of synonyms derived from various historical influences. Fernald begins by elucidating the book's purpose, which is to empower users with knowledge about the distinctions and applications of numerous synonyms and antonyms, aiding in more refined expressions of thought. He cites the inherent value of synonyms in enriching language, allowing for precision and variety in verbal and written communication. This foundational discussion sets the stage for a systematic exploration of the language tools that follow in the book. \"\n        ],\n        \"semantic_type\": \"\",\n        \"description\": \"\"\n      }\n    },\n    {\n      \"column\": \"Subjects\",\n      \"properties\": {\n        \"dtype\": \"category\",\n        \"num_unique_values\": 1045,\n        \"samples\": [\n          \"Railroads -- Fiction, Country life -- England -- Fiction, England -- Fiction, Family life -- Fiction, Siblings -- Fiction\",\n          \"Feminism, Women's rights -- Great Britain, Women -- Education -- Great Britain, Women -- History -- 19th century\",\n          \"Witchcraft -- New England -- Early works to 1800\"\n        ],\n        \"semantic_type\": \"\",\n        \"description\": \"\"\n      }\n    },\n    {\n      \"column\": \"URL\",\n      \"properties\": {\n        \"dtype\": \"string\",\n        \"num_unique_values\": 2377,\n        \"samples\": [\n          \"https://www.gutenberg.org/ebooks/204\",\n          \"https://www.gutenberg.org/browse/authors/m#a1555\",\n          \"https://www.gutenberg.org/ebooks/55\"\n        ],\n        \"semantic_type\": \"\",\n        \"description\": \"\"\n      }\n    }\n  ]\n}"
            }
          },
          "metadata": {},
          "execution_count": 7
        }
      ]
    },
    {
      "cell_type": "code",
      "source": [
        "filas_con_nulos = books_df.isnull().any(axis=1).sum()\n",
        "if filas_con_nulos > 0:\n",
        "    books_df = books_df.dropna()\n",
        "    print(f\"\\nSe han eliminado {filas_con_nulos} filas que contenían valores nulos.\")"
      ],
      "metadata": {
        "colab": {
          "base_uri": "https://localhost:8080/"
        },
        "id": "zGvXYGQZrxWo",
        "outputId": "62ecf0fb-f873-4cb9-e88e-25c7f2cfe1df"
      },
      "execution_count": 10,
      "outputs": [
        {
          "output_type": "stream",
          "name": "stdout",
          "text": [
            "\n",
            "Se han eliminado 3512 filas que contenían valores nulos.\n"
          ]
        }
      ]
    },
    {
      "cell_type": "markdown",
      "source": [
        "En este caso,limpiaremos la descripcion de cada juego en el dataset de Juegos,el cual tenia varios caracteres o etiquetas que hacian que la salida sea dificil de leer."
      ],
      "metadata": {
        "id": "MilDzglwsNvy"
      }
    },
    {
      "cell_type": "code",
      "source": [
        "def limpiar_descripcion(descripcion):\n",
        "    \"\"\"Función para limpiar y mejorar la descripción del juego.\"\"\"\n",
        "    # Reemplazar caracteres HTML y eliminar etiquetas o frases irrelevantes\n",
        "    descripcion = descripcion.replace('&quot;', '\"').replace('&rsquo;', \"'\").replace('&ldquo;', '\"').replace('&rdquo;', '\"')\n",
        "    descripcion = descripcion.replace('&mdash;', '-').replace('&ndash;', '-').replace('&lsquo;', \"'\").replace('&rsquo;', \"'\")\n",
        "    descripcion = descripcion.replace('description from the publisher', '')\n",
        "\n",
        "    # Si hay etiquetas de autor o editor en la descripción, eliminarlas\n",
        "    frases_irrelevantes = [\"description from the publisher\", \"description from\", \"published by\", \"published as\"]\n",
        "    for frase in frases_irrelevantes:\n",
        "        descripcion = descripcion.replace(frase, '')\n",
        "\n",
        "    # Eliminar exceso de espacios y símbolos\n",
        "    descripcion = ' '.join(descripcion.split())  # Quitar espacios extra\n",
        "\n",
        "    return descripcion\n"
      ],
      "metadata": {
        "id": "kuJvsRukyMDj"
      },
      "execution_count": 11,
      "outputs": []
    },
    {
      "cell_type": "markdown",
      "source": [
        "**CLASIFICADOR CON REGRESION LOGISTICA**"
      ],
      "metadata": {
        "id": "obniaZwPSxg_"
      }
    },
    {
      "cell_type": "markdown",
      "source": [
        "En este caso, utilizamos TF-IDF Vectorizer.\n",
        "Usando dicho modelo de regresión logística para clasificar frases en Alegre, Melancólico o ni fu ni fa.\n",
        "\n"
      ],
      "metadata": {
        "id": "4GSATZZKS2-W"
      }
    },
    {
      "cell_type": "code",
      "source": [
        "nltk.download('stopwords')\n",
        "\n",
        "spanish_stop_words = stopwords.words('spanish')\n",
        "\n",
        "# Etiquetas de estados de ánimo\n",
        "labels = [(0, \"Alegre\"), (1, \"Melancólico\"), (2, \"Ni fu ni fa\")]\n",
        "\n",
        "dataset = [\n",
        "    # Frases de estado de ánimo \"Alegre\"\n",
        "    (0, \"Estoy muy feliz\"),\n",
        "    (0, \"Hoy es un gran día\"),\n",
        "    (0, \"Me siento alegre\"),\n",
        "    (0, \"Es un día increíble\"),\n",
        "    (0, \"Estoy lleno de energía\"),\n",
        "    (0, \"Estoy muy contento hoy\"),\n",
        "    (0, \"Este es un día perfecto\"),\n",
        "    (0, \"Me siento lleno de vida\"),\n",
        "    (0, \"Estoy eufórico\"),\n",
        "    (0, \"Hoy es un día para celebrar\"),\n",
        "    (0, \"Siento mucha alegría en este día\"),\n",
        "    (0, \"Todo es perfecto hoy\"),\n",
        "    (0, \"Me encanta la vida\"),\n",
        "    (0, \"Es un día espectacular para disfrutar\"),\n",
        "    (0, \"Hoy estoy muy entusiasmado\"),\n",
        "    (0, \"Me siento agradecido y optimista\"),\n",
        "    (0, \"Qué día tan brillante y hermoso\"),\n",
        "    (0, \"Estoy exultante de felicidad\"),\n",
        "    (0, \"Todo está saliendo a la perfección\"),\n",
        "    (0, \"Estoy lleno de emociones positivas\"),\n",
        "    (0, \"Siento una gran paz y alegría\"),\n",
        "    (0, \"Hoy es un día lleno de posibilidades\"),\n",
        "    (0, \"Nada puede arruinar mi buen humor\"),\n",
        "    (0, \"Todo se siente más fácil y agradable\"),\n",
        "    (0, \"Es un día maravilloso para vivir\"),\n",
        "    (0, \"Estoy encantado con este día\"),\n",
        "    (0, \"Me siento radiante\"),\n",
        "    (0, \"Este día está lleno de sorpresas agradables\"),\n",
        "    (0, \"Siento que puedo lograr cualquier cosa\"),\n",
        "    (0, \"Hoy es un día para sonreír\"),\n",
        "    (0, \"Estoy disfrutando cada momento\"),\n",
        "    (0, \"Tengo una gran paz interior hoy\"),\n",
        "    (0, \"Este día está lleno de luz\"),\n",
        "    (0, \"Hoy estoy lleno de esperanza\"),\n",
        "    (0, \"Todo parece más hermoso hoy\"),\n",
        "    (0, \"Este es un día para recordar\"),\n",
        "    (0, \"Siento que la vida es un regalo\"),\n",
        "    (0, \"Estoy lleno de motivación y alegría\"),\n",
        "    (0, \"Hoy es un día especial\"),\n",
        "    (0, \"Estoy rodeado de amor y felicidad\"),\n",
        "\n",
        "    # Frases de estado de ánimo \"Melancólico\"\n",
        "    (1, \"Me siento triste\"),\n",
        "    (1, \"Estoy melancólico\"),\n",
        "    (1, \"Hoy estoy nostálgico\"),\n",
        "    (1, \"Me siento deprimido\"),\n",
        "    (1, \"No puedo dejar de pensar en cosas tristes\"),\n",
        "    (1, \"Es un día gris\"),\n",
        "    (1, \"Me siento vacío\"),\n",
        "    (1, \"No tengo ánimos para nada\"),\n",
        "    (1, \"Estoy abatido\"),\n",
        "    (1, \"Todo me parece sombrío\"),\n",
        "    (1, \"Siento una gran tristeza\"),\n",
        "    (1, \"No me gusta este día\"),\n",
        "    (1, \"Es un día muy malo\"),\n",
        "    (1, \"Todo parece estar mal hoy\"),\n",
        "    (1, \"Nada me da consuelo hoy\"),\n",
        "    (1, \"Siento que todo es una carga\"),\n",
        "    (1, \"Estoy atrapado en mis pensamientos\"),\n",
        "    (1, \"No tengo energías para nada\"),\n",
        "    (1, \"Es un día sin color ni esperanza\"),\n",
        "    (1, \"Nada me hace sonreír hoy\"),\n",
        "    (1, \"No encuentro alegría en nada\"),\n",
        "    (1, \"Es un día de pura tristeza y soledad\"),\n",
        "    (1, \"Siento un vacío muy profundo\"),\n",
        "    (1, \"Nada tiene sentido hoy\"),\n",
        "    (1, \"Me siento como una sombra\"),\n",
        "    (1, \"Todo está en mi contra hoy\"),\n",
        "    (1, \"Siento que estoy solo\"),\n",
        "    (1, \"Es un día sin propósito\"),\n",
        "    (1, \"Estoy agobiado por la tristeza\"),\n",
        "    (1, \"Siento que me falta algo\"),\n",
        "    (1, \"Hoy no encuentro paz\"),\n",
        "    (1, \"Es un día para olvidar\"),\n",
        "    (1, \"Me siento desconectado del mundo\"),\n",
        "    (1, \"Es como si todo pesara más hoy\"),\n",
        "    (1, \"No puedo escapar de esta sensación\"),\n",
        "    (1, \"Este día solo trae recuerdos amargos\"),\n",
        "    (1, \"Me siento incompleto y perdido\"),\n",
        "    (1, \"No tengo fuerzas para continuar\"),\n",
        "    (1, \"Es un día lleno de desesperanza\"),\n",
        "    (1, \"Mi corazón está apesadumbrado\"),\n",
        "    (1, \"Este día solo trae desilusión\"),\n",
        "\n",
        "    # Frases de estado de ánimo \"Ni fu ni fa\"\n",
        "    (2, \"No tengo ganas de hacer nada\"),\n",
        "    (2, \"Me siento neutral\"),\n",
        "    (2, \"Estoy cansado\"),\n",
        "    (2, \"Me da igual lo que pase\"),\n",
        "    (2, \"No me importa nada hoy\"),\n",
        "    (2, \"Estoy indiferente\"),\n",
        "    (2, \"No siento ni alegría ni tristeza\"),\n",
        "    (2, \"Hoy es un día normal\"),\n",
        "    (2, \"Estoy aburrido\"),\n",
        "    (2, \"Nada me parece interesante\"),\n",
        "    (2, \"No sé cómo me siento\"),\n",
        "    (2, \"Todo está igual que siempre\"),\n",
        "    (2, \"Nada especial sucede hoy\"),\n",
        "    (2, \"Es un día cualquiera\"),\n",
        "    (2, \"Hoy me siento indiferente a todo\"),\n",
        "    (2, \"Simplemente no siento nada\"),\n",
        "    (2, \"Es uno de esos días sin nada nuevo\"),\n",
        "    (2, \"Ni me siento bien ni mal\"),\n",
        "    (2, \"Nada me motiva particularmente\"),\n",
        "    (2, \"Es un día más, sin nada que contar\"),\n",
        "    (2, \"No tengo emociones intensas hoy\"),\n",
        "    (2, \"Hoy no pasa nada fuera de lo común\"),\n",
        "    (2, \"Es un día bastante monótono\"),\n",
        "    (2, \"Todo está en el mismo estado de siempre\"),\n",
        "    (2, \"Ni estoy triste ni contento, simplemente estoy\"),\n",
        "    (2, \"Hoy no tengo ni energía ni ánimos\"),\n",
        "    (2, \"Nada sobresaliente en este día\"),\n",
        "    (2, \"Estoy en piloto automático hoy\"),\n",
        "    (2, \"Hoy no hay nada que me anime\"),\n",
        "    (2, \"Es un día ordinario y sin sorpresas\"),\n",
        "    (2, \"Estoy en mi estado habitual\"),\n",
        "    (2, \"Hoy no tengo ninguna expectativa\"),\n",
        "    (2, \"No espero nada especial hoy\"),\n",
        "    (2, \"Es un día como cualquier otro\"),\n",
        "    (2, \"Nada parece fuera de lo común\"),\n",
        "    (2, \"Hoy solo estoy existiendo\"),\n",
        "    (2, \"No hay nada excitante en este día\"),\n",
        "    (2, \"Me siento completamente neutral\"),\n",
        "    (2, \"Hoy es simplemente un día más\"),\n",
        "    (2, \"Nada parece cambiar hoy\"),\n",
        "]\n",
        "\n",
        "# Preparar X (frases) e y (etiquetas de estados de ánimo)\n",
        "X = [text.lower() for label, text in dataset]\n",
        "y = [label for label, text in dataset]\n",
        "\n",
        "# Dividir el dataset en entrenamiento y prueba\n",
        "X_train, X_test, y_train, y_test = train_test_split(X, y, test_size=0.2, random_state=42)\n",
        "\n",
        "# Vectorización del texto con TF-IDF, eliminando palabras vacías y usando bigramas\n",
        "vectorizer = TfidfVectorizer(stop_words=spanish_stop_words, ngram_range=(1, 2))\n",
        "X_train_vectorized = vectorizer.fit_transform(X_train)\n",
        "X_test_vectorized = vectorizer.transform(X_test)\n",
        "\n",
        "# Crear y entrenar el modelo de Regresión Logística con balance de clases\n",
        "modelo_LR = LogisticRegression(max_iter=1000, multi_class='multinomial', solver='lbfgs', class_weight='balanced')\n",
        "modelo_LR.fit(X_train_vectorized, y_train)\n",
        "\n",
        "# Evaluar el modelo con el conjunto de prueba\n",
        "y_pred_LR = modelo_LR.predict(X_test_vectorized)\n",
        "acc_LR = accuracy_score(y_test, y_pred_LR)\n",
        "report_LR = classification_report(y_test, y_pred_LR, zero_division=1)\n",
        "\n",
        "print(\"Precisión Regresión Logística:\", acc_LR)\n",
        "print(\"Reporte de clasificación Regresión Logística:\\n\", report_LR)\n"
      ],
      "metadata": {
        "colab": {
          "base_uri": "https://localhost:8080/"
        },
        "id": "rf5CfiPcPDXS",
        "outputId": "7ba94839-0e46-49d5-f6a7-d3b9f74b4aa9"
      },
      "execution_count": 21,
      "outputs": [
        {
          "output_type": "stream",
          "name": "stdout",
          "text": [
            "Precisión Regresión Logística: 0.56\n",
            "Reporte de clasificación Regresión Logística:\n",
            "               precision    recall  f1-score   support\n",
            "\n",
            "           0       0.71      0.62      0.67         8\n",
            "           1       0.71      0.45      0.56        11\n",
            "           2       0.36      0.67      0.47         6\n",
            "\n",
            "    accuracy                           0.56        25\n",
            "   macro avg       0.60      0.58      0.56        25\n",
            "weighted avg       0.63      0.56      0.57        25\n",
            "\n"
          ]
        },
        {
          "output_type": "stream",
          "name": "stderr",
          "text": [
            "[nltk_data] Downloading package stopwords to /root/nltk_data...\n",
            "[nltk_data]   Package stopwords is already up-to-date!\n",
            "/usr/local/lib/python3.10/dist-packages/sklearn/linear_model/_logistic.py:1247: FutureWarning: 'multi_class' was deprecated in version 1.5 and will be removed in 1.7. From then on, it will always use 'multinomial'. Leave it to its default value to avoid this warning.\n",
            "  warnings.warn(\n"
          ]
        }
      ]
    },
    {
      "cell_type": "markdown",
      "source": [
        "Contamos con un accuracy del 56% ,como podemos ver el modelo no tiene muy buenas metricas."
      ],
      "metadata": {
        "id": "k-9QMeVzlBZU"
      }
    },
    {
      "cell_type": "markdown",
      "source": [
        "Probamos el modelo de clasificación:"
      ],
      "metadata": {
        "id": "u47EjmnWlYCG"
      }
    },
    {
      "cell_type": "code",
      "source": [
        "def predict_mood(user_input):\n",
        "    user_input_vectorized = vectorizer.transform([user_input.lower()])\n",
        "    mood_label = modelo_LR.predict(user_input_vectorized)[0]\n",
        "    return labels[mood_label][1]\n",
        "\n",
        "\n",
        "# Nuevas frases más distintas para probar el modelo\n",
        "nuevas_frases = [\n",
        "    \"No puedo evitar sentir una gran tristeza hoy\",  # Debería ser \"Melancólico\"\n",
        "    \"Siento que este es uno de los mejores días de mi vida\",  # Debería ser \"Alegre\"\n",
        "    \"Hoy todo me da lo mismo, nada me interesa realmente\",  # Debería ser \"Ni fu ni fa\"\n",
        "    \"No sé qué hacer, pero no estoy ni triste ni feliz\",  # Debería ser \"Ni fu ni fa\"\n",
        "    \"Me siento increíblemente emocionado y lleno de energía\",  # Debería ser \"Alegre\"\n",
        "    \"Todo parece gris y no veo nada que me anime\",  # Debería ser \"Melancólico\"\n",
        "    \"Este día está siendo tan normal como cualquier otro\",  # Debería ser \"Ni fu ni fa\"\n",
        "    \"No hay nada que me entusiasme, es como si estuviera vacío\",  # Debería ser \"Melancólico\"\n",
        "    \"Estoy muy agradecido por todo, este día es fantástico\",  # Debería ser \"Alegre\"\n",
        "    \"Hoy no me pasa nada en particular, no siento ni tristeza ni alegría\"  # Debería ser \"Ni fu ni fa\"\n",
        "]\n",
        "\n",
        "# Predecir los estados de ánimo para las nuevas frases\n",
        "for frase in nuevas_frases:\n",
        "    print(f\"La frase '{frase}' tiene el estado de ánimo: {predict_mood(frase)}\")\n"
      ],
      "metadata": {
        "colab": {
          "base_uri": "https://localhost:8080/"
        },
        "id": "QrCU_Iq8P63A",
        "outputId": "5c7fb7e3-16ec-463d-f923-c6e61ea33d05"
      },
      "execution_count": 22,
      "outputs": [
        {
          "output_type": "stream",
          "name": "stdout",
          "text": [
            "La frase 'No puedo evitar sentir una gran tristeza hoy' tiene el estado de ánimo: Melancólico\n",
            "La frase 'Siento que este es uno de los mejores días de mi vida' tiene el estado de ánimo: Alegre\n",
            "La frase 'Hoy todo me da lo mismo, nada me interesa realmente' tiene el estado de ánimo: Ni fu ni fa\n",
            "La frase 'No sé qué hacer, pero no estoy ni triste ni feliz' tiene el estado de ánimo: Ni fu ni fa\n",
            "La frase 'Me siento increíblemente emocionado y lleno de energía' tiene el estado de ánimo: Alegre\n",
            "La frase 'Todo parece gris y no veo nada que me anime' tiene el estado de ánimo: Ni fu ni fa\n",
            "La frase 'Este día está siendo tan normal como cualquier otro' tiene el estado de ánimo: Ni fu ni fa\n",
            "La frase 'No hay nada que me entusiasme, es como si estuviera vacío' tiene el estado de ánimo: Melancólico\n",
            "La frase 'Estoy muy agradecido por todo, este día es fantástico' tiene el estado de ánimo: Alegre\n",
            "La frase 'Hoy no me pasa nada en particular, no siento ni tristeza ni alegría' tiene el estado de ánimo: Ni fu ni fa\n"
          ]
        }
      ]
    },
    {
      "cell_type": "markdown",
      "source": [
        "**EN ESTE CASO, UTILIZAMOS SENTENCE TRANSFORMER**"
      ],
      "metadata": {
        "id": "nl9dIO0uT9pm"
      }
    },
    {
      "cell_type": "markdown",
      "source": [
        "Entrenamos un modelo de clasificación (de estado de ánimo) pero en este caso, utilizando embeddings generados por el modelo de SentenceTransformer."
      ],
      "metadata": {
        "id": "DwW21sx1lovf"
      }
    },
    {
      "cell_type": "code",
      "source": [
        "\n",
        "model = SentenceTransformer('sentence-transformers/paraphrase-multilingual-MiniLM-L12-v2')\n",
        "\n",
        "labels = [(0, \"Alegre\"), (1, \"Melancólico\"), (2, \"Ni fu ni fa\")]\n",
        "\n",
        "\n",
        "dataset = [\n",
        "    # Frases de estado de ánimo \"Alegre\"\n",
        "    (0, \"Estoy muy feliz\"),\n",
        "    (0, \"Hoy es un gran día\"),\n",
        "    (0, \"Me siento alegre\"),\n",
        "    (0, \"Es un día increíble\"),\n",
        "    (0, \"Estoy lleno de energía\"),\n",
        "    (0, \"Estoy muy contento hoy\"),\n",
        "    (0, \"Este es un día perfecto\"),\n",
        "    (0, \"Me siento lleno de vida\"),\n",
        "    (0, \"Estoy eufórico\"),\n",
        "    (0, \"Hoy es un día para celebrar\"),\n",
        "    (0, \"Siento mucha alegría en este día\"),\n",
        "    (0, \"Todo es perfecto hoy\"),\n",
        "    (0, \"Me encanta la vida\"),\n",
        "    (0, \"Es un día espectacular para disfrutar\"),\n",
        "    (0, \"Hoy estoy muy entusiasmado\"),\n",
        "    (0, \"Me siento agradecido y optimista\"),\n",
        "    (0, \"Qué día tan brillante y hermoso\"),\n",
        "    (0, \"Estoy exultante de felicidad\"),\n",
        "    (0, \"Todo está saliendo a la perfección\"),\n",
        "    (0, \"Estoy lleno de emociones positivas\"),\n",
        "    (0, \"Siento una gran paz y alegría\"),\n",
        "    (0, \"Hoy es un día lleno de posibilidades\"),\n",
        "    (0, \"Nada puede arruinar mi buen humor\"),\n",
        "    (0, \"Todo se siente más fácil y agradable\"),\n",
        "    (0, \"Es un día maravilloso para vivir\"),\n",
        "    (0, \"Estoy encantado con este día\"),\n",
        "    (0, \"Me siento radiante\"),\n",
        "    (0, \"Este día está lleno de sorpresas agradables\"),\n",
        "    (0, \"Siento que puedo lograr cualquier cosa\"),\n",
        "    (0, \"Hoy es un día para sonreír\"),\n",
        "    (0, \"Estoy disfrutando cada momento\"),\n",
        "    (0, \"Tengo una gran paz interior hoy\"),\n",
        "    (0, \"Este día está lleno de luz\"),\n",
        "    (0, \"Hoy estoy lleno de esperanza\"),\n",
        "    (0, \"Todo parece más hermoso hoy\"),\n",
        "    (0, \"Este es un día para recordar\"),\n",
        "    (0, \"Siento que la vida es un regalo\"),\n",
        "    (0, \"Estoy lleno de motivación y alegría\"),\n",
        "    (0, \"Hoy es un día especial\"),\n",
        "    (0, \"Estoy rodeado de amor y felicidad\"),\n",
        "\n",
        "    # Frases de estado de ánimo \"Melancólico\"\n",
        "    (1, \"Me siento triste\"),\n",
        "    (1, \"Estoy melancólico\"),\n",
        "    (1, \"Hoy estoy nostálgico\"),\n",
        "    (1, \"Me siento deprimido\"),\n",
        "    (1, \"No puedo dejar de pensar en cosas tristes\"),\n",
        "    (1, \"Es un día gris\"),\n",
        "    (1, \"Me siento vacío\"),\n",
        "    (1, \"No tengo ánimos para nada\"),\n",
        "    (1, \"Estoy abatido\"),\n",
        "    (1, \"Todo me parece sombrío\"),\n",
        "    (1, \"Siento una gran tristeza\"),\n",
        "    (1, \"No me gusta este día\"),\n",
        "    (1, \"Es un día muy malo\"),\n",
        "    (1, \"Todo parece estar mal hoy\"),\n",
        "    (1, \"Nada me da consuelo hoy\"),\n",
        "    (1, \"Siento que todo es una carga\"),\n",
        "    (1, \"Estoy atrapado en mis pensamientos\"),\n",
        "    (1, \"No tengo energías para nada\"),\n",
        "    (1, \"Es un día sin color ni esperanza\"),\n",
        "    (1, \"Nada me hace sonreír hoy\"),\n",
        "    (1, \"No encuentro alegría en nada\"),\n",
        "    (1, \"Es un día de pura tristeza y soledad\"),\n",
        "    (1, \"Siento un vacío muy profundo\"),\n",
        "    (1, \"Nada tiene sentido hoy\"),\n",
        "    (1, \"Me siento como una sombra\"),\n",
        "    (1, \"Todo está en mi contra hoy\"),\n",
        "    (1, \"Siento que estoy solo\"),\n",
        "    (1, \"Es un día sin propósito\"),\n",
        "    (1, \"Estoy agobiado por la tristeza\"),\n",
        "    (1, \"Siento que me falta algo\"),\n",
        "    (1, \"Hoy no encuentro paz\"),\n",
        "    (1, \"Es un día para olvidar\"),\n",
        "    (1, \"Me siento desconectado del mundo\"),\n",
        "    (1, \"Es como si todo pesara más hoy\"),\n",
        "    (1, \"No puedo escapar de esta sensación\"),\n",
        "    (1, \"Este día solo trae recuerdos amargos\"),\n",
        "    (1, \"Me siento incompleto y perdido\"),\n",
        "    (1, \"No tengo fuerzas para continuar\"),\n",
        "    (1, \"Es un día lleno de desesperanza\"),\n",
        "    (1, \"Mi corazón está apesadumbrado\"),\n",
        "    (1, \"Este día solo trae desilusión\"),\n",
        "\n",
        "    # Frases de estado de ánimo \"Ni fu ni fa\"\n",
        "    (2, \"No tengo ganas de hacer nada\"),\n",
        "    (2, \"Me siento neutral\"),\n",
        "    (2, \"Estoy cansado\"),\n",
        "    (2, \"Me da igual lo que pase\"),\n",
        "    (2, \"No me importa nada hoy\"),\n",
        "    (2, \"Estoy indiferente\"),\n",
        "    (2, \"No siento ni alegría ni tristeza\"),\n",
        "    (2, \"Hoy es un día normal\"),\n",
        "    (2, \"Estoy aburrido\"),\n",
        "    (2, \"Nada me parece interesante\"),\n",
        "    (2, \"No sé cómo me siento\"),\n",
        "    (2, \"Todo está igual que siempre\"),\n",
        "    (2, \"Nada especial sucede hoy\"),\n",
        "    (2, \"Es un día cualquiera\"),\n",
        "    (2, \"Hoy me siento indiferente a todo\"),\n",
        "    (2, \"Simplemente no siento nada\"),\n",
        "    (2, \"Es uno de esos días sin nada nuevo\"),\n",
        "    (2, \"Ni me siento bien ni mal\"),\n",
        "    (2, \"Nada me motiva particularmente\"),\n",
        "    (2, \"Es un día más, sin nada que contar\"),\n",
        "    (2, \"No tengo emociones intensas hoy\"),\n",
        "    (2, \"Hoy no pasa nada fuera de lo común\"),\n",
        "    (2, \"Es un día bastante monótono\"),\n",
        "    (2, \"Todo está en el mismo estado de siempre\"),\n",
        "    (2, \"Ni estoy triste ni contento, simplemente estoy\"),\n",
        "    (2, \"Hoy no tengo ni energía ni ánimos\"),\n",
        "    (2, \"Nada sobresaliente en este día\"),\n",
        "    (2, \"Estoy en piloto automático hoy\"),\n",
        "    (2, \"Hoy no hay nada que me anime\"),\n",
        "    (2, \"Es un día ordinario y sin sorpresas\"),\n",
        "    (2, \"Estoy en mi estado habitual\"),\n",
        "    (2, \"Hoy no tengo ninguna expectativa\"),\n",
        "    (2, \"No espero nada especial hoy\"),\n",
        "    (2, \"Es un día como cualquier otro\"),\n",
        "    (2, \"Nada parece fuera de lo común\"),\n",
        "    (2, \"Hoy solo estoy existiendo\"),\n",
        "    (2, \"No hay nada excitante en este día\"),\n",
        "    (2, \"Me siento completamente neutral\"),\n",
        "    (2, \"Hoy es simplemente un día más\"),\n",
        "    (2, \"Nada parece cambiar hoy\"),\n",
        "]\n",
        "\n",
        "# Preparar X (frases) e y (etiquetas de estados de ánimo)\n",
        "X = [text.lower() for label, text in dataset]\n",
        "y = [label for label, text in dataset]\n",
        "\n",
        "# Generar los embeddings para las frases usando el modelo preentrenado\n",
        "X_embeddings = model.encode(X)\n",
        "\n",
        "# Dividir el dataset en entrenamiento y prueba\n",
        "X_train, X_test, y_train, y_test = train_test_split(X_embeddings, y, test_size=0.2, random_state=42)\n",
        "\n",
        "# Crear y entrenar el modelo de Regresión Logística\n",
        "modelo_LR = LogisticRegression(max_iter=1000, multi_class='multinomial', solver='lbfgs', class_weight='balanced')\n",
        "modelo_LR.fit(X_train, y_train)\n",
        "\n",
        "# Evaluación del modelo\n",
        "y_pred_LR = modelo_LR.predict(X_test)\n",
        "acc_LR = accuracy_score(y_test, y_pred_LR)\n",
        "report_LR = classification_report(y_test, y_pred_LR, zero_division=1)\n",
        "print(\"Precisión Regresión Logística:\", acc_LR)\n",
        "print(\"Reporte de clasificación Regresión Logística:\\n\", report_LR)"
      ],
      "metadata": {
        "colab": {
          "base_uri": "https://localhost:8080/"
        },
        "id": "C-H8A1w4SJRD",
        "outputId": "74655a93-53a9-4643-a8ee-81cf985b22f1"
      },
      "execution_count": 23,
      "outputs": [
        {
          "output_type": "stream",
          "name": "stderr",
          "text": [
            "/usr/local/lib/python3.10/dist-packages/transformers/tokenization_utils_base.py:1601: FutureWarning: `clean_up_tokenization_spaces` was not set. It will be set to `True` by default. This behavior will be depracted in transformers v4.45, and will be then set to `False` by default. For more details check this issue: https://github.com/huggingface/transformers/issues/31884\n",
            "  warnings.warn(\n"
          ]
        },
        {
          "output_type": "stream",
          "name": "stdout",
          "text": [
            "Precisión Regresión Logística: 0.88\n",
            "Reporte de clasificación Regresión Logística:\n",
            "               precision    recall  f1-score   support\n",
            "\n",
            "           0       1.00      1.00      1.00         8\n",
            "           1       1.00      0.73      0.84        11\n",
            "           2       0.67      1.00      0.80         6\n",
            "\n",
            "    accuracy                           0.88        25\n",
            "   macro avg       0.89      0.91      0.88        25\n",
            "weighted avg       0.92      0.88      0.88        25\n",
            "\n"
          ]
        },
        {
          "output_type": "stream",
          "name": "stderr",
          "text": [
            "/usr/local/lib/python3.10/dist-packages/sklearn/linear_model/_logistic.py:1247: FutureWarning: 'multi_class' was deprecated in version 1.5 and will be removed in 1.7. From then on, it will always use 'multinomial'. Leave it to its default value to avoid this warning.\n",
            "  warnings.warn(\n"
          ]
        }
      ]
    },
    {
      "cell_type": "markdown",
      "source": [
        "La precisión obtenida en dicho modelo es del 88%, siendo ese porcentaje de las prediciones realizadas de forma correcta. Probamos con 50 datos de entrenamiento para cada categoria,pero misteriosamente las metricas empeoraron,por lo tanto dejamos 40 datos de entrenamiento por cada categoria."
      ],
      "metadata": {
        "id": "T9QglYXznc9I"
      }
    },
    {
      "cell_type": "markdown",
      "source": [
        "Prueba del modelo:"
      ],
      "metadata": {
        "id": "bV6T4t44mMkC"
      }
    },
    {
      "cell_type": "code",
      "source": [
        "def predict_mood_st(user_input):\n",
        "    user_input_embedding = model.encode([user_input.lower()])\n",
        "    mood_label = modelo_LR.predict(user_input_embedding)[0]\n",
        "    return labels[mood_label][1]\n",
        "\n",
        "\n",
        "nuevas_frases = [\n",
        "    \"No puedo evitar sentir una gran tristeza hoy\",  # Debería ser \"Melancólico\"\n",
        "    \"Siento que este es uno de los mejores días de mi vida\",  # Debería ser \"Alegre\"\n",
        "    \"Hoy todo me da lo mismo, nada me interesa realmente\",  # Debería ser \"Ni fu ni fa\"\n",
        "    \"No sé qué hacer, pero no estoy ni triste ni feliz\",  # Debería ser \"Ni fu ni fa\"\n",
        "    \"Me siento increíblemente emocionado y lleno de energía\",  # Debería ser \"Alegre\"\n",
        "    \"Todo parece gris y no veo nada que me anime\",  # Debería ser \"Melancólico\"\n",
        "    \"Este día está siendo tan normal como cualquier otro\",  # Debería ser \"Ni fu ni fa\"\n",
        "    \"No hay nada que me entusiasme, es como si estuviera vacío\",  # Debería ser \"Melancólico\"\n",
        "    \"Estoy muy agradecido por todo, este día es fantástico\",  # Debería ser \"Alegre\"\n",
        "    \"Hoy no me pasa nada en particular, no siento ni tristeza ni alegría\"  # Debería ser \"Ni fu ni fa\"\n",
        "]\n",
        "\n",
        "\n",
        "for frase in nuevas_frases:\n",
        "    print(f\"La frase '{frase}' tiene el estado de ánimo: {predict_mood_st(frase)}\")"
      ],
      "metadata": {
        "colab": {
          "base_uri": "https://localhost:8080/"
        },
        "id": "pG2Qj4TASpum",
        "outputId": "158f117d-475d-4c16-8e66-d9eeaff4430b"
      },
      "execution_count": 24,
      "outputs": [
        {
          "output_type": "stream",
          "name": "stdout",
          "text": [
            "La frase 'No puedo evitar sentir una gran tristeza hoy' tiene el estado de ánimo: Melancólico\n",
            "La frase 'Siento que este es uno de los mejores días de mi vida' tiene el estado de ánimo: Alegre\n",
            "La frase 'Hoy todo me da lo mismo, nada me interesa realmente' tiene el estado de ánimo: Ni fu ni fa\n",
            "La frase 'No sé qué hacer, pero no estoy ni triste ni feliz' tiene el estado de ánimo: Ni fu ni fa\n",
            "La frase 'Me siento increíblemente emocionado y lleno de energía' tiene el estado de ánimo: Alegre\n",
            "La frase 'Todo parece gris y no veo nada que me anime' tiene el estado de ánimo: Ni fu ni fa\n",
            "La frase 'Este día está siendo tan normal como cualquier otro' tiene el estado de ánimo: Ni fu ni fa\n",
            "La frase 'No hay nada que me entusiasme, es como si estuviera vacío' tiene el estado de ánimo: Ni fu ni fa\n",
            "La frase 'Estoy muy agradecido por todo, este día es fantástico' tiene el estado de ánimo: Alegre\n",
            "La frase 'Hoy no me pasa nada en particular, no siento ni tristeza ni alegría' tiene el estado de ánimo: Ni fu ni fa\n"
          ]
        }
      ]
    },
    {
      "cell_type": "markdown",
      "source": [
        "Como podemos ver, con SentenceTransformer, el modelo tiene mejores métricas.\n",
        "\n"
      ],
      "metadata": {
        "id": "XwrfdF6VSdoO"
      }
    },
    {
      "cell_type": "markdown",
      "source": [
        "Vamos a buscar extraer entidades nombradas de textos en español para que las recomendaciones sean mas precisas."
      ],
      "metadata": {
        "id": "9HF6Nhoio5Mc"
      }
    },
    {
      "cell_type": "code",
      "source": [
        "\n",
        "nltk.download('stopwords')\n",
        "\n",
        "# Obtener las stopwords en español\n",
        "spanish_stop_words = stopwords.words('spanish')\n"
      ],
      "metadata": {
        "colab": {
          "base_uri": "https://localhost:8080/"
        },
        "id": "uxl1nZVtXbbo",
        "outputId": "83e28b2b-2e30-40f7-b05f-72cf6d398986"
      },
      "execution_count": 25,
      "outputs": [
        {
          "output_type": "stream",
          "name": "stderr",
          "text": [
            "[nltk_data] Downloading package stopwords to /root/nltk_data...\n",
            "[nltk_data]   Package stopwords is already up-to-date!\n"
          ]
        }
      ]
    },
    {
      "cell_type": "code",
      "source": [
        "nlp = spacy.load('es_core_news_md')\n",
        "\n",
        "def extraer_entidades(texto):\n",
        "    doc = nlp(texto)\n",
        "    entidades = [(ent.text, ent.label_) for ent in doc.ents]\n",
        "    return entidades\n",
        "\n",
        "# Ejemplo de uso de la función de extracción de entidades\n",
        "frase_usuario = \"Quiero ver una historia de amor en París con personajes como Napoleón\"\n",
        "entidades = extraer_entidades(frase_usuario)\n",
        "print(\"Entidades nombradas extraídas:\", entidades)\n"
      ],
      "metadata": {
        "colab": {
          "base_uri": "https://localhost:8080/"
        },
        "id": "KWbYnT3lVRxv",
        "outputId": "35bcef0d-ec05-4742-c72a-f5867c333189"
      },
      "execution_count": 26,
      "outputs": [
        {
          "output_type": "stream",
          "name": "stdout",
          "text": [
            "Entidades nombradas extraídas: [('París', 'LOC'), ('Napoleón', 'PER')]\n"
          ]
        }
      ]
    },
    {
      "cell_type": "markdown",
      "source": [
        "Definimos una función para que cuando los usuarios ingresen sus preferencias o intereses sobre un tema específico se extraigan las entidades."
      ],
      "metadata": {
        "id": "JkETbVi4phjJ"
      }
    },
    {
      "cell_type": "code",
      "source": [
        "# Ajustar la función para extraer preferencias y entidades\n",
        "def ingresar_preferencias(preferencia_usuario):\n",
        "    entidades = extraer_entidades(preferencia_usuario)\n",
        "    if entidades:\n",
        "        print(f\"Entidades nombradas detectadas: {entidades}\")\n",
        "    return preferencia_usuario, entidades"
      ],
      "metadata": {
        "id": "zr1rmYpnWu40"
      },
      "execution_count": 27,
      "outputs": []
    },
    {
      "cell_type": "markdown",
      "source": [
        "**APLICACION**"
      ],
      "metadata": {
        "id": "CYLkoQ-SoKqy"
      }
    },
    {
      "cell_type": "markdown",
      "source": [
        "Para la clasificacion del estado de animo utilizaremos el modelo realizado con SentenceTransformer ya que fue el que mejor metricas nos dio. A su vez,para realizar los embeddings de los datos utilizaremos tambien SentenceTransformers."
      ],
      "metadata": {
        "id": "rosv_94ooo-x"
      }
    },
    {
      "cell_type": "code",
      "source": [
        "from sentence_transformers import SentenceTransformer\n",
        "from sklearn.metrics.pairwise import cosine_similarity\n",
        "\n",
        "model = SentenceTransformer('sentence-transformers/paraphrase-multilingual-MiniLM-L12-v2')\n",
        "\n",
        "# Procesar los datos y generar embeddings para cada categoría\n",
        "board_games_df['combined_text'] = (board_games_df['description'] + ' ' + board_games_df['categories']).fillna('')\n",
        "movies_df['combined_text'] = (movies_df['Description'] + ' ' + movies_df['Genre'] + ' ' + movies_df['Actors']).fillna('')\n",
        "books_df['combined_text'] = (books_df['Summary'] + ' ' + books_df['Author'] + ' ' + books_df['Subjects']).fillna('')\n",
        "\n",
        "board_games_df['embeddings'] = list(model.encode(board_games_df['combined_text'].tolist()))\n",
        "movies_df['embeddings'] = list(model.encode(movies_df['combined_text'].tolist()))\n",
        "books_df['embeddings'] = list(model.encode(books_df['combined_text'].tolist()))\n",
        "\n",
        "def recomendar(input_estado_animo, estado_de_animo, input_tematica):\n",
        "    # Extraer entidades de la temática ingresada por el usuario\n",
        "    input_tematica, entidades = ingresar_preferencias(input_tematica)\n",
        "\n",
        "    # Crear una frase de entrada más completa con las entidades detectadas\n",
        "    total_input = input_estado_animo + ' ' + estado_de_animo + ' ' + input_tematica\n",
        "    if entidades:\n",
        "        total_input += ' ' + ' '.join([ent[0] for ent in entidades])\n",
        "\n",
        "    print(f\"Buscando recomendaciones para: {input_tematica} con contexto adicional de entidades\")\n",
        "\n",
        "    vector_comparar = model.encode(total_input)\n",
        "\n",
        "    # Calcular similitudes para cada dataset\n",
        "    similitudes_juegos = cosine_similarity([vector_comparar], board_games_df['embeddings'].tolist())\n",
        "    similitudes_peliculas = cosine_similarity([vector_comparar], movies_df['embeddings'].tolist())\n",
        "    similitudes_libros = cosine_similarity([vector_comparar], books_df['embeddings'].tolist())\n",
        "\n",
        "    # Obtener los índices de las tres recomendaciones más similares para cada categoría\n",
        "    top_indices_juegos = similitudes_juegos[0].argsort()[-3:][::-1]\n",
        "    top_indices_peliculas = similitudes_peliculas[0].argsort()[-3:][::-1]\n",
        "\n",
        "    # Obtener los índices de las cinco recomendaciones más similares para libros\n",
        "    num_initial_recommendations = 5\n",
        "    top_indices_libros = similitudes_libros[0].argsort()[-num_initial_recommendations:][::-1]\n",
        "\n",
        "    seen_titles = set()\n",
        "    recomendaciones_libros = []\n",
        "\n",
        "    # Filtrar títulos únicos hasta obtener tres recomendaciones\n",
        "    for index in top_indices_libros:\n",
        "        titulo = books_df.iloc[index]['Title']\n",
        "        if titulo not in seen_titles:\n",
        "            recomendaciones_libros.append({'Titulo': titulo, 'Summary': books_df.iloc[index]['Summary']})\n",
        "            seen_titles.add(titulo)\n",
        "        if len(recomendaciones_libros) >= 3:\n",
        "            break\n",
        "\n",
        "    # Si no se obtuvieron suficientes libros, buscar más\n",
        "    if len(recomendaciones_libros) < 3:\n",
        "        all_indices = similitudes_libros[0].argsort()[::-1]\n",
        "        for index in all_indices:\n",
        "            titulo = books_df.iloc[index]['Title']\n",
        "            if titulo not in seen_titles:\n",
        "                recomendaciones_libros.append({'Titulo': titulo, 'Summary': books_df.iloc[index]['Summary']})\n",
        "                seen_titles.add(titulo)\n",
        "            if len(recomendaciones_libros) >= 3:\n",
        "                break\n",
        "\n",
        "    recomendaciones_juegos = [\n",
        "        {'Titulo': board_games_df.iloc[index]['game_name'], 'Summary': limpiar_descripcion(board_games_df.iloc[index]['description'])}\n",
        "        for index in top_indices_juegos\n",
        "    ]\n",
        "\n",
        "    recomendaciones_peliculas = [\n",
        "        {'Titulo': movies_df.iloc[index]['Title'], 'Summary': movies_df.iloc[index]['Description']}\n",
        "        for index in top_indices_peliculas\n",
        "    ]\n",
        "\n",
        "    return {\n",
        "        'juegos': recomendaciones_juegos,\n",
        "        'peliculas': recomendaciones_peliculas,\n",
        "        'libros': recomendaciones_libros\n",
        "    }\n",
        "\n"
      ],
      "metadata": {
        "id": "DLaOKScMV9d_",
        "colab": {
          "base_uri": "https://localhost:8080/"
        },
        "outputId": "95b4e319-ba80-4a7f-cb09-a92d040c92f1"
      },
      "execution_count": 40,
      "outputs": [
        {
          "output_type": "stream",
          "name": "stderr",
          "text": [
            "/usr/local/lib/python3.10/dist-packages/transformers/tokenization_utils_base.py:1601: FutureWarning: `clean_up_tokenization_spaces` was not set. It will be set to `True` by default. This behavior will be depracted in transformers v4.45, and will be then set to `False` by default. For more details check this issue: https://github.com/huggingface/transformers/issues/31884\n",
            "  warnings.warn(\n"
          ]
        }
      ]
    },
    {
      "cell_type": "markdown",
      "source": [
        "Esta ultima iteracion sobre los libros la hacemos debido a que en algunos casos nos daba libros duplicados,cuando ya realizamos limpieza del dataset y eliminamos datos duplicados,por lo que decidimos hacer esta logica de verificacion para que nos devuelva registros unicos,y en caso de que luego de filtrar por registos unicos nos devuelva menos de 3 recomendaciones,volver a buscar coincidencias para que sean 3."
      ],
      "metadata": {
        "id": "SPb80reL5Xtx"
      }
    },
    {
      "cell_type": "code",
      "source": [
        "def mostrar_interfaz():\n",
        "    # Crear entradas de usuario para el estado de ánimo y preferencia temática\n",
        "    estado_animo_input = widgets.Text(\n",
        "        value='',\n",
        "        placeholder='¿Cómo te sientes hoy?',\n",
        "        description='Estado de Ánimo:',\n",
        "        disabled=False\n",
        "    )\n",
        "\n",
        "    preferencia_input = widgets.Text(\n",
        "        value='',\n",
        "        placeholder='Describe la temática que te gustaría explorar',\n",
        "        description='Preferencia:',\n",
        "        disabled=False\n",
        "    )\n",
        "\n",
        "    boton_enviar = widgets.Button(description=\"Obtener Recomendaciones\")\n",
        "    output = widgets.Output()\n",
        "\n",
        "    # Función que maneja el clic en el botón de recomendación\n",
        "    def on_button_clicked(b):\n",
        "        with output:\n",
        "            output.clear_output()  # Limpiar el área de salida antes de mostrar nuevos resultados\n",
        "\n",
        "            # Obtener valores de estado de ánimo y preferencia del usuario desde los widgets\n",
        "            estado_animo = estado_animo_input.value\n",
        "            preferencia = preferencia_input.value\n",
        "\n",
        "            # Verificar si hay valores en los campos\n",
        "            if not estado_animo or not preferencia:\n",
        "                print(\"Por favor ingresa tanto el estado de ánimo como la preferencia.\")\n",
        "                return\n",
        "\n",
        "            # Detectar el estado de ánimo usando predict_mood_st\n",
        "            estado_detectado = predict_mood_st(estado_animo)\n",
        "            print(f\"Estado de ánimo detectado: {estado_detectado}\")\n",
        "\n",
        "            # Generar recomendaciones combinando estado de ánimo detectado y preferencia\n",
        "            recomendaciones = recomendar(estado_animo, estado_detectado, preferencia)\n",
        "\n",
        "            # Mostrar las recomendaciones en la interfaz\n",
        "            print(\"\\nRecomendaciones de juegos:\")\n",
        "            for rec in recomendaciones['juegos']:\n",
        "                print(f\"- {rec['Titulo']}: {rec['Summary']}\")\n",
        "\n",
        "            print(\"\\nRecomendaciones de películas:\")\n",
        "            for rec in recomendaciones['peliculas']:\n",
        "                print(f\"- {rec['Titulo']}: {rec['Summary']}\")\n",
        "\n",
        "            print(\"\\nRecomendaciones de libros:\")\n",
        "            for rec in recomendaciones['libros']:\n",
        "                print(f\"- {rec['Titulo']}: {rec['Summary']}\")\n",
        "\n",
        "    # Conectar el evento de clic del botón con la función on_button_clicked\n",
        "    boton_enviar.on_click(on_button_clicked)\n",
        "\n",
        "    # Mostrar los widgets en la interfaz\n",
        "    display(estado_animo_input, preferencia_input, boton_enviar, output)\n",
        "\n",
        "# Ejecutar la interfaz\n",
        "mostrar_interfaz()"
      ],
      "metadata": {
        "colab": {
          "base_uri": "https://localhost:8080/",
          "height": 1000,
          "referenced_widgets": [
            "dcb08f1b81b84c449a5c70ab377e890e",
            "8d3e5112e85e41a5934a5b0d0d66502b",
            "40fe53f3f4d54abdb37a9c7fdbe1f8a9",
            "f3faaa0227bc440787d9886fecc7607a",
            "7c883e0e49b84afaab2a4a845a3d4e3f",
            "a67c9a53ddd14342b1cf693850af1871",
            "efb24865c82d4d2b9093e16d9d54b3c0",
            "fdf93288819f43bc826048b4955569e5",
            "855ff68098ef4265b62ce148ef7f0b05",
            "0ffffb3725bc4fabbabb11b1a700d2ce",
            "ab26e93e89e946bea210e43d7e8afad1"
          ]
        },
        "id": "SPtT66I9YUbC",
        "outputId": "607a5a9c-a9ff-4254-cfed-3ef58e82bed3"
      },
      "execution_count": 41,
      "outputs": [
        {
          "output_type": "display_data",
          "data": {
            "text/plain": [
              "Text(value='', description='Estado de Ánimo:', placeholder='¿Cómo te sientes hoy?')"
            ],
            "application/vnd.jupyter.widget-view+json": {
              "version_major": 2,
              "version_minor": 0,
              "model_id": "dcb08f1b81b84c449a5c70ab377e890e"
            }
          },
          "metadata": {}
        },
        {
          "output_type": "display_data",
          "data": {
            "text/plain": [
              "Text(value='', description='Preferencia:', placeholder='Describe la temática que te gustaría explorar')"
            ],
            "application/vnd.jupyter.widget-view+json": {
              "version_major": 2,
              "version_minor": 0,
              "model_id": "f3faaa0227bc440787d9886fecc7607a"
            }
          },
          "metadata": {}
        },
        {
          "output_type": "display_data",
          "data": {
            "text/plain": [
              "Button(description='Obtener Recomendaciones', style=ButtonStyle())"
            ],
            "application/vnd.jupyter.widget-view+json": {
              "version_major": 2,
              "version_minor": 0,
              "model_id": "efb24865c82d4d2b9093e16d9d54b3c0"
            }
          },
          "metadata": {}
        },
        {
          "output_type": "display_data",
          "data": {
            "text/plain": [
              "Output()"
            ],
            "application/vnd.jupyter.widget-view+json": {
              "version_major": 2,
              "version_minor": 0,
              "model_id": "0ffffb3725bc4fabbabb11b1a700d2ce"
            }
          },
          "metadata": {}
        }
      ]
    }
  ]
}