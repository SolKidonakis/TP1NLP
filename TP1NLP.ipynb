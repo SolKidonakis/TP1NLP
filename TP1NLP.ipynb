{
  "nbformat": 4,
  "nbformat_minor": 0,
  "metadata": {
    "colab": {
      "provenance": []
    },
    "kernelspec": {
      "name": "python3",
      "display_name": "Python 3"
    },
    "language_info": {
      "name": "python"
    },
    "widgets": {
      "application/vnd.jupyter.widget-state+json": {
        "db0da2fabeab47cf96c83bc354e36f81": {
          "model_module": "@jupyter-widgets/controls",
          "model_name": "TextModel",
          "model_module_version": "1.5.0",
          "state": {
            "_dom_classes": [],
            "_model_module": "@jupyter-widgets/controls",
            "_model_module_version": "1.5.0",
            "_model_name": "TextModel",
            "_view_count": null,
            "_view_module": "@jupyter-widgets/controls",
            "_view_module_version": "1.5.0",
            "_view_name": "TextView",
            "continuous_update": true,
            "description": "Estado de Ánimo:",
            "description_tooltip": null,
            "disabled": false,
            "layout": "IPY_MODEL_5fc745aad54a4db3a0d20c6818bcf5b3",
            "placeholder": "¿Cómo te sientes hoy?",
            "style": "IPY_MODEL_f7f3f0c6b4424e62aa97b52ce8b99aaa",
            "value": "triste"
          }
        },
        "5fc745aad54a4db3a0d20c6818bcf5b3": {
          "model_module": "@jupyter-widgets/base",
          "model_name": "LayoutModel",
          "model_module_version": "1.2.0",
          "state": {
            "_model_module": "@jupyter-widgets/base",
            "_model_module_version": "1.2.0",
            "_model_name": "LayoutModel",
            "_view_count": null,
            "_view_module": "@jupyter-widgets/base",
            "_view_module_version": "1.2.0",
            "_view_name": "LayoutView",
            "align_content": null,
            "align_items": null,
            "align_self": null,
            "border": null,
            "bottom": null,
            "display": null,
            "flex": null,
            "flex_flow": null,
            "grid_area": null,
            "grid_auto_columns": null,
            "grid_auto_flow": null,
            "grid_auto_rows": null,
            "grid_column": null,
            "grid_gap": null,
            "grid_row": null,
            "grid_template_areas": null,
            "grid_template_columns": null,
            "grid_template_rows": null,
            "height": null,
            "justify_content": null,
            "justify_items": null,
            "left": null,
            "margin": null,
            "max_height": null,
            "max_width": null,
            "min_height": null,
            "min_width": null,
            "object_fit": null,
            "object_position": null,
            "order": null,
            "overflow": null,
            "overflow_x": null,
            "overflow_y": null,
            "padding": null,
            "right": null,
            "top": null,
            "visibility": null,
            "width": null
          }
        },
        "f7f3f0c6b4424e62aa97b52ce8b99aaa": {
          "model_module": "@jupyter-widgets/controls",
          "model_name": "DescriptionStyleModel",
          "model_module_version": "1.5.0",
          "state": {
            "_model_module": "@jupyter-widgets/controls",
            "_model_module_version": "1.5.0",
            "_model_name": "DescriptionStyleModel",
            "_view_count": null,
            "_view_module": "@jupyter-widgets/base",
            "_view_module_version": "1.2.0",
            "_view_name": "StyleView",
            "description_width": ""
          }
        },
        "78ead3a3435a42028950c0fa2db88836": {
          "model_module": "@jupyter-widgets/controls",
          "model_name": "TextModel",
          "model_module_version": "1.5.0",
          "state": {
            "_dom_classes": [],
            "_model_module": "@jupyter-widgets/controls",
            "_model_module_version": "1.5.0",
            "_model_name": "TextModel",
            "_view_count": null,
            "_view_module": "@jupyter-widgets/controls",
            "_view_module_version": "1.5.0",
            "_view_name": "TextView",
            "continuous_update": true,
            "description": "Preferencia:",
            "description_tooltip": null,
            "disabled": false,
            "layout": "IPY_MODEL_b96c7fa77696419b8e39e8d81cb45b23",
            "placeholder": "Describe la temática que te gustaría explorar",
            "style": "IPY_MODEL_2d29e717b99644699bd49eaa08647b3c",
            "value": "relacion con la guerra"
          }
        },
        "b96c7fa77696419b8e39e8d81cb45b23": {
          "model_module": "@jupyter-widgets/base",
          "model_name": "LayoutModel",
          "model_module_version": "1.2.0",
          "state": {
            "_model_module": "@jupyter-widgets/base",
            "_model_module_version": "1.2.0",
            "_model_name": "LayoutModel",
            "_view_count": null,
            "_view_module": "@jupyter-widgets/base",
            "_view_module_version": "1.2.0",
            "_view_name": "LayoutView",
            "align_content": null,
            "align_items": null,
            "align_self": null,
            "border": null,
            "bottom": null,
            "display": null,
            "flex": null,
            "flex_flow": null,
            "grid_area": null,
            "grid_auto_columns": null,
            "grid_auto_flow": null,
            "grid_auto_rows": null,
            "grid_column": null,
            "grid_gap": null,
            "grid_row": null,
            "grid_template_areas": null,
            "grid_template_columns": null,
            "grid_template_rows": null,
            "height": null,
            "justify_content": null,
            "justify_items": null,
            "left": null,
            "margin": null,
            "max_height": null,
            "max_width": null,
            "min_height": null,
            "min_width": null,
            "object_fit": null,
            "object_position": null,
            "order": null,
            "overflow": null,
            "overflow_x": null,
            "overflow_y": null,
            "padding": null,
            "right": null,
            "top": null,
            "visibility": null,
            "width": null
          }
        },
        "2d29e717b99644699bd49eaa08647b3c": {
          "model_module": "@jupyter-widgets/controls",
          "model_name": "DescriptionStyleModel",
          "model_module_version": "1.5.0",
          "state": {
            "_model_module": "@jupyter-widgets/controls",
            "_model_module_version": "1.5.0",
            "_model_name": "DescriptionStyleModel",
            "_view_count": null,
            "_view_module": "@jupyter-widgets/base",
            "_view_module_version": "1.2.0",
            "_view_name": "StyleView",
            "description_width": ""
          }
        },
        "07f62018acd945af9dbe5e0b108b00fc": {
          "model_module": "@jupyter-widgets/controls",
          "model_name": "ButtonModel",
          "model_module_version": "1.5.0",
          "state": {
            "_dom_classes": [],
            "_model_module": "@jupyter-widgets/controls",
            "_model_module_version": "1.5.0",
            "_model_name": "ButtonModel",
            "_view_count": null,
            "_view_module": "@jupyter-widgets/controls",
            "_view_module_version": "1.5.0",
            "_view_name": "ButtonView",
            "button_style": "",
            "description": "Obtener Recomendaciones",
            "disabled": false,
            "icon": "",
            "layout": "IPY_MODEL_f2f078bf7093405ca572bdb21f1f4795",
            "style": "IPY_MODEL_2d8868a7d8c942dbb07015a292a0264b",
            "tooltip": ""
          }
        },
        "f2f078bf7093405ca572bdb21f1f4795": {
          "model_module": "@jupyter-widgets/base",
          "model_name": "LayoutModel",
          "model_module_version": "1.2.0",
          "state": {
            "_model_module": "@jupyter-widgets/base",
            "_model_module_version": "1.2.0",
            "_model_name": "LayoutModel",
            "_view_count": null,
            "_view_module": "@jupyter-widgets/base",
            "_view_module_version": "1.2.0",
            "_view_name": "LayoutView",
            "align_content": null,
            "align_items": null,
            "align_self": null,
            "border": null,
            "bottom": null,
            "display": null,
            "flex": null,
            "flex_flow": null,
            "grid_area": null,
            "grid_auto_columns": null,
            "grid_auto_flow": null,
            "grid_auto_rows": null,
            "grid_column": null,
            "grid_gap": null,
            "grid_row": null,
            "grid_template_areas": null,
            "grid_template_columns": null,
            "grid_template_rows": null,
            "height": null,
            "justify_content": null,
            "justify_items": null,
            "left": null,
            "margin": null,
            "max_height": null,
            "max_width": null,
            "min_height": null,
            "min_width": null,
            "object_fit": null,
            "object_position": null,
            "order": null,
            "overflow": null,
            "overflow_x": null,
            "overflow_y": null,
            "padding": null,
            "right": null,
            "top": null,
            "visibility": null,
            "width": null
          }
        },
        "2d8868a7d8c942dbb07015a292a0264b": {
          "model_module": "@jupyter-widgets/controls",
          "model_name": "ButtonStyleModel",
          "model_module_version": "1.5.0",
          "state": {
            "_model_module": "@jupyter-widgets/controls",
            "_model_module_version": "1.5.0",
            "_model_name": "ButtonStyleModel",
            "_view_count": null,
            "_view_module": "@jupyter-widgets/base",
            "_view_module_version": "1.2.0",
            "_view_name": "StyleView",
            "button_color": null,
            "font_weight": ""
          }
        },
        "9cb3ce34ccd64469b9238ffce3dd8883": {
          "model_module": "@jupyter-widgets/output",
          "model_name": "OutputModel",
          "model_module_version": "1.0.0",
          "state": {
            "_dom_classes": [],
            "_model_module": "@jupyter-widgets/output",
            "_model_module_version": "1.0.0",
            "_model_name": "OutputModel",
            "_view_count": null,
            "_view_module": "@jupyter-widgets/output",
            "_view_module_version": "1.0.0",
            "_view_name": "OutputView",
            "layout": "IPY_MODEL_0702e7e1c92143f19e01bde105172b3a",
            "msg_id": "",
            "outputs": [
              {
                "output_type": "stream",
                "name": "stdout",
                "text": [
                  "Estado de ánimo detectado: Melancólico\n",
                  "\n",
                  "Recomendaciones:\n",
                  "Juego de mesa: Dungeons & Dragons: Castle Ravenloft Board Game\n",
                  "Juego de mesa: Age of Empires III: The Age of Discovery\n",
                  "Juego de mesa: Summoner Wars: Master Set\n",
                  "Película: Nine Lives, Actores: Kevin Spacey, Jennifer Garner, Robbie Amell,Cheryl Hines\n",
                  "Película: Green Room, Actores: Anton Yelchin, Imogen Poots, Alia Shawkat,Patrick Stewart\n",
                  "Película: Looper, Actores: Joseph Gordon-Levitt, Bruce Willis, Emily Blunt, Paul Dano\n",
                  "Libro: Sel, Autor: -Bigge, L. A. (Lewis Amherst), Sir (5765)\n",
                  "Libro: Letters of Pliny, Autor: the Younger Pliny (45)\n",
                  "Libro: Romeo and Juliet, Autor: William Shakespeare (17187)\n"
                ]
              }
            ]
          }
        },
        "0702e7e1c92143f19e01bde105172b3a": {
          "model_module": "@jupyter-widgets/base",
          "model_name": "LayoutModel",
          "model_module_version": "1.2.0",
          "state": {
            "_model_module": "@jupyter-widgets/base",
            "_model_module_version": "1.2.0",
            "_model_name": "LayoutModel",
            "_view_count": null,
            "_view_module": "@jupyter-widgets/base",
            "_view_module_version": "1.2.0",
            "_view_name": "LayoutView",
            "align_content": null,
            "align_items": null,
            "align_self": null,
            "border": null,
            "bottom": null,
            "display": null,
            "flex": null,
            "flex_flow": null,
            "grid_area": null,
            "grid_auto_columns": null,
            "grid_auto_flow": null,
            "grid_auto_rows": null,
            "grid_column": null,
            "grid_gap": null,
            "grid_row": null,
            "grid_template_areas": null,
            "grid_template_columns": null,
            "grid_template_rows": null,
            "height": null,
            "justify_content": null,
            "justify_items": null,
            "left": null,
            "margin": null,
            "max_height": null,
            "max_width": null,
            "min_height": null,
            "min_width": null,
            "object_fit": null,
            "object_position": null,
            "order": null,
            "overflow": null,
            "overflow_x": null,
            "overflow_y": null,
            "padding": null,
            "right": null,
            "top": null,
            "visibility": null,
            "width": null
          }
        }
      }
    }
  },
  "cells": [
    {
      "cell_type": "markdown",
      "source": [
        "**TRABAJO PRACTICO N°1: PROCESAMIENTO DEL LENGUAJE NATURAL**"
      ],
      "metadata": {
        "id": "flZE_1j5IAfe"
      }
    },
    {
      "cell_type": "markdown",
      "source": [
        "**LIBRERIAS**"
      ],
      "metadata": {
        "id": "bRbcP5RSKimy"
      }
    },
    {
      "cell_type": "code",
      "source": [
        "!pip install sentence-transformers\n",
        "!python -m spacy download es_core_news_md\n",
        "!pip install nltk\n",
        "!pip install ipywidgets"
      ],
      "metadata": {
        "id": "S9vp3ZL1R62o",
        "colab": {
          "base_uri": "https://localhost:8080/"
        },
        "outputId": "66fb7156-b320-46b7-b3cc-451d66d9e520"
      },
      "execution_count": 1,
      "outputs": [
        {
          "output_type": "stream",
          "name": "stdout",
          "text": [
            "Collecting sentence-transformers\n",
            "  Downloading sentence_transformers-3.2.1-py3-none-any.whl.metadata (10 kB)\n",
            "Requirement already satisfied: transformers<5.0.0,>=4.41.0 in /usr/local/lib/python3.10/dist-packages (from sentence-transformers) (4.44.2)\n",
            "Requirement already satisfied: tqdm in /usr/local/lib/python3.10/dist-packages (from sentence-transformers) (4.66.5)\n",
            "Requirement already satisfied: torch>=1.11.0 in /usr/local/lib/python3.10/dist-packages (from sentence-transformers) (2.5.0+cu121)\n",
            "Requirement already satisfied: scikit-learn in /usr/local/lib/python3.10/dist-packages (from sentence-transformers) (1.5.2)\n",
            "Requirement already satisfied: scipy in /usr/local/lib/python3.10/dist-packages (from sentence-transformers) (1.13.1)\n",
            "Requirement already satisfied: huggingface-hub>=0.20.0 in /usr/local/lib/python3.10/dist-packages (from sentence-transformers) (0.24.7)\n",
            "Requirement already satisfied: Pillow in /usr/local/lib/python3.10/dist-packages (from sentence-transformers) (10.4.0)\n",
            "Requirement already satisfied: filelock in /usr/local/lib/python3.10/dist-packages (from huggingface-hub>=0.20.0->sentence-transformers) (3.16.1)\n",
            "Requirement already satisfied: fsspec>=2023.5.0 in /usr/local/lib/python3.10/dist-packages (from huggingface-hub>=0.20.0->sentence-transformers) (2024.6.1)\n",
            "Requirement already satisfied: packaging>=20.9 in /usr/local/lib/python3.10/dist-packages (from huggingface-hub>=0.20.0->sentence-transformers) (24.1)\n",
            "Requirement already satisfied: pyyaml>=5.1 in /usr/local/lib/python3.10/dist-packages (from huggingface-hub>=0.20.0->sentence-transformers) (6.0.2)\n",
            "Requirement already satisfied: requests in /usr/local/lib/python3.10/dist-packages (from huggingface-hub>=0.20.0->sentence-transformers) (2.32.3)\n",
            "Requirement already satisfied: typing-extensions>=3.7.4.3 in /usr/local/lib/python3.10/dist-packages (from huggingface-hub>=0.20.0->sentence-transformers) (4.12.2)\n",
            "Requirement already satisfied: networkx in /usr/local/lib/python3.10/dist-packages (from torch>=1.11.0->sentence-transformers) (3.4.2)\n",
            "Requirement already satisfied: jinja2 in /usr/local/lib/python3.10/dist-packages (from torch>=1.11.0->sentence-transformers) (3.1.4)\n",
            "Requirement already satisfied: sympy==1.13.1 in /usr/local/lib/python3.10/dist-packages (from torch>=1.11.0->sentence-transformers) (1.13.1)\n",
            "Requirement already satisfied: mpmath<1.4,>=1.1.0 in /usr/local/lib/python3.10/dist-packages (from sympy==1.13.1->torch>=1.11.0->sentence-transformers) (1.3.0)\n",
            "Requirement already satisfied: numpy>=1.17 in /usr/local/lib/python3.10/dist-packages (from transformers<5.0.0,>=4.41.0->sentence-transformers) (1.26.4)\n",
            "Requirement already satisfied: regex!=2019.12.17 in /usr/local/lib/python3.10/dist-packages (from transformers<5.0.0,>=4.41.0->sentence-transformers) (2024.9.11)\n",
            "Requirement already satisfied: safetensors>=0.4.1 in /usr/local/lib/python3.10/dist-packages (from transformers<5.0.0,>=4.41.0->sentence-transformers) (0.4.5)\n",
            "Requirement already satisfied: tokenizers<0.20,>=0.19 in /usr/local/lib/python3.10/dist-packages (from transformers<5.0.0,>=4.41.0->sentence-transformers) (0.19.1)\n",
            "Requirement already satisfied: joblib>=1.2.0 in /usr/local/lib/python3.10/dist-packages (from scikit-learn->sentence-transformers) (1.4.2)\n",
            "Requirement already satisfied: threadpoolctl>=3.1.0 in /usr/local/lib/python3.10/dist-packages (from scikit-learn->sentence-transformers) (3.5.0)\n",
            "Requirement already satisfied: MarkupSafe>=2.0 in /usr/local/lib/python3.10/dist-packages (from jinja2->torch>=1.11.0->sentence-transformers) (3.0.2)\n",
            "Requirement already satisfied: charset-normalizer<4,>=2 in /usr/local/lib/python3.10/dist-packages (from requests->huggingface-hub>=0.20.0->sentence-transformers) (3.4.0)\n",
            "Requirement already satisfied: idna<4,>=2.5 in /usr/local/lib/python3.10/dist-packages (from requests->huggingface-hub>=0.20.0->sentence-transformers) (3.10)\n",
            "Requirement already satisfied: urllib3<3,>=1.21.1 in /usr/local/lib/python3.10/dist-packages (from requests->huggingface-hub>=0.20.0->sentence-transformers) (2.2.3)\n",
            "Requirement already satisfied: certifi>=2017.4.17 in /usr/local/lib/python3.10/dist-packages (from requests->huggingface-hub>=0.20.0->sentence-transformers) (2024.8.30)\n",
            "Downloading sentence_transformers-3.2.1-py3-none-any.whl (255 kB)\n",
            "\u001b[2K   \u001b[90m━━━━━━━━━━━━━━━━━━━━━━━━━━━━━━━━━━━━━━━━\u001b[0m \u001b[32m255.8/255.8 kB\u001b[0m \u001b[31m5.0 MB/s\u001b[0m eta \u001b[36m0:00:00\u001b[0m\n",
            "\u001b[?25hInstalling collected packages: sentence-transformers\n",
            "Successfully installed sentence-transformers-3.2.1\n",
            "Collecting es-core-news-md==3.7.0\n",
            "  Downloading https://github.com/explosion/spacy-models/releases/download/es_core_news_md-3.7.0/es_core_news_md-3.7.0-py3-none-any.whl (42.3 MB)\n",
            "\u001b[2K     \u001b[90m━━━━━━━━━━━━━━━━━━━━━━━━━━━━━━━━━━━━━━━━\u001b[0m \u001b[32m42.3/42.3 MB\u001b[0m \u001b[31m21.4 MB/s\u001b[0m eta \u001b[36m0:00:00\u001b[0m\n",
            "\u001b[?25hRequirement already satisfied: spacy<3.8.0,>=3.7.0 in /usr/local/lib/python3.10/dist-packages (from es-core-news-md==3.7.0) (3.7.5)\n",
            "Requirement already satisfied: spacy-legacy<3.1.0,>=3.0.11 in /usr/local/lib/python3.10/dist-packages (from spacy<3.8.0,>=3.7.0->es-core-news-md==3.7.0) (3.0.12)\n",
            "Requirement already satisfied: spacy-loggers<2.0.0,>=1.0.0 in /usr/local/lib/python3.10/dist-packages (from spacy<3.8.0,>=3.7.0->es-core-news-md==3.7.0) (1.0.5)\n",
            "Requirement already satisfied: murmurhash<1.1.0,>=0.28.0 in /usr/local/lib/python3.10/dist-packages (from spacy<3.8.0,>=3.7.0->es-core-news-md==3.7.0) (1.0.10)\n",
            "Requirement already satisfied: cymem<2.1.0,>=2.0.2 in /usr/local/lib/python3.10/dist-packages (from spacy<3.8.0,>=3.7.0->es-core-news-md==3.7.0) (2.0.8)\n",
            "Requirement already satisfied: preshed<3.1.0,>=3.0.2 in /usr/local/lib/python3.10/dist-packages (from spacy<3.8.0,>=3.7.0->es-core-news-md==3.7.0) (3.0.9)\n",
            "Requirement already satisfied: thinc<8.3.0,>=8.2.2 in /usr/local/lib/python3.10/dist-packages (from spacy<3.8.0,>=3.7.0->es-core-news-md==3.7.0) (8.2.5)\n",
            "Requirement already satisfied: wasabi<1.2.0,>=0.9.1 in /usr/local/lib/python3.10/dist-packages (from spacy<3.8.0,>=3.7.0->es-core-news-md==3.7.0) (1.1.3)\n",
            "Requirement already satisfied: srsly<3.0.0,>=2.4.3 in /usr/local/lib/python3.10/dist-packages (from spacy<3.8.0,>=3.7.0->es-core-news-md==3.7.0) (2.4.8)\n",
            "Requirement already satisfied: catalogue<2.1.0,>=2.0.6 in /usr/local/lib/python3.10/dist-packages (from spacy<3.8.0,>=3.7.0->es-core-news-md==3.7.0) (2.0.10)\n",
            "Requirement already satisfied: weasel<0.5.0,>=0.1.0 in /usr/local/lib/python3.10/dist-packages (from spacy<3.8.0,>=3.7.0->es-core-news-md==3.7.0) (0.4.1)\n",
            "Requirement already satisfied: typer<1.0.0,>=0.3.0 in /usr/local/lib/python3.10/dist-packages (from spacy<3.8.0,>=3.7.0->es-core-news-md==3.7.0) (0.12.5)\n",
            "Requirement already satisfied: tqdm<5.0.0,>=4.38.0 in /usr/local/lib/python3.10/dist-packages (from spacy<3.8.0,>=3.7.0->es-core-news-md==3.7.0) (4.66.5)\n",
            "Requirement already satisfied: requests<3.0.0,>=2.13.0 in /usr/local/lib/python3.10/dist-packages (from spacy<3.8.0,>=3.7.0->es-core-news-md==3.7.0) (2.32.3)\n",
            "Requirement already satisfied: pydantic!=1.8,!=1.8.1,<3.0.0,>=1.7.4 in /usr/local/lib/python3.10/dist-packages (from spacy<3.8.0,>=3.7.0->es-core-news-md==3.7.0) (2.9.2)\n",
            "Requirement already satisfied: jinja2 in /usr/local/lib/python3.10/dist-packages (from spacy<3.8.0,>=3.7.0->es-core-news-md==3.7.0) (3.1.4)\n",
            "Requirement already satisfied: setuptools in /usr/local/lib/python3.10/dist-packages (from spacy<3.8.0,>=3.7.0->es-core-news-md==3.7.0) (75.1.0)\n",
            "Requirement already satisfied: packaging>=20.0 in /usr/local/lib/python3.10/dist-packages (from spacy<3.8.0,>=3.7.0->es-core-news-md==3.7.0) (24.1)\n",
            "Requirement already satisfied: langcodes<4.0.0,>=3.2.0 in /usr/local/lib/python3.10/dist-packages (from spacy<3.8.0,>=3.7.0->es-core-news-md==3.7.0) (3.4.1)\n",
            "Requirement already satisfied: numpy>=1.19.0 in /usr/local/lib/python3.10/dist-packages (from spacy<3.8.0,>=3.7.0->es-core-news-md==3.7.0) (1.26.4)\n",
            "Requirement already satisfied: language-data>=1.2 in /usr/local/lib/python3.10/dist-packages (from langcodes<4.0.0,>=3.2.0->spacy<3.8.0,>=3.7.0->es-core-news-md==3.7.0) (1.2.0)\n",
            "Requirement already satisfied: annotated-types>=0.6.0 in /usr/local/lib/python3.10/dist-packages (from pydantic!=1.8,!=1.8.1,<3.0.0,>=1.7.4->spacy<3.8.0,>=3.7.0->es-core-news-md==3.7.0) (0.7.0)\n",
            "Requirement already satisfied: pydantic-core==2.23.4 in /usr/local/lib/python3.10/dist-packages (from pydantic!=1.8,!=1.8.1,<3.0.0,>=1.7.4->spacy<3.8.0,>=3.7.0->es-core-news-md==3.7.0) (2.23.4)\n",
            "Requirement already satisfied: typing-extensions>=4.6.1 in /usr/local/lib/python3.10/dist-packages (from pydantic!=1.8,!=1.8.1,<3.0.0,>=1.7.4->spacy<3.8.0,>=3.7.0->es-core-news-md==3.7.0) (4.12.2)\n",
            "Requirement already satisfied: charset-normalizer<4,>=2 in /usr/local/lib/python3.10/dist-packages (from requests<3.0.0,>=2.13.0->spacy<3.8.0,>=3.7.0->es-core-news-md==3.7.0) (3.4.0)\n",
            "Requirement already satisfied: idna<4,>=2.5 in /usr/local/lib/python3.10/dist-packages (from requests<3.0.0,>=2.13.0->spacy<3.8.0,>=3.7.0->es-core-news-md==3.7.0) (3.10)\n",
            "Requirement already satisfied: urllib3<3,>=1.21.1 in /usr/local/lib/python3.10/dist-packages (from requests<3.0.0,>=2.13.0->spacy<3.8.0,>=3.7.0->es-core-news-md==3.7.0) (2.2.3)\n",
            "Requirement already satisfied: certifi>=2017.4.17 in /usr/local/lib/python3.10/dist-packages (from requests<3.0.0,>=2.13.0->spacy<3.8.0,>=3.7.0->es-core-news-md==3.7.0) (2024.8.30)\n",
            "Requirement already satisfied: blis<0.8.0,>=0.7.8 in /usr/local/lib/python3.10/dist-packages (from thinc<8.3.0,>=8.2.2->spacy<3.8.0,>=3.7.0->es-core-news-md==3.7.0) (0.7.11)\n",
            "Requirement already satisfied: confection<1.0.0,>=0.0.1 in /usr/local/lib/python3.10/dist-packages (from thinc<8.3.0,>=8.2.2->spacy<3.8.0,>=3.7.0->es-core-news-md==3.7.0) (0.1.5)\n",
            "Requirement already satisfied: click>=8.0.0 in /usr/local/lib/python3.10/dist-packages (from typer<1.0.0,>=0.3.0->spacy<3.8.0,>=3.7.0->es-core-news-md==3.7.0) (8.1.7)\n",
            "Requirement already satisfied: shellingham>=1.3.0 in /usr/local/lib/python3.10/dist-packages (from typer<1.0.0,>=0.3.0->spacy<3.8.0,>=3.7.0->es-core-news-md==3.7.0) (1.5.4)\n",
            "Requirement already satisfied: rich>=10.11.0 in /usr/local/lib/python3.10/dist-packages (from typer<1.0.0,>=0.3.0->spacy<3.8.0,>=3.7.0->es-core-news-md==3.7.0) (13.9.3)\n",
            "Requirement already satisfied: cloudpathlib<1.0.0,>=0.7.0 in /usr/local/lib/python3.10/dist-packages (from weasel<0.5.0,>=0.1.0->spacy<3.8.0,>=3.7.0->es-core-news-md==3.7.0) (0.20.0)\n",
            "Requirement already satisfied: smart-open<8.0.0,>=5.2.1 in /usr/local/lib/python3.10/dist-packages (from weasel<0.5.0,>=0.1.0->spacy<3.8.0,>=3.7.0->es-core-news-md==3.7.0) (7.0.5)\n",
            "Requirement already satisfied: MarkupSafe>=2.0 in /usr/local/lib/python3.10/dist-packages (from jinja2->spacy<3.8.0,>=3.7.0->es-core-news-md==3.7.0) (3.0.2)\n",
            "Requirement already satisfied: marisa-trie>=0.7.7 in /usr/local/lib/python3.10/dist-packages (from language-data>=1.2->langcodes<4.0.0,>=3.2.0->spacy<3.8.0,>=3.7.0->es-core-news-md==3.7.0) (1.2.1)\n",
            "Requirement already satisfied: markdown-it-py>=2.2.0 in /usr/local/lib/python3.10/dist-packages (from rich>=10.11.0->typer<1.0.0,>=0.3.0->spacy<3.8.0,>=3.7.0->es-core-news-md==3.7.0) (3.0.0)\n",
            "Requirement already satisfied: pygments<3.0.0,>=2.13.0 in /usr/local/lib/python3.10/dist-packages (from rich>=10.11.0->typer<1.0.0,>=0.3.0->spacy<3.8.0,>=3.7.0->es-core-news-md==3.7.0) (2.18.0)\n",
            "Requirement already satisfied: wrapt in /usr/local/lib/python3.10/dist-packages (from smart-open<8.0.0,>=5.2.1->weasel<0.5.0,>=0.1.0->spacy<3.8.0,>=3.7.0->es-core-news-md==3.7.0) (1.16.0)\n",
            "Requirement already satisfied: mdurl~=0.1 in /usr/local/lib/python3.10/dist-packages (from markdown-it-py>=2.2.0->rich>=10.11.0->typer<1.0.0,>=0.3.0->spacy<3.8.0,>=3.7.0->es-core-news-md==3.7.0) (0.1.2)\n",
            "Installing collected packages: es-core-news-md\n",
            "Successfully installed es-core-news-md-3.7.0\n",
            "\u001b[38;5;2m✔ Download and installation successful\u001b[0m\n",
            "You can now load the package via spacy.load('es_core_news_md')\n",
            "\u001b[38;5;3m⚠ Restart to reload dependencies\u001b[0m\n",
            "If you are in a Jupyter or Colab notebook, you may need to restart Python in\n",
            "order to load all the package's dependencies. You can do this by selecting the\n",
            "'Restart kernel' or 'Restart runtime' option.\n",
            "Requirement already satisfied: nltk in /usr/local/lib/python3.10/dist-packages (3.8.1)\n",
            "Requirement already satisfied: click in /usr/local/lib/python3.10/dist-packages (from nltk) (8.1.7)\n",
            "Requirement already satisfied: joblib in /usr/local/lib/python3.10/dist-packages (from nltk) (1.4.2)\n",
            "Requirement already satisfied: regex>=2021.8.3 in /usr/local/lib/python3.10/dist-packages (from nltk) (2024.9.11)\n",
            "Requirement already satisfied: tqdm in /usr/local/lib/python3.10/dist-packages (from nltk) (4.66.5)\n",
            "Requirement already satisfied: ipywidgets in /usr/local/lib/python3.10/dist-packages (7.7.1)\n",
            "Requirement already satisfied: ipykernel>=4.5.1 in /usr/local/lib/python3.10/dist-packages (from ipywidgets) (5.5.6)\n",
            "Requirement already satisfied: ipython-genutils~=0.2.0 in /usr/local/lib/python3.10/dist-packages (from ipywidgets) (0.2.0)\n",
            "Requirement already satisfied: traitlets>=4.3.1 in /usr/local/lib/python3.10/dist-packages (from ipywidgets) (5.7.1)\n",
            "Requirement already satisfied: widgetsnbextension~=3.6.0 in /usr/local/lib/python3.10/dist-packages (from ipywidgets) (3.6.10)\n",
            "Requirement already satisfied: ipython>=4.0.0 in /usr/local/lib/python3.10/dist-packages (from ipywidgets) (7.34.0)\n",
            "Requirement already satisfied: jupyterlab-widgets>=1.0.0 in /usr/local/lib/python3.10/dist-packages (from ipywidgets) (3.0.13)\n",
            "Requirement already satisfied: jupyter-client in /usr/local/lib/python3.10/dist-packages (from ipykernel>=4.5.1->ipywidgets) (6.1.12)\n",
            "Requirement already satisfied: tornado>=4.2 in /usr/local/lib/python3.10/dist-packages (from ipykernel>=4.5.1->ipywidgets) (6.3.3)\n",
            "Requirement already satisfied: setuptools>=18.5 in /usr/local/lib/python3.10/dist-packages (from ipython>=4.0.0->ipywidgets) (75.1.0)\n",
            "Collecting jedi>=0.16 (from ipython>=4.0.0->ipywidgets)\n",
            "  Downloading jedi-0.19.1-py2.py3-none-any.whl.metadata (22 kB)\n",
            "Requirement already satisfied: decorator in /usr/local/lib/python3.10/dist-packages (from ipython>=4.0.0->ipywidgets) (4.4.2)\n",
            "Requirement already satisfied: pickleshare in /usr/local/lib/python3.10/dist-packages (from ipython>=4.0.0->ipywidgets) (0.7.5)\n",
            "Requirement already satisfied: prompt-toolkit!=3.0.0,!=3.0.1,<3.1.0,>=2.0.0 in /usr/local/lib/python3.10/dist-packages (from ipython>=4.0.0->ipywidgets) (3.0.48)\n",
            "Requirement already satisfied: pygments in /usr/local/lib/python3.10/dist-packages (from ipython>=4.0.0->ipywidgets) (2.18.0)\n",
            "Requirement already satisfied: backcall in /usr/local/lib/python3.10/dist-packages (from ipython>=4.0.0->ipywidgets) (0.2.0)\n",
            "Requirement already satisfied: matplotlib-inline in /usr/local/lib/python3.10/dist-packages (from ipython>=4.0.0->ipywidgets) (0.1.7)\n",
            "Requirement already satisfied: pexpect>4.3 in /usr/local/lib/python3.10/dist-packages (from ipython>=4.0.0->ipywidgets) (4.9.0)\n",
            "Requirement already satisfied: notebook>=4.4.1 in /usr/local/lib/python3.10/dist-packages (from widgetsnbextension~=3.6.0->ipywidgets) (6.5.5)\n",
            "Requirement already satisfied: parso<0.9.0,>=0.8.3 in /usr/local/lib/python3.10/dist-packages (from jedi>=0.16->ipython>=4.0.0->ipywidgets) (0.8.4)\n",
            "Requirement already satisfied: jinja2 in /usr/local/lib/python3.10/dist-packages (from notebook>=4.4.1->widgetsnbextension~=3.6.0->ipywidgets) (3.1.4)\n",
            "Requirement already satisfied: pyzmq<25,>=17 in /usr/local/lib/python3.10/dist-packages (from notebook>=4.4.1->widgetsnbextension~=3.6.0->ipywidgets) (24.0.1)\n",
            "Requirement already satisfied: argon2-cffi in /usr/local/lib/python3.10/dist-packages (from notebook>=4.4.1->widgetsnbextension~=3.6.0->ipywidgets) (23.1.0)\n",
            "Requirement already satisfied: jupyter-core>=4.6.1 in /usr/local/lib/python3.10/dist-packages (from notebook>=4.4.1->widgetsnbextension~=3.6.0->ipywidgets) (5.7.2)\n",
            "Requirement already satisfied: nbformat in /usr/local/lib/python3.10/dist-packages (from notebook>=4.4.1->widgetsnbextension~=3.6.0->ipywidgets) (5.10.4)\n",
            "Requirement already satisfied: nbconvert>=5 in /usr/local/lib/python3.10/dist-packages (from notebook>=4.4.1->widgetsnbextension~=3.6.0->ipywidgets) (6.5.4)\n",
            "Requirement already satisfied: nest-asyncio>=1.5 in /usr/local/lib/python3.10/dist-packages (from notebook>=4.4.1->widgetsnbextension~=3.6.0->ipywidgets) (1.6.0)\n",
            "Requirement already satisfied: Send2Trash>=1.8.0 in /usr/local/lib/python3.10/dist-packages (from notebook>=4.4.1->widgetsnbextension~=3.6.0->ipywidgets) (1.8.3)\n",
            "Requirement already satisfied: terminado>=0.8.3 in /usr/local/lib/python3.10/dist-packages (from notebook>=4.4.1->widgetsnbextension~=3.6.0->ipywidgets) (0.18.1)\n",
            "Requirement already satisfied: prometheus-client in /usr/local/lib/python3.10/dist-packages (from notebook>=4.4.1->widgetsnbextension~=3.6.0->ipywidgets) (0.21.0)\n",
            "Requirement already satisfied: nbclassic>=0.4.7 in /usr/local/lib/python3.10/dist-packages (from notebook>=4.4.1->widgetsnbextension~=3.6.0->ipywidgets) (1.1.0)\n",
            "Requirement already satisfied: python-dateutil>=2.1 in /usr/local/lib/python3.10/dist-packages (from jupyter-client->ipykernel>=4.5.1->ipywidgets) (2.8.2)\n",
            "Requirement already satisfied: ptyprocess>=0.5 in /usr/local/lib/python3.10/dist-packages (from pexpect>4.3->ipython>=4.0.0->ipywidgets) (0.7.0)\n",
            "Requirement already satisfied: wcwidth in /usr/local/lib/python3.10/dist-packages (from prompt-toolkit!=3.0.0,!=3.0.1,<3.1.0,>=2.0.0->ipython>=4.0.0->ipywidgets) (0.2.13)\n",
            "Requirement already satisfied: platformdirs>=2.5 in /usr/local/lib/python3.10/dist-packages (from jupyter-core>=4.6.1->notebook>=4.4.1->widgetsnbextension~=3.6.0->ipywidgets) (4.3.6)\n",
            "Requirement already satisfied: notebook-shim>=0.2.3 in /usr/local/lib/python3.10/dist-packages (from nbclassic>=0.4.7->notebook>=4.4.1->widgetsnbextension~=3.6.0->ipywidgets) (0.2.4)\n",
            "Requirement already satisfied: lxml in /usr/local/lib/python3.10/dist-packages (from nbconvert>=5->notebook>=4.4.1->widgetsnbextension~=3.6.0->ipywidgets) (4.9.4)\n",
            "Requirement already satisfied: beautifulsoup4 in /usr/local/lib/python3.10/dist-packages (from nbconvert>=5->notebook>=4.4.1->widgetsnbextension~=3.6.0->ipywidgets) (4.12.3)\n",
            "Requirement already satisfied: bleach in /usr/local/lib/python3.10/dist-packages (from nbconvert>=5->notebook>=4.4.1->widgetsnbextension~=3.6.0->ipywidgets) (6.1.0)\n",
            "Requirement already satisfied: defusedxml in /usr/local/lib/python3.10/dist-packages (from nbconvert>=5->notebook>=4.4.1->widgetsnbextension~=3.6.0->ipywidgets) (0.7.1)\n",
            "Requirement already satisfied: entrypoints>=0.2.2 in /usr/local/lib/python3.10/dist-packages (from nbconvert>=5->notebook>=4.4.1->widgetsnbextension~=3.6.0->ipywidgets) (0.4)\n",
            "Requirement already satisfied: jupyterlab-pygments in /usr/local/lib/python3.10/dist-packages (from nbconvert>=5->notebook>=4.4.1->widgetsnbextension~=3.6.0->ipywidgets) (0.3.0)\n",
            "Requirement already satisfied: MarkupSafe>=2.0 in /usr/local/lib/python3.10/dist-packages (from nbconvert>=5->notebook>=4.4.1->widgetsnbextension~=3.6.0->ipywidgets) (3.0.2)\n",
            "Requirement already satisfied: mistune<2,>=0.8.1 in /usr/local/lib/python3.10/dist-packages (from nbconvert>=5->notebook>=4.4.1->widgetsnbextension~=3.6.0->ipywidgets) (0.8.4)\n",
            "Requirement already satisfied: nbclient>=0.5.0 in /usr/local/lib/python3.10/dist-packages (from nbconvert>=5->notebook>=4.4.1->widgetsnbextension~=3.6.0->ipywidgets) (0.10.0)\n",
            "Requirement already satisfied: packaging in /usr/local/lib/python3.10/dist-packages (from nbconvert>=5->notebook>=4.4.1->widgetsnbextension~=3.6.0->ipywidgets) (24.1)\n",
            "Requirement already satisfied: pandocfilters>=1.4.1 in /usr/local/lib/python3.10/dist-packages (from nbconvert>=5->notebook>=4.4.1->widgetsnbextension~=3.6.0->ipywidgets) (1.5.1)\n",
            "Requirement already satisfied: tinycss2 in /usr/local/lib/python3.10/dist-packages (from nbconvert>=5->notebook>=4.4.1->widgetsnbextension~=3.6.0->ipywidgets) (1.4.0)\n",
            "Requirement already satisfied: fastjsonschema>=2.15 in /usr/local/lib/python3.10/dist-packages (from nbformat->notebook>=4.4.1->widgetsnbextension~=3.6.0->ipywidgets) (2.20.0)\n",
            "Requirement already satisfied: jsonschema>=2.6 in /usr/local/lib/python3.10/dist-packages (from nbformat->notebook>=4.4.1->widgetsnbextension~=3.6.0->ipywidgets) (4.23.0)\n",
            "Requirement already satisfied: six>=1.5 in /usr/local/lib/python3.10/dist-packages (from python-dateutil>=2.1->jupyter-client->ipykernel>=4.5.1->ipywidgets) (1.16.0)\n",
            "Requirement already satisfied: argon2-cffi-bindings in /usr/local/lib/python3.10/dist-packages (from argon2-cffi->notebook>=4.4.1->widgetsnbextension~=3.6.0->ipywidgets) (21.2.0)\n",
            "Requirement already satisfied: attrs>=22.2.0 in /usr/local/lib/python3.10/dist-packages (from jsonschema>=2.6->nbformat->notebook>=4.4.1->widgetsnbextension~=3.6.0->ipywidgets) (24.2.0)\n",
            "Requirement already satisfied: jsonschema-specifications>=2023.03.6 in /usr/local/lib/python3.10/dist-packages (from jsonschema>=2.6->nbformat->notebook>=4.4.1->widgetsnbextension~=3.6.0->ipywidgets) (2024.10.1)\n",
            "Requirement already satisfied: referencing>=0.28.4 in /usr/local/lib/python3.10/dist-packages (from jsonschema>=2.6->nbformat->notebook>=4.4.1->widgetsnbextension~=3.6.0->ipywidgets) (0.35.1)\n",
            "Requirement already satisfied: rpds-py>=0.7.1 in /usr/local/lib/python3.10/dist-packages (from jsonschema>=2.6->nbformat->notebook>=4.4.1->widgetsnbextension~=3.6.0->ipywidgets) (0.20.0)\n",
            "Requirement already satisfied: jupyter-server<3,>=1.8 in /usr/local/lib/python3.10/dist-packages (from notebook-shim>=0.2.3->nbclassic>=0.4.7->notebook>=4.4.1->widgetsnbextension~=3.6.0->ipywidgets) (1.24.0)\n",
            "Requirement already satisfied: cffi>=1.0.1 in /usr/local/lib/python3.10/dist-packages (from argon2-cffi-bindings->argon2-cffi->notebook>=4.4.1->widgetsnbextension~=3.6.0->ipywidgets) (1.17.1)\n",
            "Requirement already satisfied: soupsieve>1.2 in /usr/local/lib/python3.10/dist-packages (from beautifulsoup4->nbconvert>=5->notebook>=4.4.1->widgetsnbextension~=3.6.0->ipywidgets) (2.6)\n",
            "Requirement already satisfied: webencodings in /usr/local/lib/python3.10/dist-packages (from bleach->nbconvert>=5->notebook>=4.4.1->widgetsnbextension~=3.6.0->ipywidgets) (0.5.1)\n",
            "Requirement already satisfied: pycparser in /usr/local/lib/python3.10/dist-packages (from cffi>=1.0.1->argon2-cffi-bindings->argon2-cffi->notebook>=4.4.1->widgetsnbextension~=3.6.0->ipywidgets) (2.22)\n",
            "Requirement already satisfied: anyio<4,>=3.1.0 in /usr/local/lib/python3.10/dist-packages (from jupyter-server<3,>=1.8->notebook-shim>=0.2.3->nbclassic>=0.4.7->notebook>=4.4.1->widgetsnbextension~=3.6.0->ipywidgets) (3.7.1)\n",
            "Requirement already satisfied: websocket-client in /usr/local/lib/python3.10/dist-packages (from jupyter-server<3,>=1.8->notebook-shim>=0.2.3->nbclassic>=0.4.7->notebook>=4.4.1->widgetsnbextension~=3.6.0->ipywidgets) (1.8.0)\n",
            "Requirement already satisfied: idna>=2.8 in /usr/local/lib/python3.10/dist-packages (from anyio<4,>=3.1.0->jupyter-server<3,>=1.8->notebook-shim>=0.2.3->nbclassic>=0.4.7->notebook>=4.4.1->widgetsnbextension~=3.6.0->ipywidgets) (3.10)\n",
            "Requirement already satisfied: sniffio>=1.1 in /usr/local/lib/python3.10/dist-packages (from anyio<4,>=3.1.0->jupyter-server<3,>=1.8->notebook-shim>=0.2.3->nbclassic>=0.4.7->notebook>=4.4.1->widgetsnbextension~=3.6.0->ipywidgets) (1.3.1)\n",
            "Requirement already satisfied: exceptiongroup in /usr/local/lib/python3.10/dist-packages (from anyio<4,>=3.1.0->jupyter-server<3,>=1.8->notebook-shim>=0.2.3->nbclassic>=0.4.7->notebook>=4.4.1->widgetsnbextension~=3.6.0->ipywidgets) (1.2.2)\n",
            "Downloading jedi-0.19.1-py2.py3-none-any.whl (1.6 MB)\n",
            "\u001b[2K   \u001b[90m━━━━━━━━━━━━━━━━━━━━━━━━━━━━━━━━━━━━━━━━\u001b[0m \u001b[32m1.6/1.6 MB\u001b[0m \u001b[31m32.4 MB/s\u001b[0m eta \u001b[36m0:00:00\u001b[0m\n",
            "\u001b[?25hInstalling collected packages: jedi\n",
            "Successfully installed jedi-0.19.1\n"
          ]
        }
      ]
    },
    {
      "cell_type": "code",
      "source": [
        "import requests\n",
        "from bs4 import BeautifulSoup\n",
        "import pandas as pd\n",
        "from sklearn.model_selection import train_test_split\n",
        "from sklearn.feature_extraction.text import TfidfVectorizer\n",
        "from sklearn.linear_model import LogisticRegression\n",
        "from sklearn.metrics import accuracy_score, classification_report\n",
        "from sentence_transformers import SentenceTransformer\n",
        "from sklearn.metrics.pairwise import cosine_similarity\n",
        "import ipywidgets as widgets\n",
        "from nltk.corpus import stopwords\n",
        "import nltk\n",
        "import spacy"
      ],
      "metadata": {
        "id": "WmHQwjIMKj-y"
      },
      "execution_count": 7,
      "outputs": []
    },
    {
      "cell_type": "markdown",
      "source": [
        "Hacemos extracción, de la página Gutenberg, los libros más descargados con sus respectivos autores. Realizando un CSV con dicha información (título y autor)."
      ],
      "metadata": {
        "id": "7ZaqnhsohSjD"
      }
    },
    {
      "cell_type": "code",
      "execution_count": 3,
      "metadata": {
        "colab": {
          "base_uri": "https://localhost:8080/"
        },
        "id": "BIzBKWjjF-E2",
        "outputId": "4473a64c-bf88-4207-9f0f-8c73f838a06b"
      },
      "outputs": [
        {
          "output_type": "stream",
          "name": "stdout",
          "text": [
            "                                        Title  \\\n",
            "0     Frankenstein; Or, The Modern Prometheus   \n",
            "1                         Pride and Prejudice   \n",
            "2                          The Scarlet Letter   \n",
            "3                                          Mo   \n",
            "4                            Romeo and Juliet   \n",
            "...                                       ...   \n",
            "2825        A handy dictionary of mythology :   \n",
            "2826      The little book of life after death   \n",
            "2827                                     Orms   \n",
            "2828                                      Der   \n",
            "2829                                      Sel   \n",
            "\n",
            "                                         Author  \n",
            "0            Mary Wollstonecraft Shelley (8508)  \n",
            "1                            Jane Austen (2920)  \n",
            "2                    Nathaniel Hawthorne (2562)  \n",
            "3                           Dick; Or, The Whale  \n",
            "4                    William Shakespeare (2426)  \n",
            "...                                         ...  \n",
            "2825                      Thomas Preston (1223)  \n",
            "2826              Gustav Theodor Fechner (1223)  \n",
            "2827                             , John (21200)  \n",
            "2828                  shire, Charles E. (20481)  \n",
            "2829  -Bigge, L. A. (Lewis Amherst), Sir (5765)  \n",
            "\n",
            "[2830 rows x 2 columns]\n"
          ]
        }
      ],
      "source": [
        "url = \"https://www.gutenberg.org/browse/scores/top1000.php#books-last1\"\n",
        "\n",
        "# Realizar la solicitud a la página web\n",
        "response = requests.get(url)\n",
        "\n",
        "# Parsear el contenido HTML\n",
        "soup = BeautifulSoup(response.content, 'html.parser')\n",
        "\n",
        "book_elements = soup.find_all('li')\n",
        "\n",
        "# Crear una lista para almacenar los títulos y autores de los libros\n",
        "books = []\n",
        "\n",
        "# Recorrer cada elemento y extraer el título y el autor\n",
        "for element in book_elements:\n",
        "    text = element.get_text()\n",
        "    if 'by' in text:\n",
        "        parts = text.split('by')\n",
        "        title = parts[0].strip()  # El título del libro\n",
        "        author = parts[1].strip()  # El autor del libro\n",
        "        books.append({'Title': title, 'Author': author})\n",
        "\n",
        "\n",
        "books_df = pd.DataFrame(books)\n",
        "\n",
        "\n",
        "print(books_df)\n",
        "\n",
        "books_df.to_csv('gutenberg_books.csv', index=False)\n",
        "\n"
      ]
    },
    {
      "cell_type": "markdown",
      "source": [
        "Abrimos tres archivos CSV que tienen información sobre juegos de mesa, películas y libros."
      ],
      "metadata": {
        "id": "O-5jzOboixn5"
      }
    },
    {
      "cell_type": "code",
      "source": [
        "board_games_df = pd.read_csv('bgg_database.csv')\n",
        "\n",
        "movies_df = pd.read_csv('IMDB-Movie-Data.csv')\n",
        "\n",
        "books_df = pd.read_csv('gutenberg_books.csv')\n",
        "\n",
        "#Imprimimos las primeras filas de cada CSV\n",
        "print(board_games_df.head())\n",
        "print(movies_df.head())\n",
        "print(books_df.head())\n"
      ],
      "metadata": {
        "colab": {
          "base_uri": "https://localhost:8080/"
        },
        "id": "-FPNEGutL6ig",
        "outputId": "f480d0df-10c3-4c54-e897-8713c5870b96"
      },
      "execution_count": 4,
      "outputs": [
        {
          "output_type": "stream",
          "name": "stdout",
          "text": [
            "   rank                          game_name  \\\n",
            "0     1                  Brass: Birmingham   \n",
            "1     2          Pandemic Legacy: Season 1   \n",
            "2     3                         Gloomhaven   \n",
            "3     4                           Ark Nova   \n",
            "4     5  Twilight Imperium: Fourth Edition   \n",
            "\n",
            "                                           game_href  geek_rating  avg_rating  \\\n",
            "0  https://boardgamegeek.com/boardgame/224517/bra...        8.415        8.60   \n",
            "1  https://boardgamegeek.com/boardgame/161936/pan...        8.377        8.53   \n",
            "2  https://boardgamegeek.com/boardgame/174430/glo...        8.349        8.59   \n",
            "3  https://boardgamegeek.com/boardgame/342942/ark...        8.335        8.54   \n",
            "4  https://boardgamegeek.com/boardgame/233078/twi...        8.240        8.60   \n",
            "\n",
            "   num_voters                                        description  \\\n",
            "0     46836.0  Brass: Birmingham is an economic strategy game...   \n",
            "1     53807.0  Pandemic Legacy is a co-operative campaign gam...   \n",
            "2     62592.0  Gloomhaven  is a game of Euro-inspired tactica...   \n",
            "3     44728.0  In Ark Nova, you will plan and design a modern...   \n",
            "4     24148.0  Twilight Imperium (Fourth Edition) is a game o...   \n",
            "\n",
            "   yearpublished  minplayers  maxplayers  minplaytime  maxplaytime  minage  \\\n",
            "0           2018           2           4           60          120      14   \n",
            "1           2015           2           4           60           60      13   \n",
            "2           2017           1           4           60          120      14   \n",
            "3           2021           1           4           90          150      14   \n",
            "4           2017           3           6          240          480      14   \n",
            "\n",
            "   avgweight        best_num_players  \\\n",
            "0     3.8776  [{'min': 3, 'max': 4}]   \n",
            "1     2.8308  [{'min': 4, 'max': 4}]   \n",
            "2     3.9132  [{'min': 3, 'max': 3}]   \n",
            "3     3.7653  [{'min': 2, 'max': 2}]   \n",
            "4     4.3173  [{'min': 6, 'max': 6}]   \n",
            "\n",
            "                                           designers  \\\n",
            "0   ['Gavan Brown', 'Matt Tolman', 'Martin Wallace']   \n",
            "1                     ['Rob Daviau', 'Matt Leacock']   \n",
            "2                                 ['Isaac Childres']   \n",
            "3                                  ['Mathias Wigge']   \n",
            "4  ['Dane Beltrami', 'Corey Konieczka', 'Christia...   \n",
            "\n",
            "                                           mechanics  \\\n",
            "0  ['Hand Management', 'Income', 'Loans', 'Market...   \n",
            "1  ['Action Points', 'Cooperative Game', 'Hand Ma...   \n",
            "2  ['Action Queue', 'Action Retrieval', 'Campaign...   \n",
            "3  ['Action Queue', 'End Game Bonuses', 'Grid Cov...   \n",
            "4  ['Action Drafting', 'Area-Impulse', 'Dice Roll...   \n",
            "\n",
            "                                          categories  \n",
            "0  ['Age of Reason', 'Economic', 'Industry / Manu...  \n",
            "1                       ['Environmental', 'Medical']  \n",
            "2  ['Adventure', 'Exploration', 'Fantasy', 'Fight...  \n",
            "3           ['Animals', 'Economic', 'Environmental']  \n",
            "4  ['Civilization', 'Economic', 'Exploration', 'N...  \n",
            "   Rank                    Title                     Genre  \\\n",
            "0     1  Guardians of the Galaxy   Action,Adventure,Sci-Fi   \n",
            "1     2               Prometheus  Adventure,Mystery,Sci-Fi   \n",
            "2     3                    Split           Horror,Thriller   \n",
            "3     4                     Sing   Animation,Comedy,Family   \n",
            "4     5            Suicide Squad  Action,Adventure,Fantasy   \n",
            "\n",
            "                                         Description              Director  \\\n",
            "0  A group of intergalactic criminals are forced ...            James Gunn   \n",
            "1  Following clues to the origin of mankind, a te...          Ridley Scott   \n",
            "2  Three girls are kidnapped by a man with a diag...    M. Night Shyamalan   \n",
            "3  In a city of humanoid animals, a hustling thea...  Christophe Lourdelet   \n",
            "4  A secret government agency recruits some of th...            David Ayer   \n",
            "\n",
            "                                              Actors  Year  Runtime (Minutes)  \\\n",
            "0  Chris Pratt, Vin Diesel, Bradley Cooper, Zoe S...  2014                121   \n",
            "1  Noomi Rapace, Logan Marshall-Green, Michael Fa...  2012                124   \n",
            "2  James McAvoy, Anya Taylor-Joy, Haley Lu Richar...  2016                117   \n",
            "3  Matthew McConaughey,Reese Witherspoon, Seth Ma...  2016                108   \n",
            "4  Will Smith, Jared Leto, Margot Robbie, Viola D...  2016                123   \n",
            "\n",
            "   Rating   Votes  Revenue (Millions)  Metascore  \n",
            "0     8.1  757074              333.13         76  \n",
            "1     7.0  485820              126.46         65  \n",
            "2     7.3  157606              138.12         62  \n",
            "3     7.2   60545              270.32         59  \n",
            "4     6.2  393727              325.02         40  \n",
            "                                     Title                              Author\n",
            "0  Frankenstein; Or, The Modern Prometheus  Mary Wollstonecraft Shelley (8508)\n",
            "1                      Pride and Prejudice                  Jane Austen (2920)\n",
            "2                       The Scarlet Letter          Nathaniel Hawthorne (2562)\n",
            "3                                       Mo                 Dick; Or, The Whale\n",
            "4                         Romeo and Juliet          William Shakespeare (2426)\n"
          ]
        }
      ]
    },
    {
      "cell_type": "markdown",
      "source": [
        "**CLASIFICADOR CON REGRESION LOGISTICA**"
      ],
      "metadata": {
        "id": "obniaZwPSxg_"
      }
    },
    {
      "cell_type": "markdown",
      "source": [
        "En este caso, utilizamos TF-IDF Vectorizer.\n",
        "Usando dicho modelo de regresión logística para clasificar frases en Alegre, Melancólico o ni fu ni fa.\n",
        "\n"
      ],
      "metadata": {
        "id": "4GSATZZKS2-W"
      }
    },
    {
      "cell_type": "code",
      "source": [
        "nltk.download('stopwords')\n",
        "\n",
        "spanish_stop_words = stopwords.words('spanish')\n",
        "\n",
        "# Etiquetas de estados de ánimo\n",
        "labels = [(0, \"Alegre\"), (1, \"Melancólico\"), (2, \"Ni fu ni fa\")]\n",
        "\n",
        "\n",
        "dataset = [\n",
        "    # Frases de estado de ánimo \"Alegre\"\n",
        "    (0, \"Estoy muy feliz\"),\n",
        "    (0, \"Hoy es un gran día\"),\n",
        "    (0, \"Me siento alegre\"),\n",
        "    (0, \"Es un día increíble\"),\n",
        "    (0, \"Estoy lleno de energía\"),\n",
        "    (0, \"Estoy muy contento hoy\"),\n",
        "    (0, \"Este es un día perfecto\"),\n",
        "    (0, \"Me siento lleno de vida\"),\n",
        "    (0, \"Estoy eufórico\"),\n",
        "    (0, \"Hoy es un día para celebrar\"),\n",
        "    (0, \"Siento mucha alegría en este día\"),\n",
        "    (0, \"Todo es perfecto hoy\"),\n",
        "    (0, \"Me encanta la vida\"),\n",
        "    (0, \"Es un día espectacular para disfrutar\"),\n",
        "    (0, \"Hoy estoy muy entusiasmado\"),\n",
        "    (0, \"Me siento agradecido y optimista\"),\n",
        "    (0, \"Qué día tan brillante y hermoso\"),\n",
        "    (0, \"Estoy exultante de felicidad\"),\n",
        "    (0, \"Todo está saliendo a la perfección\"),\n",
        "    (0, \"Estoy lleno de emociones positivas\"),\n",
        "    (0, \"Siento una gran paz y alegría\"),\n",
        "    (0, \"Hoy es un día lleno de posibilidades\"),\n",
        "    (0, \"Nada puede arruinar mi buen humor\"),\n",
        "    (0, \"Todo se siente más fácil y agradable\"),\n",
        "    (0, \"Es un día maravilloso para vivir\"),\n",
        "\n",
        "    # Frases de estado de ánimo \"Melancólico\"\n",
        "    (1, \"Me siento triste\"),\n",
        "    (1, \"Estoy melancólico\"),\n",
        "    (1, \"Hoy estoy nostálgico\"),\n",
        "    (1, \"Me siento deprimido\"),\n",
        "    (1, \"No puedo dejar de pensar en cosas tristes\"),\n",
        "    (1, \"Es un día gris\"),\n",
        "    (1, \"Me siento vacío\"),\n",
        "    (1, \"No tengo ánimos para nada\"),\n",
        "    (1, \"Estoy abatido\"),\n",
        "    (1, \"Todo me parece sombrío\"),\n",
        "    (1, \"Siento una gran tristeza\"),\n",
        "    (1, \"No me gusta este día\"),\n",
        "    (1, \"Es un día muy malo\"),\n",
        "    (1, \"Todo parece estar mal hoy\"),\n",
        "    (1, \"Nada me da consuelo hoy\"),\n",
        "    (1, \"Siento que todo es una carga\"),\n",
        "    (1, \"Estoy atrapado en mis pensamientos\"),\n",
        "    (1, \"No tengo energías para nada\"),\n",
        "    (1, \"Es un día sin color ni esperanza\"),\n",
        "    (1, \"Nada me hace sonreír hoy\"),\n",
        "    (1, \"No encuentro alegría en nada\"),\n",
        "    (1, \"Es un día de pura tristeza y soledad\"),\n",
        "    (1, \"Siento un vacío muy profundo\"),\n",
        "    (1, \"Nada tiene sentido hoy\"),\n",
        "    (1, \"Me siento como una sombra\"),\n",
        "\n",
        "    # Frases de estado de ánimo \"Ni fu ni fa\"\n",
        "    (2, \"No tengo ganas de hacer nada\"),\n",
        "    (2, \"Me siento neutral\"),\n",
        "    (2, \"Estoy cansado\"),\n",
        "    (2, \"Me da igual lo que pase\"),\n",
        "    (2, \"No me importa nada hoy\"),\n",
        "    (2, \"Estoy indiferente\"),\n",
        "    (2, \"No siento ni alegría ni tristeza\"),\n",
        "    (2, \"Hoy es un día normal\"),\n",
        "    (2, \"Estoy aburrido\"),\n",
        "    (2, \"Nada me parece interesante\"),\n",
        "    (2, \"No sé cómo me siento\"),\n",
        "    (2, \"Todo está igual que siempre\"),\n",
        "    (2, \"Nada especial sucede hoy\"),\n",
        "    (2, \"Es un día cualquiera\"),\n",
        "    (2, \"Hoy me siento indiferente a todo\"),\n",
        "    (2, \"Simplemente no siento nada\"),\n",
        "    (2, \"Es uno de esos días sin nada nuevo\"),\n",
        "    (2, \"Ni me siento bien ni mal\"),\n",
        "    (2, \"Nada me motiva particularmente\"),\n",
        "    (2, \"Es un día más, sin nada que contar\"),\n",
        "    (2, \"No tengo emociones intensas hoy\"),\n",
        "    (2, \"Hoy no pasa nada fuera de lo común\"),\n",
        "    (2, \"Es un día bastante monótono\"),\n",
        "    (2, \"Todo está en el mismo estado de siempre\"),\n",
        "    (2, \"Ni estoy triste ni contento, simplemente estoy\")\n",
        "]\n",
        "\n",
        "# Preparar X (frases) e y (etiquetas de estados de ánimo)\n",
        "X = [text.lower() for label, text in dataset]\n",
        "y = [label for label, text in dataset]\n",
        "\n",
        "# Dividir el dataset en entrenamiento y prueba\n",
        "X_train, X_test, y_train, y_test = train_test_split(X, y, test_size=0.2, random_state=42)\n",
        "\n",
        "# Vectorización del texto con TF-IDF, eliminando palabras vacías y usando bigramas\n",
        "vectorizer = TfidfVectorizer(stop_words=spanish_stop_words, ngram_range=(1, 2))\n",
        "X_train_vectorized = vectorizer.fit_transform(X_train)\n",
        "X_test_vectorized = vectorizer.transform(X_test)\n",
        "\n",
        "# Crear y entrenar el modelo de Regresión Logística con balance de clases\n",
        "modelo_LR = LogisticRegression(max_iter=1000, multi_class='multinomial', solver='lbfgs', class_weight='balanced')\n",
        "modelo_LR.fit(X_train_vectorized, y_train)\n",
        "\n",
        "# Evaluar el modelo con el conjunto de prueba\n",
        "y_pred_LR = modelo_LR.predict(X_test_vectorized)\n",
        "acc_LR = accuracy_score(y_test, y_pred_LR)\n",
        "report_LR = classification_report(y_test, y_pred_LR, zero_division=1)\n",
        "\n",
        "print(\"Precisión Regresión Logística:\", acc_LR)\n",
        "print(\"Reporte de clasificación Regresión Logística:\\n\", report_LR)\n",
        "\n"
      ],
      "metadata": {
        "colab": {
          "base_uri": "https://localhost:8080/"
        },
        "id": "rf5CfiPcPDXS",
        "outputId": "ea81f591-c9ee-426e-f6d7-32664e5cbdb3"
      },
      "execution_count": 23,
      "outputs": [
        {
          "output_type": "stream",
          "name": "stdout",
          "text": [
            "Precisión Regresión Logística: 0.3333333333333333\n",
            "Reporte de clasificación Regresión Logística:\n",
            "               precision    recall  f1-score   support\n",
            "\n",
            "           0       0.50      0.50      0.50         6\n",
            "           1       0.00      0.00      0.00         5\n",
            "           2       0.25      0.50      0.33         4\n",
            "\n",
            "    accuracy                           0.33        15\n",
            "   macro avg       0.25      0.33      0.28        15\n",
            "weighted avg       0.27      0.33      0.29        15\n",
            "\n"
          ]
        },
        {
          "output_type": "stream",
          "name": "stderr",
          "text": [
            "[nltk_data] Downloading package stopwords to /root/nltk_data...\n",
            "[nltk_data]   Package stopwords is already up-to-date!\n",
            "/usr/local/lib/python3.10/dist-packages/sklearn/linear_model/_logistic.py:1247: FutureWarning: 'multi_class' was deprecated in version 1.5 and will be removed in 1.7. From then on, it will always use 'multinomial'. Leave it to its default value to avoid this warning.\n",
            "  warnings.warn(\n"
          ]
        }
      ]
    },
    {
      "cell_type": "markdown",
      "source": [
        "Contamos con una precisión del 44% siendo el porcentaje de clasificaciones correctas."
      ],
      "metadata": {
        "id": "k-9QMeVzlBZU"
      }
    },
    {
      "cell_type": "markdown",
      "source": [
        "Probamos el modelo de clasificación:"
      ],
      "metadata": {
        "id": "u47EjmnWlYCG"
      }
    },
    {
      "cell_type": "code",
      "source": [
        "def predict_mood(user_input):\n",
        "    user_input_vectorized = vectorizer.transform([user_input.lower()])\n",
        "    mood_label = modelo_LR.predict(user_input_vectorized)[0]\n",
        "    return labels[mood_label][1]\n",
        "\n",
        "\n",
        "frase_usuario = \"Hoy me siento muy triste\"\n",
        "estado_animo = predict_mood(frase_usuario)\n",
        "print(f\"El estado de ánimo detectado es: {estado_animo}\")\n",
        "\n",
        "# Nuevas frases más distintas para probar el modelo\n",
        "nuevas_frases = [\n",
        "    \"No puedo evitar sentir una gran tristeza hoy\",  # Debería ser \"Melancólico\"\n",
        "    \"Siento que este es uno de los mejores días de mi vida\",  # Debería ser \"Alegre\"\n",
        "    \"Hoy todo me da lo mismo, nada me interesa realmente\",  # Debería ser \"Ni fu ni fa\"\n",
        "    \"No sé qué hacer, pero no estoy ni triste ni feliz\",  # Debería ser \"Ni fu ni fa\"\n",
        "    \"Me siento increíblemente emocionado y lleno de energía\",  # Debería ser \"Alegre\"\n",
        "    \"Todo parece gris y no veo nada que me anime\",  # Debería ser \"Melancólico\"\n",
        "    \"Este día está siendo tan normal como cualquier otro\",  # Debería ser \"Ni fu ni fa\"\n",
        "    \"No hay nada que me entusiasme, es como si estuviera vacío\",  # Debería ser \"Melancólico\"\n",
        "    \"Estoy muy agradecido por todo, este día es fantástico\",  # Debería ser \"Alegre\"\n",
        "    \"Hoy no me pasa nada en particular, no siento ni tristeza ni alegría\"  # Debería ser \"Ni fu ni fa\"\n",
        "]\n",
        "\n",
        "# Predecir los estados de ánimo para las nuevas frases\n",
        "for frase in nuevas_frases:\n",
        "    print(f\"La frase '{frase}' tiene el estado de ánimo: {predict_mood(frase)}\")\n"
      ],
      "metadata": {
        "colab": {
          "base_uri": "https://localhost:8080/"
        },
        "id": "QrCU_Iq8P63A",
        "outputId": "0d7102a0-f435-47aa-ef7c-59c0248c539c"
      },
      "execution_count": 24,
      "outputs": [
        {
          "output_type": "stream",
          "name": "stdout",
          "text": [
            "El estado de ánimo detectado es: Melancólico\n",
            "La frase 'No puedo evitar sentir una gran tristeza hoy' tiene el estado de ánimo: Melancólico\n",
            "La frase 'Siento que este es uno de los mejores días de mi vida' tiene el estado de ánimo: Ni fu ni fa\n",
            "La frase 'Hoy todo me da lo mismo, nada me interesa realmente' tiene el estado de ánimo: Ni fu ni fa\n",
            "La frase 'No sé qué hacer, pero no estoy ni triste ni feliz' tiene el estado de ánimo: Ni fu ni fa\n",
            "La frase 'Me siento increíblemente emocionado y lleno de energía' tiene el estado de ánimo: Alegre\n",
            "La frase 'Todo parece gris y no veo nada que me anime' tiene el estado de ánimo: Melancólico\n",
            "La frase 'Este día está siendo tan normal como cualquier otro' tiene el estado de ánimo: Alegre\n",
            "La frase 'No hay nada que me entusiasme, es como si estuviera vacío' tiene el estado de ánimo: Melancólico\n",
            "La frase 'Estoy muy agradecido por todo, este día es fantástico' tiene el estado de ánimo: Alegre\n",
            "La frase 'Hoy no me pasa nada en particular, no siento ni tristeza ni alegría' tiene el estado de ánimo: Ni fu ni fa\n"
          ]
        }
      ]
    },
    {
      "cell_type": "markdown",
      "source": [
        "**EN ESTE CASO, UTILIZAMOS SENTENCE TRANSFORMER**"
      ],
      "metadata": {
        "id": "nl9dIO0uT9pm"
      }
    },
    {
      "cell_type": "markdown",
      "source": [
        "Entrenamos un modelo de clasificación (de estado de ánimo) pero en este caso, utilizando embeddings generados por el modelo de SentenceTransforme."
      ],
      "metadata": {
        "id": "DwW21sx1lovf"
      }
    },
    {
      "cell_type": "code",
      "source": [
        "#model = SentenceTransformer('paraphrase-MiniLM-L6-v2')\n",
        "model = SentenceTransformer('intfloat/multilingual-e5-small')\n",
        "\n",
        "labels = [(0, \"Alegre\"), (1, \"Melancólico\"), (2, \"Ni fu ni fa\")]\n",
        "\n",
        "\n",
        "dataset = [\n",
        "    # Frases de estado de ánimo \"Alegre\"\n",
        "    (0, \"Estoy muy feliz\"),\n",
        "    (0, \"Hoy es un gran día\"),\n",
        "    (0, \"Me siento alegre\"),\n",
        "    (0, \"Es un día increíble\"),\n",
        "    (0, \"Estoy lleno de energía\"),\n",
        "    (0, \"Estoy muy contento hoy\"),\n",
        "    (0, \"Este es un día perfecto\"),\n",
        "    (0, \"Me siento lleno de vida\"),\n",
        "    (0, \"Estoy eufórico\"),\n",
        "    (0, \"Hoy es un día para celebrar\"),\n",
        "    (0, \"Siento mucha alegría en este día\"),\n",
        "    (0, \"Todo es perfecto hoy\"),\n",
        "    (0, \"Me encanta la vida\"),\n",
        "    (0, \"Es un día espectacular para disfrutar\"),\n",
        "    (0, \"Hoy estoy muy entusiasmado\"),\n",
        "    (0, \"Me siento agradecido y optimista\"),\n",
        "    (0, \"Qué día tan brillante y hermoso\"),\n",
        "    (0, \"Estoy exultante de felicidad\"),\n",
        "    (0, \"Todo está saliendo a la perfección\"),\n",
        "    (0, \"Estoy lleno de emociones positivas\"),\n",
        "    (0, \"Siento una gran paz y alegría\"),\n",
        "    (0, \"Hoy es un día lleno de posibilidades\"),\n",
        "    (0, \"Nada puede arruinar mi buen humor\"),\n",
        "    (0, \"Todo se siente más fácil y agradable\"),\n",
        "    (0, \"Es un día maravilloso para vivir\"),\n",
        "\n",
        "    # Frases de estado de ánimo \"Melancólico\"\n",
        "    (1, \"Me siento triste\"),\n",
        "    (1, \"Estoy melancólico\"),\n",
        "    (1, \"Hoy estoy nostálgico\"),\n",
        "    (1, \"Me siento deprimido\"),\n",
        "    (1, \"No puedo dejar de pensar en cosas tristes\"),\n",
        "    (1, \"Es un día gris\"),\n",
        "    (1, \"Me siento vacío\"),\n",
        "    (1, \"No tengo ánimos para nada\"),\n",
        "    (1, \"Estoy abatido\"),\n",
        "    (1, \"Todo me parece sombrío\"),\n",
        "    (1, \"Siento una gran tristeza\"),\n",
        "    (1, \"No me gusta este día\"),\n",
        "    (1, \"Es un día muy malo\"),\n",
        "    (1, \"Todo parece estar mal hoy\"),\n",
        "    (1, \"Nada me da consuelo hoy\"),\n",
        "    (1, \"Siento que todo es una carga\"),\n",
        "    (1, \"Estoy atrapado en mis pensamientos\"),\n",
        "    (1, \"No tengo energías para nada\"),\n",
        "    (1, \"Es un día sin color ni esperanza\"),\n",
        "    (1, \"Nada me hace sonreír hoy\"),\n",
        "    (1, \"No encuentro alegría en nada\"),\n",
        "    (1, \"Es un día de pura tristeza y soledad\"),\n",
        "    (1, \"Siento un vacío muy profundo\"),\n",
        "    (1, \"Nada tiene sentido hoy\"),\n",
        "    (1, \"Me siento como una sombra\"),\n",
        "\n",
        "    # Frases de estado de ánimo \"Ni fu ni fa\"\n",
        "    (2, \"No tengo ganas de hacer nada\"),\n",
        "    (2, \"Me siento neutral\"),\n",
        "    (2, \"Estoy cansado\"),\n",
        "    (2, \"Me da igual lo que pase\"),\n",
        "    (2, \"No me importa nada hoy\"),\n",
        "    (2, \"Estoy indiferente\"),\n",
        "    (2, \"No siento ni alegría ni tristeza\"),\n",
        "    (2, \"Hoy es un día normal\"),\n",
        "    (2, \"Estoy aburrido\"),\n",
        "    (2, \"Nada me parece interesante\"),\n",
        "    (2, \"No sé cómo me siento\"),\n",
        "    (2, \"Todo está igual que siempre\"),\n",
        "    (2, \"Nada especial sucede hoy\"),\n",
        "    (2, \"Es un día cualquiera\"),\n",
        "    (2, \"Hoy me siento indiferente a todo\"),\n",
        "    (2, \"Simplemente no siento nada\"),\n",
        "    (2, \"Es uno de esos días sin nada nuevo\"),\n",
        "    (2, \"Ni me siento bien ni mal\"),\n",
        "    (2, \"Nada me motiva particularmente\"),\n",
        "    (2, \"Es un día más, sin nada que contar\"),\n",
        "    (2, \"No tengo emociones intensas hoy\"),\n",
        "    (2, \"Hoy no pasa nada fuera de lo común\"),\n",
        "    (2, \"Es un día bastante monótono\"),\n",
        "    (2, \"Todo está en el mismo estado de siempre\"),\n",
        "    (2, \"Ni estoy triste ni contento, simplemente estoy\")\n",
        "]\n",
        "\n",
        "# Preparar X (frases) e y (etiquetas de estados de ánimo)\n",
        "X = [text.lower() for label, text in dataset]\n",
        "y = [label for label, text in dataset]\n",
        "\n",
        "# Generar los embeddings para las frases usando el modelo preentrenado\n",
        "X_embeddings = model.encode(X)\n",
        "\n",
        "# Dividir el dataset en entrenamiento y prueba\n",
        "X_train, X_test, y_train, y_test = train_test_split(X_embeddings, y, test_size=0.2, random_state=42)\n",
        "\n",
        "# Crear y entrenar el modelo de Regresión Logística\n",
        "modelo_LR = LogisticRegression(max_iter=1000, multi_class='multinomial', solver='lbfgs', class_weight='balanced')\n",
        "modelo_LR.fit(X_train, y_train)\n",
        "\n",
        "# Evaluación del modelo\n",
        "y_pred_LR = modelo_LR.predict(X_test)\n",
        "acc_LR = accuracy_score(y_test, y_pred_LR)\n",
        "report_LR = classification_report(y_test, y_pred_LR, zero_division=1)\n",
        "print(\"Precisión Regresión Logística:\", acc_LR)\n",
        "print(\"Reporte de clasificación Regresión Logística:\\n\", report_LR)"
      ],
      "metadata": {
        "colab": {
          "base_uri": "https://localhost:8080/"
        },
        "id": "C-H8A1w4SJRD",
        "outputId": "15168510-059d-4ff3-a218-c684adb302d1"
      },
      "execution_count": 29,
      "outputs": [
        {
          "output_type": "stream",
          "name": "stdout",
          "text": [
            "Precisión Regresión Logística: 0.8\n",
            "Reporte de clasificación Regresión Logística:\n",
            "               precision    recall  f1-score   support\n",
            "\n",
            "           0       0.86      1.00      0.92         6\n",
            "           1       0.80      0.80      0.80         5\n",
            "           2       0.67      0.50      0.57         4\n",
            "\n",
            "    accuracy                           0.80        15\n",
            "   macro avg       0.77      0.77      0.76        15\n",
            "weighted avg       0.79      0.80      0.79        15\n",
            "\n"
          ]
        },
        {
          "output_type": "stream",
          "name": "stderr",
          "text": [
            "/usr/local/lib/python3.10/dist-packages/sklearn/linear_model/_logistic.py:1247: FutureWarning: 'multi_class' was deprecated in version 1.5 and will be removed in 1.7. From then on, it will always use 'multinomial'. Leave it to its default value to avoid this warning.\n",
            "  warnings.warn(\n"
          ]
        }
      ]
    },
    {
      "cell_type": "markdown",
      "source": [
        "La precisión obtenida en dicho modelo es del 80%, siendo ese porcentaje de las prediciones realizadas de forma correcta."
      ],
      "metadata": {
        "id": "T9QglYXznc9I"
      }
    },
    {
      "cell_type": "markdown",
      "source": [
        "Prueba del modelo:"
      ],
      "metadata": {
        "id": "bV6T4t44mMkC"
      }
    },
    {
      "cell_type": "code",
      "source": [
        "def predict_mood_st(user_input):\n",
        "    user_input_embedding = model.encode([user_input.lower()])\n",
        "    mood_label = modelo_LR.predict(user_input_embedding)[0]\n",
        "    return labels[mood_label][1]\n",
        "\n",
        "frase_usuario = \"Hoy me siento muy triste\"\n",
        "estado_animo = predict_mood_st(frase_usuario)\n",
        "print(f\"El estado de ánimo detectado es: {estado_animo}\")\n",
        "\n",
        "nuevas_frases = [\n",
        "    \"No puedo evitar sentir una gran tristeza hoy\",  # Debería ser \"Melancólico\"\n",
        "    \"Siento que este es uno de los mejores días de mi vida\",  # Debería ser \"Alegre\"\n",
        "    \"Hoy todo me da lo mismo, nada me interesa realmente\",  # Debería ser \"Ni fu ni fa\"\n",
        "    \"No sé qué hacer, pero no estoy ni triste ni feliz\",  # Debería ser \"Ni fu ni fa\"\n",
        "    \"Me siento increíblemente emocionado y lleno de energía\",  # Debería ser \"Alegre\"\n",
        "    \"Todo parece gris y no veo nada que me anime\",  # Debería ser \"Melancólico\"\n",
        "    \"Este día está siendo tan normal como cualquier otro\",  # Debería ser \"Ni fu ni fa\"\n",
        "    \"No hay nada que me entusiasme, es como si estuviera vacío\",  # Debería ser \"Melancólico\"\n",
        "    \"Estoy muy agradecido por todo, este día es fantástico\",  # Debería ser \"Alegre\"\n",
        "    \"Hoy no me pasa nada en particular, no siento ni tristeza ni alegría\"  # Debería ser \"Ni fu ni fa\"\n",
        "]\n",
        "\n",
        "\n",
        "for frase in nuevas_frases:\n",
        "    print(f\"La frase '{frase}' tiene el estado de ánimo: {predict_mood_st(frase)}\")"
      ],
      "metadata": {
        "colab": {
          "base_uri": "https://localhost:8080/"
        },
        "id": "pG2Qj4TASpum",
        "outputId": "e1f5e96a-c680-448e-d355-b02fa0fa8a1e"
      },
      "execution_count": 30,
      "outputs": [
        {
          "output_type": "stream",
          "name": "stdout",
          "text": [
            "El estado de ánimo detectado es: Melancólico\n",
            "La frase 'No puedo evitar sentir una gran tristeza hoy' tiene el estado de ánimo: Melancólico\n",
            "La frase 'Siento que este es uno de los mejores días de mi vida' tiene el estado de ánimo: Alegre\n",
            "La frase 'Hoy todo me da lo mismo, nada me interesa realmente' tiene el estado de ánimo: Ni fu ni fa\n",
            "La frase 'No sé qué hacer, pero no estoy ni triste ni feliz' tiene el estado de ánimo: Ni fu ni fa\n",
            "La frase 'Me siento increíblemente emocionado y lleno de energía' tiene el estado de ánimo: Alegre\n",
            "La frase 'Todo parece gris y no veo nada que me anime' tiene el estado de ánimo: Melancólico\n",
            "La frase 'Este día está siendo tan normal como cualquier otro' tiene el estado de ánimo: Alegre\n",
            "La frase 'No hay nada que me entusiasme, es como si estuviera vacío' tiene el estado de ánimo: Ni fu ni fa\n",
            "La frase 'Estoy muy agradecido por todo, este día es fantástico' tiene el estado de ánimo: Alegre\n",
            "La frase 'Hoy no me pasa nada en particular, no siento ni tristeza ni alegría' tiene el estado de ánimo: Ni fu ni fa\n"
          ]
        }
      ]
    },
    {
      "cell_type": "markdown",
      "source": [
        "Como podemos ver, con SentenceTransformer, el modelo tiene mejores métricas.\n",
        "\n"
      ],
      "metadata": {
        "id": "XwrfdF6VSdoO"
      }
    },
    {
      "cell_type": "markdown",
      "source": [
        "Vamos a buscar extraer entidades nombradas de textos en español y luego usamos el modelo SpaCy para identificar y clasificar estas entidades dentro de una frase dada."
      ],
      "metadata": {
        "id": "9HF6Nhoio5Mc"
      }
    },
    {
      "cell_type": "code",
      "source": [
        "# Descargar stopwords en español\n",
        "nltk.download('stopwords')\n",
        "\n",
        "# Obtener las stopwords en español\n",
        "spanish_stop_words = stopwords.words('spanish')\n"
      ],
      "metadata": {
        "colab": {
          "base_uri": "https://localhost:8080/"
        },
        "id": "uxl1nZVtXbbo",
        "outputId": "36fbac40-d504-43b4-8c43-ca739090ae0f"
      },
      "execution_count": 31,
      "outputs": [
        {
          "output_type": "stream",
          "name": "stderr",
          "text": [
            "[nltk_data] Downloading package stopwords to /root/nltk_data...\n",
            "[nltk_data]   Package stopwords is already up-to-date!\n"
          ]
        }
      ]
    },
    {
      "cell_type": "code",
      "source": [
        "nlp = spacy.load('es_core_news_md')\n",
        "\n",
        "def extraer_entidades(texto):\n",
        "    doc = nlp(texto)\n",
        "    entidades = [(ent.text, ent.label_) for ent in doc.ents]\n",
        "    return entidades\n",
        "\n",
        "# Ejemplo de uso de la función de extracción de entidades\n",
        "frase_usuario = \"Quiero ver una historia de amor en París con personajes como Napoleón\"\n",
        "entidades = extraer_entidades(frase_usuario)\n",
        "print(\"Entidades nombradas extraídas:\", entidades)\n"
      ],
      "metadata": {
        "colab": {
          "base_uri": "https://localhost:8080/"
        },
        "id": "KWbYnT3lVRxv",
        "outputId": "51c76251-f9d4-4650-febc-cdd3029cdc0b"
      },
      "execution_count": 32,
      "outputs": [
        {
          "output_type": "stream",
          "name": "stdout",
          "text": [
            "Entidades nombradas extraídas: [('París', 'LOC'), ('Napoleón', 'PER')]\n"
          ]
        }
      ]
    },
    {
      "cell_type": "markdown",
      "source": [
        "Definimos una función para que los usuarios ingresen sus preferencias o intereses sobre un tema específico."
      ],
      "metadata": {
        "id": "JkETbVi4phjJ"
      }
    },
    {
      "cell_type": "code",
      "source": [
        "# Función para ingresar preferencias del usuario\n",
        "def ingresar_preferencias():\n",
        "    preferencia_usuario = input(\"Describe la temática que te gustaría explorar: \")\n",
        "    return preferencia_usuario"
      ],
      "metadata": {
        "id": "zr1rmYpnWu40"
      },
      "execution_count": 33,
      "outputs": []
    },
    {
      "cell_type": "code",
      "source": [
        "#Imprimimos información sobre los juegos de mesas\n",
        "print(f\"Cantidad de juegos de mesa: {len(board_games_df)}\")\n",
        "print(f\"Primeras filas de juegos de mesa: {board_games_df.head()}\")"
      ],
      "metadata": {
        "colab": {
          "base_uri": "https://localhost:8080/"
        },
        "id": "_NeXVl98eL3w",
        "outputId": "1095e3e1-3d33-4e9b-aba2-fbe4ab22610b"
      },
      "execution_count": 34,
      "outputs": [
        {
          "output_type": "stream",
          "name": "stdout",
          "text": [
            "Cantidad de juegos de mesa: 1000\n",
            "Primeras filas de juegos de mesa:    rank                          game_name  \\\n",
            "0     1                  Brass: Birmingham   \n",
            "1     2          Pandemic Legacy: Season 1   \n",
            "2     3                         Gloomhaven   \n",
            "3     4                           Ark Nova   \n",
            "4     5  Twilight Imperium: Fourth Edition   \n",
            "\n",
            "                                           game_href  geek_rating  avg_rating  \\\n",
            "0  https://boardgamegeek.com/boardgame/224517/bra...        8.415        8.60   \n",
            "1  https://boardgamegeek.com/boardgame/161936/pan...        8.377        8.53   \n",
            "2  https://boardgamegeek.com/boardgame/174430/glo...        8.349        8.59   \n",
            "3  https://boardgamegeek.com/boardgame/342942/ark...        8.335        8.54   \n",
            "4  https://boardgamegeek.com/boardgame/233078/twi...        8.240        8.60   \n",
            "\n",
            "   num_voters                                        description  \\\n",
            "0     46836.0  Brass: Birmingham is an economic strategy game...   \n",
            "1     53807.0  Pandemic Legacy is a co-operative campaign gam...   \n",
            "2     62592.0  Gloomhaven  is a game of Euro-inspired tactica...   \n",
            "3     44728.0  In Ark Nova, you will plan and design a modern...   \n",
            "4     24148.0  Twilight Imperium (Fourth Edition) is a game o...   \n",
            "\n",
            "   yearpublished  minplayers  maxplayers  minplaytime  maxplaytime  minage  \\\n",
            "0           2018           2           4           60          120      14   \n",
            "1           2015           2           4           60           60      13   \n",
            "2           2017           1           4           60          120      14   \n",
            "3           2021           1           4           90          150      14   \n",
            "4           2017           3           6          240          480      14   \n",
            "\n",
            "   avgweight        best_num_players  \\\n",
            "0     3.8776  [{'min': 3, 'max': 4}]   \n",
            "1     2.8308  [{'min': 4, 'max': 4}]   \n",
            "2     3.9132  [{'min': 3, 'max': 3}]   \n",
            "3     3.7653  [{'min': 2, 'max': 2}]   \n",
            "4     4.3173  [{'min': 6, 'max': 6}]   \n",
            "\n",
            "                                           designers  \\\n",
            "0   ['Gavan Brown', 'Matt Tolman', 'Martin Wallace']   \n",
            "1                     ['Rob Daviau', 'Matt Leacock']   \n",
            "2                                 ['Isaac Childres']   \n",
            "3                                  ['Mathias Wigge']   \n",
            "4  ['Dane Beltrami', 'Corey Konieczka', 'Christia...   \n",
            "\n",
            "                                           mechanics  \\\n",
            "0  ['Hand Management', 'Income', 'Loans', 'Market...   \n",
            "1  ['Action Points', 'Cooperative Game', 'Hand Ma...   \n",
            "2  ['Action Queue', 'Action Retrieval', 'Campaign...   \n",
            "3  ['Action Queue', 'End Game Bonuses', 'Grid Cov...   \n",
            "4  ['Action Drafting', 'Area-Impulse', 'Dice Roll...   \n",
            "\n",
            "                                          categories  \n",
            "0  ['Age of Reason', 'Economic', 'Industry / Manu...  \n",
            "1                       ['Environmental', 'Medical']  \n",
            "2  ['Adventure', 'Exploration', 'Fantasy', 'Fight...  \n",
            "3           ['Animals', 'Economic', 'Environmental']  \n",
            "4  ['Civilization', 'Economic', 'Exploration', 'N...  \n"
          ]
        }
      ]
    },
    {
      "cell_type": "code",
      "source": [
        "# Procesar descripciones y títulos\n",
        "board_game_desc = board_games_df['description'].fillna('')\n",
        "movie_desc = movies_df['Description'].fillna('')\n",
        "book_titles = books_df['Title'].fillna('')\n",
        "all_descriptions = pd.concat([board_game_desc, movie_desc, book_titles], ignore_index=True)\n",
        "\n",
        "# Vectorización\n",
        "vectorizer = TfidfVectorizer(stop_words=spanish_stop_words, ngram_range=(1, 2))\n",
        "desc_vectors = vectorizer.fit_transform(all_descriptions)\n",
        "\n",
        "# Funciones para cada tipo de recomendación\n",
        "def recomendar_juegos(similarity_scores):\n",
        "    top_indices = similarity_scores[:len(board_game_desc)].argsort()[-3:][::-1]\n",
        "    return [f\"Juego de mesa: {board_games_df.iloc[idx]['game_name']}\" for idx in top_indices]\n",
        "\n",
        "def recomendar_peliculas(similarity_scores):\n",
        "    start, end = len(board_game_desc), len(board_game_desc) + len(movie_desc)\n",
        "    top_indices = similarity_scores[start:end].argsort()[-3:][::-1]\n",
        "    return [\n",
        "        f\"Película: {movies_df.iloc[idx]['Title']}, Actores: {movies_df.iloc[idx]['Actors']}\"\n",
        "        for idx in top_indices\n",
        "    ]\n",
        "\n",
        "def recomendar_libros(similarity_scores):\n",
        "    start = len(board_game_desc) + len(movie_desc)\n",
        "    top_indices = similarity_scores[start:].argsort()[-3:][::-1]\n",
        "    return [\n",
        "        f\"Libro: {books_df.iloc[idx]['Title']}, Autor: {books_df.iloc[idx]['Author']}\"\n",
        "        for idx in top_indices\n",
        "    ]\n",
        "\n",
        "# Función principal de recomendación\n",
        "def recomendar_con_entidades(user_input):\n",
        "    entidades = extraer_entidades(user_input)\n",
        "    if entidades:\n",
        "        print(f\"Entidades encontradas en la frase: {entidades}\")\n",
        "\n",
        "    # Calcular la similitud del input con los vectores de descripción\n",
        "    user_input_vector = vectorizer.transform([user_input])\n",
        "    similarity_scores = cosine_similarity(user_input_vector, desc_vectors).flatten()\n",
        "\n",
        "    recomendaciones = []\n",
        "\n",
        "    # 3 recomendaciones para cada categoría\n",
        "    recomendaciones += recomendar_juegos(similarity_scores)\n",
        "    recomendaciones += recomendar_peliculas(similarity_scores)\n",
        "    recomendaciones += recomendar_libros(similarity_scores)\n",
        "\n",
        "\n",
        "    return recomendaciones[:9]"
      ],
      "metadata": {
        "id": "DLaOKScMV9d_"
      },
      "execution_count": 35,
      "outputs": []
    },
    {
      "cell_type": "code",
      "source": [
        "all_descriptions"
      ],
      "metadata": {
        "colab": {
          "base_uri": "https://localhost:8080/",
          "height": 458
        },
        "id": "evOeWMRXYKx-",
        "outputId": "5242320e-f187-4c86-ac8a-7eeda70cd8ed"
      },
      "execution_count": 36,
      "outputs": [
        {
          "output_type": "execute_result",
          "data": {
            "text/plain": [
              "0       Brass: Birmingham is an economic strategy game...\n",
              "1       Pandemic Legacy is a co-operative campaign gam...\n",
              "2       Gloomhaven  is a game of Euro-inspired tactica...\n",
              "3       In Ark Nova, you will plan and design a modern...\n",
              "4       Twilight Imperium (Fourth Edition) is a game o...\n",
              "                              ...                        \n",
              "4825                    A handy dictionary of mythology :\n",
              "4826                  The little book of life after death\n",
              "4827                                                 Orms\n",
              "4828                                                  Der\n",
              "4829                                                  Sel\n",
              "Length: 4830, dtype: object"
            ],
            "text/html": [
              "<div>\n",
              "<style scoped>\n",
              "    .dataframe tbody tr th:only-of-type {\n",
              "        vertical-align: middle;\n",
              "    }\n",
              "\n",
              "    .dataframe tbody tr th {\n",
              "        vertical-align: top;\n",
              "    }\n",
              "\n",
              "    .dataframe thead th {\n",
              "        text-align: right;\n",
              "    }\n",
              "</style>\n",
              "<table border=\"1\" class=\"dataframe\">\n",
              "  <thead>\n",
              "    <tr style=\"text-align: right;\">\n",
              "      <th></th>\n",
              "      <th>0</th>\n",
              "    </tr>\n",
              "  </thead>\n",
              "  <tbody>\n",
              "    <tr>\n",
              "      <th>0</th>\n",
              "      <td>Brass: Birmingham is an economic strategy game...</td>\n",
              "    </tr>\n",
              "    <tr>\n",
              "      <th>1</th>\n",
              "      <td>Pandemic Legacy is a co-operative campaign gam...</td>\n",
              "    </tr>\n",
              "    <tr>\n",
              "      <th>2</th>\n",
              "      <td>Gloomhaven  is a game of Euro-inspired tactica...</td>\n",
              "    </tr>\n",
              "    <tr>\n",
              "      <th>3</th>\n",
              "      <td>In Ark Nova, you will plan and design a modern...</td>\n",
              "    </tr>\n",
              "    <tr>\n",
              "      <th>4</th>\n",
              "      <td>Twilight Imperium (Fourth Edition) is a game o...</td>\n",
              "    </tr>\n",
              "    <tr>\n",
              "      <th>...</th>\n",
              "      <td>...</td>\n",
              "    </tr>\n",
              "    <tr>\n",
              "      <th>4825</th>\n",
              "      <td>A handy dictionary of mythology :</td>\n",
              "    </tr>\n",
              "    <tr>\n",
              "      <th>4826</th>\n",
              "      <td>The little book of life after death</td>\n",
              "    </tr>\n",
              "    <tr>\n",
              "      <th>4827</th>\n",
              "      <td>Orms</td>\n",
              "    </tr>\n",
              "    <tr>\n",
              "      <th>4828</th>\n",
              "      <td>Der</td>\n",
              "    </tr>\n",
              "    <tr>\n",
              "      <th>4829</th>\n",
              "      <td>Sel</td>\n",
              "    </tr>\n",
              "  </tbody>\n",
              "</table>\n",
              "<p>4830 rows × 1 columns</p>\n",
              "</div><br><label><b>dtype:</b> object</label>"
            ]
          },
          "metadata": {},
          "execution_count": 36
        }
      ]
    },
    {
      "cell_type": "code",
      "source": [
        "def mostrar_interfaz():\n",
        "\n",
        "    estado_animo_input = widgets.Text(\n",
        "        value='',\n",
        "        placeholder='¿Cómo te sientes hoy?',\n",
        "        description='Estado de Ánimo:',\n",
        "        disabled=False\n",
        "    )\n",
        "\n",
        "    preferencia_input = widgets.Text(\n",
        "        value='',\n",
        "        placeholder='Describe la temática que te gustaría explorar',\n",
        "        description='Preferencia:',\n",
        "        disabled=False\n",
        "    )\n",
        "\n",
        "    boton_enviar = widgets.Button(description=\"Obtener Recomendaciones\")\n",
        "\n",
        "\n",
        "    output = widgets.Output()\n",
        "\n",
        "\n",
        "    def on_button_clicked(b):\n",
        "        with output:\n",
        "            output.clear_output()\n",
        "\n",
        "            estado_animo = estado_animo_input.value\n",
        "            preferencia = preferencia_input.value\n",
        "\n",
        "\n",
        "            estado_detectado = predict_mood_st(estado_animo)\n",
        "            print(f\"Estado de ánimo detectado: {estado_detectado}\")\n",
        "\n",
        "\n",
        "            recomendaciones = recomendar_con_entidades(preferencia)\n",
        "            print(\"\\nRecomendaciones:\")\n",
        "            for rec in recomendaciones:\n",
        "                print(rec)\n",
        "\n",
        "\n",
        "    boton_enviar.on_click(on_button_clicked)\n",
        "\n",
        "    display(estado_animo_input, preferencia_input, boton_enviar, output)\n",
        "\n",
        "# Ejecutar la interfaz\n",
        "mostrar_interfaz()"
      ],
      "metadata": {
        "colab": {
          "base_uri": "https://localhost:8080/",
          "height": 320,
          "referenced_widgets": [
            "db0da2fabeab47cf96c83bc354e36f81",
            "5fc745aad54a4db3a0d20c6818bcf5b3",
            "f7f3f0c6b4424e62aa97b52ce8b99aaa",
            "78ead3a3435a42028950c0fa2db88836",
            "b96c7fa77696419b8e39e8d81cb45b23",
            "2d29e717b99644699bd49eaa08647b3c",
            "07f62018acd945af9dbe5e0b108b00fc",
            "f2f078bf7093405ca572bdb21f1f4795",
            "2d8868a7d8c942dbb07015a292a0264b",
            "9cb3ce34ccd64469b9238ffce3dd8883",
            "0702e7e1c92143f19e01bde105172b3a"
          ]
        },
        "id": "SPtT66I9YUbC",
        "outputId": "7bcb51f0-e346-44db-a3e8-9bdf9b3fda54"
      },
      "execution_count": 37,
      "outputs": [
        {
          "output_type": "display_data",
          "data": {
            "text/plain": [
              "Text(value='', description='Estado de Ánimo:', placeholder='¿Cómo te sientes hoy?')"
            ],
            "application/vnd.jupyter.widget-view+json": {
              "version_major": 2,
              "version_minor": 0,
              "model_id": "db0da2fabeab47cf96c83bc354e36f81"
            }
          },
          "metadata": {}
        },
        {
          "output_type": "display_data",
          "data": {
            "text/plain": [
              "Text(value='', description='Preferencia:', placeholder='Describe la temática que te gustaría explorar')"
            ],
            "application/vnd.jupyter.widget-view+json": {
              "version_major": 2,
              "version_minor": 0,
              "model_id": "78ead3a3435a42028950c0fa2db88836"
            }
          },
          "metadata": {}
        },
        {
          "output_type": "display_data",
          "data": {
            "text/plain": [
              "Button(description='Obtener Recomendaciones', style=ButtonStyle())"
            ],
            "application/vnd.jupyter.widget-view+json": {
              "version_major": 2,
              "version_minor": 0,
              "model_id": "07f62018acd945af9dbe5e0b108b00fc"
            }
          },
          "metadata": {}
        },
        {
          "output_type": "display_data",
          "data": {
            "text/plain": [
              "Output()"
            ],
            "application/vnd.jupyter.widget-view+json": {
              "version_major": 2,
              "version_minor": 0,
              "model_id": "9cb3ce34ccd64469b9238ffce3dd8883"
            }
          },
          "metadata": {}
        }
      ]
    },
    {
      "cell_type": "markdown",
      "source": [
        "3 RECOMENDACIONES DE CADA CSV\n"
      ],
      "metadata": {
        "id": "ZsCIiZEfsM3E"
      }
    }
  ]
}