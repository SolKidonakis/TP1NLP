{
  "nbformat": 4,
  "nbformat_minor": 0,
  "metadata": {
    "colab": {
      "provenance": []
    },
    "kernelspec": {
      "name": "python3",
      "display_name": "Python 3"
    },
    "language_info": {
      "name": "python"
    },
    "widgets": {
      "application/vnd.jupyter.widget-state+json": {
        "2bb6be99590d414cb5b6f9fee8216434": {
          "model_module": "@jupyter-widgets/controls",
          "model_name": "TextModel",
          "model_module_version": "1.5.0",
          "state": {
            "_dom_classes": [],
            "_model_module": "@jupyter-widgets/controls",
            "_model_module_version": "1.5.0",
            "_model_name": "TextModel",
            "_view_count": null,
            "_view_module": "@jupyter-widgets/controls",
            "_view_module_version": "1.5.0",
            "_view_name": "TextView",
            "continuous_update": true,
            "description": "Estado de Ánimo:",
            "description_tooltip": null,
            "disabled": false,
            "layout": "IPY_MODEL_e5d0a1eb594e42f29429024757979d30",
            "placeholder": "¿Cómo te sientes hoy?",
            "style": "IPY_MODEL_aa5e80c2830e48cb888f2492f1475641",
            "value": "bien"
          }
        },
        "e5d0a1eb594e42f29429024757979d30": {
          "model_module": "@jupyter-widgets/base",
          "model_name": "LayoutModel",
          "model_module_version": "1.2.0",
          "state": {
            "_model_module": "@jupyter-widgets/base",
            "_model_module_version": "1.2.0",
            "_model_name": "LayoutModel",
            "_view_count": null,
            "_view_module": "@jupyter-widgets/base",
            "_view_module_version": "1.2.0",
            "_view_name": "LayoutView",
            "align_content": null,
            "align_items": null,
            "align_self": null,
            "border": null,
            "bottom": null,
            "display": null,
            "flex": null,
            "flex_flow": null,
            "grid_area": null,
            "grid_auto_columns": null,
            "grid_auto_flow": null,
            "grid_auto_rows": null,
            "grid_column": null,
            "grid_gap": null,
            "grid_row": null,
            "grid_template_areas": null,
            "grid_template_columns": null,
            "grid_template_rows": null,
            "height": null,
            "justify_content": null,
            "justify_items": null,
            "left": null,
            "margin": null,
            "max_height": null,
            "max_width": null,
            "min_height": null,
            "min_width": null,
            "object_fit": null,
            "object_position": null,
            "order": null,
            "overflow": null,
            "overflow_x": null,
            "overflow_y": null,
            "padding": null,
            "right": null,
            "top": null,
            "visibility": null,
            "width": null
          }
        },
        "aa5e80c2830e48cb888f2492f1475641": {
          "model_module": "@jupyter-widgets/controls",
          "model_name": "DescriptionStyleModel",
          "model_module_version": "1.5.0",
          "state": {
            "_model_module": "@jupyter-widgets/controls",
            "_model_module_version": "1.5.0",
            "_model_name": "DescriptionStyleModel",
            "_view_count": null,
            "_view_module": "@jupyter-widgets/base",
            "_view_module_version": "1.2.0",
            "_view_name": "StyleView",
            "description_width": ""
          }
        },
        "4944319c158e40b7bc07411fa1767427": {
          "model_module": "@jupyter-widgets/controls",
          "model_name": "TextModel",
          "model_module_version": "1.5.0",
          "state": {
            "_dom_classes": [],
            "_model_module": "@jupyter-widgets/controls",
            "_model_module_version": "1.5.0",
            "_model_name": "TextModel",
            "_view_count": null,
            "_view_module": "@jupyter-widgets/controls",
            "_view_module_version": "1.5.0",
            "_view_name": "TextView",
            "continuous_update": true,
            "description": "Preferencia:",
            "description_tooltip": null,
            "disabled": false,
            "layout": "IPY_MODEL_a4eb2b8579b34d9ab6a145e97c405475",
            "placeholder": "Describe la temática que te gustaría explorar",
            "style": "IPY_MODEL_40a8c0c221744b43905b46276cd421e0",
            "value": "quiero leer algo escrito por jane austen"
          }
        },
        "a4eb2b8579b34d9ab6a145e97c405475": {
          "model_module": "@jupyter-widgets/base",
          "model_name": "LayoutModel",
          "model_module_version": "1.2.0",
          "state": {
            "_model_module": "@jupyter-widgets/base",
            "_model_module_version": "1.2.0",
            "_model_name": "LayoutModel",
            "_view_count": null,
            "_view_module": "@jupyter-widgets/base",
            "_view_module_version": "1.2.0",
            "_view_name": "LayoutView",
            "align_content": null,
            "align_items": null,
            "align_self": null,
            "border": null,
            "bottom": null,
            "display": null,
            "flex": null,
            "flex_flow": null,
            "grid_area": null,
            "grid_auto_columns": null,
            "grid_auto_flow": null,
            "grid_auto_rows": null,
            "grid_column": null,
            "grid_gap": null,
            "grid_row": null,
            "grid_template_areas": null,
            "grid_template_columns": null,
            "grid_template_rows": null,
            "height": null,
            "justify_content": null,
            "justify_items": null,
            "left": null,
            "margin": null,
            "max_height": null,
            "max_width": null,
            "min_height": null,
            "min_width": null,
            "object_fit": null,
            "object_position": null,
            "order": null,
            "overflow": null,
            "overflow_x": null,
            "overflow_y": null,
            "padding": null,
            "right": null,
            "top": null,
            "visibility": null,
            "width": null
          }
        },
        "40a8c0c221744b43905b46276cd421e0": {
          "model_module": "@jupyter-widgets/controls",
          "model_name": "DescriptionStyleModel",
          "model_module_version": "1.5.0",
          "state": {
            "_model_module": "@jupyter-widgets/controls",
            "_model_module_version": "1.5.0",
            "_model_name": "DescriptionStyleModel",
            "_view_count": null,
            "_view_module": "@jupyter-widgets/base",
            "_view_module_version": "1.2.0",
            "_view_name": "StyleView",
            "description_width": ""
          }
        },
        "25e2893e9cb24110809d46ad2d72dc3a": {
          "model_module": "@jupyter-widgets/controls",
          "model_name": "ButtonModel",
          "model_module_version": "1.5.0",
          "state": {
            "_dom_classes": [],
            "_model_module": "@jupyter-widgets/controls",
            "_model_module_version": "1.5.0",
            "_model_name": "ButtonModel",
            "_view_count": null,
            "_view_module": "@jupyter-widgets/controls",
            "_view_module_version": "1.5.0",
            "_view_name": "ButtonView",
            "button_style": "",
            "description": "Obtener Recomendaciones",
            "disabled": false,
            "icon": "",
            "layout": "IPY_MODEL_973c4a6218ed4d07a8ea9efffdc45f3d",
            "style": "IPY_MODEL_e067a0cbab9f4246a6042db0645da3c6",
            "tooltip": ""
          }
        },
        "973c4a6218ed4d07a8ea9efffdc45f3d": {
          "model_module": "@jupyter-widgets/base",
          "model_name": "LayoutModel",
          "model_module_version": "1.2.0",
          "state": {
            "_model_module": "@jupyter-widgets/base",
            "_model_module_version": "1.2.0",
            "_model_name": "LayoutModel",
            "_view_count": null,
            "_view_module": "@jupyter-widgets/base",
            "_view_module_version": "1.2.0",
            "_view_name": "LayoutView",
            "align_content": null,
            "align_items": null,
            "align_self": null,
            "border": null,
            "bottom": null,
            "display": null,
            "flex": null,
            "flex_flow": null,
            "grid_area": null,
            "grid_auto_columns": null,
            "grid_auto_flow": null,
            "grid_auto_rows": null,
            "grid_column": null,
            "grid_gap": null,
            "grid_row": null,
            "grid_template_areas": null,
            "grid_template_columns": null,
            "grid_template_rows": null,
            "height": null,
            "justify_content": null,
            "justify_items": null,
            "left": null,
            "margin": null,
            "max_height": null,
            "max_width": null,
            "min_height": null,
            "min_width": null,
            "object_fit": null,
            "object_position": null,
            "order": null,
            "overflow": null,
            "overflow_x": null,
            "overflow_y": null,
            "padding": null,
            "right": null,
            "top": null,
            "visibility": null,
            "width": null
          }
        },
        "e067a0cbab9f4246a6042db0645da3c6": {
          "model_module": "@jupyter-widgets/controls",
          "model_name": "ButtonStyleModel",
          "model_module_version": "1.5.0",
          "state": {
            "_model_module": "@jupyter-widgets/controls",
            "_model_module_version": "1.5.0",
            "_model_name": "ButtonStyleModel",
            "_view_count": null,
            "_view_module": "@jupyter-widgets/base",
            "_view_module_version": "1.2.0",
            "_view_name": "StyleView",
            "button_color": null,
            "font_weight": ""
          }
        },
        "0a6429ac0f6e4164857bc57d9d355a45": {
          "model_module": "@jupyter-widgets/output",
          "model_name": "OutputModel",
          "model_module_version": "1.0.0",
          "state": {
            "_dom_classes": [],
            "_model_module": "@jupyter-widgets/output",
            "_model_module_version": "1.0.0",
            "_model_name": "OutputModel",
            "_view_count": null,
            "_view_module": "@jupyter-widgets/output",
            "_view_module_version": "1.0.0",
            "_view_name": "OutputView",
            "layout": "IPY_MODEL_489fea79222e466682a7ff8f0e0e8308",
            "msg_id": "",
            "outputs": [
              {
                "output_type": "stream",
                "name": "stdout",
                "text": [
                  "Estado de ánimo detectado: Alegre\n",
                  "Entidades encontradas en la frase: [('jane austen', 'PER')]\n",
                  "\n",
                  "Recomendaciones:\n",
                  "Juego de mesa: Sherlock Holmes Consulting Detective: Jack the Ripper & West End Adventures\n",
                  "Juego de mesa: Dungeons & Dragons: Castle Ravenloft Board Game\n",
                  "Juego de mesa: Space Alert\n",
                  "Película: Thor: The Dark World, Actores: Chris Hemsworth, Natalie Portman, Tom Hiddleston,Stellan Skarsgård\n",
                  "Película: Nine Lives, Actores: Kevin Spacey, Jennifer Garner, Robbie Amell,Cheryl Hines\n",
                  "Película: Green Room, Actores: Anton Yelchin, Imogen Poots, Alia Shawkat,Patrick Stewart\n",
                  "Libro: The Letters of Jane Austen, Autor: Jane Austen (48)\n",
                  "Libro: The Letters of Jane Austen, Autor: Jane Austen (289)\n",
                  "Libro: The Letters of Jane Austen, Autor: Jane Austen (1301)\n"
                ]
              }
            ]
          }
        },
        "489fea79222e466682a7ff8f0e0e8308": {
          "model_module": "@jupyter-widgets/base",
          "model_name": "LayoutModel",
          "model_module_version": "1.2.0",
          "state": {
            "_model_module": "@jupyter-widgets/base",
            "_model_module_version": "1.2.0",
            "_model_name": "LayoutModel",
            "_view_count": null,
            "_view_module": "@jupyter-widgets/base",
            "_view_module_version": "1.2.0",
            "_view_name": "LayoutView",
            "align_content": null,
            "align_items": null,
            "align_self": null,
            "border": null,
            "bottom": null,
            "display": null,
            "flex": null,
            "flex_flow": null,
            "grid_area": null,
            "grid_auto_columns": null,
            "grid_auto_flow": null,
            "grid_auto_rows": null,
            "grid_column": null,
            "grid_gap": null,
            "grid_row": null,
            "grid_template_areas": null,
            "grid_template_columns": null,
            "grid_template_rows": null,
            "height": null,
            "justify_content": null,
            "justify_items": null,
            "left": null,
            "margin": null,
            "max_height": null,
            "max_width": null,
            "min_height": null,
            "min_width": null,
            "object_fit": null,
            "object_position": null,
            "order": null,
            "overflow": null,
            "overflow_x": null,
            "overflow_y": null,
            "padding": null,
            "right": null,
            "top": null,
            "visibility": null,
            "width": null
          }
        }
      }
    }
  },
  "cells": [
    {
      "cell_type": "markdown",
      "source": [
        "**TRABAJO PRACTICO N°1: PROCESAMIENTO DEL LENGUAJE NATURAL**"
      ],
      "metadata": {
        "id": "flZE_1j5IAfe"
      }
    },
    {
      "cell_type": "markdown",
      "source": [
        "**LIBRERIAS**"
      ],
      "metadata": {
        "id": "bRbcP5RSKimy"
      }
    },
    {
      "cell_type": "code",
      "source": [
        "pip install sentence-transformers"
      ],
      "metadata": {
        "id": "kclIxLIdfoZz"
      },
      "execution_count": null,
      "outputs": []
    },
    {
      "cell_type": "code",
      "source": [
        "pip install nltk\n"
      ],
      "metadata": {
        "id": "TNxCapGCgO8F"
      },
      "execution_count": null,
      "outputs": []
    },
    {
      "cell_type": "code",
      "source": [
        "!pip install ipywidgets"
      ],
      "metadata": {
        "id": "RsODkhBJgRwO"
      },
      "execution_count": null,
      "outputs": []
    },
    {
      "cell_type": "code",
      "source": [
        "!python -m spacy download es_core_news_md"
      ],
      "metadata": {
        "id": "KaqwSho8gU3s"
      },
      "execution_count": null,
      "outputs": []
    },
    {
      "cell_type": "code",
      "source": [
        "\n",
        "import requests\n",
        "from bs4 import BeautifulSoup\n",
        "import pandas as pd\n",
        "from sklearn.model_selection import train_test_split\n",
        "from sklearn.feature_extraction.text import TfidfVectorizer\n",
        "from sklearn.linear_model import LogisticRegression\n",
        "from sklearn.metrics import accuracy_score, classification_report\n",
        "from sentence_transformers import SentenceTransformer\n",
        "from sklearn.metrics.pairwise import cosine_similarity\n",
        "import ipywidgets as widgets"
      ],
      "metadata": {
        "id": "WmHQwjIMKj-y"
      },
      "execution_count": 50,
      "outputs": []
    },
    {
      "cell_type": "code",
      "execution_count": 51,
      "metadata": {
        "colab": {
          "base_uri": "https://localhost:8080/"
        },
        "id": "BIzBKWjjF-E2",
        "outputId": "7f2135a9-bc97-4fae-b286-705376490f9d"
      },
      "outputs": [
        {
          "output_type": "stream",
          "name": "stdout",
          "text": [
            "                                         Title  \\\n",
            "0      Frankenstein; Or, The Modern Prometheus   \n",
            "1                             Romeo and Juliet   \n",
            "2                                           Mo   \n",
            "3                          Pride and Prejudice   \n",
            "4                                  Middlemarch   \n",
            "...                                        ...   \n",
            "2820  Memoirs of Napoleon Bonaparte — Complete   \n",
            "2821     How to Tell a Story, and Other Essays   \n",
            "2822                                      Orms   \n",
            "2823                                       Der   \n",
            "2824                                       Sel   \n",
            "\n",
            "                                           Author  \n",
            "0              Mary Wollstonecraft Shelley (3338)  \n",
            "1                      William Shakespeare (2406)  \n",
            "2                             Dick; Or, The Whale  \n",
            "3                              Jane Austen (1993)  \n",
            "4                             George Eliot (1706)  \n",
            "...                                           ...  \n",
            "2820  Louis Antoine Fauvelet de Bourrienne (1214)  \n",
            "2821                            Mark Twain (1214)  \n",
            "2822                               , John (21068)  \n",
            "2823                    shire, Charles E. (20112)  \n",
            "2824    -Bigge, L. A. (Lewis Amherst), Sir (5668)  \n",
            "\n",
            "[2825 rows x 2 columns]\n"
          ]
        }
      ],
      "source": [
        "\n",
        "url = \"https://www.gutenberg.org/browse/scores/top1000.php#books-last1\"\n",
        "\n",
        "# Realizar la solicitud a la página web\n",
        "response = requests.get(url)\n",
        "\n",
        "# Parsear el contenido HTML\n",
        "soup = BeautifulSoup(response.content, 'html.parser')\n",
        "\n",
        "book_elements = soup.find_all('li')\n",
        "\n",
        "# Crear una lista para almacenar los títulos y autores de los libros\n",
        "books = []\n",
        "\n",
        "# Recorrer cada elemento y extraer el título y el autor\n",
        "for element in book_elements:\n",
        "    text = element.get_text()\n",
        "    if 'by' in text:\n",
        "        parts = text.split('by')\n",
        "        title = parts[0].strip()  # El título del libro\n",
        "        author = parts[1].strip()  # El autor del libro\n",
        "        books.append({'Title': title, 'Author': author})\n",
        "\n",
        "\n",
        "books_df = pd.DataFrame(books)\n",
        "\n",
        "\n",
        "print(books_df)\n",
        "\n",
        "books_df.to_csv('gutenberg_books.csv', index=False)\n",
        "\n"
      ]
    },
    {
      "cell_type": "code",
      "source": [
        "\n",
        "board_games_df = pd.read_csv('bgg_database.csv')\n",
        "\n",
        "\n",
        "movies_df = pd.read_csv('IMDB-Movie-Data.csv')\n",
        "\n",
        "books_df = pd.read_csv('gutenberg_books.csv')\n",
        "\n",
        "print(board_games_df.head())\n",
        "print(movies_df.head())\n",
        "print(books_df.head())\n"
      ],
      "metadata": {
        "colab": {
          "base_uri": "https://localhost:8080/"
        },
        "id": "-FPNEGutL6ig",
        "outputId": "43101cab-3e39-4e97-a996-b8625ba4e4ca"
      },
      "execution_count": 52,
      "outputs": [
        {
          "output_type": "stream",
          "name": "stdout",
          "text": [
            "   rank                          game_name  \\\n",
            "0     1                  Brass: Birmingham   \n",
            "1     2          Pandemic Legacy: Season 1   \n",
            "2     3                         Gloomhaven   \n",
            "3     4                           Ark Nova   \n",
            "4     5  Twilight Imperium: Fourth Edition   \n",
            "\n",
            "                                           game_href  geek_rating  avg_rating  \\\n",
            "0  https://boardgamegeek.com/boardgame/224517/bra...        8.415        8.60   \n",
            "1  https://boardgamegeek.com/boardgame/161936/pan...        8.377        8.53   \n",
            "2  https://boardgamegeek.com/boardgame/174430/glo...        8.349        8.59   \n",
            "3  https://boardgamegeek.com/boardgame/342942/ark...        8.335        8.54   \n",
            "4  https://boardgamegeek.com/boardgame/233078/twi...        8.240        8.60   \n",
            "\n",
            "   num_voters                                        description  \\\n",
            "0     46836.0  Brass: Birmingham is an economic strategy game...   \n",
            "1     53807.0  Pandemic Legacy is a co-operative campaign gam...   \n",
            "2     62592.0  Gloomhaven  is a game of Euro-inspired tactica...   \n",
            "3     44728.0  In Ark Nova, you will plan and design a modern...   \n",
            "4     24148.0  Twilight Imperium (Fourth Edition) is a game o...   \n",
            "\n",
            "   yearpublished  minplayers  maxplayers  minplaytime  maxplaytime  minage  \\\n",
            "0           2018           2           4           60          120      14   \n",
            "1           2015           2           4           60           60      13   \n",
            "2           2017           1           4           60          120      14   \n",
            "3           2021           1           4           90          150      14   \n",
            "4           2017           3           6          240          480      14   \n",
            "\n",
            "   avgweight        best_num_players  \\\n",
            "0     3.8776  [{'min': 3, 'max': 4}]   \n",
            "1     2.8308  [{'min': 4, 'max': 4}]   \n",
            "2     3.9132  [{'min': 3, 'max': 3}]   \n",
            "3     3.7653  [{'min': 2, 'max': 2}]   \n",
            "4     4.3173  [{'min': 6, 'max': 6}]   \n",
            "\n",
            "                                           designers  \\\n",
            "0   ['Gavan Brown', 'Matt Tolman', 'Martin Wallace']   \n",
            "1                     ['Rob Daviau', 'Matt Leacock']   \n",
            "2                                 ['Isaac Childres']   \n",
            "3                                  ['Mathias Wigge']   \n",
            "4  ['Dane Beltrami', 'Corey Konieczka', 'Christia...   \n",
            "\n",
            "                                           mechanics  \\\n",
            "0  ['Hand Management', 'Income', 'Loans', 'Market...   \n",
            "1  ['Action Points', 'Cooperative Game', 'Hand Ma...   \n",
            "2  ['Action Queue', 'Action Retrieval', 'Campaign...   \n",
            "3  ['Action Queue', 'End Game Bonuses', 'Grid Cov...   \n",
            "4  ['Action Drafting', 'Area-Impulse', 'Dice Roll...   \n",
            "\n",
            "                                          categories  \n",
            "0  ['Age of Reason', 'Economic', 'Industry / Manu...  \n",
            "1                       ['Environmental', 'Medical']  \n",
            "2  ['Adventure', 'Exploration', 'Fantasy', 'Fight...  \n",
            "3           ['Animals', 'Economic', 'Environmental']  \n",
            "4  ['Civilization', 'Economic', 'Exploration', 'N...  \n",
            "   Rank                    Title                     Genre  \\\n",
            "0     1  Guardians of the Galaxy   Action,Adventure,Sci-Fi   \n",
            "1     2               Prometheus  Adventure,Mystery,Sci-Fi   \n",
            "2     3                    Split           Horror,Thriller   \n",
            "3     4                     Sing   Animation,Comedy,Family   \n",
            "4     5            Suicide Squad  Action,Adventure,Fantasy   \n",
            "\n",
            "                                         Description              Director  \\\n",
            "0  A group of intergalactic criminals are forced ...            James Gunn   \n",
            "1  Following clues to the origin of mankind, a te...          Ridley Scott   \n",
            "2  Three girls are kidnapped by a man with a diag...    M. Night Shyamalan   \n",
            "3  In a city of humanoid animals, a hustling thea...  Christophe Lourdelet   \n",
            "4  A secret government agency recruits some of th...            David Ayer   \n",
            "\n",
            "                                              Actors  Year  Runtime (Minutes)  \\\n",
            "0  Chris Pratt, Vin Diesel, Bradley Cooper, Zoe S...  2014                121   \n",
            "1  Noomi Rapace, Logan Marshall-Green, Michael Fa...  2012                124   \n",
            "2  James McAvoy, Anya Taylor-Joy, Haley Lu Richar...  2016                117   \n",
            "3  Matthew McConaughey,Reese Witherspoon, Seth Ma...  2016                108   \n",
            "4  Will Smith, Jared Leto, Margot Robbie, Viola D...  2016                123   \n",
            "\n",
            "   Rating   Votes  Revenue (Millions)  Metascore  \n",
            "0     8.1  757074              333.13         76  \n",
            "1     7.0  485820              126.46         65  \n",
            "2     7.3  157606              138.12         62  \n",
            "3     7.2   60545              270.32         59  \n",
            "4     6.2  393727              325.02         40  \n",
            "                                     Title                              Author\n",
            "0  Frankenstein; Or, The Modern Prometheus  Mary Wollstonecraft Shelley (3338)\n",
            "1                         Romeo and Juliet          William Shakespeare (2406)\n",
            "2                                       Mo                 Dick; Or, The Whale\n",
            "3                      Pride and Prejudice                  Jane Austen (1993)\n",
            "4                              Middlemarch                 George Eliot (1706)\n"
          ]
        }
      ]
    },
    {
      "cell_type": "markdown",
      "source": [
        "**CLASIFICADOR CON REGRESION LOGISTICA**"
      ],
      "metadata": {
        "id": "obniaZwPSxg_"
      }
    },
    {
      "cell_type": "markdown",
      "source": [
        "En este caso,utilizamos TF-IDF Vectorizer"
      ],
      "metadata": {
        "id": "4GSATZZKS2-W"
      }
    },
    {
      "cell_type": "code",
      "source": [
        "from nltk.corpus import stopwords\n",
        "\n",
        "nltk.download('stopwords')\n",
        "\n",
        "\n",
        "spanish_stop_words = stopwords.words('spanish')\n",
        "\n",
        "# Etiquetas de estados de ánimo\n",
        "labels = [(0, \"Alegre\"), (1, \"Melancólico\"), (2, \"Ni fu ni fa\")]\n",
        "\n",
        "\n",
        "dataset = [\n",
        "    # Frases de estado de ánimo \"Alegre\"\n",
        "    (0, \"Estoy muy feliz\"),\n",
        "    (0, \"Hoy es un gran día\"),\n",
        "    (0, \"Me siento alegre\"),\n",
        "    (0, \"Es un día increíble\"),\n",
        "    (0, \"Estoy lleno de energía\"),\n",
        "    (0, \"Estoy muy contento hoy\"),\n",
        "    (0, \"Este es un día perfecto\"),\n",
        "    (0, \"Me siento lleno de vida\"),\n",
        "    (0, \"Estoy eufórico\"),\n",
        "    (0, \"Hoy es un día para celebrar\"),\n",
        "    (0, \"Siento mucha alegría en este día\"),\n",
        "    (0, \"Todo es perfecto hoy\"),\n",
        "    (0, \"Me encanta la vida\"),\n",
        "    (0, \"Es un día espectacular para disfrutar\"),\n",
        "    (0, \"Hoy estoy muy entusiasmado\"),\n",
        "\n",
        "    # Frases de estado de ánimo \"Melancólico\"\n",
        "    (1, \"Me siento triste\"),\n",
        "    (1, \"Estoy melancólico\"),\n",
        "    (1, \"Hoy estoy nostálgico\"),\n",
        "    (1, \"Me siento deprimido\"),\n",
        "    (1, \"No puedo dejar de pensar en cosas tristes\"),\n",
        "    (1, \"Es un día gris\"),\n",
        "    (1, \"Me siento vacío\"),\n",
        "    (1, \"No tengo ánimos para nada\"),\n",
        "    (1, \"Estoy abatido\"),\n",
        "    (1, \"Todo me parece sombrío\"),\n",
        "    (1, \"Siento una gran tristeza\"),\n",
        "    (1, \"No me gusta este día\"),\n",
        "    (1, \"Es un día muy malo\"),\n",
        "    (1, \"Todo parece estar mal hoy\"),\n",
        "    (1, \"Nada me da consuelo hoy\"),\n",
        "\n",
        "    # Frases de estado de ánimo \"Ni fu ni fa\"\n",
        "    (2, \"No tengo ganas de hacer nada\"),\n",
        "    (2, \"Me siento neutral\"),\n",
        "    (2, \"Estoy cansado\"),\n",
        "    (2, \"Me da igual lo que pase\"),\n",
        "    (2, \"No me importa nada hoy\"),\n",
        "    (2, \"Estoy indiferente\"),\n",
        "    (2, \"No siento ni alegría ni tristeza\"),\n",
        "    (2, \"Hoy es un día normal\"),\n",
        "    (2, \"Estoy aburrido\"),\n",
        "    (2, \"Nada me parece interesante\"),\n",
        "    (2, \"No sé cómo me siento\"),\n",
        "    (2, \"Todo está igual que siempre\"),\n",
        "    (2, \"Nada especial sucede hoy\"),\n",
        "    (2, \"Es un día cualquiera\"),\n",
        "    (2, \"Hoy me siento indiferente a todo\")\n",
        "]\n",
        "\n",
        "# Preparar X (frases) e y (etiquetas de estados de ánimo)\n",
        "X = [text.lower() for label, text in dataset]\n",
        "y = [label for label, text in dataset]\n",
        "\n",
        "# Dividir el dataset en entrenamiento y prueba\n",
        "X_train, X_test, y_train, y_test = train_test_split(X, y, test_size=0.2, random_state=42)\n",
        "\n",
        "# Vectorización del texto con TF-IDF, eliminando palabras vacías y usando bigramas\n",
        "vectorizer = TfidfVectorizer(stop_words=spanish_stop_words, ngram_range=(1, 2))\n",
        "X_train_vectorized = vectorizer.fit_transform(X_train)\n",
        "X_test_vectorized = vectorizer.transform(X_test)\n",
        "\n",
        "# Crear y entrenar el modelo de Regresión Logística con balance de clases\n",
        "modelo_LR = LogisticRegression(max_iter=1000, multi_class='multinomial', solver='lbfgs', class_weight='balanced')\n",
        "modelo_LR.fit(X_train_vectorized, y_train)\n",
        "\n",
        "# Evaluar el modelo con el conjunto de prueba\n",
        "y_pred_LR = modelo_LR.predict(X_test_vectorized)\n",
        "acc_LR = accuracy_score(y_test, y_pred_LR)\n",
        "report_LR = classification_report(y_test, y_pred_LR, zero_division=1)\n",
        "\n",
        "print(\"Precisión Regresión Logística:\", acc_LR)\n",
        "print(\"Reporte de clasificación Regresión Logística:\\n\", report_LR)\n",
        "\n"
      ],
      "metadata": {
        "colab": {
          "base_uri": "https://localhost:8080/"
        },
        "id": "rf5CfiPcPDXS",
        "outputId": "3e4a79c4-5ab1-443f-a9a4-2950255d20c6"
      },
      "execution_count": 76,
      "outputs": [
        {
          "output_type": "stream",
          "name": "stdout",
          "text": [
            "Precisión Regresión Logística: 0.4444444444444444\n",
            "Reporte de clasificación Regresión Logística:\n",
            "               precision    recall  f1-score   support\n",
            "\n",
            "           0       0.50      0.67      0.57         3\n",
            "           1       0.00      0.00      0.00         2\n",
            "           2       0.67      0.50      0.57         4\n",
            "\n",
            "    accuracy                           0.44         9\n",
            "   macro avg       0.39      0.39      0.38         9\n",
            "weighted avg       0.46      0.44      0.44         9\n",
            "\n"
          ]
        },
        {
          "output_type": "stream",
          "name": "stderr",
          "text": [
            "[nltk_data] Downloading package stopwords to /root/nltk_data...\n",
            "[nltk_data]   Package stopwords is already up-to-date!\n",
            "/usr/local/lib/python3.10/dist-packages/sklearn/linear_model/_logistic.py:1247: FutureWarning: 'multi_class' was deprecated in version 1.5 and will be removed in 1.7. From then on, it will always use 'multinomial'. Leave it to its default value to avoid this warning.\n",
            "  warnings.warn(\n"
          ]
        }
      ]
    },
    {
      "cell_type": "code",
      "source": [
        "def predict_mood_tf(user_input):\n",
        "    user_input_vectorized = vectorizer.transform([user_input.lower()])\n",
        "    mood_label = modelo_LR.predict(user_input_vectorized)[0]\n",
        "    return labels[mood_label][1]\n",
        "\n",
        "\n",
        "frase_usuario = \"Hoy me siento muy triste\"\n",
        "estado_animo = predict_mood_tf(frase_usuario)\n",
        "print(f\"El estado de ánimo detectado es: {estado_animo}\")\n",
        "\n",
        "# Nuevas frases más distintas para probar el modelo\n",
        "nuevas_frases = [\n",
        "    \"No puedo evitar sentir una gran tristeza hoy\",  # Debería ser \"Melancólico\"\n",
        "    \"Siento que este es uno de los mejores días de mi vida\",  # Debería ser \"Alegre\"\n",
        "    \"Hoy todo me da lo mismo, nada me interesa realmente\",  # Debería ser \"Ni fu ni fa\"\n",
        "    \"No sé qué hacer, pero no estoy ni triste ni feliz\",  # Debería ser \"Ni fu ni fa\"\n",
        "    \"Me siento increíblemente emocionado y lleno de energía\",  # Debería ser \"Alegre\"\n",
        "    \"Todo parece gris y no veo nada que me anime\",  # Debería ser \"Melancólico\"\n",
        "    \"Este día está siendo tan normal como cualquier otro\",  # Debería ser \"Ni fu ni fa\"\n",
        "    \"No hay nada que me entusiasme, es como si estuviera vacío\",  # Debería ser \"Melancólico\"\n",
        "    \"Estoy muy agradecido por todo, este día es fantástico\",  # Debería ser \"Alegre\"\n",
        "    \"Hoy no me pasa nada en particular, no siento ni tristeza ni alegría\"  # Debería ser \"Ni fu ni fa\"\n",
        "]\n",
        "\n",
        "# Predecir los estados de ánimo para las nuevas frases\n",
        "for frase in nuevas_frases:\n",
        "    print(f\"La frase '{frase}' tiene el estado de ánimo: {predict_mood_tf(frase)}\")\n"
      ],
      "metadata": {
        "colab": {
          "base_uri": "https://localhost:8080/"
        },
        "id": "QrCU_Iq8P63A",
        "outputId": "d8570959-8c4b-4385-f206-5440504d4f15"
      },
      "execution_count": 77,
      "outputs": [
        {
          "output_type": "stream",
          "name": "stdout",
          "text": [
            "El estado de ánimo detectado es: Melancólico\n",
            "La frase 'No puedo evitar sentir una gran tristeza hoy' tiene el estado de ánimo: Ni fu ni fa\n",
            "La frase 'Siento que este es uno de los mejores días de mi vida' tiene el estado de ánimo: Alegre\n",
            "La frase 'Hoy todo me da lo mismo, nada me interesa realmente' tiene el estado de ánimo: Ni fu ni fa\n",
            "La frase 'No sé qué hacer, pero no estoy ni triste ni feliz' tiene el estado de ánimo: Ni fu ni fa\n",
            "La frase 'Me siento increíblemente emocionado y lleno de energía' tiene el estado de ánimo: Alegre\n",
            "La frase 'Todo parece gris y no veo nada que me anime' tiene el estado de ánimo: Melancólico\n",
            "La frase 'Este día está siendo tan normal como cualquier otro' tiene el estado de ánimo: Ni fu ni fa\n",
            "La frase 'No hay nada que me entusiasme, es como si estuviera vacío' tiene el estado de ánimo: Melancólico\n",
            "La frase 'Estoy muy agradecido por todo, este día es fantástico' tiene el estado de ánimo: Alegre\n",
            "La frase 'Hoy no me pasa nada en particular, no siento ni tristeza ni alegría' tiene el estado de ánimo: Ni fu ni fa\n"
          ]
        }
      ]
    },
    {
      "cell_type": "markdown",
      "source": [
        "**EN ESTE CASO UTILIZAMOS SENTENCE TRANSFORMER**"
      ],
      "metadata": {
        "id": "nl9dIO0uT9pm"
      }
    },
    {
      "cell_type": "code",
      "source": [
        "\n",
        "model = SentenceTransformer('sentence-transformers/all-mpnet-base-v2')\n",
        "\n",
        "labels = [(0, \"Alegre\"), (1, \"Melancólico\"), (2, \"Ni fu ni fa\")]\n",
        "\n",
        "\n",
        "dataset = [\n",
        "    # Frases de estado de ánimo \"Alegre\"\n",
        "    (0, \"Estoy muy feliz\"),\n",
        "    (0, \"Hoy es un gran día\"),\n",
        "    (0, \"Me siento alegre\"),\n",
        "    (0, \"Es un día increíble\"),\n",
        "    (0, \"Estoy lleno de energía\"),\n",
        "    (0, \"Estoy muy contento hoy\"),\n",
        "    (0, \"Este es un día perfecto\"),\n",
        "    (0, \"Me siento lleno de vida\"),\n",
        "    (0, \"Estoy eufórico\"),\n",
        "    (0, \"Hoy es un día para celebrar\"),\n",
        "    (0, \"Siento mucha alegría en este día\"),\n",
        "    (0, \"Todo es perfecto hoy\"),\n",
        "    (0, \"Me encanta la vida\"),\n",
        "    (0, \"Es un día espectacular para disfrutar\"),\n",
        "    (0, \"Hoy estoy muy entusiasmado\"),\n",
        "\n",
        "    # Frases de estado de ánimo \"Melancólico\"\n",
        "    (1, \"Me siento triste\"),\n",
        "    (1, \"Estoy melancólico\"),\n",
        "    (1, \"Hoy estoy nostálgico\"),\n",
        "    (1, \"Me siento deprimido\"),\n",
        "    (1, \"No puedo dejar de pensar en cosas tristes\"),\n",
        "    (1, \"Es un día gris\"),\n",
        "    (1, \"Me siento vacío\"),\n",
        "    (1, \"No tengo ánimos para nada\"),\n",
        "    (1, \"Estoy abatido\"),\n",
        "    (1, \"Todo me parece sombrío\"),\n",
        "    (1, \"Siento una gran tristeza\"),\n",
        "    (1, \"No me gusta este día\"),\n",
        "    (1, \"Es un día muy malo\"),\n",
        "    (1, \"Todo parece estar mal hoy\"),\n",
        "    (1, \"Nada me da consuelo hoy\"),\n",
        "\n",
        "    # Frases de estado de ánimo \"Ni fu ni fa\"\n",
        "    (2, \"No tengo ganas de hacer nada\"),\n",
        "    (2, \"Me siento neutral\"),\n",
        "    (2, \"Estoy cansado\"),\n",
        "    (2, \"Me da igual lo que pase\"),\n",
        "    (2, \"No me importa nada hoy\"),\n",
        "    (2, \"Estoy indiferente\"),\n",
        "    (2, \"No siento ni alegría ni tristeza\"),\n",
        "    (2, \"Hoy es un día normal\"),\n",
        "    (2, \"Estoy aburrido\"),\n",
        "    (2, \"Nada me parece interesante\"),\n",
        "    (2, \"No sé cómo me siento\"),\n",
        "    (2, \"Todo está igual que siempre\"),\n",
        "    (2, \"Nada especial sucede hoy\"),\n",
        "    (2, \"Es un día cualquiera\"),\n",
        "    (2, \"Hoy me siento indiferente a todo\")\n",
        "]\n",
        "\n",
        "# Preparar X (frases) e y (etiquetas de estados de ánimo)\n",
        "X = [text.lower() for label, text in dataset]\n",
        "y = [label for label, text in dataset]\n",
        "\n",
        "# Generar los embeddings para las frases usando el modelo preentrenado\n",
        "X_embeddings = model.encode(X)\n",
        "\n",
        "# Dividir el dataset en entrenamiento y prueba\n",
        "X_train, X_test, y_train, y_test = train_test_split(X_embeddings, y, test_size=0.2, random_state=42)\n",
        "\n",
        "# Crear y entrenar el modelo de Regresión Logística con balance de clases\n",
        "modelo_LR = LogisticRegression(max_iter=1000, multi_class='multinomial', solver='lbfgs', class_weight='balanced')\n",
        "modelo_LR.fit(X_train, y_train)\n",
        "\n",
        "# Evaluar el modelo con el conjunto de prueba\n",
        "y_pred_LR = modelo_LR.predict(X_test)\n",
        "acc_LR = accuracy_score(y_test, y_pred_LR)\n",
        "report_LR = classification_report(y_test, y_pred_LR, zero_division=1)\n",
        "\n",
        "print(\"Precisión Regresión Logística:\", acc_LR)\n",
        "print(\"Reporte de clasificación Regresión Logística:\\n\", report_LR)"
      ],
      "metadata": {
        "colab": {
          "base_uri": "https://localhost:8080/"
        },
        "id": "C-H8A1w4SJRD",
        "outputId": "291dfca8-7ce7-48e9-aa2e-3e906607fc00"
      },
      "execution_count": 78,
      "outputs": [
        {
          "output_type": "stream",
          "name": "stderr",
          "text": [
            "/usr/local/lib/python3.10/dist-packages/transformers/tokenization_utils_base.py:1601: FutureWarning: `clean_up_tokenization_spaces` was not set. It will be set to `True` by default. This behavior will be depracted in transformers v4.45, and will be then set to `False` by default. For more details check this issue: https://github.com/huggingface/transformers/issues/31884\n",
            "  warnings.warn(\n"
          ]
        },
        {
          "output_type": "stream",
          "name": "stdout",
          "text": [
            "Precisión Regresión Logística: 0.4444444444444444\n",
            "Reporte de clasificación Regresión Logística:\n",
            "               precision    recall  f1-score   support\n",
            "\n",
            "           0       0.33      0.33      0.33         3\n",
            "           1       0.50      0.50      0.50         2\n",
            "           2       0.50      0.50      0.50         4\n",
            "\n",
            "    accuracy                           0.44         9\n",
            "   macro avg       0.44      0.44      0.44         9\n",
            "weighted avg       0.44      0.44      0.44         9\n",
            "\n"
          ]
        },
        {
          "output_type": "stream",
          "name": "stderr",
          "text": [
            "/usr/local/lib/python3.10/dist-packages/sklearn/linear_model/_logistic.py:1247: FutureWarning: 'multi_class' was deprecated in version 1.5 and will be removed in 1.7. From then on, it will always use 'multinomial'. Leave it to its default value to avoid this warning.\n",
            "  warnings.warn(\n"
          ]
        }
      ]
    },
    {
      "cell_type": "code",
      "source": [
        "\n",
        "def predict_mood_st(user_input):\n",
        "    user_input_embedding = model.encode([user_input.lower()])\n",
        "    mood_label = modelo_LR.predict(user_input_embedding)[0]\n",
        "    return labels[mood_label][1]\n",
        "\n",
        "nuevas_frases = [\n",
        "    \"No puedo evitar sentir una gran tristeza hoy\",  # Debería ser \"Melancólico\"\n",
        "    \"Siento que este es uno de los mejores días de mi vida\",  # Debería ser \"Alegre\"\n",
        "    \"Hoy todo me da lo mismo, nada me interesa realmente\",  # Debería ser \"Ni fu ni fa\"\n",
        "    \"No sé qué hacer, pero no estoy ni triste ni feliz\",  # Debería ser \"Ni fu ni fa\"\n",
        "    \"Me siento increíblemente emocionado y lleno de energía\",  # Debería ser \"Alegre\"\n",
        "    \"Todo parece gris y no veo nada que me anime\",  # Debería ser \"Melancólico\"\n",
        "    \"Este día está siendo tan normal como cualquier otro\",  # Debería ser \"Ni fu ni fa\"\n",
        "    \"No hay nada que me entusiasme, es como si estuviera vacío\",  # Debería ser \"Melancólico\"\n",
        "    \"Estoy muy agradecido por todo, este día es fantástico\",  # Debería ser \"Alegre\"\n",
        "    \"Hoy no me pasa nada en particular, no siento ni tristeza ni alegría\"  # Debería ser \"Ni fu ni fa\"\n",
        "]\n",
        "\n",
        "\n",
        "for frase in nuevas_frases:\n",
        "    print(f\"La frase '{frase}' tiene el estado de ánimo: {predict_mood_st(frase)}\")"
      ],
      "metadata": {
        "colab": {
          "base_uri": "https://localhost:8080/"
        },
        "id": "pG2Qj4TASpum",
        "outputId": "dd74cea0-fa06-4bea-f251-7eca3578458b"
      },
      "execution_count": 79,
      "outputs": [
        {
          "output_type": "stream",
          "name": "stdout",
          "text": [
            "La frase 'No puedo evitar sentir una gran tristeza hoy' tiene el estado de ánimo: Ni fu ni fa\n",
            "La frase 'Siento que este es uno de los mejores días de mi vida' tiene el estado de ánimo: Alegre\n",
            "La frase 'Hoy todo me da lo mismo, nada me interesa realmente' tiene el estado de ánimo: Ni fu ni fa\n",
            "La frase 'No sé qué hacer, pero no estoy ni triste ni feliz' tiene el estado de ánimo: Ni fu ni fa\n",
            "La frase 'Me siento increíblemente emocionado y lleno de energía' tiene el estado de ánimo: Ni fu ni fa\n",
            "La frase 'Todo parece gris y no veo nada que me anime' tiene el estado de ánimo: Melancólico\n",
            "La frase 'Este día está siendo tan normal como cualquier otro' tiene el estado de ánimo: Alegre\n",
            "La frase 'No hay nada que me entusiasme, es como si estuviera vacío' tiene el estado de ánimo: Alegre\n",
            "La frase 'Estoy muy agradecido por todo, este día es fantástico' tiene el estado de ánimo: Alegre\n",
            "La frase 'Hoy no me pasa nada en particular, no siento ni tristeza ni alegría' tiene el estado de ánimo: Ni fu ni fa\n"
          ]
        }
      ]
    },
    {
      "cell_type": "markdown",
      "source": [
        "Como podemos ver,con TF-IDF vectorizer y con Sentence Transformer el modelo obtiene metricas muy similares. Pero vamos a optar por utilizar el modelo con Sentence transformer ya que es más efectivo para capturar el significado contextual de las frases."
      ],
      "metadata": {
        "id": "XwrfdF6VSdoO"
      }
    },
    {
      "cell_type": "code",
      "source": [
        "\n",
        "# Descargar stopwords en español\n",
        "nltk.download('stopwords')\n",
        "\n",
        "# Obtener las stopwords en español\n",
        "spanish_stop_words = stopwords.words('spanish')\n"
      ],
      "metadata": {
        "colab": {
          "base_uri": "https://localhost:8080/"
        },
        "id": "uxl1nZVtXbbo",
        "outputId": "aec13c25-98f8-43f5-fc36-6cba2383f94a"
      },
      "execution_count": 57,
      "outputs": [
        {
          "output_type": "stream",
          "name": "stderr",
          "text": [
            "[nltk_data] Downloading package stopwords to /root/nltk_data...\n",
            "[nltk_data]   Package stopwords is already up-to-date!\n"
          ]
        }
      ]
    },
    {
      "cell_type": "code",
      "source": [
        "import spacy\n",
        "\n",
        "\n",
        "nlp = spacy.load('es_core_news_md')\n",
        "\n",
        "def extraer_entidades(texto):\n",
        "    doc = nlp(texto)\n",
        "    entidades = [(ent.text, ent.label_) for ent in doc.ents]\n",
        "    return entidades\n",
        "\n",
        "# Ejemplo de uso de la función de extracción de entidades\n",
        "frase_usuario = \"Quiero ver una historia de amor en París con personajes como Napoleón\"\n",
        "entidades = extraer_entidades(frase_usuario)\n",
        "print(\"Entidades nombradas extraídas:\", entidades)\n"
      ],
      "metadata": {
        "colab": {
          "base_uri": "https://localhost:8080/"
        },
        "id": "KWbYnT3lVRxv",
        "outputId": "79d1660f-f606-4a4b-98ca-eb78bf1f1a0d"
      },
      "execution_count": 80,
      "outputs": [
        {
          "output_type": "stream",
          "name": "stdout",
          "text": [
            "Entidades nombradas extraídas: [('París', 'LOC'), ('Napoleón', 'PER')]\n"
          ]
        }
      ]
    },
    {
      "cell_type": "code",
      "source": [
        "# Función para ingresar preferencias del usuario\n",
        "def ingresar_preferencias():\n",
        "    preferencia_usuario = input(\"Describe la temática que te gustaría explorar: \")\n",
        "    return preferencia_usuario"
      ],
      "metadata": {
        "id": "zr1rmYpnWu40"
      },
      "execution_count": 81,
      "outputs": []
    },
    {
      "cell_type": "code",
      "source": [
        "print(f\"Cantidad de juegos de mesa: {len(board_games_df)}\")\n",
        "print(f\"Primeras filas de juegos de mesa: {board_games_df.head()}\")"
      ],
      "metadata": {
        "id": "_NeXVl98eL3w"
      },
      "execution_count": null,
      "outputs": []
    },
    {
      "cell_type": "code",
      "source": [
        "from sklearn.feature_extraction.text import TfidfVectorizer\n",
        "from sklearn.metrics.pairwise import cosine_similarity\n",
        "import pandas as pd\n",
        "\n",
        "# Procesar descripciones y títulos\n",
        "board_game_desc = board_games_df['description'].fillna('')\n",
        "movie_desc = movies_df['Description'].fillna('')\n",
        "book_titles = books_df['Title'].fillna('')\n",
        "all_descriptions = pd.concat([board_game_desc, movie_desc, book_titles], ignore_index=True)\n",
        "\n",
        "# Vectorización\n",
        "vectorizer = TfidfVectorizer(stop_words=spanish_stop_words, ngram_range=(1, 2))\n",
        "desc_vectors = vectorizer.fit_transform(all_descriptions)\n",
        "\n",
        "# Funciones para cada tipo de recomendación\n",
        "def recomendar_juegos(similarity_scores):\n",
        "    top_indices = similarity_scores[:len(board_game_desc)].argsort()[-3:][::-1]\n",
        "    return [f\"Juego de mesa: {board_games_df.iloc[idx]['game_name']}\" for idx in top_indices]\n",
        "\n",
        "def recomendar_peliculas(similarity_scores):\n",
        "    start, end = len(board_game_desc), len(board_game_desc) + len(movie_desc)\n",
        "    top_indices = similarity_scores[start:end].argsort()[-3:][::-1]\n",
        "    return [\n",
        "        f\"Película: {movies_df.iloc[idx]['Title']}, Actores: {movies_df.iloc[idx]['Actors']}\"\n",
        "        for idx in top_indices\n",
        "    ]\n",
        "\n",
        "def recomendar_libros(similarity_scores):\n",
        "    start = len(board_game_desc) + len(movie_desc)\n",
        "    top_indices = similarity_scores[start:].argsort()[-3:][::-1]\n",
        "    return [\n",
        "        f\"Libro: {books_df.iloc[idx]['Title']}, Autor: {books_df.iloc[idx]['Author']}\"\n",
        "        for idx in top_indices\n",
        "    ]\n",
        "\n",
        "# Función principal de recomendación\n",
        "def recomendar_con_entidades(user_input):\n",
        "    entidades = extraer_entidades(user_input)\n",
        "    if entidades:\n",
        "        print(f\"Entidades encontradas en la frase: {entidades}\")\n",
        "\n",
        "    # Calcular la similitud del input con los vectores de descripción\n",
        "    user_input_vector = vectorizer.transform([user_input])\n",
        "    similarity_scores = cosine_similarity(user_input_vector, desc_vectors).flatten()\n",
        "\n",
        "    recomendaciones = []\n",
        "\n",
        "    # 3 recomendaciones para cada categoría\n",
        "    recomendaciones += recomendar_juegos(similarity_scores)\n",
        "    recomendaciones += recomendar_peliculas(similarity_scores)\n",
        "    recomendaciones += recomendar_libros(similarity_scores)\n",
        "\n",
        "\n",
        "    return recomendaciones[:9]\n"
      ],
      "metadata": {
        "id": "DLaOKScMV9d_"
      },
      "execution_count": 88,
      "outputs": []
    },
    {
      "cell_type": "code",
      "source": [
        "def mostrar_interfaz():\n",
        "\n",
        "    estado_animo_input = widgets.Text(\n",
        "        value='',\n",
        "        placeholder='¿Cómo te sientes hoy?',\n",
        "        description='Estado de Ánimo:',\n",
        "        disabled=False\n",
        "    )\n",
        "\n",
        "    preferencia_input = widgets.Text(\n",
        "        value='',\n",
        "        placeholder='Describe la temática que te gustaría explorar',\n",
        "        description='Preferencia:',\n",
        "        disabled=False\n",
        "    )\n",
        "\n",
        "    boton_enviar = widgets.Button(description=\"Obtener Recomendaciones\")\n",
        "\n",
        "\n",
        "    output = widgets.Output()\n",
        "\n",
        "\n",
        "    def on_button_clicked(b):\n",
        "        with output:\n",
        "            output.clear_output()\n",
        "\n",
        "            estado_animo = estado_animo_input.value\n",
        "            preferencia = preferencia_input.value\n",
        "\n",
        "\n",
        "            estado_detectado = predict_mood_st(estado_animo)\n",
        "            print(f\"Estado de ánimo detectado: {estado_detectado}\")\n",
        "\n",
        "\n",
        "            recomendaciones = recomendar_con_entidades(preferencia)\n",
        "            print(\"\\nRecomendaciones:\")\n",
        "            for rec in recomendaciones:\n",
        "                print(rec)\n",
        "\n",
        "\n",
        "    boton_enviar.on_click(on_button_clicked)\n",
        "\n",
        "    display(estado_animo_input, preferencia_input, boton_enviar, output)\n",
        "\n",
        "# Ejecutar la interfaz\n",
        "mostrar_interfaz()"
      ],
      "metadata": {
        "colab": {
          "base_uri": "https://localhost:8080/",
          "height": 337,
          "referenced_widgets": [
            "2bb6be99590d414cb5b6f9fee8216434",
            "e5d0a1eb594e42f29429024757979d30",
            "aa5e80c2830e48cb888f2492f1475641",
            "4944319c158e40b7bc07411fa1767427",
            "a4eb2b8579b34d9ab6a145e97c405475",
            "40a8c0c221744b43905b46276cd421e0",
            "25e2893e9cb24110809d46ad2d72dc3a",
            "973c4a6218ed4d07a8ea9efffdc45f3d",
            "e067a0cbab9f4246a6042db0645da3c6",
            "0a6429ac0f6e4164857bc57d9d355a45",
            "489fea79222e466682a7ff8f0e0e8308"
          ]
        },
        "id": "SPtT66I9YUbC",
        "outputId": "493236d1-25d4-46ac-9a80-46f93e213c8f"
      },
      "execution_count": 92,
      "outputs": [
        {
          "output_type": "display_data",
          "data": {
            "text/plain": [
              "Text(value='', description='Estado de Ánimo:', placeholder='¿Cómo te sientes hoy?')"
            ],
            "application/vnd.jupyter.widget-view+json": {
              "version_major": 2,
              "version_minor": 0,
              "model_id": "2bb6be99590d414cb5b6f9fee8216434"
            }
          },
          "metadata": {}
        },
        {
          "output_type": "display_data",
          "data": {
            "text/plain": [
              "Text(value='', description='Preferencia:', placeholder='Describe la temática que te gustaría explorar')"
            ],
            "application/vnd.jupyter.widget-view+json": {
              "version_major": 2,
              "version_minor": 0,
              "model_id": "4944319c158e40b7bc07411fa1767427"
            }
          },
          "metadata": {}
        },
        {
          "output_type": "display_data",
          "data": {
            "text/plain": [
              "Button(description='Obtener Recomendaciones', style=ButtonStyle())"
            ],
            "application/vnd.jupyter.widget-view+json": {
              "version_major": 2,
              "version_minor": 0,
              "model_id": "25e2893e9cb24110809d46ad2d72dc3a"
            }
          },
          "metadata": {}
        },
        {
          "output_type": "display_data",
          "data": {
            "text/plain": [
              "Output()"
            ],
            "application/vnd.jupyter.widget-view+json": {
              "version_major": 2,
              "version_minor": 0,
              "model_id": "0a6429ac0f6e4164857bc57d9d355a45"
            }
          },
          "metadata": {}
        }
      ]
    }
  ]
}