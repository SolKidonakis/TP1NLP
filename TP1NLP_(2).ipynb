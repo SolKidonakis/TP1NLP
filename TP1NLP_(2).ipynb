{
  "nbformat": 4,
  "nbformat_minor": 0,
  "metadata": {
    "colab": {
      "provenance": [],
      "include_colab_link": true
    },
    "kernelspec": {
      "name": "python3",
      "display_name": "Python 3"
    },
    "language_info": {
      "name": "python"
    },
    "widgets": {
      "application/vnd.jupyter.widget-state+json": {
        "b5ad7d1f845d44e7bbffe15c49656cfb": {
          "model_module": "@jupyter-widgets/controls",
          "model_name": "TextModel",
          "model_module_version": "1.5.0",
          "state": {
            "_dom_classes": [],
            "_model_module": "@jupyter-widgets/controls",
            "_model_module_version": "1.5.0",
            "_model_name": "TextModel",
            "_view_count": null,
            "_view_module": "@jupyter-widgets/controls",
            "_view_module_version": "1.5.0",
            "_view_name": "TextView",
            "continuous_update": true,
            "description": "Estado de Ánimo:",
            "description_tooltip": null,
            "disabled": false,
            "layout": "IPY_MODEL_4ac97c45c36c4d148aa61bae0deb1b37",
            "placeholder": "¿Cómo te sientes hoy?",
            "style": "IPY_MODEL_c9f59445f17f4a5ba878f23490f1edde",
            "value": "me siento euforica"
          }
        },
        "4ac97c45c36c4d148aa61bae0deb1b37": {
          "model_module": "@jupyter-widgets/base",
          "model_name": "LayoutModel",
          "model_module_version": "1.2.0",
          "state": {
            "_model_module": "@jupyter-widgets/base",
            "_model_module_version": "1.2.0",
            "_model_name": "LayoutModel",
            "_view_count": null,
            "_view_module": "@jupyter-widgets/base",
            "_view_module_version": "1.2.0",
            "_view_name": "LayoutView",
            "align_content": null,
            "align_items": null,
            "align_self": null,
            "border": null,
            "bottom": null,
            "display": null,
            "flex": null,
            "flex_flow": null,
            "grid_area": null,
            "grid_auto_columns": null,
            "grid_auto_flow": null,
            "grid_auto_rows": null,
            "grid_column": null,
            "grid_gap": null,
            "grid_row": null,
            "grid_template_areas": null,
            "grid_template_columns": null,
            "grid_template_rows": null,
            "height": null,
            "justify_content": null,
            "justify_items": null,
            "left": null,
            "margin": null,
            "max_height": null,
            "max_width": null,
            "min_height": null,
            "min_width": null,
            "object_fit": null,
            "object_position": null,
            "order": null,
            "overflow": null,
            "overflow_x": null,
            "overflow_y": null,
            "padding": null,
            "right": null,
            "top": null,
            "visibility": null,
            "width": null
          }
        },
        "c9f59445f17f4a5ba878f23490f1edde": {
          "model_module": "@jupyter-widgets/controls",
          "model_name": "DescriptionStyleModel",
          "model_module_version": "1.5.0",
          "state": {
            "_model_module": "@jupyter-widgets/controls",
            "_model_module_version": "1.5.0",
            "_model_name": "DescriptionStyleModel",
            "_view_count": null,
            "_view_module": "@jupyter-widgets/base",
            "_view_module_version": "1.2.0",
            "_view_name": "StyleView",
            "description_width": ""
          }
        },
        "bea2b709565748f89679067bfa68c5f1": {
          "model_module": "@jupyter-widgets/controls",
          "model_name": "TextModel",
          "model_module_version": "1.5.0",
          "state": {
            "_dom_classes": [],
            "_model_module": "@jupyter-widgets/controls",
            "_model_module_version": "1.5.0",
            "_model_name": "TextModel",
            "_view_count": null,
            "_view_module": "@jupyter-widgets/controls",
            "_view_module_version": "1.5.0",
            "_view_name": "TextView",
            "continuous_update": true,
            "description": "Preferencia:",
            "description_tooltip": null,
            "disabled": false,
            "layout": "IPY_MODEL_33f2c72e28b049198f2a7395a15db0c0",
            "placeholder": "Describe la temática que te gustaría explorar",
            "style": "IPY_MODEL_4be7419ed33144999979f98252c1fdb2",
            "value": "una aventura en la isla"
          }
        },
        "33f2c72e28b049198f2a7395a15db0c0": {
          "model_module": "@jupyter-widgets/base",
          "model_name": "LayoutModel",
          "model_module_version": "1.2.0",
          "state": {
            "_model_module": "@jupyter-widgets/base",
            "_model_module_version": "1.2.0",
            "_model_name": "LayoutModel",
            "_view_count": null,
            "_view_module": "@jupyter-widgets/base",
            "_view_module_version": "1.2.0",
            "_view_name": "LayoutView",
            "align_content": null,
            "align_items": null,
            "align_self": null,
            "border": null,
            "bottom": null,
            "display": null,
            "flex": null,
            "flex_flow": null,
            "grid_area": null,
            "grid_auto_columns": null,
            "grid_auto_flow": null,
            "grid_auto_rows": null,
            "grid_column": null,
            "grid_gap": null,
            "grid_row": null,
            "grid_template_areas": null,
            "grid_template_columns": null,
            "grid_template_rows": null,
            "height": null,
            "justify_content": null,
            "justify_items": null,
            "left": null,
            "margin": null,
            "max_height": null,
            "max_width": null,
            "min_height": null,
            "min_width": null,
            "object_fit": null,
            "object_position": null,
            "order": null,
            "overflow": null,
            "overflow_x": null,
            "overflow_y": null,
            "padding": null,
            "right": null,
            "top": null,
            "visibility": null,
            "width": null
          }
        },
        "4be7419ed33144999979f98252c1fdb2": {
          "model_module": "@jupyter-widgets/controls",
          "model_name": "DescriptionStyleModel",
          "model_module_version": "1.5.0",
          "state": {
            "_model_module": "@jupyter-widgets/controls",
            "_model_module_version": "1.5.0",
            "_model_name": "DescriptionStyleModel",
            "_view_count": null,
            "_view_module": "@jupyter-widgets/base",
            "_view_module_version": "1.2.0",
            "_view_name": "StyleView",
            "description_width": ""
          }
        },
        "5818ee9abb4245c6963e4e226a0020eb": {
          "model_module": "@jupyter-widgets/controls",
          "model_name": "ButtonModel",
          "model_module_version": "1.5.0",
          "state": {
            "_dom_classes": [],
            "_model_module": "@jupyter-widgets/controls",
            "_model_module_version": "1.5.0",
            "_model_name": "ButtonModel",
            "_view_count": null,
            "_view_module": "@jupyter-widgets/controls",
            "_view_module_version": "1.5.0",
            "_view_name": "ButtonView",
            "button_style": "",
            "description": "Obtener Recomendaciones",
            "disabled": false,
            "icon": "",
            "layout": "IPY_MODEL_f380f876f0e44860a7deb2ff006de0be",
            "style": "IPY_MODEL_e28db3946d534d498fa2edc3d889a8ee",
            "tooltip": ""
          }
        },
        "f380f876f0e44860a7deb2ff006de0be": {
          "model_module": "@jupyter-widgets/base",
          "model_name": "LayoutModel",
          "model_module_version": "1.2.0",
          "state": {
            "_model_module": "@jupyter-widgets/base",
            "_model_module_version": "1.2.0",
            "_model_name": "LayoutModel",
            "_view_count": null,
            "_view_module": "@jupyter-widgets/base",
            "_view_module_version": "1.2.0",
            "_view_name": "LayoutView",
            "align_content": null,
            "align_items": null,
            "align_self": null,
            "border": null,
            "bottom": null,
            "display": null,
            "flex": null,
            "flex_flow": null,
            "grid_area": null,
            "grid_auto_columns": null,
            "grid_auto_flow": null,
            "grid_auto_rows": null,
            "grid_column": null,
            "grid_gap": null,
            "grid_row": null,
            "grid_template_areas": null,
            "grid_template_columns": null,
            "grid_template_rows": null,
            "height": null,
            "justify_content": null,
            "justify_items": null,
            "left": null,
            "margin": null,
            "max_height": null,
            "max_width": null,
            "min_height": null,
            "min_width": null,
            "object_fit": null,
            "object_position": null,
            "order": null,
            "overflow": null,
            "overflow_x": null,
            "overflow_y": null,
            "padding": null,
            "right": null,
            "top": null,
            "visibility": null,
            "width": null
          }
        },
        "e28db3946d534d498fa2edc3d889a8ee": {
          "model_module": "@jupyter-widgets/controls",
          "model_name": "ButtonStyleModel",
          "model_module_version": "1.5.0",
          "state": {
            "_model_module": "@jupyter-widgets/controls",
            "_model_module_version": "1.5.0",
            "_model_name": "ButtonStyleModel",
            "_view_count": null,
            "_view_module": "@jupyter-widgets/base",
            "_view_module_version": "1.2.0",
            "_view_name": "StyleView",
            "button_color": null,
            "font_weight": ""
          }
        },
        "bc5e26a9b4e1473eb2c0026372594857": {
          "model_module": "@jupyter-widgets/output",
          "model_name": "OutputModel",
          "model_module_version": "1.0.0",
          "state": {
            "_dom_classes": [],
            "_model_module": "@jupyter-widgets/output",
            "_model_module_version": "1.0.0",
            "_model_name": "OutputModel",
            "_view_count": null,
            "_view_module": "@jupyter-widgets/output",
            "_view_module_version": "1.0.0",
            "_view_name": "OutputView",
            "layout": "IPY_MODEL_91048dd1db6f45b09c1f979d4d2febba",
            "msg_id": "",
            "outputs": [
              {
                "output_type": "stream",
                "name": "stdout",
                "text": [
                  "Estado de ánimo detectado: Alegre\n",
                  "Buscando recomendaciones para: una aventura en la isla\n",
                  "\n",
                  "Recomendaciones de juegos:\n",
                  "- Lost Ruins of Arnak: On an uninhabited island in uncharted seas, explorers have found traces of a great civilization. Now you will lead an expedition to explore the island, find lost artifacts, and face fearsome guardians, all in a quest to learn the island's secrets.\n",
                  "\n",
                  "Lost Ruins of Arnak combines deck-building and worker placement in a game of exploration, resource management, and discovery. In addition to traditional deck-builder effects, cards can also be used to place workers, and new worker actions become available as players explore the island. Some of these actions require resources instead of workers, so building a solid resource base will be essential. You are limited to only one action per turn, so make your choice carefully... what action will benefit you most now? And what can you afford to do later... assuming someone else doesn't take the action first!?\n",
                  "\n",
                  "Decks are small, and randomness in the game is heavily mitigated by the wealth of tactical decisions offered on the game board. With a variety of worker actions, artifacts, and equipment cards, the set-up for each game will be unique, encouraging players to explore new strategies to meet the challenge.\n",
                  "\n",
                  "Discover the Lost Ruins of Arnak!\n",
                  "\n",
                  "&mdash;description from the publisher\n",
                  "\n",
                  "\n",
                  "- Tokaido: In Tokaido, each player is a traveler crossing the &quot;East sea road&quot;, one of the most magnificent roads of Japan. While traveling, you will meet people, taste fine meals, collect beautiful items, discover great panoramas, and visit temples and wild places but at the end of the day, when everyone has arrived at the end of the road you'll have to be the most initiated traveler &ndash; which means that you'll have to be the one who discovered the most interesting and varied things.\n",
                  "\n",
                  "The potential action spaces in Tokaido are laid out on a linear track, with players advancing down this track to take actions. The player who is currently last on the track takes a turn by advancing forward on the track to their desired action and taking that action, so players must choose whether to advance slowly in order to get more turns, or to travel more rapidly to beat other players to their desired action spaces.\n",
                  "\n",
                  "The action spaces allow a variety of actions that will score in different, but roughly equal, ways. Some action spaces allow players to collect money, while others offer players a way to spend that money to acquire points.  Other action spaces allow players to engage in various set collections that score points for assembling those sets.  Some action spaces simply award players points for stopping on them, or give the player a randomly determined action from all of the other types.\n",
                  "\n",
                  "All of the actions in Tokaido are very simple, and combined with a unique graphic design, Tokaido offers players a peaceful zen mood in its play.\n",
                  "\n",
                  "\n",
                  "- Faraway: Welcome to Alula, a mysterious continent with ever-changing geography, shaped after the rhythm of the seasons. Beyond the Sea of Mists lies the mysterious continent of Alula. Roam across the land in search of its secrets, meet its inhabitants and list its wonders in order to gain more fame than your opponents.\n",
                  "\n",
                  "Throughout a game of Faraway, you will play a row of 8 cards in front of you, from left to right. These cards represent the regions you will come across while exploring the lands. Characters on these cards will grant you victory points if you later fulfil the conditions they demand. At the end of the game, you walk back the same way, scoring cards in the opposite order you played them. There lies the heart of the gameplay. Throughout the game, the cards you play will serve both to set new objectives, and to meet the ones you played previously.\n",
                  "\n",
                  "Each turn, you play a card from a hand of 3. Then you pick a new card from a face-up river. As play is simultaneous in Faraway, you must take into account a clever priority system in all of your choices &ndash; being last to pick a card leaves you with fewer options and often less profitable choices for the next turns.\n",
                  "\n",
                  "&mdash;description from the publisher\n",
                  "\n",
                  "\n",
                  "\n",
                  "Recomendaciones de películas:\n",
                  "- Avatar: A paraplegic marine dispatched to the moon Pandora on a unique mission becomes torn between following his orders and protecting the world he feels is his home.\n",
                  "- Swiss Army Man: A hopeless man stranded on a deserted island befriends a dead body and together they go on a surreal journey to get home.\n",
                  "- Brooklyn: An Irish immigrant lands in 1950s Brooklyn, where she quickly falls into a romance with a local. When her past catches up with her, however, she must choose between two countries and the lives that exist within.\n",
                  "\n",
                  "Recomendaciones de libros:\n",
                  "- Os Lusíadas: \"Os Lusíadas\" by Luís de Camões is an epic poem written in the late 16th century. This monumental work celebrates the voyages of Portuguese explorers, particularly Vasco da Gama, as they discover new lands and face numerous challenges on their journey. The poem intertwines themes of bravery, adventure, and the glory of the Portuguese Empire, with an emphasis on the heroic deeds and struggles of its protagonists.  The opening of \"Os Lusíadas\" introduces the grandeur and ambition of the Portuguese navigators, invoking the muses to inspire a story that will unfold across vast and perilous seas. It highlights the nobility of the Portuguese people and their endeavor to navigate uncharted waters in pursuit of glory and discovery. The reader is drawn into a world where gods and mortals interact and the fateful decisions of the explorers set the stage for a historical narrative filled with peril, valor, and cultural encounters, beginning with the divine council of gods preparing for the exploits of Vasco da Gama. As the chapter progresses, the poem foreshadows the challenges that lie ahead, setting a majestic tone for the epic tale to come. (This is an automatically generated summary.)\n",
                  "- Os Lusíadas: \"Os Lusíadas\" by Luís de Camões is an epic poem written in the late 16th century. This monumental work celebrates the voyages of Portuguese explorers, particularly Vasco da Gama, as they discover new lands and face numerous challenges on their journey. The poem intertwines themes of bravery, adventure, and the glory of the Portuguese Empire, with an emphasis on the heroic deeds and struggles of its protagonists.  The opening of \"Os Lusíadas\" introduces the grandeur and ambition of the Portuguese navigators, invoking the muses to inspire a story that will unfold across vast and perilous seas. It highlights the nobility of the Portuguese people and their endeavor to navigate uncharted waters in pursuit of glory and discovery. The reader is drawn into a world where gods and mortals interact and the fateful decisions of the explorers set the stage for a historical narrative filled with peril, valor, and cultural encounters, beginning with the divine council of gods preparing for the exploits of Vasco da Gama. As the chapter progresses, the poem foreshadows the challenges that lie ahead, setting a majestic tone for the epic tale to come. (This is an automatically generated summary.)\n",
                  "- Os Lusíadas: \"Os Lusíadas\" by Luís de Camões is an epic poem written in the late 16th century. This monumental work celebrates the voyages of Portuguese explorers, particularly Vasco da Gama, as they discover new lands and face numerous challenges on their journey. The poem intertwines themes of bravery, adventure, and the glory of the Portuguese Empire, with an emphasis on the heroic deeds and struggles of its protagonists.  The opening of \"Os Lusíadas\" introduces the grandeur and ambition of the Portuguese navigators, invoking the muses to inspire a story that will unfold across vast and perilous seas. It highlights the nobility of the Portuguese people and their endeavor to navigate uncharted waters in pursuit of glory and discovery. The reader is drawn into a world where gods and mortals interact and the fateful decisions of the explorers set the stage for a historical narrative filled with peril, valor, and cultural encounters, beginning with the divine council of gods preparing for the exploits of Vasco da Gama. As the chapter progresses, the poem foreshadows the challenges that lie ahead, setting a majestic tone for the epic tale to come. (This is an automatically generated summary.)\n"
                ]
              }
            ]
          }
        },
        "91048dd1db6f45b09c1f979d4d2febba": {
          "model_module": "@jupyter-widgets/base",
          "model_name": "LayoutModel",
          "model_module_version": "1.2.0",
          "state": {
            "_model_module": "@jupyter-widgets/base",
            "_model_module_version": "1.2.0",
            "_model_name": "LayoutModel",
            "_view_count": null,
            "_view_module": "@jupyter-widgets/base",
            "_view_module_version": "1.2.0",
            "_view_name": "LayoutView",
            "align_content": null,
            "align_items": null,
            "align_self": null,
            "border": null,
            "bottom": null,
            "display": null,
            "flex": null,
            "flex_flow": null,
            "grid_area": null,
            "grid_auto_columns": null,
            "grid_auto_flow": null,
            "grid_auto_rows": null,
            "grid_column": null,
            "grid_gap": null,
            "grid_row": null,
            "grid_template_areas": null,
            "grid_template_columns": null,
            "grid_template_rows": null,
            "height": null,
            "justify_content": null,
            "justify_items": null,
            "left": null,
            "margin": null,
            "max_height": null,
            "max_width": null,
            "min_height": null,
            "min_width": null,
            "object_fit": null,
            "object_position": null,
            "order": null,
            "overflow": null,
            "overflow_x": null,
            "overflow_y": null,
            "padding": null,
            "right": null,
            "top": null,
            "visibility": null,
            "width": null
          }
        }
      }
    }
  },
  "cells": [
    {
      "cell_type": "markdown",
      "metadata": {
        "id": "view-in-github",
        "colab_type": "text"
      },
      "source": [
        "<a href=\"https://colab.research.google.com/github/SolKidonakis/TP1NLP/blob/main/TP1NLP_(2).ipynb\" target=\"_parent\"><img src=\"https://colab.research.google.com/assets/colab-badge.svg\" alt=\"Open In Colab\"/></a>"
      ]
    },
    {
      "cell_type": "markdown",
      "source": [
        "**TRABAJO PRACTICO N°1: PROCESAMIENTO DEL LENGUAJE NATURAL**"
      ],
      "metadata": {
        "id": "flZE_1j5IAfe"
      }
    },
    {
      "cell_type": "markdown",
      "source": [
        "**LIBRERIAS**"
      ],
      "metadata": {
        "id": "bRbcP5RSKimy"
      }
    },
    {
      "cell_type": "code",
      "source": [
        "!pip install sentence-transformers\n",
        "!python -m spacy download es_core_news_md\n",
        "!pip install nltk\n",
        "!pip install ipywidgets\n",
        "!pip install --upgrade tensorflow tensorflow-hub"
      ],
      "metadata": {
        "id": "S9vp3ZL1R62o"
      },
      "execution_count": null,
      "outputs": []
    },
    {
      "cell_type": "code",
      "source": [
        "import requests\n",
        "from bs4 import BeautifulSoup\n",
        "import pandas as pd\n",
        "from sklearn.model_selection import train_test_split\n",
        "from sklearn.feature_extraction.text import TfidfVectorizer\n",
        "from sklearn.linear_model import LogisticRegression\n",
        "from sklearn.metrics import accuracy_score, classification_report\n",
        "from sentence_transformers import SentenceTransformer\n",
        "from sklearn.metrics.pairwise import cosine_similarity\n",
        "import ipywidgets as widgets\n",
        "from nltk.corpus import stopwords\n",
        "import nltk\n",
        "import spacy\n",
        "from concurrent.futures import ThreadPoolExecutor, as_completed\n",
        "import time\n",
        "import numpy as np"
      ],
      "metadata": {
        "id": "WmHQwjIMKj-y",
        "colab": {
          "base_uri": "https://localhost:8080/"
        },
        "outputId": "ca9f969e-cc5c-44f3-973b-79ae59cf5a4d"
      },
      "execution_count": 3,
      "outputs": [
        {
          "output_type": "stream",
          "name": "stderr",
          "text": [
            "/usr/local/lib/python3.10/dist-packages/sentence_transformers/cross_encoder/CrossEncoder.py:13: TqdmExperimentalWarning: Using `tqdm.autonotebook.tqdm` in notebook mode. Use `tqdm.tqdm` instead to force console mode (e.g. in jupyter console)\n",
            "  from tqdm.autonotebook import tqdm, trange\n"
          ]
        }
      ]
    },
    {
      "cell_type": "markdown",
      "source": [
        "En primer lugar,haremos web scraping para extraer información sobre los libros de Project Gutenberg, incluyendo su título, autor, descripción y enlace, y guardamos todos esos datos en un archivo CSV para su posterior uso."
      ],
      "metadata": {
        "id": "7ZaqnhsohSjD"
      }
    },
    {
      "cell_type": "code",
      "execution_count": null,
      "metadata": {
        "id": "BIzBKWjjF-E2"
      },
      "outputs": [],
      "source": [
        "# Función para obtener el objeto Soup de una URL\n",
        "def get_soup(url):\n",
        "    response = requests.get(url)\n",
        "    return BeautifulSoup(response.content, 'html.parser')\n",
        "\n",
        "def extraer_info(book_soup, url):\n",
        "    table = book_soup.find('table', class_='bibrec')\n",
        "    rows = table.find_all('tr') if table else []\n",
        "\n",
        "\n",
        "    title = author  = summary = None\n",
        "    subjects = []\n",
        "\n",
        "    for row in rows:\n",
        "        th = row.find('th')\n",
        "        td = row.find('td')\n",
        "\n",
        "        if th and td:\n",
        "            if 'Author' in th.text:\n",
        "                author = td.text.strip()\n",
        "            elif 'Title' in th.text:\n",
        "                title = td.text.strip()\n",
        "            elif 'Summary' in th.text:\n",
        "                summary = td.text.strip().replace(\"(This is an automatically generated summary.)\", \"\").strip('\"')\n",
        "            elif 'Subject' in th.text:\n",
        "                subject_links = td.find_all('a')\n",
        "                for link in subject_links:\n",
        "                    subjects.append(link.text.strip())\n",
        "\n",
        "    subjects_string = \", \".join(subjects)\n",
        "\n",
        "    return {\n",
        "        'Title': title,\n",
        "        'Author': author,\n",
        "        'Summary': summary,\n",
        "        'Subjects': subjects_string,\n",
        "        'URL': url\n",
        "    }\n",
        "\n",
        "# Obtener la lista de URLs de libros desde la página principal de Project Gutenberg\n",
        "def libros_urls(base_url=\"https://www.gutenberg.org\"):\n",
        "    url = f\"{base_url}/browse/scores/top1000.php#books-last1\"\n",
        "    soup = get_soup(url)\n",
        "    book_elements = soup.select('ol li')\n",
        "    urls = []\n",
        "\n",
        "    for element in book_elements:\n",
        "        a_tag = element.find('a')\n",
        "        if a_tag and 'href' in a_tag.attrs:\n",
        "            full_url = f\"{base_url}{a_tag['href']}\"\n",
        "            urls.append(full_url)\n",
        "\n",
        "    return urls\n",
        "\n",
        "# Procesar cada libro con ThreadPoolExecutor\n",
        "def procesar_libros(urls):\n",
        "    books = []\n",
        "    with ThreadPoolExecutor(max_workers=5) as executor:\n",
        "        futures = [executor.submit(procesar_libro_individual, url) for url in urls]\n",
        "        for future in as_completed(futures):\n",
        "            result = future.result()\n",
        "            if result:\n",
        "                books.append(result)\n",
        "            time.sleep(0.1)  # Mantener un delay entre requests\n",
        "    return books\n",
        "\n",
        "\n",
        "def procesar_libro_individual(url):\n",
        "    try:\n",
        "        book_soup = get_soup(url)\n",
        "        return extraer_info(book_soup, url)\n",
        "    except Exception as e:\n",
        "        print(f\"Error al procesar {url}: {e}\")\n",
        "        return None\n",
        "\n",
        "# Ejecutar el proceso completo y guardar en un DataFrame\n",
        "def main():\n",
        "    urls = libros_urls()\n",
        "    books = procesar_libros(urls)\n",
        "    books_df = pd.DataFrame(books)\n",
        "    books_df.to_csv('gutenberg_books.csv', index=False, encoding='utf-8')\n",
        "    print(books_df.head())\n",
        "\n",
        "\n",
        "main()\n"
      ]
    },
    {
      "cell_type": "markdown",
      "source": [
        "Abrimos tres archivos CSV que tienen información sobre juegos de mesa, películas y libros."
      ],
      "metadata": {
        "id": "O-5jzOboixn5"
      }
    },
    {
      "cell_type": "code",
      "source": [
        "board_games_df = pd.read_csv('bgg_database.csv')\n",
        "\n",
        "movies_df = pd.read_csv('IMDB-Movie-Data.csv')\n",
        "\n",
        "books_df = pd.read_csv('gutenberg_books.csv')\n",
        "\n",
        "#Imprimimos las primeras filas de cada CSV\n",
        "print(board_games_df.head())\n",
        "print(movies_df.head())\n",
        "print(books_df.head())\n"
      ],
      "metadata": {
        "colab": {
          "base_uri": "https://localhost:8080/"
        },
        "id": "-FPNEGutL6ig",
        "outputId": "fe080550-dfb6-447e-f18f-4c2a0b8e8706"
      },
      "execution_count": 5,
      "outputs": [
        {
          "output_type": "stream",
          "name": "stdout",
          "text": [
            "   rank                          game_name  \\\n",
            "0     1                  Brass: Birmingham   \n",
            "1     2          Pandemic Legacy: Season 1   \n",
            "2     3                         Gloomhaven   \n",
            "3     4                           Ark Nova   \n",
            "4     5  Twilight Imperium: Fourth Edition   \n",
            "\n",
            "                                           game_href  geek_rating  avg_rating  \\\n",
            "0  https://boardgamegeek.com/boardgame/224517/bra...        8.415        8.60   \n",
            "1  https://boardgamegeek.com/boardgame/161936/pan...        8.377        8.53   \n",
            "2  https://boardgamegeek.com/boardgame/174430/glo...        8.349        8.59   \n",
            "3  https://boardgamegeek.com/boardgame/342942/ark...        8.335        8.54   \n",
            "4  https://boardgamegeek.com/boardgame/233078/twi...        8.240        8.60   \n",
            "\n",
            "   num_voters                                        description  \\\n",
            "0     46836.0  Brass: Birmingham is an economic strategy game...   \n",
            "1     53807.0  Pandemic Legacy is a co-operative campaign gam...   \n",
            "2     62592.0  Gloomhaven  is a game of Euro-inspired tactica...   \n",
            "3     44728.0  In Ark Nova, you will plan and design a modern...   \n",
            "4     24148.0  Twilight Imperium (Fourth Edition) is a game o...   \n",
            "\n",
            "   yearpublished  minplayers  maxplayers  minplaytime  maxplaytime  minage  \\\n",
            "0           2018           2           4           60          120      14   \n",
            "1           2015           2           4           60           60      13   \n",
            "2           2017           1           4           60          120      14   \n",
            "3           2021           1           4           90          150      14   \n",
            "4           2017           3           6          240          480      14   \n",
            "\n",
            "   avgweight        best_num_players  \\\n",
            "0     3.8776  [{'min': 3, 'max': 4}]   \n",
            "1     2.8308  [{'min': 4, 'max': 4}]   \n",
            "2     3.9132  [{'min': 3, 'max': 3}]   \n",
            "3     3.7653  [{'min': 2, 'max': 2}]   \n",
            "4     4.3173  [{'min': 6, 'max': 6}]   \n",
            "\n",
            "                                           designers  \\\n",
            "0   ['Gavan Brown', 'Matt Tolman', 'Martin Wallace']   \n",
            "1                     ['Rob Daviau', 'Matt Leacock']   \n",
            "2                                 ['Isaac Childres']   \n",
            "3                                  ['Mathias Wigge']   \n",
            "4  ['Dane Beltrami', 'Corey Konieczka', 'Christia...   \n",
            "\n",
            "                                           mechanics  \\\n",
            "0  ['Hand Management', 'Income', 'Loans', 'Market...   \n",
            "1  ['Action Points', 'Cooperative Game', 'Hand Ma...   \n",
            "2  ['Action Queue', 'Action Retrieval', 'Campaign...   \n",
            "3  ['Action Queue', 'End Game Bonuses', 'Grid Cov...   \n",
            "4  ['Action Drafting', 'Area-Impulse', 'Dice Roll...   \n",
            "\n",
            "                                          categories  \n",
            "0  ['Age of Reason', 'Economic', 'Industry / Manu...  \n",
            "1                       ['Environmental', 'Medical']  \n",
            "2  ['Adventure', 'Exploration', 'Fantasy', 'Fight...  \n",
            "3           ['Animals', 'Economic', 'Environmental']  \n",
            "4  ['Civilization', 'Economic', 'Exploration', 'N...  \n",
            "   Rank                    Title                     Genre  \\\n",
            "0     1  Guardians of the Galaxy   Action,Adventure,Sci-Fi   \n",
            "1     2               Prometheus  Adventure,Mystery,Sci-Fi   \n",
            "2     3                    Split           Horror,Thriller   \n",
            "3     4                     Sing   Animation,Comedy,Family   \n",
            "4     5            Suicide Squad  Action,Adventure,Fantasy   \n",
            "\n",
            "                                         Description              Director  \\\n",
            "0  A group of intergalactic criminals are forced ...            James Gunn   \n",
            "1  Following clues to the origin of mankind, a te...          Ridley Scott   \n",
            "2  Three girls are kidnapped by a man with a diag...    M. Night Shyamalan   \n",
            "3  In a city of humanoid animals, a hustling thea...  Christophe Lourdelet   \n",
            "4  A secret government agency recruits some of th...            David Ayer   \n",
            "\n",
            "                                              Actors  Year  Runtime (Minutes)  \\\n",
            "0  Chris Pratt, Vin Diesel, Bradley Cooper, Zoe S...  2014                121   \n",
            "1  Noomi Rapace, Logan Marshall-Green, Michael Fa...  2012                124   \n",
            "2  James McAvoy, Anya Taylor-Joy, Haley Lu Richar...  2016                117   \n",
            "3  Matthew McConaughey,Reese Witherspoon, Seth Ma...  2016                108   \n",
            "4  Will Smith, Jared Leto, Margot Robbie, Viola D...  2016                123   \n",
            "\n",
            "   Rating   Votes  Revenue (Millions)  Metascore  \n",
            "0     8.1  757074              333.13         76  \n",
            "1     7.0  485820              126.46         65  \n",
            "2     7.3  157606              138.12         62  \n",
            "3     7.2   60545              270.32         59  \n",
            "4     6.2  393727              325.02         40  \n",
            "                                     Title  \\\n",
            "0  Frankenstein; Or, The Modern Prometheus   \n",
            "1                         Romeo and Juliet   \n",
            "2                                       Mo   \n",
            "3                                      呻吟語   \n",
            "4                      Pride and Prejudice   \n",
            "\n",
            "                               Author  \\\n",
            "0  Mary Wollstonecraft Shelley (5170)   \n",
            "1          William Shakespeare (2310)   \n",
            "2                 Dick; Or, The Whale   \n",
            "3                       Kun Lü (5458)   \n",
            "4                  Jane Austen (2417)   \n",
            "\n",
            "                                         Description  \\\n",
            "0  \"Frankenstein; Or, The Modern Prometheus\" by M...   \n",
            "1  \"Romeo and Juliet\" by William Shakespeare is a...   \n",
            "2  \"Moby Dick; Or, The Whale\" by Herman Melville ...   \n",
            "3  \"呻吟語\" by Kun Lü is a philosophical treatise wr...   \n",
            "4  \"Pride and Prejudice\" by Jane Austen is a clas...   \n",
            "\n",
            "                                      URL  \n",
            "0     https://www.gutenberg.org/ebooks/84  \n",
            "1   https://www.gutenberg.org/ebooks/1513  \n",
            "2   https://www.gutenberg.org/ebooks/2701  \n",
            "3  https://www.gutenberg.org/ebooks/25558  \n",
            "4   https://www.gutenberg.org/ebooks/1342  \n"
          ]
        }
      ]
    },
    {
      "cell_type": "markdown",
      "source": [
        "**CLASIFICADOR CON REGRESION LOGISTICA**"
      ],
      "metadata": {
        "id": "obniaZwPSxg_"
      }
    },
    {
      "cell_type": "markdown",
      "source": [
        "En este caso, utilizamos TF-IDF Vectorizer.\n",
        "Usando dicho modelo de regresión logística para clasificar frases en Alegre, Melancólico o ni fu ni fa.\n",
        "\n"
      ],
      "metadata": {
        "id": "4GSATZZKS2-W"
      }
    },
    {
      "cell_type": "code",
      "source": [
        "nltk.download('stopwords')\n",
        "\n",
        "spanish_stop_words = stopwords.words('spanish')\n",
        "\n",
        "# Etiquetas de estados de ánimo\n",
        "labels = [(0, \"Alegre\"), (1, \"Melancólico\"), (2, \"Ni fu ni fa\")]\n",
        "\n",
        "\n",
        "dataset = [\n",
        "    # Frases de estado de ánimo \"Alegre\"\n",
        "    (0, \"Estoy muy feliz\"),\n",
        "    (0, \"Hoy es un gran día\"),\n",
        "    (0, \"Me siento alegre\"),\n",
        "    (0, \"Es un día increíble\"),\n",
        "    (0, \"Estoy lleno de energía\"),\n",
        "    (0, \"Estoy muy contento hoy\"),\n",
        "    (0, \"Este es un día perfecto\"),\n",
        "    (0, \"Me siento lleno de vida\"),\n",
        "    (0, \"Estoy eufórico\"),\n",
        "    (0, \"Hoy es un día para celebrar\"),\n",
        "    (0, \"Siento mucha alegría en este día\"),\n",
        "    (0, \"Todo es perfecto hoy\"),\n",
        "    (0, \"Me encanta la vida\"),\n",
        "    (0, \"Es un día espectacular para disfrutar\"),\n",
        "    (0, \"Hoy estoy muy entusiasmado\"),\n",
        "    (0, \"Me siento agradecido y optimista\"),\n",
        "    (0, \"Qué día tan brillante y hermoso\"),\n",
        "    (0, \"Estoy exultante de felicidad\"),\n",
        "    (0, \"Todo está saliendo a la perfección\"),\n",
        "    (0, \"Estoy lleno de emociones positivas\"),\n",
        "    (0, \"Siento una gran paz y alegría\"),\n",
        "    (0, \"Hoy es un día lleno de posibilidades\"),\n",
        "    (0, \"Nada puede arruinar mi buen humor\"),\n",
        "    (0, \"Todo se siente más fácil y agradable\"),\n",
        "    (0, \"Es un día maravilloso para vivir\"),\n",
        "\n",
        "    # Frases de estado de ánimo \"Melancólico\"\n",
        "    (1, \"Me siento triste\"),\n",
        "    (1, \"Estoy melancólico\"),\n",
        "    (1, \"Hoy estoy nostálgico\"),\n",
        "    (1, \"Me siento deprimido\"),\n",
        "    (1, \"No puedo dejar de pensar en cosas tristes\"),\n",
        "    (1, \"Es un día gris\"),\n",
        "    (1, \"Me siento vacío\"),\n",
        "    (1, \"No tengo ánimos para nada\"),\n",
        "    (1, \"Estoy abatido\"),\n",
        "    (1, \"Todo me parece sombrío\"),\n",
        "    (1, \"Siento una gran tristeza\"),\n",
        "    (1, \"No me gusta este día\"),\n",
        "    (1, \"Es un día muy malo\"),\n",
        "    (1, \"Todo parece estar mal hoy\"),\n",
        "    (1, \"Nada me da consuelo hoy\"),\n",
        "    (1, \"Siento que todo es una carga\"),\n",
        "    (1, \"Estoy atrapado en mis pensamientos\"),\n",
        "    (1, \"No tengo energías para nada\"),\n",
        "    (1, \"Es un día sin color ni esperanza\"),\n",
        "    (1, \"Nada me hace sonreír hoy\"),\n",
        "    (1, \"No encuentro alegría en nada\"),\n",
        "    (1, \"Es un día de pura tristeza y soledad\"),\n",
        "    (1, \"Siento un vacío muy profundo\"),\n",
        "    (1, \"Nada tiene sentido hoy\"),\n",
        "    (1, \"Me siento como una sombra\"),\n",
        "\n",
        "    # Frases de estado de ánimo \"Ni fu ni fa\"\n",
        "    (2, \"No tengo ganas de hacer nada\"),\n",
        "    (2, \"Me siento neutral\"),\n",
        "    (2, \"Estoy cansado\"),\n",
        "    (2, \"Me da igual lo que pase\"),\n",
        "    (2, \"No me importa nada hoy\"),\n",
        "    (2, \"Estoy indiferente\"),\n",
        "    (2, \"No siento ni alegría ni tristeza\"),\n",
        "    (2, \"Hoy es un día normal\"),\n",
        "    (2, \"Estoy aburrido\"),\n",
        "    (2, \"Nada me parece interesante\"),\n",
        "    (2, \"No sé cómo me siento\"),\n",
        "    (2, \"Todo está igual que siempre\"),\n",
        "    (2, \"Nada especial sucede hoy\"),\n",
        "    (2, \"Es un día cualquiera\"),\n",
        "    (2, \"Hoy me siento indiferente a todo\"),\n",
        "    (2, \"Simplemente no siento nada\"),\n",
        "    (2, \"Es uno de esos días sin nada nuevo\"),\n",
        "    (2, \"Ni me siento bien ni mal\"),\n",
        "    (2, \"Nada me motiva particularmente\"),\n",
        "    (2, \"Es un día más, sin nada que contar\"),\n",
        "    (2, \"No tengo emociones intensas hoy\"),\n",
        "    (2, \"Hoy no pasa nada fuera de lo común\"),\n",
        "    (2, \"Es un día bastante monótono\"),\n",
        "    (2, \"Todo está en el mismo estado de siempre\"),\n",
        "    (2, \"Ni estoy triste ni contento, simplemente estoy\")\n",
        "]\n",
        "\n",
        "# Preparar X (frases) e y (etiquetas de estados de ánimo)\n",
        "X = [text.lower() for label, text in dataset]\n",
        "y = [label for label, text in dataset]\n",
        "\n",
        "# Dividir el dataset en entrenamiento y prueba\n",
        "X_train, X_test, y_train, y_test = train_test_split(X, y, test_size=0.2, random_state=42)\n",
        "\n",
        "# Vectorización del texto con TF-IDF, eliminando palabras vacías y usando bigramas\n",
        "vectorizer = TfidfVectorizer(stop_words=spanish_stop_words, ngram_range=(1, 2))\n",
        "X_train_vectorized = vectorizer.fit_transform(X_train)\n",
        "X_test_vectorized = vectorizer.transform(X_test)\n",
        "\n",
        "# Crear y entrenar el modelo de Regresión Logística con balance de clases\n",
        "modelo_LR = LogisticRegression(max_iter=1000, multi_class='multinomial', solver='lbfgs', class_weight='balanced')\n",
        "modelo_LR.fit(X_train_vectorized, y_train)\n",
        "\n",
        "# Evaluar el modelo con el conjunto de prueba\n",
        "y_pred_LR = modelo_LR.predict(X_test_vectorized)\n",
        "acc_LR = accuracy_score(y_test, y_pred_LR)\n",
        "report_LR = classification_report(y_test, y_pred_LR, zero_division=1)\n",
        "\n",
        "print(\"Precisión Regresión Logística:\", acc_LR)\n",
        "print(\"Reporte de clasificación Regresión Logística:\\n\", report_LR)\n",
        "\n"
      ],
      "metadata": {
        "colab": {
          "base_uri": "https://localhost:8080/"
        },
        "id": "rf5CfiPcPDXS",
        "outputId": "d2662e8f-18e8-49e1-b12d-f25b610ed61a"
      },
      "execution_count": 6,
      "outputs": [
        {
          "output_type": "stream",
          "name": "stdout",
          "text": [
            "Precisión Regresión Logística: 0.3333333333333333\n",
            "Reporte de clasificación Regresión Logística:\n",
            "               precision    recall  f1-score   support\n",
            "\n",
            "           0       0.50      0.50      0.50         6\n",
            "           1       0.00      0.00      0.00         5\n",
            "           2       0.25      0.50      0.33         4\n",
            "\n",
            "    accuracy                           0.33        15\n",
            "   macro avg       0.25      0.33      0.28        15\n",
            "weighted avg       0.27      0.33      0.29        15\n",
            "\n"
          ]
        },
        {
          "output_type": "stream",
          "name": "stderr",
          "text": [
            "[nltk_data] Downloading package stopwords to /root/nltk_data...\n",
            "[nltk_data]   Package stopwords is already up-to-date!\n",
            "/usr/local/lib/python3.10/dist-packages/sklearn/linear_model/_logistic.py:1247: FutureWarning: 'multi_class' was deprecated in version 1.5 and will be removed in 1.7. From then on, it will always use 'multinomial'. Leave it to its default value to avoid this warning.\n",
            "  warnings.warn(\n"
          ]
        }
      ]
    },
    {
      "cell_type": "markdown",
      "source": [
        "Contamos con una precisión del 44% siendo el porcentaje de clasificaciones correctas."
      ],
      "metadata": {
        "id": "k-9QMeVzlBZU"
      }
    },
    {
      "cell_type": "markdown",
      "source": [
        "Probamos el modelo de clasificación:"
      ],
      "metadata": {
        "id": "u47EjmnWlYCG"
      }
    },
    {
      "cell_type": "code",
      "source": [
        "def predict_mood(user_input):\n",
        "    user_input_vectorized = vectorizer.transform([user_input.lower()])\n",
        "    mood_label = modelo_LR.predict(user_input_vectorized)[0]\n",
        "    return labels[mood_label][1]\n",
        "\n",
        "\n",
        "frase_usuario = \"Hoy me siento muy triste\"\n",
        "estado_animo = predict_mood(frase_usuario)\n",
        "print(f\"El estado de ánimo detectado es: {estado_animo}\")\n",
        "\n",
        "# Nuevas frases más distintas para probar el modelo\n",
        "nuevas_frases = [\n",
        "    \"No puedo evitar sentir una gran tristeza hoy\",  # Debería ser \"Melancólico\"\n",
        "    \"Siento que este es uno de los mejores días de mi vida\",  # Debería ser \"Alegre\"\n",
        "    \"Hoy todo me da lo mismo, nada me interesa realmente\",  # Debería ser \"Ni fu ni fa\"\n",
        "    \"No sé qué hacer, pero no estoy ni triste ni feliz\",  # Debería ser \"Ni fu ni fa\"\n",
        "    \"Me siento increíblemente emocionado y lleno de energía\",  # Debería ser \"Alegre\"\n",
        "    \"Todo parece gris y no veo nada que me anime\",  # Debería ser \"Melancólico\"\n",
        "    \"Este día está siendo tan normal como cualquier otro\",  # Debería ser \"Ni fu ni fa\"\n",
        "    \"No hay nada que me entusiasme, es como si estuviera vacío\",  # Debería ser \"Melancólico\"\n",
        "    \"Estoy muy agradecido por todo, este día es fantástico\",  # Debería ser \"Alegre\"\n",
        "    \"Hoy no me pasa nada en particular, no siento ni tristeza ni alegría\"  # Debería ser \"Ni fu ni fa\"\n",
        "]\n",
        "\n",
        "# Predecir los estados de ánimo para las nuevas frases\n",
        "for frase in nuevas_frases:\n",
        "    print(f\"La frase '{frase}' tiene el estado de ánimo: {predict_mood(frase)}\")\n"
      ],
      "metadata": {
        "colab": {
          "base_uri": "https://localhost:8080/"
        },
        "id": "QrCU_Iq8P63A",
        "outputId": "64d28db9-f5bf-4713-a7ac-ac78406aeea8"
      },
      "execution_count": 7,
      "outputs": [
        {
          "output_type": "stream",
          "name": "stdout",
          "text": [
            "El estado de ánimo detectado es: Melancólico\n",
            "La frase 'No puedo evitar sentir una gran tristeza hoy' tiene el estado de ánimo: Melancólico\n",
            "La frase 'Siento que este es uno de los mejores días de mi vida' tiene el estado de ánimo: Ni fu ni fa\n",
            "La frase 'Hoy todo me da lo mismo, nada me interesa realmente' tiene el estado de ánimo: Ni fu ni fa\n",
            "La frase 'No sé qué hacer, pero no estoy ni triste ni feliz' tiene el estado de ánimo: Ni fu ni fa\n",
            "La frase 'Me siento increíblemente emocionado y lleno de energía' tiene el estado de ánimo: Alegre\n",
            "La frase 'Todo parece gris y no veo nada que me anime' tiene el estado de ánimo: Melancólico\n",
            "La frase 'Este día está siendo tan normal como cualquier otro' tiene el estado de ánimo: Alegre\n",
            "La frase 'No hay nada que me entusiasme, es como si estuviera vacío' tiene el estado de ánimo: Melancólico\n",
            "La frase 'Estoy muy agradecido por todo, este día es fantástico' tiene el estado de ánimo: Alegre\n",
            "La frase 'Hoy no me pasa nada en particular, no siento ni tristeza ni alegría' tiene el estado de ánimo: Ni fu ni fa\n"
          ]
        }
      ]
    },
    {
      "cell_type": "markdown",
      "source": [
        "**EN ESTE CASO, UTILIZAMOS SENTENCE TRANSFORMER**"
      ],
      "metadata": {
        "id": "nl9dIO0uT9pm"
      }
    },
    {
      "cell_type": "markdown",
      "source": [
        "Entrenamos un modelo de clasificación (de estado de ánimo) pero en este caso, utilizando embeddings generados por el modelo de SentenceTransforme."
      ],
      "metadata": {
        "id": "DwW21sx1lovf"
      }
    },
    {
      "cell_type": "code",
      "source": [
        "\n",
        "model = SentenceTransformer('sentence-transformers/paraphrase-multilingual-MiniLM-L12-v2')\n",
        "\n",
        "labels = [(0, \"Alegre\"), (1, \"Melancólico\"), (2, \"Ni fu ni fa\")]\n",
        "\n",
        "\n",
        "dataset = [\n",
        "    # Frases de estado de ánimo \"Alegre\"\n",
        "    (0, \"Estoy muy feliz\"),\n",
        "    (0, \"Hoy es un gran día\"),\n",
        "    (0, \"Me siento alegre\"),\n",
        "    (0, \"Es un día increíble\"),\n",
        "    (0, \"Estoy lleno de energía\"),\n",
        "    (0, \"Estoy muy contento hoy\"),\n",
        "    (0, \"Este es un día perfecto\"),\n",
        "    (0, \"Me siento lleno de vida\"),\n",
        "    (0, \"Estoy eufórico\"),\n",
        "    (0, \"Hoy es un día para celebrar\"),\n",
        "    (0, \"Siento mucha alegría en este día\"),\n",
        "    (0, \"Todo es perfecto hoy\"),\n",
        "    (0, \"Me encanta la vida\"),\n",
        "    (0, \"Es un día espectacular para disfrutar\"),\n",
        "    (0, \"Hoy estoy muy entusiasmado\"),\n",
        "    (0, \"Me siento agradecido y optimista\"),\n",
        "    (0, \"Qué día tan brillante y hermoso\"),\n",
        "    (0, \"Estoy exultante de felicidad\"),\n",
        "    (0, \"Todo está saliendo a la perfección\"),\n",
        "    (0, \"Estoy lleno de emociones positivas\"),\n",
        "    (0, \"Siento una gran paz y alegría\"),\n",
        "    (0, \"Hoy es un día lleno de posibilidades\"),\n",
        "    (0, \"Nada puede arruinar mi buen humor\"),\n",
        "    (0, \"Todo se siente más fácil y agradable\"),\n",
        "    (0, \"Es un día maravilloso para vivir\"),\n",
        "\n",
        "    # Frases de estado de ánimo \"Melancólico\"\n",
        "    (1, \"Me siento triste\"),\n",
        "    (1, \"Estoy melancólico\"),\n",
        "    (1, \"Hoy estoy nostálgico\"),\n",
        "    (1, \"Me siento deprimido\"),\n",
        "    (1, \"No puedo dejar de pensar en cosas tristes\"),\n",
        "    (1, \"Es un día gris\"),\n",
        "    (1, \"Me siento vacío\"),\n",
        "    (1, \"No tengo ánimos para nada\"),\n",
        "    (1, \"Estoy abatido\"),\n",
        "    (1, \"Todo me parece sombrío\"),\n",
        "    (1, \"Siento una gran tristeza\"),\n",
        "    (1, \"No me gusta este día\"),\n",
        "    (1, \"Es un día muy malo\"),\n",
        "    (1, \"Todo parece estar mal hoy\"),\n",
        "    (1, \"Nada me da consuelo hoy\"),\n",
        "    (1, \"Siento que todo es una carga\"),\n",
        "    (1, \"Estoy atrapado en mis pensamientos\"),\n",
        "    (1, \"No tengo energías para nada\"),\n",
        "    (1, \"Es un día sin color ni esperanza\"),\n",
        "    (1, \"Nada me hace sonreír hoy\"),\n",
        "    (1, \"No encuentro alegría en nada\"),\n",
        "    (1, \"Es un día de pura tristeza y soledad\"),\n",
        "    (1, \"Siento un vacío muy profundo\"),\n",
        "    (1, \"Nada tiene sentido hoy\"),\n",
        "    (1, \"Me siento como una sombra\"),\n",
        "\n",
        "    # Frases de estado de ánimo \"Ni fu ni fa\"\n",
        "    (2, \"No tengo ganas de hacer nada\"),\n",
        "    (2, \"Me siento neutral\"),\n",
        "    (2, \"Estoy cansado\"),\n",
        "    (2, \"Me da igual lo que pase\"),\n",
        "    (2, \"No me importa nada hoy\"),\n",
        "    (2, \"Estoy indiferente\"),\n",
        "    (2, \"No siento ni alegría ni tristeza\"),\n",
        "    (2, \"Hoy es un día normal\"),\n",
        "    (2, \"Estoy aburrido\"),\n",
        "    (2, \"Nada me parece interesante\"),\n",
        "    (2, \"No sé cómo me siento\"),\n",
        "    (2, \"Todo está igual que siempre\"),\n",
        "    (2, \"Nada especial sucede hoy\"),\n",
        "    (2, \"Es un día cualquiera\"),\n",
        "    (2, \"Hoy me siento indiferente a todo\"),\n",
        "    (2, \"Simplemente no siento nada\"),\n",
        "    (2, \"Es uno de esos días sin nada nuevo\"),\n",
        "    (2, \"Ni me siento bien ni mal\"),\n",
        "    (2, \"Nada me motiva particularmente\"),\n",
        "    (2, \"Es un día más, sin nada que contar\"),\n",
        "    (2, \"No tengo emociones intensas hoy\"),\n",
        "    (2, \"Hoy no pasa nada fuera de lo común\"),\n",
        "    (2, \"Es un día bastante monótono\"),\n",
        "    (2, \"Todo está en el mismo estado de siempre\"),\n",
        "    (2, \"Ni estoy triste ni contento, simplemente estoy\")\n",
        "]\n",
        "\n",
        "# Preparar X (frases) e y (etiquetas de estados de ánimo)\n",
        "X = [text.lower() for label, text in dataset]\n",
        "y = [label for label, text in dataset]\n",
        "\n",
        "# Generar los embeddings para las frases usando el modelo preentrenado\n",
        "X_embeddings = model.encode(X)\n",
        "\n",
        "# Dividir el dataset en entrenamiento y prueba\n",
        "X_train, X_test, y_train, y_test = train_test_split(X_embeddings, y, test_size=0.2, random_state=42)\n",
        "\n",
        "# Crear y entrenar el modelo de Regresión Logística\n",
        "modelo_LR = LogisticRegression(max_iter=1000, multi_class='multinomial', solver='lbfgs', class_weight='balanced')\n",
        "modelo_LR.fit(X_train, y_train)\n",
        "\n",
        "# Evaluación del modelo\n",
        "y_pred_LR = modelo_LR.predict(X_test)\n",
        "acc_LR = accuracy_score(y_test, y_pred_LR)\n",
        "report_LR = classification_report(y_test, y_pred_LR, zero_division=1)\n",
        "print(\"Precisión Regresión Logística:\", acc_LR)\n",
        "print(\"Reporte de clasificación Regresión Logística:\\n\", report_LR)"
      ],
      "metadata": {
        "colab": {
          "base_uri": "https://localhost:8080/"
        },
        "id": "C-H8A1w4SJRD",
        "outputId": "7b84d799-8551-49c8-be60-9ac37cd8bafd"
      },
      "execution_count": 8,
      "outputs": [
        {
          "output_type": "stream",
          "name": "stderr",
          "text": [
            "/usr/local/lib/python3.10/dist-packages/huggingface_hub/utils/_token.py:89: UserWarning: \n",
            "The secret `HF_TOKEN` does not exist in your Colab secrets.\n",
            "To authenticate with the Hugging Face Hub, create a token in your settings tab (https://huggingface.co/settings/tokens), set it as secret in your Google Colab and restart your session.\n",
            "You will be able to reuse this secret in all of your notebooks.\n",
            "Please note that authentication is recommended but still optional to access public models or datasets.\n",
            "  warnings.warn(\n"
          ]
        },
        {
          "output_type": "stream",
          "name": "stdout",
          "text": [
            "Precisión Regresión Logística: 0.8\n",
            "Reporte de clasificación Regresión Logística:\n",
            "               precision    recall  f1-score   support\n",
            "\n",
            "           0       0.86      1.00      0.92         6\n",
            "           1       0.80      0.80      0.80         5\n",
            "           2       0.67      0.50      0.57         4\n",
            "\n",
            "    accuracy                           0.80        15\n",
            "   macro avg       0.77      0.77      0.76        15\n",
            "weighted avg       0.79      0.80      0.79        15\n",
            "\n"
          ]
        },
        {
          "output_type": "stream",
          "name": "stderr",
          "text": [
            "/usr/local/lib/python3.10/dist-packages/sklearn/linear_model/_logistic.py:1247: FutureWarning: 'multi_class' was deprecated in version 1.5 and will be removed in 1.7. From then on, it will always use 'multinomial'. Leave it to its default value to avoid this warning.\n",
            "  warnings.warn(\n"
          ]
        }
      ]
    },
    {
      "cell_type": "markdown",
      "source": [
        "La precisión obtenida en dicho modelo es del 80%, siendo ese porcentaje de las prediciones realizadas de forma correcta."
      ],
      "metadata": {
        "id": "T9QglYXznc9I"
      }
    },
    {
      "cell_type": "markdown",
      "source": [
        "Prueba del modelo:"
      ],
      "metadata": {
        "id": "bV6T4t44mMkC"
      }
    },
    {
      "cell_type": "code",
      "source": [
        "def predict_mood_st(user_input):\n",
        "    user_input_embedding = model.encode([user_input.lower()])\n",
        "    mood_label = modelo_LR.predict(user_input_embedding)[0]\n",
        "    return labels[mood_label][1]\n",
        "\n",
        "frase_usuario = \"Hoy me siento muy triste\"\n",
        "estado_animo = predict_mood_st(frase_usuario)\n",
        "print(f\"El estado de ánimo detectado es: {estado_animo}\")\n",
        "\n",
        "nuevas_frases = [\n",
        "    \"No puedo evitar sentir una gran tristeza hoy\",  # Debería ser \"Melancólico\"\n",
        "    \"Siento que este es uno de los mejores días de mi vida\",  # Debería ser \"Alegre\"\n",
        "    \"Hoy todo me da lo mismo, nada me interesa realmente\",  # Debería ser \"Ni fu ni fa\"\n",
        "    \"No sé qué hacer, pero no estoy ni triste ni feliz\",  # Debería ser \"Ni fu ni fa\"\n",
        "    \"Me siento increíblemente emocionado y lleno de energía\",  # Debería ser \"Alegre\"\n",
        "    \"Todo parece gris y no veo nada que me anime\",  # Debería ser \"Melancólico\"\n",
        "    \"Este día está siendo tan normal como cualquier otro\",  # Debería ser \"Ni fu ni fa\"\n",
        "    \"No hay nada que me entusiasme, es como si estuviera vacío\",  # Debería ser \"Melancólico\"\n",
        "    \"Estoy muy agradecido por todo, este día es fantástico\",  # Debería ser \"Alegre\"\n",
        "    \"Hoy no me pasa nada en particular, no siento ni tristeza ni alegría\"  # Debería ser \"Ni fu ni fa\"\n",
        "]\n",
        "\n",
        "\n",
        "for frase in nuevas_frases:\n",
        "    print(f\"La frase '{frase}' tiene el estado de ánimo: {predict_mood_st(frase)}\")"
      ],
      "metadata": {
        "colab": {
          "base_uri": "https://localhost:8080/"
        },
        "id": "pG2Qj4TASpum",
        "outputId": "d7d9a317-0151-46a9-9f90-abb42c871317"
      },
      "execution_count": 9,
      "outputs": [
        {
          "output_type": "stream",
          "name": "stdout",
          "text": [
            "El estado de ánimo detectado es: Melancólico\n",
            "La frase 'No puedo evitar sentir una gran tristeza hoy' tiene el estado de ánimo: Melancólico\n",
            "La frase 'Siento que este es uno de los mejores días de mi vida' tiene el estado de ánimo: Alegre\n",
            "La frase 'Hoy todo me da lo mismo, nada me interesa realmente' tiene el estado de ánimo: Ni fu ni fa\n",
            "La frase 'No sé qué hacer, pero no estoy ni triste ni feliz' tiene el estado de ánimo: Ni fu ni fa\n",
            "La frase 'Me siento increíblemente emocionado y lleno de energía' tiene el estado de ánimo: Alegre\n",
            "La frase 'Todo parece gris y no veo nada que me anime' tiene el estado de ánimo: Melancólico\n",
            "La frase 'Este día está siendo tan normal como cualquier otro' tiene el estado de ánimo: Alegre\n",
            "La frase 'No hay nada que me entusiasme, es como si estuviera vacío' tiene el estado de ánimo: Ni fu ni fa\n",
            "La frase 'Estoy muy agradecido por todo, este día es fantástico' tiene el estado de ánimo: Alegre\n",
            "La frase 'Hoy no me pasa nada en particular, no siento ni tristeza ni alegría' tiene el estado de ánimo: Ni fu ni fa\n"
          ]
        }
      ]
    },
    {
      "cell_type": "markdown",
      "source": [
        "Como podemos ver, con SentenceTransformer, el modelo tiene mejores métricas.\n",
        "\n"
      ],
      "metadata": {
        "id": "XwrfdF6VSdoO"
      }
    },
    {
      "cell_type": "markdown",
      "source": [
        "Vamos a buscar extraer entidades nombradas de textos en español y luego usamos el modelo SpaCy para identificar y clasificar estas entidades dentro de una frase dada."
      ],
      "metadata": {
        "id": "9HF6Nhoio5Mc"
      }
    },
    {
      "cell_type": "code",
      "source": [
        "# Descargar stopwords en español\n",
        "nltk.download('stopwords')\n",
        "\n",
        "# Obtener las stopwords en español\n",
        "spanish_stop_words = stopwords.words('spanish')\n"
      ],
      "metadata": {
        "colab": {
          "base_uri": "https://localhost:8080/"
        },
        "id": "uxl1nZVtXbbo",
        "outputId": "159aece5-4563-4d3c-c991-ad78c5da9e4b"
      },
      "execution_count": 10,
      "outputs": [
        {
          "output_type": "stream",
          "name": "stderr",
          "text": [
            "[nltk_data] Downloading package stopwords to /root/nltk_data...\n",
            "[nltk_data]   Package stopwords is already up-to-date!\n"
          ]
        }
      ]
    },
    {
      "cell_type": "code",
      "source": [
        "nlp = spacy.load('es_core_news_md')\n",
        "\n",
        "def extraer_entidades(texto):\n",
        "    doc = nlp(texto)\n",
        "    entidades = [(ent.text, ent.label_) for ent in doc.ents]\n",
        "    return entidades\n",
        "\n",
        "# Ejemplo de uso de la función de extracción de entidades\n",
        "frase_usuario = \"Quiero ver una historia de amor en París con personajes como Napoleón\"\n",
        "entidades = extraer_entidades(frase_usuario)\n",
        "print(\"Entidades nombradas extraídas:\", entidades)\n"
      ],
      "metadata": {
        "colab": {
          "base_uri": "https://localhost:8080/"
        },
        "id": "KWbYnT3lVRxv",
        "outputId": "64dae745-dd07-4d43-b75e-4a8cd3eba6dd"
      },
      "execution_count": 11,
      "outputs": [
        {
          "output_type": "stream",
          "name": "stdout",
          "text": [
            "Entidades nombradas extraídas: [('París', 'LOC'), ('Napoleón', 'PER')]\n"
          ]
        }
      ]
    },
    {
      "cell_type": "markdown",
      "source": [
        "Definimos una función para que los usuarios ingresen sus preferencias o intereses sobre un tema específico."
      ],
      "metadata": {
        "id": "JkETbVi4phjJ"
      }
    },
    {
      "cell_type": "code",
      "source": [
        "# Función para ingresar preferencias del usuario\n",
        "def ingresar_preferencias():\n",
        "    preferencia_usuario = input(\"Describe la temática que te gustaría explorar: \")\n",
        "    return preferencia_usuario"
      ],
      "metadata": {
        "id": "zr1rmYpnWu40"
      },
      "execution_count": 12,
      "outputs": []
    },
    {
      "cell_type": "code",
      "source": [
        "from sentence_transformers import SentenceTransformer\n",
        "from sklearn.metrics.pairwise import cosine_similarity\n",
        "import numpy as np\n",
        "import pandas as pd\n",
        "\n",
        "# Cargar el modelo de embeddings\n",
        "model = SentenceTransformer('sentence-transformers/paraphrase-multilingual-MiniLM-L12-v2')\n",
        "\n",
        "\n",
        "# Procesar los datos y generar embeddings para cada categoría\n",
        "board_games_df['combined_text'] = (board_games_df['description'] + ' ' + board_games_df['categories']).fillna('')\n",
        "movies_df['combined_text'] = (movies_df['Description'] + ' ' + movies_df['Genre'] + ' ' + movies_df['Actors']).fillna('')\n",
        "books_df['combined_text'] = (books_df['Description'] + ' ' + books_df['Author']).fillna('')\n",
        "\n",
        "# Generar embeddings\n",
        "board_games_df['embeddings'] = list(model.encode(board_games_df['combined_text'].tolist()))\n",
        "movies_df['embeddings'] = list(model.encode(movies_df['combined_text'].tolist()))\n",
        "books_df['embeddings'] = list(model.encode(books_df['combined_text'].tolist()))\n",
        "\n",
        "\n",
        "\n",
        "def recomendar(input_estado_animo, estado_de_animo, input_tematica):\n",
        "    # Crear la frase completa basada en el estado de ánimo y la preferencia\n",
        "    total_input = input_estado_animo + ' ' + estado_de_animo + ' ' + input_tematica\n",
        "    print(f\"Buscando recomendaciones para: {input_tematica}\")\n",
        "\n",
        "    # Vectorizamos la frase completa\n",
        "    vector_comparar = model.encode(total_input)\n",
        "\n",
        "    # Calcular similitudes para cada dataset\n",
        "    similitudes_juegos = cosine_similarity([vector_comparar], board_games_df['embeddings'].tolist())\n",
        "    similitudes_peliculas = cosine_similarity([vector_comparar], movies_df['embeddings'].tolist())\n",
        "    similitudes_libros = cosine_similarity([vector_comparar], books_df['embeddings'].tolist())\n",
        "\n",
        "    # Obtener los índices de las top 3 recomendaciones para cada categoría\n",
        "    top_indices_juegos = similitudes_juegos.argsort()[0][-3:][::-1]\n",
        "    top_indices_peliculas = similitudes_peliculas.argsort()[0][-3:][::-1]\n",
        "    top_indices_libros = similitudes_libros.argsort()[0][-3:][::-1]\n",
        "\n",
        "    # Crear diccionarios con las recomendaciones\n",
        "    recomendaciones_juegos = [\n",
        "        {'titulo': board_games_df.iloc[index]['game_name'], 'summary': board_games_df.iloc[index]['description']}\n",
        "        for index in top_indices_juegos\n",
        "    ]\n",
        "    recomendaciones_peliculas = [\n",
        "        {'titulo': movies_df.iloc[index]['Title'], 'summary': movies_df.iloc[index]['Description']}\n",
        "        for index in top_indices_peliculas\n",
        "    ]\n",
        "    recomendaciones_libros = [\n",
        "        {'titulo': books_df.iloc[index]['Title'], 'summary': books_df.iloc[index]['Description']}\n",
        "        for index in top_indices_libros\n",
        "    ]\n",
        "\n",
        "    # Consolidar y devolver las recomendaciones\n",
        "    return {\n",
        "        'juegos': recomendaciones_juegos,\n",
        "        'peliculas': recomendaciones_peliculas,\n",
        "        'libros': recomendaciones_libros\n",
        "    }\n"
      ],
      "metadata": {
        "id": "DLaOKScMV9d_",
        "colab": {
          "base_uri": "https://localhost:8080/"
        },
        "outputId": "7ad2bf1c-799e-46e8-dbec-227663ea218f"
      },
      "execution_count": 17,
      "outputs": [
        {
          "output_type": "stream",
          "name": "stderr",
          "text": [
            "/usr/local/lib/python3.10/dist-packages/transformers/tokenization_utils_base.py:1601: FutureWarning: `clean_up_tokenization_spaces` was not set. It will be set to `True` by default. This behavior will be depracted in transformers v4.45, and will be then set to `False` by default. For more details check this issue: https://github.com/huggingface/transformers/issues/31884\n",
            "  warnings.warn(\n"
          ]
        }
      ]
    },
    {
      "cell_type": "code",
      "source": [
        "import ipywidgets as widgets\n",
        "from IPython.display import display\n",
        "\n",
        "def mostrar_interfaz():\n",
        "    # Crear entradas de usuario para el estado de ánimo y preferencia temática\n",
        "    estado_animo_input = widgets.Text(\n",
        "        value='',\n",
        "        placeholder='¿Cómo te sientes hoy?',\n",
        "        description='Estado de Ánimo:',\n",
        "        disabled=False\n",
        "    )\n",
        "\n",
        "    preferencia_input = widgets.Text(\n",
        "        value='',\n",
        "        placeholder='Describe la temática que te gustaría explorar',\n",
        "        description='Preferencia:',\n",
        "        disabled=False\n",
        "    )\n",
        "\n",
        "    boton_enviar = widgets.Button(description=\"Obtener Recomendaciones\")\n",
        "    output = widgets.Output()\n",
        "\n",
        "    # Función que maneja el clic en el botón de recomendación\n",
        "    def on_button_clicked(b):\n",
        "        with output:\n",
        "            output.clear_output()  # Limpiar el área de salida antes de mostrar nuevos resultados\n",
        "\n",
        "            # Obtener valores de estado de ánimo y preferencia del usuario\n",
        "            estado_animo = estado_animo_input.value\n",
        "            preferencia = preferencia_input.value\n",
        "\n",
        "            # Detectar el estado de ánimo usando predict_mood_st\n",
        "            estado_detectado = predict_mood_st(estado_animo)\n",
        "            print(f\"Estado de ánimo detectado: {estado_detectado}\")\n",
        "\n",
        "            # Generar recomendaciones combinando estado de ánimo detectado y preferencia\n",
        "            recomendaciones = recomendar(estado_animo, estado_detectado, preferencia)\n",
        "\n",
        "            # Mostrar las recomendaciones en la interfaz\n",
        "            print(\"\\nRecomendaciones de juegos:\")\n",
        "            for rec in recomendaciones['juegos']:\n",
        "                print(f\"- {rec['titulo']}: {rec['summary']}\")\n",
        "\n",
        "            print(\"\\nRecomendaciones de películas:\")\n",
        "            for rec in recomendaciones['peliculas']:\n",
        "                print(f\"- {rec['titulo']}: {rec['summary']}\")\n",
        "\n",
        "            print(\"\\nRecomendaciones de libros:\")\n",
        "            for rec in recomendaciones['libros']:\n",
        "                print(f\"- {rec['titulo']}: {rec['summary']}\")\n",
        "\n",
        "    # Conectar el evento de clic del botón con la función on_button_clicked\n",
        "    boton_enviar.on_click(on_button_clicked)\n",
        "\n",
        "    # Mostrar los widgets en la interfaz\n",
        "    display(estado_animo_input, preferencia_input, boton_enviar, output)\n",
        "\n",
        "# Ejecutar la interfaz\n",
        "mostrar_interfaz()\n"
      ],
      "metadata": {
        "colab": {
          "base_uri": "https://localhost:8080/",
          "height": 1000,
          "referenced_widgets": [
            "b5ad7d1f845d44e7bbffe15c49656cfb",
            "4ac97c45c36c4d148aa61bae0deb1b37",
            "c9f59445f17f4a5ba878f23490f1edde",
            "bea2b709565748f89679067bfa68c5f1",
            "33f2c72e28b049198f2a7395a15db0c0",
            "4be7419ed33144999979f98252c1fdb2",
            "5818ee9abb4245c6963e4e226a0020eb",
            "f380f876f0e44860a7deb2ff006de0be",
            "e28db3946d534d498fa2edc3d889a8ee",
            "bc5e26a9b4e1473eb2c0026372594857",
            "91048dd1db6f45b09c1f979d4d2febba"
          ]
        },
        "id": "SPtT66I9YUbC",
        "outputId": "c7a0d06c-3a37-4871-f3af-aee71205b270"
      },
      "execution_count": 18,
      "outputs": [
        {
          "output_type": "display_data",
          "data": {
            "text/plain": [
              "Text(value='', description='Estado de Ánimo:', placeholder='¿Cómo te sientes hoy?')"
            ],
            "application/vnd.jupyter.widget-view+json": {
              "version_major": 2,
              "version_minor": 0,
              "model_id": "b5ad7d1f845d44e7bbffe15c49656cfb"
            }
          },
          "metadata": {}
        },
        {
          "output_type": "display_data",
          "data": {
            "text/plain": [
              "Text(value='', description='Preferencia:', placeholder='Describe la temática que te gustaría explorar')"
            ],
            "application/vnd.jupyter.widget-view+json": {
              "version_major": 2,
              "version_minor": 0,
              "model_id": "bea2b709565748f89679067bfa68c5f1"
            }
          },
          "metadata": {}
        },
        {
          "output_type": "display_data",
          "data": {
            "text/plain": [
              "Button(description='Obtener Recomendaciones', style=ButtonStyle())"
            ],
            "application/vnd.jupyter.widget-view+json": {
              "version_major": 2,
              "version_minor": 0,
              "model_id": "5818ee9abb4245c6963e4e226a0020eb"
            }
          },
          "metadata": {}
        },
        {
          "output_type": "display_data",
          "data": {
            "text/plain": [
              "Output()"
            ],
            "application/vnd.jupyter.widget-view+json": {
              "version_major": 2,
              "version_minor": 0,
              "model_id": "bc5e26a9b4e1473eb2c0026372594857"
            }
          },
          "metadata": {}
        }
      ]
    }
  ]
}